{
 "cells": [
  {
   "cell_type": "markdown",
   "metadata": {},
   "source": [
    "## Import CSV"
   ]
  },
  {
   "cell_type": "code",
   "execution_count": 19,
   "metadata": {},
   "outputs": [],
   "source": [
    "import pandas\n",
    "def read_csv(filename,folder):\n",
    "    folder=folder+\"/\"+filename+\".csv\"\n",
    "    return pandas.read_csv(folder,encoding='ISO-8859-1')"
   ]
  },
  {
   "cell_type": "code",
   "execution_count": 40,
   "metadata": {},
   "outputs": [
    {
     "data": {
      "text/html": [
       "<div>\n",
       "<style scoped>\n",
       "    .dataframe tbody tr th:only-of-type {\n",
       "        vertical-align: middle;\n",
       "    }\n",
       "\n",
       "    .dataframe tbody tr th {\n",
       "        vertical-align: top;\n",
       "    }\n",
       "\n",
       "    .dataframe thead th {\n",
       "        text-align: right;\n",
       "    }\n",
       "</style>\n",
       "<table border=\"1\" class=\"dataframe\">\n",
       "  <thead>\n",
       "    <tr style=\"text-align: right;\">\n",
       "      <th></th>\n",
       "      <th>Date</th>\n",
       "      <th>vfx</th>\n",
       "      <th>vix</th>\n",
       "      <th>vbx</th>\n",
       "      <th>rom</th>\n",
       "      <th>vmt</th>\n",
       "      <th>rwm</th>\n",
       "      <th>dog</th>\n",
       "      <th>psh</th>\n",
       "      <th>spx</th>\n",
       "      <th>gld</th>\n",
       "      <th>uso</th>\n",
       "    </tr>\n",
       "  </thead>\n",
       "  <tbody>\n",
       "    <tr>\n",
       "      <th>4</th>\n",
       "      <td>2007-01-09</td>\n",
       "      <td>99.326218</td>\n",
       "      <td>11.91</td>\n",
       "      <td>6.442942</td>\n",
       "      <td>NaN</td>\n",
       "      <td>NaN</td>\n",
       "      <td>NaN</td>\n",
       "      <td>208.540222</td>\n",
       "      <td>99.986458</td>\n",
       "      <td>2177.679932</td>\n",
       "      <td>60.849998</td>\n",
       "      <td>378.399994</td>\n",
       "    </tr>\n",
       "    <tr>\n",
       "      <th>3</th>\n",
       "      <td>2007-01-08</td>\n",
       "      <td>99.379700</td>\n",
       "      <td>12.00</td>\n",
       "      <td>6.442942</td>\n",
       "      <td>NaN</td>\n",
       "      <td>NaN</td>\n",
       "      <td>NaN</td>\n",
       "      <td>208.407623</td>\n",
       "      <td>99.970459</td>\n",
       "      <td>2178.800049</td>\n",
       "      <td>60.480000</td>\n",
       "      <td>379.920013</td>\n",
       "    </tr>\n",
       "    <tr>\n",
       "      <th>2</th>\n",
       "      <td>2007-01-05</td>\n",
       "      <td>99.127716</td>\n",
       "      <td>12.14</td>\n",
       "      <td>6.442942</td>\n",
       "      <td>NaN</td>\n",
       "      <td>NaN</td>\n",
       "      <td>NaN</td>\n",
       "      <td>208.639679</td>\n",
       "      <td>100.162170</td>\n",
       "      <td>2173.290039</td>\n",
       "      <td>60.169998</td>\n",
       "      <td>382.640015</td>\n",
       "    </tr>\n",
       "    <tr>\n",
       "      <th>1</th>\n",
       "      <td>2007-01-04</td>\n",
       "      <td>99.730949</td>\n",
       "      <td>11.51</td>\n",
       "      <td>6.455796</td>\n",
       "      <td>NaN</td>\n",
       "      <td>NaN</td>\n",
       "      <td>NaN</td>\n",
       "      <td>207.214310</td>\n",
       "      <td>99.331474</td>\n",
       "      <td>2186.600098</td>\n",
       "      <td>61.650002</td>\n",
       "      <td>379.119995</td>\n",
       "    </tr>\n",
       "    <tr>\n",
       "      <th>0</th>\n",
       "      <td>2007-01-03</td>\n",
       "      <td>99.608803</td>\n",
       "      <td>12.04</td>\n",
       "      <td>6.436509</td>\n",
       "      <td>NaN</td>\n",
       "      <td>NaN</td>\n",
       "      <td>NaN</td>\n",
       "      <td>207.181107</td>\n",
       "      <td>99.698906</td>\n",
       "      <td>2183.919922</td>\n",
       "      <td>62.279999</td>\n",
       "      <td>395.200012</td>\n",
       "    </tr>\n",
       "  </tbody>\n",
       "</table>\n",
       "</div>"
      ],
      "text/plain": [
       "         Date        vfx    vix       vbx  rom  vmt  rwm         dog  \\\n",
       "4  2007-01-09  99.326218  11.91  6.442942  NaN  NaN  NaN  208.540222   \n",
       "3  2007-01-08  99.379700  12.00  6.442942  NaN  NaN  NaN  208.407623   \n",
       "2  2007-01-05  99.127716  12.14  6.442942  NaN  NaN  NaN  208.639679   \n",
       "1  2007-01-04  99.730949  11.51  6.455796  NaN  NaN  NaN  207.214310   \n",
       "0  2007-01-03  99.608803  12.04  6.436509  NaN  NaN  NaN  207.181107   \n",
       "\n",
       "          psh          spx        gld         uso  \n",
       "4   99.986458  2177.679932  60.849998  378.399994  \n",
       "3   99.970459  2178.800049  60.480000  379.920013  \n",
       "2  100.162170  2173.290039  60.169998  382.640015  \n",
       "1   99.331474  2186.600098  61.650002  379.119995  \n",
       "0   99.698906  2183.919922  62.279999  395.200012  "
      ]
     },
     "execution_count": 40,
     "metadata": {},
     "output_type": "execute_result"
    }
   ],
   "source": [
    "#folder=\"/Users/mac/Desktop/bigdataanalysis/test\"\n",
    "folder=\"/nfs/Workspace\"\n",
    "data=read_csv(filename=\"result_1103nan\",folder=folder)\n",
    "data = data.fillna(method='ffill')\n",
    "data = data.sort_values(by=\"Date\",ascending=False)\n",
    "data.tail()"
   ]
  },
  {
   "cell_type": "code",
   "execution_count": 21,
   "metadata": {},
   "outputs": [],
   "source": [
    "#data2 = read_csv(filename=\"Result2\",folder=folder)\n",
    "#data= pandas.merge(data,data2,on=['Date'],how = 'outer')\n",
    "#data = data.sort_values(by=\"Date\",ascending=True)\n"
   ]
  },
  {
   "cell_type": "code",
   "execution_count": 22,
   "metadata": {},
   "outputs": [],
   "source": [
    "#data = data.fillna(method='bfill')\n",
    "#data = data.rename(columns = {'Unemployment Rate in the United States (DISCONTINUED)':'Unemployment_Rate','Consumer Price Index for All Urban Consumers: All Items in U.S. City Average':'CPI'})\n",
    "#data.head()"
   ]
  },
  {
   "cell_type": "markdown",
   "metadata": {},
   "source": [
    "## Visualize Data"
   ]
  },
  {
   "cell_type": "code",
   "execution_count": 23,
   "metadata": {},
   "outputs": [],
   "source": [
    "from matplotlib import pyplot\n",
    "def plot_data(dataset,groups):\n",
    "    i = 1\n",
    "    pyplot.figure()\n",
    "    values = dataset.values\n",
    "    for group in groups:\n",
    "    \tpyplot.subplot(len(groups), 1, i)\n",
    "    \tpyplot.plot(values[:, group])\n",
    "    \tpyplot.title(dataset.columns[group], y=0.5, loc='right')\n",
    "    \ti += 1\n",
    "    pyplot.show()"
   ]
  },
  {
   "cell_type": "code",
   "execution_count": 24,
   "metadata": {},
   "outputs": [
    {
     "data": {
      "image/png": "[encoded data removed]",
      "text/plain": [
       "<Figure size 432x288 with 11 Axes>"
      ]
     },
     "metadata": {
      "needs_background": "light"
     },
     "output_type": "display_data"
    }
   ],
   "source": [
    "plot_data(data,groups=list(range(1,12)))"
   ]
  },
  {
   "cell_type": "markdown",
   "metadata": {},
   "source": [
    "## Data Summary"
   ]
  },
  {
   "cell_type": "code",
   "execution_count": 25,
   "metadata": {},
   "outputs": [
    {
     "data": {
      "text/html": [
       "<div>\n",
       "<style scoped>\n",
       "    .dataframe tbody tr th:only-of-type {\n",
       "        vertical-align: middle;\n",
       "    }\n",
       "\n",
       "    .dataframe tbody tr th {\n",
       "        vertical-align: top;\n",
       "    }\n",
       "\n",
       "    .dataframe thead th {\n",
       "        text-align: right;\n",
       "    }\n",
       "</style>\n",
       "<table border=\"1\" class=\"dataframe\">\n",
       "  <thead>\n",
       "    <tr style=\"text-align: right;\">\n",
       "      <th></th>\n",
       "      <th>vfx</th>\n",
       "      <th>vix</th>\n",
       "      <th>vbx</th>\n",
       "      <th>rom</th>\n",
       "      <th>vmt</th>\n",
       "      <th>rwm</th>\n",
       "      <th>dog</th>\n",
       "      <th>psh</th>\n",
       "      <th>spx</th>\n",
       "      <th>gld</th>\n",
       "      <th>uso</th>\n",
       "    </tr>\n",
       "  </thead>\n",
       "  <tbody>\n",
       "    <tr>\n",
       "      <th>count</th>\n",
       "      <td>3483.000000</td>\n",
       "      <td>3483.000000</td>\n",
       "      <td>3483.000000</td>\n",
       "      <td>251.000000</td>\n",
       "      <td>881.000000</td>\n",
       "      <td>3468.000000</td>\n",
       "      <td>3483.000000</td>\n",
       "      <td>3483.000000</td>\n",
       "      <td>3483.000000</td>\n",
       "      <td>3483.000000</td>\n",
       "      <td>3483.000000</td>\n",
       "    </tr>\n",
       "    <tr>\n",
       "      <th>mean</th>\n",
       "      <td>156.000406</td>\n",
       "      <td>19.934169</td>\n",
       "      <td>8.923687</td>\n",
       "      <td>23.358095</td>\n",
       "      <td>25.191651</td>\n",
       "      <td>104.281484</td>\n",
       "      <td>129.671743</td>\n",
       "      <td>63.919065</td>\n",
       "      <td>3452.470841</td>\n",
       "      <td>121.681995</td>\n",
       "      <td>241.446316</td>\n",
       "    </tr>\n",
       "    <tr>\n",
       "      <th>std</th>\n",
       "      <td>68.477523</td>\n",
       "      <td>9.800979</td>\n",
       "      <td>1.312441</td>\n",
       "      <td>2.052146</td>\n",
       "      <td>2.347998</td>\n",
       "      <td>69.830281</td>\n",
       "      <td>68.506875</td>\n",
       "      <td>35.175604</td>\n",
       "      <td>1533.291511</td>\n",
       "      <td>27.402888</td>\n",
       "      <td>169.317250</td>\n",
       "    </tr>\n",
       "    <tr>\n",
       "      <th>min</th>\n",
       "      <td>49.903458</td>\n",
       "      <td>9.140000</td>\n",
       "      <td>6.372207</td>\n",
       "      <td>19.612000</td>\n",
       "      <td>19.896000</td>\n",
       "      <td>30.959999</td>\n",
       "      <td>42.000000</td>\n",
       "      <td>19.209999</td>\n",
       "      <td>1095.040039</td>\n",
       "      <td>60.169998</td>\n",
       "      <td>17.040001</td>\n",
       "    </tr>\n",
       "    <tr>\n",
       "      <th>25%</th>\n",
       "      <td>99.328823</td>\n",
       "      <td>13.515000</td>\n",
       "      <td>7.958967</td>\n",
       "      <td>21.610001</td>\n",
       "      <td>23.590000</td>\n",
       "      <td>46.412997</td>\n",
       "      <td>69.443054</td>\n",
       "      <td>32.976210</td>\n",
       "      <td>2181.414917</td>\n",
       "      <td>108.589996</td>\n",
       "      <td>95.120003</td>\n",
       "    </tr>\n",
       "    <tr>\n",
       "      <th>50%</th>\n",
       "      <td>144.866333</td>\n",
       "      <td>16.950001</td>\n",
       "      <td>9.086428</td>\n",
       "      <td>22.702999</td>\n",
       "      <td>24.659866</td>\n",
       "      <td>68.899654</td>\n",
       "      <td>106.643288</td>\n",
       "      <td>50.934517</td>\n",
       "      <td>3198.570068</td>\n",
       "      <td>120.949997</td>\n",
       "      <td>261.279999</td>\n",
       "    </tr>\n",
       "    <tr>\n",
       "      <th>75%</th>\n",
       "      <td>208.073540</td>\n",
       "      <td>23.130000</td>\n",
       "      <td>9.819468</td>\n",
       "      <td>25.298821</td>\n",
       "      <td>27.359310</td>\n",
       "      <td>155.523609</td>\n",
       "      <td>193.874573</td>\n",
       "      <td>95.632324</td>\n",
       "      <td>4615.409912</td>\n",
       "      <td>137.070000</td>\n",
       "      <td>304.079987</td>\n",
       "    </tr>\n",
       "    <tr>\n",
       "      <th>max</th>\n",
       "      <td>330.062653</td>\n",
       "      <td>82.690002</td>\n",
       "      <td>11.750479</td>\n",
       "      <td>27.490999</td>\n",
       "      <td>30.474449</td>\n",
       "      <td>353.667328</td>\n",
       "      <td>348.737610</td>\n",
       "      <td>181.070267</td>\n",
       "      <td>7358.490234</td>\n",
       "      <td>193.889999</td>\n",
       "      <td>939.840027</td>\n",
       "    </tr>\n",
       "  </tbody>\n",
       "</table>\n",
       "</div>"
      ],
      "text/plain": [
       "               vfx          vix          vbx         rom         vmt  \\\n",
       "count  3483.000000  3483.000000  3483.000000  251.000000  881.000000   \n",
       "mean    156.000406    19.934169     8.923687   23.358095   25.191651   \n",
       "std      68.477523     9.800979     1.312441    2.052146    2.347998   \n",
       "min      49.903458     9.140000     6.372207   19.612000   19.896000   \n",
       "25%      99.328823    13.515000     7.958967   21.610001   23.590000   \n",
       "50%     144.866333    16.950001     9.086428   22.702999   24.659866   \n",
       "75%     208.073540    23.130000     9.819468   25.298821   27.359310   \n",
       "max     330.062653    82.690002    11.750479   27.490999   30.474449   \n",
       "\n",
       "               rwm          dog          psh          spx          gld  \\\n",
       "count  3468.000000  3483.000000  3483.000000  3483.000000  3483.000000   \n",
       "mean    104.281484   129.671743    63.919065  3452.470841   121.681995   \n",
       "std      69.830281    68.506875    35.175604  1533.291511    27.402888   \n",
       "min      30.959999    42.000000    19.209999  1095.040039    60.169998   \n",
       "25%      46.412997    69.443054    32.976210  2181.414917   108.589996   \n",
       "50%      68.899654   106.643288    50.934517  3198.570068   120.949997   \n",
       "75%     155.523609   193.874573    95.632324  4615.409912   137.070000   \n",
       "max     353.667328   348.737610   181.070267  7358.490234   193.889999   \n",
       "\n",
       "               uso  \n",
       "count  3483.000000  \n",
       "mean    241.446316  \n",
       "std     169.317250  \n",
       "min      17.040001  \n",
       "25%      95.120003  \n",
       "50%     261.279999  \n",
       "75%     304.079987  \n",
       "max     939.840027  "
      ]
     },
     "execution_count": 25,
     "metadata": {},
     "output_type": "execute_result"
    }
   ],
   "source": [
    "data.describe()"
   ]
  },
  {
   "cell_type": "markdown",
   "metadata": {},
   "source": [
    "## Independent and identically distributed (I.I.D.) Testing"
   ]
  },
  {
   "cell_type": "code",
   "execution_count": 26,
   "metadata": {},
   "outputs": [
    {
     "data": {
      "image/png": "[encoded data removed]",
      "text/plain": [
       "<Figure size 432x288 with 1 Axes>"
      ]
     },
     "metadata": {
      "needs_background": "light"
     },
     "output_type": "display_data"
    }
   ],
   "source": [
    "import statsmodels.api as sm\n",
    "import matplotlib.pyplot as plt\n",
    "sm.graphics.tsa.plot_acf(data['vix'].values, lags=40)\n",
    "plt.show()"
   ]
  },
  {
   "cell_type": "markdown",
   "metadata": {},
   "source": [
    "## Histogram"
   ]
  },
  {
   "cell_type": "code",
   "execution_count": 27,
   "metadata": {},
   "outputs": [
    {
     "data": {
      "text/plain": [
       "<AxesSubplot:ylabel='Frequency'>"
      ]
     },
     "execution_count": 27,
     "metadata": {},
     "output_type": "execute_result"
    },
    {
     "data": {
      "image/png": "[encoded data removed]",
      "text/plain": [
       "<Figure size 432x288 with 1 Axes>"
      ]
     },
     "metadata": {
      "needs_background": "light"
     },
     "output_type": "display_data"
    }
   ],
   "source": [
    "data.plot(kind=\"hist\",bins=50)"
   ]
  },
  {
   "cell_type": "markdown",
   "metadata": {},
   "source": [
    "## Normal Test "
   ]
  },
  {
   "cell_type": "code",
   "execution_count": 28,
   "metadata": {},
   "outputs": [
    {
     "name": "stdout",
     "output_type": "stream",
     "text": [
      "ShapiroResult(statistic=0.9248300194740295, pvalue=1.1945661630515947e-38)\n"
     ]
    }
   ],
   "source": [
    "from scipy import stats\n",
    "print(stats.shapiro(data['vfx'].values))\n",
    "# print(stats.shapiro(data['VBMFX'].values))"
   ]
  },
  {
   "cell_type": "markdown",
   "metadata": {},
   "source": [
    "## *** LSTM ***"
   ]
  },
  {
   "cell_type": "code",
   "execution_count": 29,
   "metadata": {},
   "outputs": [],
   "source": [
    "from sklearn.preprocessing import MinMaxScaler, LabelEncoder\n",
    "def Standard_MinMax(data):\n",
    "    sc = MinMaxScaler(feature_range = (0, 1))\n",
    "    return sc.fit_transform(data.reshape(-1,1))"
   ]
  },
  {
   "cell_type": "code",
   "execution_count": 30,
   "metadata": {},
   "outputs": [
    {
     "data": {
      "text/plain": [
       "array([[0.899976  , 0.39265805, 0.9590056 , ..., 0.90043021, 0.86770863,\n",
       "        0.00889683],\n",
       "       [0.91311136, 0.38681168, 0.96458373, ..., 0.91351409, 0.86172595,\n",
       "        0.00927612],\n",
       "       [0.90011869, 0.42338542, 0.97016168, ..., 0.90057553, 0.86718521,\n",
       "        0.01004551],\n",
       "       ...,\n",
       "       [0.17570103, 0.04078858, 0.01315199, ..., 0.17214953, 0.        ,\n",
       "        0.39618553],\n",
       "       [0.17785421, 0.03222298, 0.01554208, ..., 0.17427457, 0.01106793,\n",
       "        0.39237103],\n",
       "       [0.17741822, 0.03942895, 0.01195597, ..., 0.17384666, 0.01577924,\n",
       "        0.40979627]])"
      ]
     },
     "execution_count": 30,
     "metadata": {},
     "output_type": "execute_result"
    }
   ],
   "source": [
    "# folder=\"/Users/mac/Desktop/bigdataanalysis/test\"\n",
    "# data=read_csv(filename=\"Result\",folder=folder)\n",
    "del data['Date']\n",
    "scaler = MinMaxScaler(feature_range=(0, 1))\n",
    "scaled = scaler.fit_transform(data)\n",
    "scaled"
   ]
  },
  {
   "cell_type": "markdown",
   "metadata": {},
   "source": [
    "## Series to Supervised"
   ]
  },
  {
   "cell_type": "code",
   "execution_count": 31,
   "metadata": {},
   "outputs": [],
   "source": [
    "def series_to_supervised(data, n_in=1, n_out=1, dropnan=True):\n",
    "\tn_vars = 1 if type(data) is list else data.shape[1]\n",
    "\tdf = pandas.DataFrame(data)\n",
    "\tcols, names = list(), list()\n",
    "\tfor i in range(n_in, 0, -1):\n",
    "\t\tcols.append(df.shift(i))\n",
    "\t\tnames += [('var%d(t-%d)' % (j+1, i)) for j in range(n_vars)]\n",
    "        \n",
    "\tfor i in range(0, n_out):\n",
    "\t\tcols.append(df.shift(-i))\n",
    "\t\tif i == 0:\n",
    "\t\t\tnames += [('var%d(t)' % (j+1)) for j in range(n_vars)]\n",
    "\t\telse:\n",
    "\t\t\tnames += [('var%d(t+%d)' % (j+1, i)) for j in range(n_vars)]\n",
    "\t# put it all together\n",
    "\tagg = pandas.concat(cols, axis=1)\n",
    "\tagg.columns = names\n",
    "    \n",
    "\t# drop rows with NaN values\n",
    "\tif dropnan:\n",
    "\t\tagg.dropna(inplace=True)\n",
    "\treturn agg"
   ]
  },
  {
   "cell_type": "code",
   "execution_count": 32,
   "metadata": {},
   "outputs": [
    {
     "data": {
      "text/html": [
       "<div>\n",
       "<style scoped>\n",
       "    .dataframe tbody tr th:only-of-type {\n",
       "        vertical-align: middle;\n",
       "    }\n",
       "\n",
       "    .dataframe tbody tr th {\n",
       "        vertical-align: top;\n",
       "    }\n",
       "\n",
       "    .dataframe thead th {\n",
       "        text-align: right;\n",
       "    }\n",
       "</style>\n",
       "<table border=\"1\" class=\"dataframe\">\n",
       "  <thead>\n",
       "    <tr style=\"text-align: right;\">\n",
       "      <th></th>\n",
       "      <th>var1(t-1)</th>\n",
       "      <th>var2(t-1)</th>\n",
       "      <th>var3(t-1)</th>\n",
       "      <th>var4(t-1)</th>\n",
       "      <th>var5(t-1)</th>\n",
       "      <th>var6(t-1)</th>\n",
       "      <th>var7(t-1)</th>\n",
       "      <th>var8(t-1)</th>\n",
       "      <th>var9(t-1)</th>\n",
       "      <th>var10(t-1)</th>\n",
       "      <th>...</th>\n",
       "      <th>var2(t)</th>\n",
       "      <th>var3(t)</th>\n",
       "      <th>var4(t)</th>\n",
       "      <th>var5(t)</th>\n",
       "      <th>var6(t)</th>\n",
       "      <th>var7(t)</th>\n",
       "      <th>var8(t)</th>\n",
       "      <th>var9(t)</th>\n",
       "      <th>var10(t)</th>\n",
       "      <th>var11(t)</th>\n",
       "    </tr>\n",
       "  </thead>\n",
       "  <tbody>\n",
       "    <tr>\n",
       "      <th>1</th>\n",
       "      <td>0.899976</td>\n",
       "      <td>0.392658</td>\n",
       "      <td>0.959006</td>\n",
       "      <td>0.306892</td>\n",
       "      <td>0.329065</td>\n",
       "      <td>0.006445</td>\n",
       "      <td>0.011997</td>\n",
       "      <td>0.009514</td>\n",
       "      <td>0.900430</td>\n",
       "      <td>0.867709</td>\n",
       "      <td>...</td>\n",
       "      <td>0.386812</td>\n",
       "      <td>0.964584</td>\n",
       "      <td>0.320853</td>\n",
       "      <td>0.350808</td>\n",
       "      <td>0.005144</td>\n",
       "      <td>0.011150</td>\n",
       "      <td>0.008279</td>\n",
       "      <td>0.913514</td>\n",
       "      <td>0.861726</td>\n",
       "      <td>0.009276</td>\n",
       "    </tr>\n",
       "    <tr>\n",
       "      <th>2</th>\n",
       "      <td>0.913111</td>\n",
       "      <td>0.386812</td>\n",
       "      <td>0.964584</td>\n",
       "      <td>0.320853</td>\n",
       "      <td>0.350808</td>\n",
       "      <td>0.005144</td>\n",
       "      <td>0.011150</td>\n",
       "      <td>0.008279</td>\n",
       "      <td>0.913514</td>\n",
       "      <td>0.861726</td>\n",
       "      <td>...</td>\n",
       "      <td>0.423385</td>\n",
       "      <td>0.970162</td>\n",
       "      <td>0.299911</td>\n",
       "      <td>0.342300</td>\n",
       "      <td>0.006322</td>\n",
       "      <td>0.011834</td>\n",
       "      <td>0.009576</td>\n",
       "      <td>0.900576</td>\n",
       "      <td>0.867185</td>\n",
       "      <td>0.010046</td>\n",
       "    </tr>\n",
       "    <tr>\n",
       "      <th>3</th>\n",
       "      <td>0.900119</td>\n",
       "      <td>0.423385</td>\n",
       "      <td>0.970162</td>\n",
       "      <td>0.299911</td>\n",
       "      <td>0.342300</td>\n",
       "      <td>0.006322</td>\n",
       "      <td>0.011834</td>\n",
       "      <td>0.009576</td>\n",
       "      <td>0.900576</td>\n",
       "      <td>0.867185</td>\n",
       "      <td>...</td>\n",
       "      <td>0.329164</td>\n",
       "      <td>0.970162</td>\n",
       "      <td>0.395101</td>\n",
       "      <td>0.375386</td>\n",
       "      <td>0.003254</td>\n",
       "      <td>0.006977</td>\n",
       "      <td>0.005313</td>\n",
       "      <td>0.939913</td>\n",
       "      <td>0.888798</td>\n",
       "      <td>0.011541</td>\n",
       "    </tr>\n",
       "    <tr>\n",
       "      <th>4</th>\n",
       "      <td>0.939596</td>\n",
       "      <td>0.329164</td>\n",
       "      <td>0.970162</td>\n",
       "      <td>0.395101</td>\n",
       "      <td>0.375386</td>\n",
       "      <td>0.003254</td>\n",
       "      <td>0.006977</td>\n",
       "      <td>0.005313</td>\n",
       "      <td>0.939913</td>\n",
       "      <td>0.888798</td>\n",
       "      <td>...</td>\n",
       "      <td>0.317063</td>\n",
       "      <td>0.966443</td>\n",
       "      <td>0.399162</td>\n",
       "      <td>0.381436</td>\n",
       "      <td>0.002386</td>\n",
       "      <td>0.005803</td>\n",
       "      <td>0.004943</td>\n",
       "      <td>0.943277</td>\n",
       "      <td>0.885283</td>\n",
       "      <td>0.010912</td>\n",
       "    </tr>\n",
       "    <tr>\n",
       "      <th>5</th>\n",
       "      <td>0.942951</td>\n",
       "      <td>0.317063</td>\n",
       "      <td>0.966443</td>\n",
       "      <td>0.399162</td>\n",
       "      <td>0.381436</td>\n",
       "      <td>0.002386</td>\n",
       "      <td>0.005803</td>\n",
       "      <td>0.004943</td>\n",
       "      <td>0.943277</td>\n",
       "      <td>0.885283</td>\n",
       "      <td>...</td>\n",
       "      <td>0.250306</td>\n",
       "      <td>0.962724</td>\n",
       "      <td>0.451453</td>\n",
       "      <td>0.415278</td>\n",
       "      <td>0.000310</td>\n",
       "      <td>0.002575</td>\n",
       "      <td>0.002718</td>\n",
       "      <td>0.964448</td>\n",
       "      <td>0.885956</td>\n",
       "      <td>0.011747</td>\n",
       "    </tr>\n",
       "  </tbody>\n",
       "</table>\n",
       "<p>5 rows × 22 columns</p>\n",
       "</div>"
      ],
      "text/plain": [
       "   var1(t-1)  var2(t-1)  var3(t-1)  var4(t-1)  var5(t-1)  var6(t-1)  \\\n",
       "1   0.899976   0.392658   0.959006   0.306892   0.329065   0.006445   \n",
       "2   0.913111   0.386812   0.964584   0.320853   0.350808   0.005144   \n",
       "3   0.900119   0.423385   0.970162   0.299911   0.342300   0.006322   \n",
       "4   0.939596   0.329164   0.970162   0.395101   0.375386   0.003254   \n",
       "5   0.942951   0.317063   0.966443   0.399162   0.381436   0.002386   \n",
       "\n",
       "   var7(t-1)  var8(t-1)  var9(t-1)  var10(t-1)  ...   var2(t)   var3(t)  \\\n",
       "1   0.011997   0.009514   0.900430    0.867709  ...  0.386812  0.964584   \n",
       "2   0.011150   0.008279   0.913514    0.861726  ...  0.423385  0.970162   \n",
       "3   0.011834   0.009576   0.900576    0.867185  ...  0.329164  0.970162   \n",
       "4   0.006977   0.005313   0.939913    0.888798  ...  0.317063  0.966443   \n",
       "5   0.005803   0.004943   0.943277    0.885283  ...  0.250306  0.962724   \n",
       "\n",
       "    var4(t)   var5(t)   var6(t)   var7(t)   var8(t)   var9(t)  var10(t)  \\\n",
       "1  0.320853  0.350808  0.005144  0.011150  0.008279  0.913514  0.861726   \n",
       "2  0.299911  0.342300  0.006322  0.011834  0.009576  0.900576  0.867185   \n",
       "3  0.395101  0.375386  0.003254  0.006977  0.005313  0.939913  0.888798   \n",
       "4  0.399162  0.381436  0.002386  0.005803  0.004943  0.943277  0.885283   \n",
       "5  0.451453  0.415278  0.000310  0.002575  0.002718  0.964448  0.885956   \n",
       "\n",
       "   var11(t)  \n",
       "1  0.009276  \n",
       "2  0.010046  \n",
       "3  0.011541  \n",
       "4  0.010912  \n",
       "5  0.011747  \n",
       "\n",
       "[5 rows x 22 columns]"
      ]
     },
     "execution_count": 32,
     "metadata": {},
     "output_type": "execute_result"
    }
   ],
   "source": [
    "reframed = series_to_supervised(scaled, 1, 1)\n",
    "reframed.head()"
   ]
  },
  {
   "cell_type": "code",
   "execution_count": 33,
   "metadata": {},
   "outputs": [
    {
     "data": {
      "text/html": [
       "<div>\n",
       "<style scoped>\n",
       "    .dataframe tbody tr th:only-of-type {\n",
       "        vertical-align: middle;\n",
       "    }\n",
       "\n",
       "    .dataframe tbody tr th {\n",
       "        vertical-align: top;\n",
       "    }\n",
       "\n",
       "    .dataframe thead th {\n",
       "        text-align: right;\n",
       "    }\n",
       "</style>\n",
       "<table border=\"1\" class=\"dataframe\">\n",
       "  <thead>\n",
       "    <tr style=\"text-align: right;\">\n",
       "      <th></th>\n",
       "      <th>var1(t-1)</th>\n",
       "      <th>var2(t-1)</th>\n",
       "      <th>var3(t-1)</th>\n",
       "      <th>var4(t-1)</th>\n",
       "      <th>var5(t-1)</th>\n",
       "      <th>var6(t-1)</th>\n",
       "      <th>var7(t-1)</th>\n",
       "      <th>var8(t-1)</th>\n",
       "      <th>var9(t-1)</th>\n",
       "      <th>var10(t-1)</th>\n",
       "      <th>...</th>\n",
       "      <th>var2(t)</th>\n",
       "      <th>var3(t)</th>\n",
       "      <th>var4(t)</th>\n",
       "      <th>var5(t)</th>\n",
       "      <th>var6(t)</th>\n",
       "      <th>var7(t)</th>\n",
       "      <th>var8(t)</th>\n",
       "      <th>var9(t)</th>\n",
       "      <th>var10(t)</th>\n",
       "      <th>var11(t)</th>\n",
       "    </tr>\n",
       "  </thead>\n",
       "  <tbody>\n",
       "    <tr>\n",
       "      <th>1</th>\n",
       "      <td>0.899976</td>\n",
       "      <td>0.392658</td>\n",
       "      <td>0.959006</td>\n",
       "      <td>0.306892</td>\n",
       "      <td>0.329065</td>\n",
       "      <td>0.006445</td>\n",
       "      <td>0.011997</td>\n",
       "      <td>0.009514</td>\n",
       "      <td>0.900430</td>\n",
       "      <td>0.867709</td>\n",
       "      <td>...</td>\n",
       "      <td>0.386812</td>\n",
       "      <td>0.964584</td>\n",
       "      <td>0.320853</td>\n",
       "      <td>0.350808</td>\n",
       "      <td>0.005144</td>\n",
       "      <td>0.011150</td>\n",
       "      <td>0.008279</td>\n",
       "      <td>0.913514</td>\n",
       "      <td>0.861726</td>\n",
       "      <td>0.009276</td>\n",
       "    </tr>\n",
       "    <tr>\n",
       "      <th>2</th>\n",
       "      <td>0.913111</td>\n",
       "      <td>0.386812</td>\n",
       "      <td>0.964584</td>\n",
       "      <td>0.320853</td>\n",
       "      <td>0.350808</td>\n",
       "      <td>0.005144</td>\n",
       "      <td>0.011150</td>\n",
       "      <td>0.008279</td>\n",
       "      <td>0.913514</td>\n",
       "      <td>0.861726</td>\n",
       "      <td>...</td>\n",
       "      <td>0.423385</td>\n",
       "      <td>0.970162</td>\n",
       "      <td>0.299911</td>\n",
       "      <td>0.342300</td>\n",
       "      <td>0.006322</td>\n",
       "      <td>0.011834</td>\n",
       "      <td>0.009576</td>\n",
       "      <td>0.900576</td>\n",
       "      <td>0.867185</td>\n",
       "      <td>0.010046</td>\n",
       "    </tr>\n",
       "    <tr>\n",
       "      <th>3</th>\n",
       "      <td>0.900119</td>\n",
       "      <td>0.423385</td>\n",
       "      <td>0.970162</td>\n",
       "      <td>0.299911</td>\n",
       "      <td>0.342300</td>\n",
       "      <td>0.006322</td>\n",
       "      <td>0.011834</td>\n",
       "      <td>0.009576</td>\n",
       "      <td>0.900576</td>\n",
       "      <td>0.867185</td>\n",
       "      <td>...</td>\n",
       "      <td>0.329164</td>\n",
       "      <td>0.970162</td>\n",
       "      <td>0.395101</td>\n",
       "      <td>0.375386</td>\n",
       "      <td>0.003254</td>\n",
       "      <td>0.006977</td>\n",
       "      <td>0.005313</td>\n",
       "      <td>0.939913</td>\n",
       "      <td>0.888798</td>\n",
       "      <td>0.011541</td>\n",
       "    </tr>\n",
       "    <tr>\n",
       "      <th>4</th>\n",
       "      <td>0.939596</td>\n",
       "      <td>0.329164</td>\n",
       "      <td>0.970162</td>\n",
       "      <td>0.395101</td>\n",
       "      <td>0.375386</td>\n",
       "      <td>0.003254</td>\n",
       "      <td>0.006977</td>\n",
       "      <td>0.005313</td>\n",
       "      <td>0.939913</td>\n",
       "      <td>0.888798</td>\n",
       "      <td>...</td>\n",
       "      <td>0.317063</td>\n",
       "      <td>0.966443</td>\n",
       "      <td>0.399162</td>\n",
       "      <td>0.381436</td>\n",
       "      <td>0.002386</td>\n",
       "      <td>0.005803</td>\n",
       "      <td>0.004943</td>\n",
       "      <td>0.943277</td>\n",
       "      <td>0.885283</td>\n",
       "      <td>0.010912</td>\n",
       "    </tr>\n",
       "    <tr>\n",
       "      <th>5</th>\n",
       "      <td>0.942951</td>\n",
       "      <td>0.317063</td>\n",
       "      <td>0.966443</td>\n",
       "      <td>0.399162</td>\n",
       "      <td>0.381436</td>\n",
       "      <td>0.002386</td>\n",
       "      <td>0.005803</td>\n",
       "      <td>0.004943</td>\n",
       "      <td>0.943277</td>\n",
       "      <td>0.885283</td>\n",
       "      <td>...</td>\n",
       "      <td>0.250306</td>\n",
       "      <td>0.962724</td>\n",
       "      <td>0.451453</td>\n",
       "      <td>0.415278</td>\n",
       "      <td>0.000310</td>\n",
       "      <td>0.002575</td>\n",
       "      <td>0.002718</td>\n",
       "      <td>0.964448</td>\n",
       "      <td>0.885956</td>\n",
       "      <td>0.011747</td>\n",
       "    </tr>\n",
       "  </tbody>\n",
       "</table>\n",
       "<p>5 rows × 22 columns</p>\n",
       "</div>"
      ],
      "text/plain": [
       "   var1(t-1)  var2(t-1)  var3(t-1)  var4(t-1)  var5(t-1)  var6(t-1)  \\\n",
       "1   0.899976   0.392658   0.959006   0.306892   0.329065   0.006445   \n",
       "2   0.913111   0.386812   0.964584   0.320853   0.350808   0.005144   \n",
       "3   0.900119   0.423385   0.970162   0.299911   0.342300   0.006322   \n",
       "4   0.939596   0.329164   0.970162   0.395101   0.375386   0.003254   \n",
       "5   0.942951   0.317063   0.966443   0.399162   0.381436   0.002386   \n",
       "\n",
       "   var7(t-1)  var8(t-1)  var9(t-1)  var10(t-1)  ...   var2(t)   var3(t)  \\\n",
       "1   0.011997   0.009514   0.900430    0.867709  ...  0.386812  0.964584   \n",
       "2   0.011150   0.008279   0.913514    0.861726  ...  0.423385  0.970162   \n",
       "3   0.011834   0.009576   0.900576    0.867185  ...  0.329164  0.970162   \n",
       "4   0.006977   0.005313   0.939913    0.888798  ...  0.317063  0.966443   \n",
       "5   0.005803   0.004943   0.943277    0.885283  ...  0.250306  0.962724   \n",
       "\n",
       "    var4(t)   var5(t)   var6(t)   var7(t)   var8(t)   var9(t)  var10(t)  \\\n",
       "1  0.320853  0.350808  0.005144  0.011150  0.008279  0.913514  0.861726   \n",
       "2  0.299911  0.342300  0.006322  0.011834  0.009576  0.900576  0.867185   \n",
       "3  0.395101  0.375386  0.003254  0.006977  0.005313  0.939913  0.888798   \n",
       "4  0.399162  0.381436  0.002386  0.005803  0.004943  0.943277  0.885283   \n",
       "5  0.451453  0.415278  0.000310  0.002575  0.002718  0.964448  0.885956   \n",
       "\n",
       "   var11(t)  \n",
       "1  0.009276  \n",
       "2  0.010046  \n",
       "3  0.011541  \n",
       "4  0.010912  \n",
       "5  0.011747  \n",
       "\n",
       "[5 rows x 22 columns]"
      ]
     },
     "execution_count": 33,
     "metadata": {},
     "output_type": "execute_result"
    }
   ],
   "source": [
    "# pred = {'VFINX':13}\n",
    "# reframed = pandas.concat([reframed.iloc[:,0:12],reframed.iloc[:,pred['VFINX']]],axis=1)\n",
    "reframed.head()\n",
    "# reframed.shape"
   ]
  },
  {
   "cell_type": "markdown",
   "metadata": {},
   "source": [
    "## Data Split"
   ]
  },
  {
   "cell_type": "code",
   "execution_count": 34,
   "metadata": {},
   "outputs": [
    {
     "data": {
      "text/plain": [
       "((250, 21), (250,), (0, 21), (0,))"
      ]
     },
     "execution_count": 34,
     "metadata": {},
     "output_type": "execute_result"
    }
   ],
   "source": [
    "train = reframed.values[:5000,:]\n",
    "test = reframed.values[5000:5051,:]\n",
    "train_X, train_y = train[:, :-1], train[:, -1]\n",
    "test_X , test_y  = test[:, :-1], test[:, -1]\n",
    "train_X.shape, train_y.shape, test_X.shape, test_y.shape"
   ]
  },
  {
   "cell_type": "code",
   "execution_count": 35,
   "metadata": {},
   "outputs": [
    {
     "data": {
      "text/plain": [
       "((250, 1, 21), (250,), (0, 1, 21), (0,))"
      ]
     },
     "execution_count": 35,
     "metadata": {},
     "output_type": "execute_result"
    }
   ],
   "source": [
    "train_X = train_X.reshape((train_X.shape[0], 1, train_X.shape[1]))\n",
    "test_X  = test_X.reshape((test_X.shape[0], 1, test_X.shape[1]))\n",
    "train_X.shape, train_y.shape, test_X.shape, test_y.shape\n"
   ]
  },
  {
   "cell_type": "markdown",
   "metadata": {},
   "source": [
    "## LSTM"
   ]
  },
  {
   "cell_type": "code",
   "execution_count": 36,
   "metadata": {},
   "outputs": [
    {
     "name": "stdout",
     "output_type": "stream",
     "text": [
      "Model: \"sequential\"\n",
      "_________________________________________________________________\n",
      "Layer (type)                 Output Shape              Param #   \n",
      "=================================================================\n",
      "lstm (LSTM)                  (None, 50)                14400     \n",
      "_________________________________________________________________\n",
      "dense (Dense)                (None, 1)                 51        \n",
      "=================================================================\n",
      "Total params: 14,451\n",
      "Trainable params: 14,451\n",
      "Non-trainable params: 0\n",
      "_________________________________________________________________\n"
     ]
    }
   ],
   "source": [
    "import keras\n",
    "from keras import layers\n",
    "\n",
    "model = keras.models.Sequential()\n",
    "model.add(layers.LSTM(50, input_shape=(train_X.shape[1], train_X.shape[2])))\n",
    "model.add(layers.Dense(1))\n",
    "model.compile(loss='mse', optimizer='adam')\n",
    "model.summary()"
   ]
  },
  {
   "cell_type": "markdown",
   "metadata": {},
   "source": [
    "## Training"
   ]
  },
  {
   "cell_type": "code",
   "execution_count": 37,
   "metadata": {},
   "outputs": [
    {
     "name": "stdout",
     "output_type": "stream",
     "text": [
      "Epoch 1/100\n",
      "2/2 [==============================] - 0s 26ms/step - loss: 0.0055\n",
      "Epoch 2/100\n",
      "2/2 [==============================] - 0s 6ms/step - loss: 4.6212e-04\n",
      "Epoch 3/100\n",
      "2/2 [==============================] - 0s 6ms/step - loss: 7.1413e-04\n",
      "Epoch 4/100\n",
      "2/2 [==============================] - 0s 26ms/step - loss: 0.0020\n",
      "Epoch 5/100\n",
      "2/2 [==============================] - 0s 7ms/step - loss: 0.0018\n",
      "Epoch 6/100\n",
      "2/2 [==============================] - 0s 6ms/step - loss: 9.0836e-04\n",
      "Epoch 7/100\n",
      "2/2 [==============================] - 0s 32ms/step - loss: 4.2418e-04\n",
      "Epoch 8/100\n",
      "2/2 [==============================] - 0s 6ms/step - loss: 5.3360e-04\n",
      "Epoch 9/100\n",
      "2/2 [==============================] - 0s 6ms/step - loss: 7.4228e-04\n",
      "Epoch 10/100\n",
      "2/2 [==============================] - 0s 35ms/step - loss: 6.5174e-04\n",
      "Epoch 11/100\n",
      "2/2 [==============================] - 0s 6ms/step - loss: 3.5154e-04\n",
      "Epoch 12/100\n",
      "2/2 [==============================] - 0s 6ms/step - loss: 1.5263e-04\n",
      "Epoch 13/100\n",
      "2/2 [==============================] - 0s 6ms/step - loss: 1.8930e-04\n",
      "Epoch 14/100\n",
      "2/2 [==============================] - 0s 6ms/step - loss: 3.2317e-04\n",
      "Epoch 15/100\n",
      "2/2 [==============================] - 0s 6ms/step - loss: 3.6264e-04\n",
      "Epoch 16/100\n",
      "2/2 [==============================] - 0s 33ms/step - loss: 2.8282e-04\n",
      "Epoch 17/100\n",
      "2/2 [==============================] - 0s 6ms/step - loss: 1.9610e-04\n",
      "Epoch 18/100\n",
      "2/2 [==============================] - 0s 6ms/step - loss: 1.8061e-04\n",
      "Epoch 19/100\n",
      "2/2 [==============================] - 0s 34ms/step - loss: 2.0251e-04\n",
      "Epoch 20/100\n",
      "2/2 [==============================] - 0s 6ms/step - loss: 1.9353e-04\n",
      "Epoch 21/100\n",
      "2/2 [==============================] - 0s 6ms/step - loss: 1.4824e-04\n",
      "Epoch 22/100\n",
      "2/2 [==============================] - 0s 6ms/step - loss: 1.1521e-04\n",
      "Epoch 23/100\n",
      "2/2 [==============================] - 0s 6ms/step - loss: 1.2091e-04\n",
      "Epoch 24/100\n",
      "2/2 [==============================] - 0s 6ms/step - loss: 1.4039e-04\n",
      "Epoch 25/100\n",
      "2/2 [==============================] - 0s 6ms/step - loss: 1.4120e-04\n",
      "Epoch 26/100\n",
      "2/2 [==============================] - 0s 6ms/step - loss: 1.2488e-04\n",
      "Epoch 27/100\n",
      "2/2 [==============================] - 0s 6ms/step - loss: 1.1277e-04\n",
      "Epoch 28/100\n",
      "2/2 [==============================] - 0s 6ms/step - loss: 1.1099e-04\n",
      "Epoch 29/100\n",
      "2/2 [==============================] - 0s 6ms/step - loss: 1.0806e-04\n",
      "Epoch 30/100\n",
      "2/2 [==============================] - 0s 6ms/step - loss: 9.8304e-05\n",
      "Epoch 31/100\n",
      "2/2 [==============================] - 0s 32ms/step - loss: 8.9899e-05\n",
      "Epoch 32/100\n",
      "2/2 [==============================] - 0s 6ms/step - loss: 8.9601e-05\n",
      "Epoch 33/100\n",
      "2/2 [==============================] - 0s 36ms/step - loss: 9.2789e-05\n",
      "Epoch 34/100\n",
      "2/2 [==============================] - 0s 6ms/step - loss: 9.2370e-05\n",
      "Epoch 35/100\n",
      "2/2 [==============================] - 0s 6ms/step - loss: 8.8696e-05\n",
      "Epoch 36/100\n",
      "2/2 [==============================] - 0s 6ms/step - loss: 8.5896e-05\n",
      "Epoch 37/100\n",
      "2/2 [==============================] - 0s 6ms/step - loss: 8.4409e-05\n",
      "Epoch 38/100\n",
      "2/2 [==============================] - 0s 6ms/step - loss: 8.2118e-05\n",
      "Epoch 39/100\n",
      "2/2 [==============================] - 0s 6ms/step - loss: 7.9315e-05\n",
      "Epoch 40/100\n",
      "2/2 [==============================] - 0s 34ms/step - loss: 7.8043e-05\n",
      "Epoch 41/100\n",
      "2/2 [==============================] - 0s 6ms/step - loss: 7.8304e-05\n",
      "Epoch 42/100\n",
      "2/2 [==============================] - 0s 6ms/step - loss: 7.8278e-05\n",
      "Epoch 43/100\n",
      "2/2 [==============================] - 0s 34ms/step - loss: 7.7307e-05\n",
      "Epoch 44/100\n",
      "2/2 [==============================] - 0s 6ms/step - loss: 7.6219e-05\n",
      "Epoch 45/100\n",
      "2/2 [==============================] - 0s 6ms/step - loss: 7.5404e-05\n",
      "Epoch 46/100\n",
      "2/2 [==============================] - 0s 6ms/step - loss: 7.4500e-05\n",
      "Epoch 47/100\n",
      "2/2 [==============================] - 0s 6ms/step - loss: 7.3550e-05\n",
      "Epoch 48/100\n",
      "2/2 [==============================] - 0s 6ms/step - loss: 7.3006e-05\n",
      "Epoch 49/100\n",
      "2/2 [==============================] - 0s 34ms/step - loss: 7.2832e-05\n",
      "Epoch 50/100\n",
      "2/2 [==============================] - 0s 6ms/step - loss: 7.2577e-05\n",
      "Epoch 51/100\n",
      "2/2 [==============================] - 0s 6ms/step - loss: 7.2108e-05\n",
      "Epoch 52/100\n",
      "2/2 [==============================] - 0s 6ms/step - loss: 7.1610e-05\n",
      "Epoch 53/100\n",
      "2/2 [==============================] - 0s 6ms/step - loss: 7.1135e-05\n",
      "Epoch 54/100\n",
      "2/2 [==============================] - 0s 6ms/step - loss: 7.0631e-05\n",
      "Epoch 55/100\n",
      "2/2 [==============================] - 0s 6ms/step - loss: 7.0174e-05\n",
      "Epoch 56/100\n",
      "2/2 [==============================] - 0s 6ms/step - loss: 6.9851e-05\n",
      "Epoch 57/100\n",
      "2/2 [==============================] - 0s 6ms/step - loss: 6.9588e-05\n",
      "Epoch 58/100\n",
      "2/2 [==============================] - 0s 34ms/step - loss: 6.9277e-05\n",
      "Epoch 59/100\n",
      "2/2 [==============================] - ETA: 0s - loss: 3.5333e-0 - 0s 6ms/step - loss: 6.8919e-05\n",
      "Epoch 60/100\n",
      "2/2 [==============================] - 0s 6ms/step - loss: 6.8551e-05\n",
      "Epoch 61/100\n",
      "2/2 [==============================] - 0s 32ms/step - loss: 6.8174e-05\n",
      "Epoch 62/100\n",
      "2/2 [==============================] - 0s 6ms/step - loss: 6.7807e-05\n",
      "Epoch 63/100\n",
      "2/2 [==============================] - 0s 6ms/step - loss: 6.7483e-05\n",
      "Epoch 64/100\n",
      "2/2 [==============================] - 0s 32ms/step - loss: 6.7195e-05\n",
      "Epoch 65/100\n",
      "2/2 [==============================] - 0s 6ms/step - loss: 6.6903e-05\n",
      "Epoch 66/100\n",
      "2/2 [==============================] - 0s 6ms/step - loss: 6.6591e-05\n",
      "Epoch 67/100\n",
      "2/2 [==============================] - 0s 6ms/step - loss: 6.6268e-05\n",
      "Epoch 68/100\n",
      "2/2 [==============================] - 0s 6ms/step - loss: 6.5940e-05\n",
      "Epoch 69/100\n",
      "2/2 [==============================] - 0s 6ms/step - loss: 6.5618e-05\n",
      "Epoch 70/100\n",
      "2/2 [==============================] - 0s 6ms/step - loss: 6.5316e-05\n",
      "Epoch 71/100\n",
      "2/2 [==============================] - 0s 32ms/step - loss: 6.5031e-05\n",
      "Epoch 72/100\n",
      "2/2 [==============================] - 0s 6ms/step - loss: 6.4749e-05\n",
      "Epoch 73/100\n",
      "2/2 [==============================] - 0s 6ms/step - loss: 6.4461e-05\n",
      "Epoch 74/100\n",
      "2/2 [==============================] - 0s 32ms/step - loss: 6.4167e-05\n",
      "Epoch 75/100\n",
      "2/2 [==============================] - 0s 6ms/step - loss: 6.3872e-05\n",
      "Epoch 76/100\n",
      "2/2 [==============================] - 0s 5ms/step - loss: 6.3583e-05\n",
      "Epoch 77/100\n",
      "2/2 [==============================] - 0s 32ms/step - loss: 6.3305e-05\n",
      "Epoch 78/100\n",
      "2/2 [==============================] - 0s 6ms/step - loss: 6.3036e-05\n",
      "Epoch 79/100\n",
      "2/2 [==============================] - 0s 6ms/step - loss: 6.2770e-05\n",
      "Epoch 80/100\n",
      "2/2 [==============================] - 0s 6ms/step - loss: 6.2502e-05\n",
      "Epoch 81/100\n",
      "2/2 [==============================] - 0s 32ms/step - loss: 6.2233e-05\n",
      "Epoch 82/100\n",
      "2/2 [==============================] - 0s 6ms/step - loss: 6.1965e-05\n",
      "Epoch 83/100\n",
      "2/2 [==============================] - 0s 6ms/step - loss: 6.1703e-05\n",
      "Epoch 84/100\n",
      "2/2 [==============================] - 0s 34ms/step - loss: 6.1448e-05\n",
      "Epoch 85/100\n",
      "2/2 [==============================] - 0s 6ms/step - loss: 6.1199e-05\n",
      "Epoch 86/100\n",
      "2/2 [==============================] - 0s 5ms/step - loss: 6.0951e-05\n",
      "Epoch 87/100\n",
      "2/2 [==============================] - 0s 5ms/step - loss: 6.0704e-05\n",
      "Epoch 88/100\n",
      "2/2 [==============================] - 0s 6ms/step - loss: 6.0458e-05\n",
      "Epoch 89/100\n",
      "2/2 [==============================] - 0s 6ms/step - loss: 6.0214e-05\n",
      "Epoch 90/100\n",
      "2/2 [==============================] - 0s 6ms/step - loss: 5.9975e-05\n",
      "Epoch 91/100\n",
      "2/2 [==============================] - 0s 33ms/step - loss: 5.9741e-05\n",
      "Epoch 92/100\n",
      "2/2 [==============================] - 0s 6ms/step - loss: 5.9511e-05\n",
      "Epoch 93/100\n",
      "2/2 [==============================] - 0s 6ms/step - loss: 5.9282e-05\n",
      "Epoch 94/100\n",
      "2/2 [==============================] - 0s 30ms/step - loss: 5.9054e-05\n",
      "Epoch 95/100\n",
      "2/2 [==============================] - 0s 6ms/step - loss: 5.8828e-05\n",
      "Epoch 96/100\n",
      "2/2 [==============================] - 0s 6ms/step - loss: 5.8606e-05\n",
      "Epoch 97/100\n",
      "2/2 [==============================] - 0s 6ms/step - loss: 5.8387e-05\n",
      "Epoch 98/100\n",
      "2/2 [==============================] - 0s 6ms/step - loss: 5.8172e-05\n",
      "Epoch 99/100\n",
      "2/2 [==============================] - 0s 6ms/step - loss: 5.7959e-05\n",
      "Epoch 100/100\n",
      "2/2 [==============================] - 0s 5ms/step - loss: 5.7748e-05\n"
     ]
    }
   ],
   "source": [
    "history = model.fit(train_X, train_y, epochs=100, \n",
    "                    batch_size=128, validation_data=(test_X, test_y), \n",
    "                    verbose=1, shuffle=False)"
   ]
  },
  {
   "cell_type": "markdown",
   "metadata": {},
   "source": [
    "## Plot Loss Curve"
   ]
  },
  {
   "cell_type": "code",
   "execution_count": 39,
   "metadata": {
    "scrolled": true
   },
   "outputs": [
    {
     "name": "stdout",
     "output_type": "stream",
     "text": [
      "Populating the interactive namespace from numpy and matplotlib\n"
     ]
    },
    {
     "ename": "KeyError",
     "evalue": "'val_loss'",
     "output_type": "error",
     "traceback": [
      "\u001b[0;31m---------------------------------------------------------------------------\u001b[0m",
      "\u001b[0;31mKeyError\u001b[0m                                  Traceback (most recent call last)",
      "\u001b[0;32m<ipython-input-39-ad69e8666d6a>\u001b[0m in \u001b[0;36m<module>\u001b[0;34m\u001b[0m\n\u001b[1;32m      2\u001b[0m \u001b[0;32mfrom\u001b[0m \u001b[0mmatplotlib\u001b[0m \u001b[0;32mimport\u001b[0m \u001b[0mpyplot\u001b[0m\u001b[0;34m\u001b[0m\u001b[0;34m\u001b[0m\u001b[0m\n\u001b[1;32m      3\u001b[0m \u001b[0mpyplot\u001b[0m\u001b[0;34m.\u001b[0m\u001b[0mplot\u001b[0m\u001b[0;34m(\u001b[0m\u001b[0mhistory\u001b[0m\u001b[0;34m.\u001b[0m\u001b[0mhistory\u001b[0m\u001b[0;34m[\u001b[0m\u001b[0;34m'loss'\u001b[0m\u001b[0;34m]\u001b[0m\u001b[0;34m,\u001b[0m \u001b[0mlabel\u001b[0m\u001b[0;34m=\u001b[0m\u001b[0;34m'train'\u001b[0m\u001b[0;34m)\u001b[0m\u001b[0;34m\u001b[0m\u001b[0;34m\u001b[0m\u001b[0m\n\u001b[0;32m----> 4\u001b[0;31m \u001b[0mpyplot\u001b[0m\u001b[0;34m.\u001b[0m\u001b[0mplot\u001b[0m\u001b[0;34m(\u001b[0m\u001b[0mhistory\u001b[0m\u001b[0;34m.\u001b[0m\u001b[0mhistory\u001b[0m\u001b[0;34m[\u001b[0m\u001b[0;34m'val_loss'\u001b[0m\u001b[0;34m]\u001b[0m\u001b[0;34m,\u001b[0m \u001b[0mlabel\u001b[0m\u001b[0;34m=\u001b[0m\u001b[0;34m'test'\u001b[0m\u001b[0;34m)\u001b[0m\u001b[0;34m\u001b[0m\u001b[0;34m\u001b[0m\u001b[0m\n\u001b[0m\u001b[1;32m      5\u001b[0m \u001b[0mpyplot\u001b[0m\u001b[0;34m.\u001b[0m\u001b[0mlegend\u001b[0m\u001b[0;34m(\u001b[0m\u001b[0;34m)\u001b[0m\u001b[0;34m\u001b[0m\u001b[0;34m\u001b[0m\u001b[0m\n\u001b[1;32m      6\u001b[0m \u001b[0mpyplot\u001b[0m\u001b[0;34m.\u001b[0m\u001b[0mshow\u001b[0m\u001b[0;34m(\u001b[0m\u001b[0;34m)\u001b[0m\u001b[0;34m\u001b[0m\u001b[0;34m\u001b[0m\u001b[0m\n",
      "\u001b[0;31mKeyError\u001b[0m: 'val_loss'"
     ]
    },
    {
     "data": {
      "image/png": "[encoded data removed]",
      "text/plain": [
       "<Figure size 432x288 with 1 Axes>"
      ]
     },
     "metadata": {
      "needs_background": "light"
     },
     "output_type": "display_data"
    }
   ],
   "source": [
    "%pylab inline\n",
    "from matplotlib import pyplot\n",
    "pyplot.plot(history.history['loss'], label='train')\n",
    "pyplot.plot(history.history['val_loss'], label='test')\n",
    "pyplot.legend()\n",
    "pyplot.show()"
   ]
  },
  {
   "cell_type": "code",
   "execution_count": null,
   "metadata": {},
   "outputs": [],
   "source": [
    "test_X.shape"
   ]
  },
  {
   "cell_type": "markdown",
   "metadata": {},
   "source": [
    "## Model Predict"
   ]
  },
  {
   "cell_type": "code",
   "execution_count": null,
   "metadata": {},
   "outputs": [],
   "source": [
    "yhat = model.predict(test_X)\n",
    "test_X = test_X.reshape((test_X.shape[0], test_X.shape[2]))\n",
    "yhat.shape, test_X.shape\n",
    "# yhat"
   ]
  },
  {
   "cell_type": "markdown",
   "metadata": {},
   "source": [
    "## Invert scaling for forecast"
   ]
  },
  {
   "cell_type": "code",
   "execution_count": null,
   "metadata": {},
   "outputs": [],
   "source": [
    "pred = {'VFINX': 2}\n",
    "inv_yhat = concatenate((yhat, numpy.delete(test_X, pred['VFINX'], axis=1)), axis=1)\n",
    "inv_yhat = scaler.inverse_transform(inv_yhat)\n",
    "inv_yhat = inv_yhat[:,0]\n",
    "inv_yhat"
   ]
  },
  {
   "cell_type": "markdown",
   "metadata": {},
   "source": [
    "## Invert scaling for actual"
   ]
  },
  {
   "cell_type": "code",
   "execution_count": null,
   "metadata": {},
   "outputs": [],
   "source": [
    "real = test_y.reshape((len(test_y), 1))\n",
    "inv_y = concatenate((real, numpy.delete(test_X, pred['VFINX'], axis=1)), axis=1)\n",
    "inv_y = scaler.inverse_transform(inv_y)\n",
    "inv_y = inv_y[:,0]\n",
    "inv_y"
   ]
  },
  {
   "cell_type": "markdown",
   "metadata": {},
   "source": [
    "# RMSE"
   ]
  },
  {
   "cell_type": "code",
   "execution_count": null,
   "metadata": {},
   "outputs": [],
   "source": [
    "from sklearn.metrics import mean_squared_error\n",
    "rmse = sqrt(mean_squared_error(inv_y, inv_yhat))\n",
    "print('Test RMSE: %.3f' % rmse)"
   ]
  },
  {
   "cell_type": "code",
   "execution_count": null,
   "metadata": {},
   "outputs": [],
   "source": [
    "inv_y = np.cumprod(inv_y+1)\n",
    "inv_yhat = np.cumprod(inv_yhat+1)"
   ]
  },
  {
   "cell_type": "markdown",
   "metadata": {},
   "source": [
    "## Predict vs Real"
   ]
  },
  {
   "cell_type": "code",
   "execution_count": null,
   "metadata": {},
   "outputs": [],
   "source": [
    "import matplotlib.pyplot as plt\n",
    "plt.figure(figsize=(20,10))\n",
    "plt.plot(inv_y, color = 'red', label = 'Real')\n",
    "plt.plot(inv_yhat, color = 'blue', label = 'Predict')\n",
    "plt.title('Real vs Predict')\n",
    "plt.xlabel('Time')\n",
    "plt.ylabel('Price')\n",
    "plt.legend()\n",
    "plt.show()"
   ]
  },
  {
   "cell_type": "code",
   "execution_count": null,
   "metadata": {},
   "outputs": [],
   "source": []
  }
 ],
 "metadata": {
  "kernelspec": {
   "display_name": "Python 3",
   "language": "python",
   "name": "python3"
  },
  "language_info": {
   "codemirror_mode": {
    "name": "ipython",
    "version": 3
   },
   "file_extension": ".py",
   "mimetype": "text/x-python",
   "name": "python",
   "nbconvert_exporter": "python",
   "pygments_lexer": "ipython3",
   "version": "3.6.10"
  }
 },
 "nbformat": 4,
 "nbformat_minor": 4
}
