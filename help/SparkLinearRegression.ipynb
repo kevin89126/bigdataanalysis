{
 "cells": [
  {
   "cell_type": "code",
   "execution_count": 1,
   "metadata": {},
   "outputs": [],
   "source": [
    "import os\n",
    "import numpy as np\n",
    "import matplotlib.pyplot as plt\n",
    "import pandas as pd\n",
    "from math import pow\n",
    "from random import random\n",
    "import pandas\n",
    "import pandas_datareader as pdr\n",
    "from datetime import datetime\n",
    "import operator\n",
    "\n",
    "import findspark\n",
    "#use python -m pip install xxxx for missing package\n",
    "\n",
    "os.environ[\"SPARK_HOME\"] = '/opt/apache-spark/spark-3.0.1-bin-hadoop2.7'\n",
    "findspark.init()\n",
    "\n",
    "import pyspark\n",
    "from pyspark.ml.regression import LinearRegression\n",
    "from pyspark.sql import SparkSession\n",
    "from pyspark.ml.linalg import Vectors\n",
    "from pyspark.ml.feature import VectorAssembler\n"
   ]
  },
  {
   "cell_type": "markdown",
   "metadata": {},
   "source": [
    "# Read Data from yahoo finance"
   ]
  },
  {
   "cell_type": "code",
   "execution_count": 2,
   "metadata": {},
   "outputs": [
    {
     "name": "stdout",
     "output_type": "stream",
     "text": [
      "                   spx        vix\n",
      "Date                             \n",
      "1990-01-02  386.160004  17.240000\n",
      "1990-01-03  385.170013  18.190001\n",
      "1990-01-04  382.019989  19.219999\n",
      "1990-01-05  378.299988  20.110001\n",
      "1990-01-08  380.040009  20.260000\n",
      "1990-01-09  375.559998  22.200001\n",
      "1990-01-10  373.089996  22.440001\n",
      "1990-01-11  374.399994  20.049999\n",
      "1990-01-12  365.220001  24.639999\n",
      "1990-01-15  362.079987  26.340000\n"
     ]
    }
   ],
   "source": [
    "start_date = datetime(1990, 1, 1)\n",
    "end_date = datetime(2020, 8, 31)\n",
    "\n",
    "#Update Here! get more feature if needed\n",
    "spx = pdr.get_data_yahoo(symbols='^SP500TR', start=start_date, end=end_date)[\"Adj Close\"]\n",
    "vix = pdr.get_data_yahoo(symbols='^vix', start=start_date, end=end_date)[\"Adj Close\"]\n",
    "bnp = pandas.concat([spx, vix], axis=1)\n",
    "#Update Here! update column name base on features\n",
    "bnp.columns = ('spx','vix')\n",
    "bnp = bnp.sort_values(by=\"Date\",ascending=True)\n",
    "print(bnp.head(10))\n",
    "bnp.to_csv('Result.csv')"
   ]
  },
  {
   "cell_type": "markdown",
   "metadata": {},
   "source": [
    "# Prepare Spark"
   ]
  },
  {
   "cell_type": "code",
   "execution_count": 3,
   "metadata": {},
   "outputs": [],
   "source": [
    "#run on local with 2 core\n",
    "spark = SparkSession.builder.appName(\"examples\").master('local[2]').getOrCreate()"
   ]
  },
  {
   "cell_type": "markdown",
   "metadata": {},
   "source": [
    "# Prepare data for training and validation"
   ]
  },
  {
   "cell_type": "code",
   "execution_count": 4,
   "metadata": {},
   "outputs": [
    {
     "name": "stdout",
     "output_type": "stream",
     "text": [
      "         Date         spx        vix     spx t-1    vix t-1     spx t-2  \\\n",
      "5  1990-01-09  375.559998  22.200001  380.040009  20.260000  378.299988   \n",
      "6  1990-01-10  373.089996  22.440001  375.559998  22.200001  380.040009   \n",
      "7  1990-01-11  374.399994  20.049999  373.089996  22.440001  375.559998   \n",
      "8  1990-01-12  365.220001  24.639999  374.399994  20.049999  373.089996   \n",
      "9  1990-01-15  362.079987  26.340000  365.220001  24.639999  374.399994   \n",
      "10 1990-01-16  366.119995  24.180000  362.079987  26.340000  365.220001   \n",
      "11 1990-01-17  362.540009  24.160000  366.119995  24.180000  362.079987   \n",
      "12 1990-01-18  363.380005  24.340000  362.540009  24.160000  366.119995   \n",
      "13 1990-01-19  364.429993  22.500000  363.380005  24.340000  362.540009   \n",
      "14 1990-01-22  355.040009  26.700001  364.429993  22.500000  363.380005   \n",
      "\n",
      "      vix t-2     spx t-3    vix t-3     spx t-4    vix t-4     spx t-5  \\\n",
      "5   20.110001  382.019989  19.219999  385.170013  18.190001  386.160004   \n",
      "6   20.260000  378.299988  20.110001  382.019989  19.219999  385.170013   \n",
      "7   22.200001  380.040009  20.260000  378.299988  20.110001  382.019989   \n",
      "8   22.440001  375.559998  22.200001  380.040009  20.260000  378.299988   \n",
      "9   20.049999  373.089996  22.440001  375.559998  22.200001  380.040009   \n",
      "10  24.639999  374.399994  20.049999  373.089996  22.440001  375.559998   \n",
      "11  26.340000  365.220001  24.639999  374.399994  20.049999  373.089996   \n",
      "12  24.180000  362.079987  26.340000  365.220001  24.639999  374.399994   \n",
      "13  24.160000  366.119995  24.180000  362.079987  26.340000  365.220001   \n",
      "14  24.340000  362.540009  24.160000  366.119995  24.180000  362.079987   \n",
      "\n",
      "      vix t-5  \n",
      "5   17.240000  \n",
      "6   18.190001  \n",
      "7   19.219999  \n",
      "8   20.110001  \n",
      "9   20.260000  \n",
      "10  22.200001  \n",
      "11  22.440001  \n",
      "12  20.049999  \n",
      "13  24.639999  \n",
      "14  26.340000  \n"
     ]
    }
   ],
   "source": [
    "data = pandas.read_csv('Result.csv')\n",
    "data['Date'] = pandas.to_datetime(data['Date']) \n",
    "#length used for regression,regression_length=n means data t-1 ~ t-n will be used for regression \n",
    "#Update Here! change regression_length\n",
    "regression_length=5\n",
    "\n",
    "#Update Here! update column name base on features\n",
    "spx = data['spx']\n",
    "vix = data['vix']\n",
    "for i in range(1,regression_length+1):\n",
    "    data[f'spx t-{i}'] = spx.shift(i)\n",
    "    data[f'vix t-{i}'] = vix.shift(i)    \n",
    "#remove NaN data\n",
    "data.dropna(inplace=True)\n",
    "print(data.head(10))"
   ]
  },
  {
   "cell_type": "markdown",
   "metadata": {},
   "source": [
    "# Convert to Spark Dataframe"
   ]
  },
  {
   "cell_type": "code",
   "execution_count": 5,
   "metadata": {},
   "outputs": [],
   "source": [
    "#convert panda dataframe to spark dataframe\n",
    "df = spark.createDataFrame(data)\n",
    "#use t-n data as features (x)\n",
    "feature_cols = list(filter(lambda s:'t-' in s,df.columns))\n",
    "vecAssembler = VectorAssembler(inputCols=feature_cols, outputCol=\"features\")\n",
    "df = vecAssembler.transform(df)\n",
    "#use spx as label (y)\n",
    "df = df.withColumnRenamed(\"spx\",\"label\")\n",
    "\n",
    "\n",
    "#Update Here! update validation_date\n",
    "#date afterward will be used for validation\n",
    "validation_date = datetime(2015, 1, 1)\n",
    "#Update Here! update filter rule if needed for start and end time\n",
    "train_df = df.filter(df[\"Date\"] < validation_date)\n",
    "validation_df =  df.filter(df[\"Date\"] >= validation_date)"
   ]
  },
  {
   "cell_type": "markdown",
   "metadata": {},
   "source": [
    "# Train Model"
   ]
  },
  {
   "cell_type": "code",
   "execution_count": 6,
   "metadata": {},
   "outputs": [],
   "source": [
    "lr =  LinearRegression()\n",
    "model = lr.fit(train_df)"
   ]
  },
  {
   "cell_type": "markdown",
   "metadata": {},
   "source": [
    "# Validate Model"
   ]
  },
  {
   "cell_type": "code",
   "execution_count": 7,
   "metadata": {},
   "outputs": [],
   "source": [
    "x = list(map(lambda a:a[0],validation_df.select(\"features\").collect()))\n",
    "y_actual =  list(map(lambda a:a[0],validation_df.select(\"label\").collect()))\n",
    "y_predict = list(map(lambda x:model.predict(x),x))\n",
    "delta =  list(map(operator.sub, y_actual, y_predict))"
   ]
  },
  {
   "cell_type": "code",
   "execution_count": 8,
   "metadata": {},
   "outputs": [
    {
     "name": "stdout",
     "output_type": "stream",
     "text": [
      "RMS is 3689.602062977286\n"
     ]
    }
   ],
   "source": [
    "from sklearn.metrics import mean_squared_error\n",
    "rms = mean_squared_error(y_actual,y_predict)\n",
    "print(f'RMS is {rms}')"
   ]
  },
  {
   "cell_type": "code",
   "execution_count": 9,
   "metadata": {},
   "outputs": [],
   "source": [
    "# Plot result of last 10 day"
   ]
  },
  {
   "cell_type": "code",
   "execution_count": 10,
   "metadata": {},
   "outputs": [
    {
     "data": {
      "image/png": "[encoded data removed]",
      "text/plain": [
       "<Figure size 432x288 with 1 Axes>"
      ]
     },
     "metadata": {
      "needs_background": "light"
     },
     "output_type": "display_data"
    }
   ],
   "source": [
    "plt.plot(y_actual[-20:],label='actual')\n",
    "plt.plot(y_predict[-20:],label='predict')\n",
    "plt.legend()\n",
    "plt.show()"
   ]
  }
 ],
 "metadata": {
  "kernelspec": {
   "display_name": "Python 3",
   "language": "python",
   "name": "python3"
  },
  "language_info": {
   "codemirror_mode": {
    "name": "ipython",
    "version": 3
   },
   "file_extension": ".py",
   "mimetype": "text/x-python",
   "name": "python",
   "nbconvert_exporter": "python",
   "pygments_lexer": "ipython3",
   "version": "3.6.9"
  }
 },
 "nbformat": 4,
 "nbformat_minor": 4
}
