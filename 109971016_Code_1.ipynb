{
 "cells": [
  {
   "cell_type": "markdown",
   "metadata": {},
   "source": [
    "## Import CSV"
   ]
  },
  {
   "cell_type": "code",
   "execution_count": 10,
   "metadata": {},
   "outputs": [],
   "source": [
    "import pandas\n",
    "def read_csv(filename,folder):\n",
    "    folder=folder+\"/\"+filename+\".csv\"\n",
    "    return pandas.read_csv(folder,encoding='ISO-8859-1')"
   ]
  },
  {
   "cell_type": "code",
   "execution_count": 23,
   "metadata": {},
   "outputs": [
    {
     "data": {
      "text/html": [
       "<div>\n",
       "<style scoped>\n",
       "    .dataframe tbody tr th:only-of-type {\n",
       "        vertical-align: middle;\n",
       "    }\n",
       "\n",
       "    .dataframe tbody tr th {\n",
       "        vertical-align: top;\n",
       "    }\n",
       "\n",
       "    .dataframe thead th {\n",
       "        text-align: right;\n",
       "    }\n",
       "</style>\n",
       "<table border=\"1\" class=\"dataframe\">\n",
       "  <thead>\n",
       "    <tr style=\"text-align: right;\">\n",
       "      <th></th>\n",
       "      <th>DATE</th>\n",
       "      <th>vfx</th>\n",
       "      <th>vix</th>\n",
       "      <th>vbx</th>\n",
       "      <th>vmt</th>\n",
       "      <th>rwm</th>\n",
       "      <th>dog</th>\n",
       "      <th>psh</th>\n",
       "      <th>spx</th>\n",
       "    </tr>\n",
       "  </thead>\n",
       "  <tbody>\n",
       "    <tr>\n",
       "      <th>499</th>\n",
       "      <td>2017-09-06</td>\n",
       "      <td>215.304565</td>\n",
       "      <td>11.63</td>\n",
       "      <td>10.022372</td>\n",
       "      <td>25.482641</td>\n",
       "      <td>45.358208</td>\n",
       "      <td>66.359299</td>\n",
       "      <td>31.931274</td>\n",
       "      <td>4777.689941</td>\n",
       "    </tr>\n",
       "    <tr>\n",
       "      <th>500</th>\n",
       "      <td>2017-09-05</td>\n",
       "      <td>214.626022</td>\n",
       "      <td>12.23</td>\n",
       "      <td>10.040814</td>\n",
       "      <td>25.362762</td>\n",
       "      <td>45.465393</td>\n",
       "      <td>66.593506</td>\n",
       "      <td>32.047920</td>\n",
       "      <td>4762.750000</td>\n",
       "    </tr>\n",
       "    <tr>\n",
       "      <th>501</th>\n",
       "      <td>2017-09-01</td>\n",
       "      <td>216.256409</td>\n",
       "      <td>10.13</td>\n",
       "      <td>9.994713</td>\n",
       "      <td>25.531948</td>\n",
       "      <td>45.056149</td>\n",
       "      <td>65.812805</td>\n",
       "      <td>31.795191</td>\n",
       "      <td>4798.990234</td>\n",
       "    </tr>\n",
       "    <tr>\n",
       "      <th>502</th>\n",
       "      <td>2017-08-31</td>\n",
       "      <td>215.804016</td>\n",
       "      <td>10.59</td>\n",
       "      <td>10.013153</td>\n",
       "      <td>25.402401</td>\n",
       "      <td>45.260769</td>\n",
       "      <td>65.929901</td>\n",
       "      <td>31.872953</td>\n",
       "      <td>4789.180176</td>\n",
       "    </tr>\n",
       "    <tr>\n",
       "      <th>503</th>\n",
       "      <td>2017-08-30</td>\n",
       "      <td>214.569443</td>\n",
       "      <td>11.22</td>\n",
       "      <td>9.983647</td>\n",
       "      <td>25.105610</td>\n",
       "      <td>45.747974</td>\n",
       "      <td>66.125107</td>\n",
       "      <td>32.038193</td>\n",
       "      <td>4761.720215</td>\n",
       "    </tr>\n",
       "  </tbody>\n",
       "</table>\n",
       "</div>"
      ],
      "text/plain": [
       "           DATE         vfx    vix        vbx        vmt        rwm  \\\n",
       "499  2017-09-06  215.304565  11.63  10.022372  25.482641  45.358208   \n",
       "500  2017-09-05  214.626022  12.23  10.040814  25.362762  45.465393   \n",
       "501  2017-09-01  216.256409  10.13   9.994713  25.531948  45.056149   \n",
       "502  2017-08-31  215.804016  10.59  10.013153  25.402401  45.260769   \n",
       "503  2017-08-30  214.569443  11.22   9.983647  25.105610  45.747974   \n",
       "\n",
       "           dog        psh          spx  \n",
       "499  66.359299  31.931274  4777.689941  \n",
       "500  66.593506  32.047920  4762.750000  \n",
       "501  65.812805  31.795191  4798.990234  \n",
       "502  65.929901  31.872953  4789.180176  \n",
       "503  66.125107  32.038193  4761.720215  "
      ]
     },
     "execution_count": 23,
     "metadata": {},
     "output_type": "execute_result"
    }
   ],
   "source": [
    "folder=\"/root/\"\n",
    "data=read_csv(filename=\"WEN\",folder=folder)\n",
    "data.columns = ( 'DATE','vfx','vix' ,'vbx', 'vmt','rwm','dog','psh', 'spx')\n",
    "data = data.fillna(method='ffill')\n",
    "data.tail()"
   ]
  },
  {
   "cell_type": "code",
   "execution_count": 12,
   "metadata": {},
   "outputs": [
    {
     "data": {
      "text/plain": [
       "(504, 9)"
      ]
     },
     "execution_count": 12,
     "metadata": {},
     "output_type": "execute_result"
    }
   ],
   "source": [
    "data.shape"
   ]
  },
  {
   "cell_type": "markdown",
   "metadata": {},
   "source": [
    "## Visualize Data"
   ]
  },
  {
   "cell_type": "code",
   "execution_count": 13,
   "metadata": {},
   "outputs": [],
   "source": [
    "from matplotlib import pyplot\n",
    "def plot_data(dataset,groups):\n",
    "    i = 1\n",
    "    pyplot.figure()\n",
    "    values = dataset.values\n",
    "    for group in groups:\n",
    "        pyplot.subplot(len(groups), 1, i)\n",
    "        pyplot.plot(values[:, group])\n",
    "        pyplot.title(dataset.columns[group], y=0.5, loc='right')\n",
    "        i += 1\n",
    "    pyplot.show()"
   ]
  },
  {
   "cell_type": "code",
   "execution_count": 14,
   "metadata": {},
   "outputs": [
    {
     "data": {
      "image/png": "[encoded data removed]",
      "text/plain": [
       "<Figure size 432x288 with 8 Axes>"
      ]
     },
     "metadata": {
      "needs_background": "light"
     },
     "output_type": "display_data"
    }
   ],
   "source": [
    "plot_data(data,groups=list(range(1,9)))"
   ]
  },
  {
   "cell_type": "markdown",
   "metadata": {},
   "source": [
    "## Data Summary"
   ]
  },
  {
   "cell_type": "code",
   "execution_count": 15,
   "metadata": {},
   "outputs": [
    {
     "data": {
      "text/html": [
       "<div>\n",
       "<style scoped>\n",
       "    .dataframe tbody tr th:only-of-type {\n",
       "        vertical-align: middle;\n",
       "    }\n",
       "\n",
       "    .dataframe tbody tr th {\n",
       "        vertical-align: top;\n",
       "    }\n",
       "\n",
       "    .dataframe thead th {\n",
       "        text-align: right;\n",
       "    }\n",
       "</style>\n",
       "<table border=\"1\" class=\"dataframe\">\n",
       "  <thead>\n",
       "    <tr style=\"text-align: right;\">\n",
       "      <th></th>\n",
       "      <th>vfx</th>\n",
       "      <th>vix</th>\n",
       "      <th>vbx</th>\n",
       "      <th>vmt</th>\n",
       "      <th>rwm</th>\n",
       "      <th>dog</th>\n",
       "      <th>psh</th>\n",
       "      <th>spx</th>\n",
       "    </tr>\n",
       "  </thead>\n",
       "  <tbody>\n",
       "    <tr>\n",
       "      <th>count</th>\n",
       "      <td>504.000000</td>\n",
       "      <td>504.000000</td>\n",
       "      <td>504.000000</td>\n",
       "      <td>504.000000</td>\n",
       "      <td>504.000000</td>\n",
       "      <td>504.000000</td>\n",
       "      <td>504.000000</td>\n",
       "      <td>504.000000</td>\n",
       "    </tr>\n",
       "    <tr>\n",
       "      <th>mean</th>\n",
       "      <td>244.395805</td>\n",
       "      <td>15.333413</td>\n",
       "      <td>10.017343</td>\n",
       "      <td>26.430865</td>\n",
       "      <td>40.405756</td>\n",
       "      <td>57.019953</td>\n",
       "      <td>28.412942</td>\n",
       "      <td>5431.560540</td>\n",
       "    </tr>\n",
       "    <tr>\n",
       "      <th>std</th>\n",
       "      <td>13.908723</td>\n",
       "      <td>4.533763</td>\n",
       "      <td>0.286577</td>\n",
       "      <td>2.149230</td>\n",
       "      <td>2.195040</td>\n",
       "      <td>3.233095</td>\n",
       "      <td>1.507878</td>\n",
       "      <td>312.578747</td>\n",
       "    </tr>\n",
       "    <tr>\n",
       "      <th>min</th>\n",
       "      <td>210.128433</td>\n",
       "      <td>9.140000</td>\n",
       "      <td>9.683455</td>\n",
       "      <td>22.548750</td>\n",
       "      <td>36.076992</td>\n",
       "      <td>51.579994</td>\n",
       "      <td>25.667391</td>\n",
       "      <td>4672.660156</td>\n",
       "    </tr>\n",
       "    <tr>\n",
       "      <th>25%</th>\n",
       "      <td>235.074059</td>\n",
       "      <td>12.175000</td>\n",
       "      <td>9.805305</td>\n",
       "      <td>24.422805</td>\n",
       "      <td>39.192882</td>\n",
       "      <td>54.586658</td>\n",
       "      <td>27.226387</td>\n",
       "      <td>5222.270142</td>\n",
       "    </tr>\n",
       "    <tr>\n",
       "      <th>50%</th>\n",
       "      <td>244.253342</td>\n",
       "      <td>14.455000</td>\n",
       "      <td>9.943701</td>\n",
       "      <td>26.665625</td>\n",
       "      <td>40.392239</td>\n",
       "      <td>56.529932</td>\n",
       "      <td>28.301810</td>\n",
       "      <td>5430.175049</td>\n",
       "    </tr>\n",
       "    <tr>\n",
       "      <th>75%</th>\n",
       "      <td>255.819534</td>\n",
       "      <td>17.884999</td>\n",
       "      <td>10.096783</td>\n",
       "      <td>28.382936</td>\n",
       "      <td>41.760325</td>\n",
       "      <td>58.581785</td>\n",
       "      <td>29.345070</td>\n",
       "      <td>5685.679932</td>\n",
       "    </tr>\n",
       "    <tr>\n",
       "      <th>max</th>\n",
       "      <td>273.387878</td>\n",
       "      <td>37.320000</td>\n",
       "      <td>10.912119</td>\n",
       "      <td>30.474449</td>\n",
       "      <td>48.979759</td>\n",
       "      <td>66.593506</td>\n",
       "      <td>32.930397</td>\n",
       "      <td>6083.819824</td>\n",
       "    </tr>\n",
       "  </tbody>\n",
       "</table>\n",
       "</div>"
      ],
      "text/plain": [
       "              vfx         vix         vbx         vmt         rwm         dog  \\\n",
       "count  504.000000  504.000000  504.000000  504.000000  504.000000  504.000000   \n",
       "mean   244.395805   15.333413   10.017343   26.430865   40.405756   57.019953   \n",
       "std     13.908723    4.533763    0.286577    2.149230    2.195040    3.233095   \n",
       "min    210.128433    9.140000    9.683455   22.548750   36.076992   51.579994   \n",
       "25%    235.074059   12.175000    9.805305   24.422805   39.192882   54.586658   \n",
       "50%    244.253342   14.455000    9.943701   26.665625   40.392239   56.529932   \n",
       "75%    255.819534   17.884999   10.096783   28.382936   41.760325   58.581785   \n",
       "max    273.387878   37.320000   10.912119   30.474449   48.979759   66.593506   \n",
       "\n",
       "              psh          spx  \n",
       "count  504.000000   504.000000  \n",
       "mean    28.412942  5431.560540  \n",
       "std      1.507878   312.578747  \n",
       "min     25.667391  4672.660156  \n",
       "25%     27.226387  5222.270142  \n",
       "50%     28.301810  5430.175049  \n",
       "75%     29.345070  5685.679932  \n",
       "max     32.930397  6083.819824  "
      ]
     },
     "execution_count": 15,
     "metadata": {},
     "output_type": "execute_result"
    }
   ],
   "source": [
    "data.describe()"
   ]
  },
  {
   "cell_type": "markdown",
   "metadata": {},
   "source": [
    "## Independent and identically distributed (I.I.D.) Testing"
   ]
  },
  {
   "cell_type": "code",
   "execution_count": 22,
   "metadata": {},
   "outputs": [
    {
     "data": {
      "image/png": "[encoded data removed]",
      "text/plain": [
       "<Figure size 432x288 with 1 Axes>"
      ]
     },
     "metadata": {
      "needs_background": "light"
     },
     "output_type": "display_data"
    }
   ],
   "source": [
    "import statsmodels.api as sm\n",
    "import matplotlib.pyplot as plt\n",
    "sm.graphics.tsa.plot_acf(data['vfx'].values, lags=40)\n",
    "#print(data['VFINX'])\n",
    "#sm.graphics.tsa.plot_acf(data['VIX_SKW'].values, lags=40)\n",
    "plt.show()"
   ]
  },
  {
   "cell_type": "markdown",
   "metadata": {},
   "source": [
    "## Histogram"
   ]
  },
  {
   "cell_type": "code",
   "execution_count": 70,
   "metadata": {},
   "outputs": [
    {
     "data": {
      "text/plain": [
       "<AxesSubplot:ylabel='Frequency'>"
      ]
     },
     "execution_count": 70,
     "metadata": {},
     "output_type": "execute_result"
    },
    {
     "data": {
      "image/png": "[encoded data removed]",
      "text/plain": [
       "<Figure size 432x288 with 1 Axes>"
      ]
     },
     "metadata": {
      "needs_background": "light"
     },
     "output_type": "display_data"
    }
   ],
   "source": [
    "data.plot(kind=\"hist\",bins=50)"
   ]
  },
  {
   "cell_type": "markdown",
   "metadata": {},
   "source": [
    "## Normal Test "
   ]
  },
  {
   "cell_type": "code",
   "execution_count": 57,
   "metadata": {},
   "outputs": [
    {
     "name": "stdout",
     "output_type": "stream",
     "text": [
      "ShapiroResult(statistic=0.9248300194740295, pvalue=1.1945661630515947e-38)\n",
      "ShapiroResult(statistic=0.9236187934875488, pvalue=6.955494866611912e-39)\n"
     ]
    }
   ],
   "source": [
    "from scipy import stats\n",
    "print(stats.shapiro(data['vfx'].values))\n",
    "print(stats.shapiro(data['spx'].values))"
   ]
  },
  {
   "cell_type": "markdown",
   "metadata": {},
   "source": [
    "## *** LSTM ***"
   ]
  },
  {
   "cell_type": "code",
   "execution_count": 58,
   "metadata": {},
   "outputs": [],
   "source": [
    "from sklearn.preprocessing import MinMaxScaler, LabelEncoder\n",
    "def Standard_MinMax(data):\n",
    "    sc = MinMaxScaler(feature_range = (0, 1))\n",
    "    return sc.fit_transform(data.reshape(-1,1))"
   ]
  },
  {
   "cell_type": "code",
   "execution_count": 59,
   "metadata": {},
   "outputs": [
    {
     "data": {
      "text/plain": [
       "(3483, 9)"
      ]
     },
     "execution_count": 59,
     "metadata": {},
     "output_type": "execute_result"
    }
   ],
   "source": [
    "folder=\"/root/bigdataanalysis/test/\"\n",
    "data=read_csv(filename=\"FEAT_DATA\",folder=folder)\n",
    "data.columns = ( 'DATE','vfx' ,'vix' ,'vbx' ,'rom', 'vmt','rwm','dog','psh', 'spx')\n",
    "del data['DATE']\n",
    "scaler = MinMaxScaler(feature_range=(0, 1))\n",
    "scaled = scaler.fit_transform(data)\n",
    "data.shape\n"
   ]
  },
  {
   "cell_type": "markdown",
   "metadata": {},
   "source": [
    "## Series to Supervised"
   ]
  },
  {
   "cell_type": "code",
   "execution_count": 61,
   "metadata": {},
   "outputs": [],
   "source": [
    "def series_to_supervised(data, n_in=1, n_out=1, dropnan=True):\n",
    "\tn_vars = 1 if type(data) is list else data.shape[1]\n",
    "\tdf = pandas.DataFrame(data)\n",
    "\tcols, names = list(), list()\n",
    "\tfor i in range(n_in, 0, -1):\n",
    "\t\tcols.append(df.shift(i))\n",
    "\t\tnames += [('var%d(t-%d)' % (j+1, i)) for j in range(n_vars)]\n",
    "        \n",
    "\tfor i in range(0, n_out):\n",
    "\t\tcols.append(df.shift(-i))\n",
    "\t\tif i == 0:\n",
    "\t\t\tnames += [('var%d(t)' % (j+1)) for j in range(n_vars)]\n",
    "\t\telse:\n",
    "\t\t\tnames += [('var%d(t+%d)' % (j+1, i)) for j in range(n_vars)]\n",
    "\t# put it all together\n",
    "\tagg = pandas.concat(cols, axis=1)\n",
    "\tagg.columns = names\n",
    "    \n",
    "\t# drop rows with NaN values\n",
    "\tif dropnan:\n",
    "\t\tagg.dropna(inplace=True)\n",
    "\treturn agg"
   ]
  },
  {
   "cell_type": "code",
   "execution_count": 62,
   "metadata": {},
   "outputs": [
    {
     "data": {
      "text/plain": [
       "(248, 18)"
      ]
     },
     "execution_count": 62,
     "metadata": {},
     "output_type": "execute_result"
    }
   ],
   "source": [
    "reframed = series_to_supervised(scaled, 1, 1)\n",
    "reframed.head()\n",
    "reframed.shape"
   ]
  },
  {
   "cell_type": "code",
   "execution_count": 32,
   "metadata": {},
   "outputs": [
    {
     "data": {
      "text/plain": [
       "(248, 19)"
      ]
     },
     "execution_count": 32,
     "metadata": {},
     "output_type": "execute_result"
    }
   ],
   "source": [
    "pred = {'vfx': 8}\n",
    "reframed = pandas.concat([reframed.iloc[:,0:10],reframed.iloc[:,pred['vfx']]],axis=1)\n",
    "reframed.head()\n",
    "reframed.shape"
   ]
  },
  {
   "cell_type": "code",
   "execution_count": 33,
   "metadata": {},
   "outputs": [
    {
     "data": {
      "text/plain": [
       "248"
      ]
     },
     "execution_count": 33,
     "metadata": {},
     "output_type": "execute_result"
    }
   ],
   "source": [
    "len(reframed.values)"
   ]
  },
  {
   "cell_type": "markdown",
   "metadata": {},
   "source": [
    "## Data Split"
   ]
  },
  {
   "cell_type": "code",
   "execution_count": 34,
   "metadata": {},
   "outputs": [
    {
     "data": {
      "text/plain": [
       "((100, 18), (100,), (69, 18), (69,))"
      ]
     },
     "execution_count": 34,
     "metadata": {},
     "output_type": "execute_result"
    }
   ],
   "source": [
    "train = reframed.values[:100,:]\n",
    "test = reframed.values[100:169,:]\n",
    "train_X, train_y = train[:, :-1], train[:, -1]\n",
    "test_X , test_y  = test[:, :-1], test[:, -1]\n",
    "train_X.shape, train_y.shape, test_X.shape, test_y.shape"
   ]
  },
  {
   "cell_type": "markdown",
   "metadata": {},
   "source": [
    "## LSTM"
   ]
  },
  {
   "cell_type": "code",
   "execution_count": 35,
   "metadata": {},
   "outputs": [
    {
     "name": "stdout",
     "output_type": "stream",
     "text": [
      "Model: \"sequential\"\n",
      "_________________________________________________________________\n",
      "Layer (type)                 Output Shape              Param #   \n",
      "=================================================================\n",
      "lstm (LSTM)                  (None, 50)                13800     \n",
      "_________________________________________________________________\n",
      "dense (Dense)                (None, 1)                 51        \n",
      "=================================================================\n",
      "Total params: 13,851\n",
      "Trainable params: 13,851\n",
      "Non-trainable params: 0\n",
      "_________________________________________________________________\n"
     ]
    }
   ],
   "source": [
    "train_X = train_X.reshape((train_X.shape[0], 1, train_X.shape[1]))\n",
    "test_X  = test_X.reshape((test_X.shape[0], 1, test_X.shape[1]))\n",
    "train_X.shape, train_y.shape, test_X.shape, test_y.shape\n",
    "\n",
    "import keras\n",
    "from keras import layers\n",
    "\n",
    "model = keras.models.Sequential()\n",
    "model.add(layers.LSTM(50, input_shape=(train_X.shape[1], train_X.shape[2])))\n",
    "model.add(layers.Dense(1))\n",
    "model.compile(loss='mse', optimizer='adam')\n",
    "model.summary()"
   ]
  },
  {
   "cell_type": "markdown",
   "metadata": {},
   "source": [
    "## Training"
   ]
  },
  {
   "cell_type": "code",
   "execution_count": 36,
   "metadata": {},
   "outputs": [
    {
     "name": "stdout",
     "output_type": "stream",
     "text": [
      "Epoch 1/100\n",
      "2/2 [==============================] - 0s 174ms/step - loss: 0.8336 - val_loss: 0.5005\n",
      "Epoch 2/100\n",
      "2/2 [==============================] - 0s 9ms/step - loss: 0.7523 - val_loss: 0.4445\n",
      "Epoch 3/100\n",
      "2/2 [==============================] - 0s 8ms/step - loss: 0.6759 - val_loss: 0.3922\n",
      "Epoch 4/100\n",
      "2/2 [==============================] - 0s 32ms/step - loss: 0.6039 - val_loss: 0.3435\n",
      "Epoch 5/100\n",
      "2/2 [==============================] - 0s 7ms/step - loss: 0.5364 - val_loss: 0.2982\n",
      "Epoch 6/100\n",
      "2/2 [==============================] - 0s 8ms/step - loss: 0.4731 - val_loss: 0.2562\n",
      "Epoch 7/100\n",
      "2/2 [==============================] - 0s 31ms/step - loss: 0.4139 - val_loss: 0.2175\n",
      "Epoch 8/100\n",
      "2/2 [==============================] - 0s 7ms/step - loss: 0.3588 - val_loss: 0.1821\n",
      "Epoch 9/100\n",
      "2/2 [==============================] - 0s 7ms/step - loss: 0.3077 - val_loss: 0.1500\n",
      "Epoch 10/100\n",
      "2/2 [==============================] - 0s 35ms/step - loss: 0.2606 - val_loss: 0.1211\n",
      "Epoch 11/100\n",
      "2/2 [==============================] - 0s 7ms/step - loss: 0.2174 - val_loss: 0.0956\n",
      "Epoch 12/100\n",
      "2/2 [==============================] - 0s 7ms/step - loss: 0.1783 - val_loss: 0.0733\n",
      "Epoch 13/100\n",
      "2/2 [==============================] - 0s 8ms/step - loss: 0.1432 - val_loss: 0.0544\n",
      "Epoch 14/100\n",
      "2/2 [==============================] - 0s 7ms/step - loss: 0.1122 - val_loss: 0.0387\n",
      "Epoch 15/100\n",
      "2/2 [==============================] - 0s 31ms/step - loss: 0.0853 - val_loss: 0.0264\n",
      "Epoch 16/100\n",
      "2/2 [==============================] - 0s 7ms/step - loss: 0.0625 - val_loss: 0.0171\n",
      "Epoch 17/100\n",
      "2/2 [==============================] - 0s 7ms/step - loss: 0.0437 - val_loss: 0.0109\n",
      "Epoch 18/100\n",
      "2/2 [==============================] - 0s 37ms/step - loss: 0.0287 - val_loss: 0.0074\n",
      "Epoch 19/100\n",
      "2/2 [==============================] - 0s 8ms/step - loss: 0.0174 - val_loss: 0.0062\n",
      "Epoch 20/100\n",
      "2/2 [==============================] - 0s 8ms/step - loss: 0.0093 - val_loss: 0.0070\n",
      "Epoch 21/100\n",
      "2/2 [==============================] - 0s 8ms/step - loss: 0.0042 - val_loss: 0.0093\n",
      "Epoch 22/100\n",
      "2/2 [==============================] - 0s 7ms/step - loss: 0.0013 - val_loss: 0.0126\n",
      "Epoch 23/100\n",
      "2/2 [==============================] - 0s 34ms/step - loss: 3.1252e-04 - val_loss: 0.0162\n",
      "Epoch 24/100\n",
      "2/2 [==============================] - 0s 8ms/step - loss: 4.9698e-04 - val_loss: 0.0198\n",
      "Epoch 25/100\n",
      "2/2 [==============================] - 0s 8ms/step - loss: 0.0014 - val_loss: 0.0229\n",
      "Epoch 26/100\n",
      "2/2 [==============================] - 0s 34ms/step - loss: 0.0024 - val_loss: 0.0253\n",
      "Epoch 27/100\n",
      "2/2 [==============================] - 0s 7ms/step - loss: 0.0034 - val_loss: 0.0268\n",
      "Epoch 28/100\n",
      "2/2 [==============================] - 0s 7ms/step - loss: 0.0040 - val_loss: 0.0273\n",
      "Epoch 29/100\n",
      "2/2 [==============================] - 0s 7ms/step - loss: 0.0042 - val_loss: 0.0270\n",
      "Epoch 30/100\n",
      "2/2 [==============================] - 0s 7ms/step - loss: 0.0040 - val_loss: 0.0261\n",
      "Epoch 31/100\n",
      "2/2 [==============================] - 0s 7ms/step - loss: 0.0036 - val_loss: 0.0247\n",
      "Epoch 32/100\n",
      "2/2 [==============================] - 0s 7ms/step - loss: 0.0030 - val_loss: 0.0231\n",
      "Epoch 33/100\n",
      "2/2 [==============================] - 0s 7ms/step - loss: 0.0023 - val_loss: 0.0213\n",
      "Epoch 34/100\n",
      "2/2 [==============================] - 0s 33ms/step - loss: 0.0016 - val_loss: 0.0196\n",
      "Epoch 35/100\n",
      "2/2 [==============================] - 0s 7ms/step - loss: 0.0011 - val_loss: 0.0180\n",
      "Epoch 36/100\n",
      "2/2 [==============================] - 0s 7ms/step - loss: 7.0619e-04 - val_loss: 0.0165\n",
      "Epoch 37/100\n",
      "2/2 [==============================] - 0s 35ms/step - loss: 4.3898e-04 - val_loss: 0.0153\n",
      "Epoch 38/100\n",
      "2/2 [==============================] - 0s 7ms/step - loss: 2.9151e-04 - val_loss: 0.0143\n",
      "Epoch 39/100\n",
      "2/2 [==============================] - 0s 8ms/step - loss: 2.3624e-04 - val_loss: 0.0135\n",
      "Epoch 40/100\n",
      "2/2 [==============================] - 0s 32ms/step - loss: 2.4214e-04 - val_loss: 0.0129\n",
      "Epoch 41/100\n",
      "2/2 [==============================] - 0s 7ms/step - loss: 2.8027e-04 - val_loss: 0.0124\n",
      "Epoch 42/100\n",
      "2/2 [==============================] - 0s 32ms/step - loss: 3.2743e-04 - val_loss: 0.0121\n",
      "Epoch 43/100\n",
      "2/2 [==============================] - 0s 7ms/step - loss: 3.6762e-04 - val_loss: 0.0120\n",
      "Epoch 44/100\n",
      "2/2 [==============================] - 0s 7ms/step - loss: 3.9208e-04 - val_loss: 0.0119\n",
      "Epoch 45/100\n",
      "2/2 [==============================] - 0s 32ms/step - loss: 3.9819e-04 - val_loss: 0.0120\n",
      "Epoch 46/100\n",
      "2/2 [==============================] - 0s 7ms/step - loss: 3.8782e-04 - val_loss: 0.0121\n",
      "Epoch 47/100\n",
      "2/2 [==============================] - 0s 7ms/step - loss: 3.6551e-04 - val_loss: 0.0123\n",
      "Epoch 48/100\n",
      "2/2 [==============================] - 0s 33ms/step - loss: 3.3679e-04 - val_loss: 0.0125\n",
      "Epoch 49/100\n",
      "2/2 [==============================] - 0s 7ms/step - loss: 3.0692e-04 - val_loss: 0.0127\n",
      "Epoch 50/100\n",
      "2/2 [==============================] - 0s 7ms/step - loss: 2.8000e-04 - val_loss: 0.0130\n",
      "Epoch 51/100\n",
      "2/2 [==============================] - 0s 7ms/step - loss: 2.5857e-04 - val_loss: 0.0132\n",
      "Epoch 52/100\n",
      "2/2 [==============================] - 0s 7ms/step - loss: 2.4362e-04 - val_loss: 0.0134\n",
      "Epoch 53/100\n",
      "2/2 [==============================] - 0s 8ms/step - loss: 2.3486e-04 - val_loss: 0.0137\n",
      "Epoch 54/100\n",
      "2/2 [==============================] - 0s 9ms/step - loss: 2.3111e-04 - val_loss: 0.0138\n",
      "Epoch 55/100\n",
      "2/2 [==============================] - 0s 9ms/step - loss: 2.3078e-04 - val_loss: 0.0140\n",
      "Epoch 56/100\n",
      "2/2 [==============================] - 0s 32ms/step - loss: 2.3228e-04 - val_loss: 0.0141\n",
      "Epoch 57/100\n",
      "2/2 [==============================] - 0s 7ms/step - loss: 2.3425e-04 - val_loss: 0.0141\n",
      "Epoch 58/100\n",
      "2/2 [==============================] - 0s 7ms/step - loss: 2.3580e-04 - val_loss: 0.0141\n",
      "Epoch 59/100\n",
      "2/2 [==============================] - 0s 34ms/step - loss: 2.3646e-04 - val_loss: 0.0141\n",
      "Epoch 60/100\n",
      "2/2 [==============================] - 0s 7ms/step - loss: 2.3614e-04 - val_loss: 0.0141\n",
      "Epoch 61/100\n",
      "2/2 [==============================] - 0s 7ms/step - loss: 2.3505e-04 - val_loss: 0.0140\n",
      "Epoch 62/100\n",
      "2/2 [==============================] - 0s 8ms/step - loss: 2.3350e-04 - val_loss: 0.0140\n",
      "Epoch 63/100\n",
      "2/2 [==============================] - 0s 8ms/step - loss: 2.3185e-04 - val_loss: 0.0139\n",
      "Epoch 64/100\n",
      "2/2 [==============================] - 0s 37ms/step - loss: 2.3036e-04 - val_loss: 0.0138\n",
      "Epoch 65/100\n",
      "2/2 [==============================] - 0s 7ms/step - loss: 2.2921e-04 - val_loss: 0.0137\n",
      "Epoch 66/100\n",
      "2/2 [==============================] - 0s 7ms/step - loss: 2.2846e-04 - val_loss: 0.0137\n",
      "Epoch 67/100\n",
      "2/2 [==============================] - 0s 7ms/step - loss: 2.2807e-04 - val_loss: 0.0136\n",
      "Epoch 68/100\n",
      "2/2 [==============================] - 0s 7ms/step - loss: 2.2795e-04 - val_loss: 0.0135\n",
      "Epoch 69/100\n",
      "2/2 [==============================] - 0s 7ms/step - loss: 2.2798e-04 - val_loss: 0.0135\n",
      "Epoch 70/100\n",
      "2/2 [==============================] - 0s 7ms/step - loss: 2.2805e-04 - val_loss: 0.0135\n",
      "Epoch 71/100\n",
      "2/2 [==============================] - 0s 7ms/step - loss: 2.2808e-04 - val_loss: 0.0135\n",
      "Epoch 72/100\n",
      "2/2 [==============================] - 0s 33ms/step - loss: 2.2802e-04 - val_loss: 0.0134\n",
      "Epoch 73/100\n",
      "2/2 [==============================] - 0s 7ms/step - loss: 2.2786e-04 - val_loss: 0.0134\n",
      "Epoch 74/100\n",
      "2/2 [==============================] - 0s 7ms/step - loss: 2.2761e-04 - val_loss: 0.0134\n",
      "Epoch 75/100\n",
      "2/2 [==============================] - 0s 35ms/step - loss: 2.2729e-04 - val_loss: 0.0134\n",
      "Epoch 76/100\n",
      "2/2 [==============================] - 0s 7ms/step - loss: 2.2695e-04 - val_loss: 0.0134\n",
      "Epoch 77/100\n",
      "2/2 [==============================] - 0s 7ms/step - loss: 2.2661e-04 - val_loss: 0.0135\n",
      "Epoch 78/100\n",
      "2/2 [==============================] - 0s 32ms/step - loss: 2.2628e-04 - val_loss: 0.0135\n",
      "Epoch 79/100\n",
      "2/2 [==============================] - 0s 8ms/step - loss: 2.2599e-04 - val_loss: 0.0135\n",
      "Epoch 80/100\n",
      "2/2 [==============================] - 0s 8ms/step - loss: 2.2573e-04 - val_loss: 0.0135\n",
      "Epoch 81/100\n",
      "2/2 [==============================] - 0s 31ms/step - loss: 2.2549e-04 - val_loss: 0.0135\n",
      "Epoch 82/100\n",
      "2/2 [==============================] - 0s 7ms/step - loss: 2.2527e-04 - val_loss: 0.0135\n",
      "Epoch 83/100\n",
      "2/2 [==============================] - 0s 7ms/step - loss: 2.2506e-04 - val_loss: 0.0135\n",
      "Epoch 84/100\n",
      "2/2 [==============================] - 0s 7ms/step - loss: 2.2486e-04 - val_loss: 0.0135\n",
      "Epoch 85/100\n",
      "2/2 [==============================] - 0s 7ms/step - loss: 2.2466e-04 - val_loss: 0.0134\n",
      "Epoch 86/100\n",
      "2/2 [==============================] - 0s 33ms/step - loss: 2.2445e-04 - val_loss: 0.0134\n",
      "Epoch 87/100\n",
      "2/2 [==============================] - 0s 7ms/step - loss: 2.2425e-04 - val_loss: 0.0134\n",
      "Epoch 88/100\n",
      "2/2 [==============================] - 0s 7ms/step - loss: 2.2404e-04 - val_loss: 0.0134\n",
      "Epoch 89/100\n",
      "2/2 [==============================] - 0s 33ms/step - loss: 2.2384e-04 - val_loss: 0.0134\n",
      "Epoch 90/100\n",
      "2/2 [==============================] - 0s 7ms/step - loss: 2.2363e-04 - val_loss: 0.0134\n",
      "Epoch 91/100\n",
      "2/2 [==============================] - 0s 7ms/step - loss: 2.2343e-04 - val_loss: 0.0134\n",
      "Epoch 92/100\n",
      "2/2 [==============================] - 0s 33ms/step - loss: 2.2323e-04 - val_loss: 0.0133\n",
      "Epoch 93/100\n",
      "2/2 [==============================] - 0s 7ms/step - loss: 2.2303e-04 - val_loss: 0.0133\n",
      "Epoch 94/100\n",
      "2/2 [==============================] - 0s 8ms/step - loss: 2.2283e-04 - val_loss: 0.0133\n",
      "Epoch 95/100\n",
      "2/2 [==============================] - 0s 31ms/step - loss: 2.2262e-04 - val_loss: 0.0133\n",
      "Epoch 96/100\n",
      "2/2 [==============================] - 0s 8ms/step - loss: 2.2241e-04 - val_loss: 0.0133\n",
      "Epoch 97/100\n",
      "2/2 [==============================] - 0s 7ms/step - loss: 2.2220e-04 - val_loss: 0.0133\n",
      "Epoch 98/100\n",
      "2/2 [==============================] - 0s 33ms/step - loss: 2.2199e-04 - val_loss: 0.0133\n",
      "Epoch 99/100\n",
      "2/2 [==============================] - 0s 7ms/step - loss: 2.2177e-04 - val_loss: 0.0133\n",
      "Epoch 100/100\n",
      "2/2 [==============================] - 0s 7ms/step - loss: 2.2156e-04 - val_loss: 0.0132\n"
     ]
    }
   ],
   "source": [
    "history = model.fit(train_X, train_y, epochs=100, \n",
    "                    batch_size=72, validation_data=(test_X, test_y), \n",
    "                    verbose=1, shuffle=False)"
   ]
  },
  {
   "cell_type": "markdown",
   "metadata": {},
   "source": [
    "## Plot Loss Curve"
   ]
  },
  {
   "cell_type": "code",
   "execution_count": 37,
   "metadata": {
    "scrolled": true
   },
   "outputs": [
    {
     "name": "stdout",
     "output_type": "stream",
     "text": [
      "Populating the interactive namespace from numpy and matplotlib\n"
     ]
    },
    {
     "name": "stderr",
     "output_type": "stream",
     "text": [
      "/opt/conda/lib/python3.6/site-packages/IPython/core/magics/pylab.py:160: UserWarning: pylab import has clobbered these variables: ['test']\n",
      "`%matplotlib` prevents importing * from pylab and numpy\n",
      "  \"\\n`%matplotlib` prevents importing * from pylab and numpy\"\n"
     ]
    },
    {
     "data": {
      "image/png": "[encoded data removed]",
      "text/plain": [
       "<Figure size 432x288 with 1 Axes>"
      ]
     },
     "metadata": {
      "needs_background": "light"
     },
     "output_type": "display_data"
    }
   ],
   "source": [
    "%pylab inline\n",
    "from matplotlib import pyplot\n",
    "pyplot.plot(history.history['loss'], label='train')\n",
    "pyplot.plot(history.history['val_loss'], label='test')\n",
    "pyplot.legend()\n",
    "pyplot.show()"
   ]
  },
  {
   "cell_type": "markdown",
   "metadata": {},
   "source": [
    "## Model Predict"
   ]
  },
  {
   "cell_type": "code",
   "execution_count": 38,
   "metadata": {},
   "outputs": [
    {
     "data": {
      "text/plain": [
       "((69, 1), (69, 18))"
      ]
     },
     "execution_count": 38,
     "metadata": {},
     "output_type": "execute_result"
    }
   ],
   "source": [
    "yhat = model.predict(test_X)\n",
    "test_X = test_X.reshape((test_X.shape[0], test_X.shape[2]))\n",
    "yhat.shape, test_X.shape"
   ]
  },
  {
   "cell_type": "markdown",
   "metadata": {},
   "source": [
    "## Invert scaling for forecast"
   ]
  },
  {
   "cell_type": "code",
   "execution_count": 39,
   "metadata": {},
   "outputs": [
    {
     "data": {
      "text/plain": [
       "array([[0.86768039, 0.25057782, 0.95356064, ..., 0.01176902, 0.01563077,\n",
       "        0.87319765],\n",
       "       [0.87327075, 0.25057782, 0.94617421, ..., 0.01020416, 0.01464226,\n",
       "        0.88136086],\n",
       "       [0.88144384, 0.22664852, 0.94063456, ..., 0.01294266, 0.01643394,\n",
       "        0.86877677],\n",
       "       ...,\n",
       "       [0.84287171, 0.31067299, 0.92272189, ..., 0.03802207, 0.03951375,\n",
       "        0.80100099],\n",
       "       [0.80150195, 0.3763426 , 0.92639347, ..., 0.03310363, 0.03500796,\n",
       "        0.82919157],\n",
       "       [0.82979833, 0.33011553, 0.90987099, ..., 0.04180049, 0.04247646,\n",
       "        0.78498109]])"
      ]
     },
     "execution_count": 39,
     "metadata": {},
     "output_type": "execute_result"
    }
   ],
   "source": [
    "pred = {'vfx': 0}\n",
    "pred,pred['vfx']\n",
    "test_X"
   ]
  },
  {
   "cell_type": "code",
   "execution_count": 40,
   "metadata": {},
   "outputs": [
    {
     "data": {
      "text/plain": [
       "(69, 18)"
      ]
     },
     "execution_count": 40,
     "metadata": {},
     "output_type": "execute_result"
    }
   ],
   "source": [
    "inv_yhat = concatenate((yhat, numpy.delete(test_X, pred['vfx'], axis=1)), axis=1)\n",
    "inv_yhat.shape"
   ]
  },
  {
   "cell_type": "code",
   "execution_count": 41,
   "metadata": {},
   "outputs": [
    {
     "data": {
      "text/plain": [
       "(69,)"
      ]
     },
     "execution_count": 41,
     "metadata": {},
     "output_type": "execute_result"
    }
   ],
   "source": [
    "scaler = MinMaxScaler(feature_range=(0, 1)).fit(inv_yhat)\n",
    "inv_yhat = scaler.inverse_transform(inv_yhat)\n",
    "inv_yhat = inv_yhat[:,0]\n",
    "inv_yhat.shape\n"
   ]
  },
  {
   "cell_type": "markdown",
   "metadata": {},
   "source": [
    "## Invert scaling for actual"
   ]
  },
  {
   "cell_type": "code",
   "execution_count": 42,
   "metadata": {},
   "outputs": [
    {
     "data": {
      "text/plain": [
       "(69,)"
      ]
     },
     "execution_count": 42,
     "metadata": {},
     "output_type": "execute_result"
    }
   ],
   "source": [
    "real = test_y.reshape((len(test_y), 1))\n",
    "inv_y = concatenate((real, numpy.delete(test_X, pred['vfx'], axis=1)), axis=1)\n",
    "inv_y = scaler.inverse_transform(inv_y)\n",
    "inv_y = inv_y[:,0]\n",
    "inv_y.shape"
   ]
  },
  {
   "cell_type": "markdown",
   "metadata": {},
   "source": [
    "## RMSE"
   ]
  },
  {
   "cell_type": "code",
   "execution_count": 43,
   "metadata": {},
   "outputs": [
    {
     "name": "stdout",
     "output_type": "stream",
     "text": [
      "Test RMSE: 0.027\n"
     ]
    }
   ],
   "source": [
    "from sklearn.metrics import mean_squared_error\n",
    "rmse = sqrt(mean_squared_error(inv_y, inv_yhat))\n",
    "print('Test RMSE: %.3f' % rmse)"
   ]
  },
  {
   "cell_type": "code",
   "execution_count": 44,
   "metadata": {},
   "outputs": [
    {
     "data": {
      "text/plain": [
       "(array([0.94416506, 0.94547539, 0.94739783, 0.94443427, 0.93815373,\n",
       "        0.93891059, 0.93565188, 0.93371478, 0.93282481, 0.93166713,\n",
       "        0.93213185, 0.92871636, 0.92591975, 0.92534711, 0.92710786,\n",
       "        0.92332503, 0.92568437, 0.91872628, 0.91784234, 0.9237202 ,\n",
       "        0.92367845, 0.91990314, 0.91730993, 0.91882931, 0.91685687,\n",
       "        0.91593229, 0.92217939, 0.9242496 , 0.91840069, 0.91955723,\n",
       "        0.9163504 , 0.91335714, 0.91345527, 0.9086347 , 0.91527319,\n",
       "        0.91921733, 0.9134534 , 0.91220999, 0.91700651, 0.91050375,\n",
       "        0.91266156, 0.90957881, 0.90258426, 0.90290949, 0.88948625,\n",
       "        0.89239304, 0.88803794, 0.89678198, 0.89998504, 0.89342512,\n",
       "        0.9002144 , 0.88836542, 0.88620159, 0.87009792, 0.87527117,\n",
       "        0.88324367, 0.88236573, 0.89240657, 0.88144231, 0.90631898,\n",
       "        0.88861433, 0.90853393, 0.91930042, 0.90890918, 0.92616939,\n",
       "        0.93010903, 0.93818418, 0.92847309, 0.93511197]),\n",
       " array([0.93825155, 0.93717008, 0.93531081, 0.93344405, 0.93339256,\n",
       "        0.93446175, 0.93497877, 0.93437028, 0.93324057, 0.93275029,\n",
       "        0.93221178, 0.93088   , 0.9306746 , 0.93000471, 0.92986882,\n",
       "        0.92913867, 0.9286897 , 0.92865095, 0.92920915, 0.92694713,\n",
       "        0.92843936, 0.92858834, 0.92840186, 0.92969158, 0.93064735,\n",
       "        0.93110314, 0.93084359, 0.92988926, 0.92821612, 0.92827686,\n",
       "        0.93056032, 0.93148312, 0.93206658, 0.93286625, 0.93169624,\n",
       "        0.93055238, 0.92999997, 0.92909257, 0.92844707, 0.92836779,\n",
       "        0.92833743, 0.92716589, 0.92612719, 0.92252986, 0.92250114,\n",
       "        0.92589038, 0.92743869, 0.93195281, 0.93541171, 0.93560644,\n",
       "        0.93288577, 0.92673343, 0.91720048, 0.91406909, 0.92181084,\n",
       "        0.92765196, 0.93542042, 0.94142282, 0.94268416, 0.94663494,\n",
       "        0.94694568, 0.95623231, 0.95740902, 0.95991412, 0.96767963,\n",
       "        0.96952927, 0.96841313, 0.9668201 , 0.96577725]))"
      ]
     },
     "execution_count": 44,
     "metadata": {},
     "output_type": "execute_result"
    }
   ],
   "source": [
    "#inv_y = np.cumprod(inv_y+1)\n",
    "#inv_yhat = np.cumprod(inv_yhat+1)\n",
    "inv_y,inv_yhat"
   ]
  },
  {
   "cell_type": "markdown",
   "metadata": {},
   "source": [
    "## Predict vs Real"
   ]
  },
  {
   "cell_type": "code",
   "execution_count": 45,
   "metadata": {},
   "outputs": [
    {
     "data": {
      "image/png": "[encoded data removed]",
      "text/plain": [
       "<Figure size 432x288 with 1 Axes>"
      ]
     },
     "metadata": {
      "needs_background": "light"
     },
     "output_type": "display_data"
    }
   ],
   "source": [
    "import matplotlib.pyplot as plt\n",
    "plt.figure()\n",
    "plt.plot(inv_y, color = 'red', label = 'Real')\n",
    "plt.plot(inv_yhat, color = 'blue', label = 'Predict')\n",
    "plt.title('Real vs Predict')\n",
    "plt.xlabel('Time')\n",
    "plt.ylabel('Price')\n",
    "plt.legend()\n",
    "plt.show()"
   ]
  },
  {
   "cell_type": "markdown",
   "metadata": {},
   "source": [
    "## CNN Data Split (same with LSTM)"
   ]
  },
  {
   "cell_type": "code",
   "execution_count": 46,
   "metadata": {},
   "outputs": [
    {
     "data": {
      "text/plain": [
       "((100, 18), (100,), (69, 18), (69,))"
      ]
     },
     "execution_count": 46,
     "metadata": {},
     "output_type": "execute_result"
    }
   ],
   "source": [
    "train = reframed.values[:100,:]\n",
    "test = reframed.values[100:169,:]\n",
    "train_X, train_y = train[:, :-1], train[:, -1]\n",
    "test_X , test_y  = test[:, :-1], test[:, -1]\n",
    "train_X.shape, train_y.shape, test_X.shape, test_y.shape"
   ]
  },
  {
   "cell_type": "markdown",
   "metadata": {},
   "source": [
    "## CNN Data Split"
   ]
  },
  {
   "cell_type": "code",
   "execution_count": 47,
   "metadata": {},
   "outputs": [
    {
     "name": "stdout",
     "output_type": "stream",
     "text": [
      "Model: \"sequential_1\"\n",
      "_________________________________________________________________\n",
      "Layer (type)                 Output Shape              Param #   \n",
      "=================================================================\n",
      "dense_1 (Dense)              (None, 5)                 45        \n",
      "_________________________________________________________________\n",
      "dense_2 (Dense)              (None, 5)                 30        \n",
      "_________________________________________________________________\n",
      "dense_3 (Dense)              (None, 1)                 6         \n",
      "=================================================================\n",
      "Total params: 81\n",
      "Trainable params: 81\n",
      "Non-trainable params: 0\n",
      "_________________________________________________________________\n"
     ]
    }
   ],
   "source": [
    "from keras.layers import Activation, Dense\n",
    "model = keras.Sequential()\n",
    "model.add(Dense(5, activation='relu', input_shape=(8,)))\n",
    "model.add(Dense(5, activation='relu'))\n",
    "model.add(Dense(1,  activation='sigmoid'))\n",
    "model.compile(loss='mse',\n",
    "              optimizer='adam',\n",
    "              metrics=['mae','mse'])\n",
    "model.summary()"
   ]
  },
  {
   "cell_type": "markdown",
   "metadata": {},
   "source": [
    "## Training"
   ]
  },
  {
   "cell_type": "code",
   "execution_count": 48,
   "metadata": {},
   "outputs": [
    {
     "name": "stdout",
     "output_type": "stream",
     "text": [
      "Epoch 1/100\n"
     ]
    },
    {
     "ename": "ValueError",
     "evalue": "in user code:\n\n    /opt/conda/lib/python3.6/site-packages/tensorflow/python/keras/engine/training.py:806 train_function  *\n        return step_function(self, iterator)\n    /opt/conda/lib/python3.6/site-packages/tensorflow/python/keras/engine/training.py:796 step_function  **\n        outputs = model.distribute_strategy.run(run_step, args=(data,))\n    /opt/conda/lib/python3.6/site-packages/tensorflow/python/distribute/distribute_lib.py:1211 run\n        return self._extended.call_for_each_replica(fn, args=args, kwargs=kwargs)\n    /opt/conda/lib/python3.6/site-packages/tensorflow/python/distribute/distribute_lib.py:2585 call_for_each_replica\n        return self._call_for_each_replica(fn, args, kwargs)\n    /opt/conda/lib/python3.6/site-packages/tensorflow/python/distribute/distribute_lib.py:2945 _call_for_each_replica\n        return fn(*args, **kwargs)\n    /opt/conda/lib/python3.6/site-packages/tensorflow/python/keras/engine/training.py:789 run_step  **\n        outputs = model.train_step(data)\n    /opt/conda/lib/python3.6/site-packages/tensorflow/python/keras/engine/training.py:747 train_step\n        y_pred = self(x, training=True)\n    /opt/conda/lib/python3.6/site-packages/tensorflow/python/keras/engine/base_layer.py:976 __call__\n        self.name)\n    /opt/conda/lib/python3.6/site-packages/tensorflow/python/keras/engine/input_spec.py:216 assert_input_compatibility\n        ' but received input with shape ' + str(shape))\n\n    ValueError: Input 0 of layer sequential_1 is incompatible with the layer: expected axis -1 of input shape to have value 8 but received input with shape [None, 18]\n",
     "output_type": "error",
     "traceback": [
      "\u001b[0;31m---------------------------------------------------------------------------\u001b[0m",
      "\u001b[0;31mValueError\u001b[0m                                Traceback (most recent call last)",
      "\u001b[0;32m<ipython-input-48-6b4e5bcc3a1a>\u001b[0m in \u001b[0;36m<module>\u001b[0;34m\u001b[0m\n\u001b[1;32m      1\u001b[0m history = model.fit(train_X, train_y, epochs=100, \n\u001b[1;32m      2\u001b[0m                     \u001b[0mbatch_size\u001b[0m\u001b[0;34m=\u001b[0m\u001b[0;36m72\u001b[0m\u001b[0;34m,\u001b[0m \u001b[0mvalidation_data\u001b[0m\u001b[0;34m=\u001b[0m\u001b[0;34m(\u001b[0m\u001b[0mtest_X\u001b[0m\u001b[0;34m,\u001b[0m \u001b[0mtest_y\u001b[0m\u001b[0;34m)\u001b[0m\u001b[0;34m,\u001b[0m\u001b[0;34m\u001b[0m\u001b[0;34m\u001b[0m\u001b[0m\n\u001b[0;32m----> 3\u001b[0;31m                     verbose=1, shuffle=False)\n\u001b[0m",
      "\u001b[0;32m/opt/conda/lib/python3.6/site-packages/tensorflow/python/keras/engine/training.py\u001b[0m in \u001b[0;36m_method_wrapper\u001b[0;34m(self, *args, **kwargs)\u001b[0m\n\u001b[1;32m    106\u001b[0m   \u001b[0;32mdef\u001b[0m \u001b[0m_method_wrapper\u001b[0m\u001b[0;34m(\u001b[0m\u001b[0mself\u001b[0m\u001b[0;34m,\u001b[0m \u001b[0;34m*\u001b[0m\u001b[0margs\u001b[0m\u001b[0;34m,\u001b[0m \u001b[0;34m**\u001b[0m\u001b[0mkwargs\u001b[0m\u001b[0;34m)\u001b[0m\u001b[0;34m:\u001b[0m\u001b[0;34m\u001b[0m\u001b[0;34m\u001b[0m\u001b[0m\n\u001b[1;32m    107\u001b[0m     \u001b[0;32mif\u001b[0m \u001b[0;32mnot\u001b[0m \u001b[0mself\u001b[0m\u001b[0;34m.\u001b[0m\u001b[0m_in_multi_worker_mode\u001b[0m\u001b[0;34m(\u001b[0m\u001b[0;34m)\u001b[0m\u001b[0;34m:\u001b[0m  \u001b[0;31m# pylint: disable=protected-access\u001b[0m\u001b[0;34m\u001b[0m\u001b[0;34m\u001b[0m\u001b[0m\n\u001b[0;32m--> 108\u001b[0;31m       \u001b[0;32mreturn\u001b[0m \u001b[0mmethod\u001b[0m\u001b[0;34m(\u001b[0m\u001b[0mself\u001b[0m\u001b[0;34m,\u001b[0m \u001b[0;34m*\u001b[0m\u001b[0margs\u001b[0m\u001b[0;34m,\u001b[0m \u001b[0;34m**\u001b[0m\u001b[0mkwargs\u001b[0m\u001b[0;34m)\u001b[0m\u001b[0;34m\u001b[0m\u001b[0;34m\u001b[0m\u001b[0m\n\u001b[0m\u001b[1;32m    109\u001b[0m \u001b[0;34m\u001b[0m\u001b[0m\n\u001b[1;32m    110\u001b[0m     \u001b[0;31m# Running inside `run_distribute_coordinator` already.\u001b[0m\u001b[0;34m\u001b[0m\u001b[0;34m\u001b[0m\u001b[0;34m\u001b[0m\u001b[0m\n",
      "\u001b[0;32m/opt/conda/lib/python3.6/site-packages/tensorflow/python/keras/engine/training.py\u001b[0m in \u001b[0;36mfit\u001b[0;34m(self, x, y, batch_size, epochs, verbose, callbacks, validation_split, validation_data, shuffle, class_weight, sample_weight, initial_epoch, steps_per_epoch, validation_steps, validation_batch_size, validation_freq, max_queue_size, workers, use_multiprocessing)\u001b[0m\n\u001b[1;32m   1096\u001b[0m                 batch_size=batch_size):\n\u001b[1;32m   1097\u001b[0m               \u001b[0mcallbacks\u001b[0m\u001b[0;34m.\u001b[0m\u001b[0mon_train_batch_begin\u001b[0m\u001b[0;34m(\u001b[0m\u001b[0mstep\u001b[0m\u001b[0;34m)\u001b[0m\u001b[0;34m\u001b[0m\u001b[0;34m\u001b[0m\u001b[0m\n\u001b[0;32m-> 1098\u001b[0;31m               \u001b[0mtmp_logs\u001b[0m \u001b[0;34m=\u001b[0m \u001b[0mtrain_function\u001b[0m\u001b[0;34m(\u001b[0m\u001b[0miterator\u001b[0m\u001b[0;34m)\u001b[0m\u001b[0;34m\u001b[0m\u001b[0;34m\u001b[0m\u001b[0m\n\u001b[0m\u001b[1;32m   1099\u001b[0m               \u001b[0;32mif\u001b[0m \u001b[0mdata_handler\u001b[0m\u001b[0;34m.\u001b[0m\u001b[0mshould_sync\u001b[0m\u001b[0;34m:\u001b[0m\u001b[0;34m\u001b[0m\u001b[0;34m\u001b[0m\u001b[0m\n\u001b[1;32m   1100\u001b[0m                 \u001b[0mcontext\u001b[0m\u001b[0;34m.\u001b[0m\u001b[0masync_wait\u001b[0m\u001b[0;34m(\u001b[0m\u001b[0;34m)\u001b[0m\u001b[0;34m\u001b[0m\u001b[0;34m\u001b[0m\u001b[0m\n",
      "\u001b[0;32m/opt/conda/lib/python3.6/site-packages/tensorflow/python/eager/def_function.py\u001b[0m in \u001b[0;36m__call__\u001b[0;34m(self, *args, **kwds)\u001b[0m\n\u001b[1;32m    778\u001b[0m       \u001b[0;32melse\u001b[0m\u001b[0;34m:\u001b[0m\u001b[0;34m\u001b[0m\u001b[0;34m\u001b[0m\u001b[0m\n\u001b[1;32m    779\u001b[0m         \u001b[0mcompiler\u001b[0m \u001b[0;34m=\u001b[0m \u001b[0;34m\"nonXla\"\u001b[0m\u001b[0;34m\u001b[0m\u001b[0;34m\u001b[0m\u001b[0m\n\u001b[0;32m--> 780\u001b[0;31m         \u001b[0mresult\u001b[0m \u001b[0;34m=\u001b[0m \u001b[0mself\u001b[0m\u001b[0;34m.\u001b[0m\u001b[0m_call\u001b[0m\u001b[0;34m(\u001b[0m\u001b[0;34m*\u001b[0m\u001b[0margs\u001b[0m\u001b[0;34m,\u001b[0m \u001b[0;34m**\u001b[0m\u001b[0mkwds\u001b[0m\u001b[0;34m)\u001b[0m\u001b[0;34m\u001b[0m\u001b[0;34m\u001b[0m\u001b[0m\n\u001b[0m\u001b[1;32m    781\u001b[0m \u001b[0;34m\u001b[0m\u001b[0m\n\u001b[1;32m    782\u001b[0m       \u001b[0mnew_tracing_count\u001b[0m \u001b[0;34m=\u001b[0m \u001b[0mself\u001b[0m\u001b[0;34m.\u001b[0m\u001b[0m_get_tracing_count\u001b[0m\u001b[0;34m(\u001b[0m\u001b[0;34m)\u001b[0m\u001b[0;34m\u001b[0m\u001b[0;34m\u001b[0m\u001b[0m\n",
      "\u001b[0;32m/opt/conda/lib/python3.6/site-packages/tensorflow/python/eager/def_function.py\u001b[0m in \u001b[0;36m_call\u001b[0;34m(self, *args, **kwds)\u001b[0m\n\u001b[1;32m    821\u001b[0m       \u001b[0;31m# This is the first call of __call__, so we have to initialize.\u001b[0m\u001b[0;34m\u001b[0m\u001b[0;34m\u001b[0m\u001b[0;34m\u001b[0m\u001b[0m\n\u001b[1;32m    822\u001b[0m       \u001b[0minitializers\u001b[0m \u001b[0;34m=\u001b[0m \u001b[0;34m[\u001b[0m\u001b[0;34m]\u001b[0m\u001b[0;34m\u001b[0m\u001b[0;34m\u001b[0m\u001b[0m\n\u001b[0;32m--> 823\u001b[0;31m       \u001b[0mself\u001b[0m\u001b[0;34m.\u001b[0m\u001b[0m_initialize\u001b[0m\u001b[0;34m(\u001b[0m\u001b[0margs\u001b[0m\u001b[0;34m,\u001b[0m \u001b[0mkwds\u001b[0m\u001b[0;34m,\u001b[0m \u001b[0madd_initializers_to\u001b[0m\u001b[0;34m=\u001b[0m\u001b[0minitializers\u001b[0m\u001b[0;34m)\u001b[0m\u001b[0;34m\u001b[0m\u001b[0;34m\u001b[0m\u001b[0m\n\u001b[0m\u001b[1;32m    824\u001b[0m     \u001b[0;32mfinally\u001b[0m\u001b[0;34m:\u001b[0m\u001b[0;34m\u001b[0m\u001b[0;34m\u001b[0m\u001b[0m\n\u001b[1;32m    825\u001b[0m       \u001b[0;31m# At this point we know that the initialization is complete (or less\u001b[0m\u001b[0;34m\u001b[0m\u001b[0;34m\u001b[0m\u001b[0;34m\u001b[0m\u001b[0m\n",
      "\u001b[0;32m/opt/conda/lib/python3.6/site-packages/tensorflow/python/eager/def_function.py\u001b[0m in \u001b[0;36m_initialize\u001b[0;34m(self, args, kwds, add_initializers_to)\u001b[0m\n\u001b[1;32m    695\u001b[0m     self._concrete_stateful_fn = (\n\u001b[1;32m    696\u001b[0m         self._stateful_fn._get_concrete_function_internal_garbage_collected(  # pylint: disable=protected-access\n\u001b[0;32m--> 697\u001b[0;31m             *args, **kwds))\n\u001b[0m\u001b[1;32m    698\u001b[0m \u001b[0;34m\u001b[0m\u001b[0m\n\u001b[1;32m    699\u001b[0m     \u001b[0;32mdef\u001b[0m \u001b[0minvalid_creator_scope\u001b[0m\u001b[0;34m(\u001b[0m\u001b[0;34m*\u001b[0m\u001b[0munused_args\u001b[0m\u001b[0;34m,\u001b[0m \u001b[0;34m**\u001b[0m\u001b[0munused_kwds\u001b[0m\u001b[0;34m)\u001b[0m\u001b[0;34m:\u001b[0m\u001b[0;34m\u001b[0m\u001b[0;34m\u001b[0m\u001b[0m\n",
      "\u001b[0;32m/opt/conda/lib/python3.6/site-packages/tensorflow/python/eager/function.py\u001b[0m in \u001b[0;36m_get_concrete_function_internal_garbage_collected\u001b[0;34m(self, *args, **kwargs)\u001b[0m\n\u001b[1;32m   2853\u001b[0m       \u001b[0margs\u001b[0m\u001b[0;34m,\u001b[0m \u001b[0mkwargs\u001b[0m \u001b[0;34m=\u001b[0m \u001b[0;32mNone\u001b[0m\u001b[0;34m,\u001b[0m \u001b[0;32mNone\u001b[0m\u001b[0;34m\u001b[0m\u001b[0;34m\u001b[0m\u001b[0m\n\u001b[1;32m   2854\u001b[0m     \u001b[0;32mwith\u001b[0m \u001b[0mself\u001b[0m\u001b[0;34m.\u001b[0m\u001b[0m_lock\u001b[0m\u001b[0;34m:\u001b[0m\u001b[0;34m\u001b[0m\u001b[0;34m\u001b[0m\u001b[0m\n\u001b[0;32m-> 2855\u001b[0;31m       \u001b[0mgraph_function\u001b[0m\u001b[0;34m,\u001b[0m \u001b[0m_\u001b[0m\u001b[0;34m,\u001b[0m \u001b[0m_\u001b[0m \u001b[0;34m=\u001b[0m \u001b[0mself\u001b[0m\u001b[0;34m.\u001b[0m\u001b[0m_maybe_define_function\u001b[0m\u001b[0;34m(\u001b[0m\u001b[0margs\u001b[0m\u001b[0;34m,\u001b[0m \u001b[0mkwargs\u001b[0m\u001b[0;34m)\u001b[0m\u001b[0;34m\u001b[0m\u001b[0;34m\u001b[0m\u001b[0m\n\u001b[0m\u001b[1;32m   2856\u001b[0m     \u001b[0;32mreturn\u001b[0m \u001b[0mgraph_function\u001b[0m\u001b[0;34m\u001b[0m\u001b[0;34m\u001b[0m\u001b[0m\n\u001b[1;32m   2857\u001b[0m \u001b[0;34m\u001b[0m\u001b[0m\n",
      "\u001b[0;32m/opt/conda/lib/python3.6/site-packages/tensorflow/python/eager/function.py\u001b[0m in \u001b[0;36m_maybe_define_function\u001b[0;34m(self, args, kwargs)\u001b[0m\n\u001b[1;32m   3211\u001b[0m \u001b[0;34m\u001b[0m\u001b[0m\n\u001b[1;32m   3212\u001b[0m       \u001b[0mself\u001b[0m\u001b[0;34m.\u001b[0m\u001b[0m_function_cache\u001b[0m\u001b[0;34m.\u001b[0m\u001b[0mmissed\u001b[0m\u001b[0;34m.\u001b[0m\u001b[0madd\u001b[0m\u001b[0;34m(\u001b[0m\u001b[0mcall_context_key\u001b[0m\u001b[0;34m)\u001b[0m\u001b[0;34m\u001b[0m\u001b[0;34m\u001b[0m\u001b[0m\n\u001b[0;32m-> 3213\u001b[0;31m       \u001b[0mgraph_function\u001b[0m \u001b[0;34m=\u001b[0m \u001b[0mself\u001b[0m\u001b[0;34m.\u001b[0m\u001b[0m_create_graph_function\u001b[0m\u001b[0;34m(\u001b[0m\u001b[0margs\u001b[0m\u001b[0;34m,\u001b[0m \u001b[0mkwargs\u001b[0m\u001b[0;34m)\u001b[0m\u001b[0;34m\u001b[0m\u001b[0;34m\u001b[0m\u001b[0m\n\u001b[0m\u001b[1;32m   3214\u001b[0m       \u001b[0mself\u001b[0m\u001b[0;34m.\u001b[0m\u001b[0m_function_cache\u001b[0m\u001b[0;34m.\u001b[0m\u001b[0mprimary\u001b[0m\u001b[0;34m[\u001b[0m\u001b[0mcache_key\u001b[0m\u001b[0;34m]\u001b[0m \u001b[0;34m=\u001b[0m \u001b[0mgraph_function\u001b[0m\u001b[0;34m\u001b[0m\u001b[0;34m\u001b[0m\u001b[0m\n\u001b[1;32m   3215\u001b[0m       \u001b[0;32mreturn\u001b[0m \u001b[0mgraph_function\u001b[0m\u001b[0;34m,\u001b[0m \u001b[0margs\u001b[0m\u001b[0;34m,\u001b[0m \u001b[0mkwargs\u001b[0m\u001b[0;34m\u001b[0m\u001b[0;34m\u001b[0m\u001b[0m\n",
      "\u001b[0;32m/opt/conda/lib/python3.6/site-packages/tensorflow/python/eager/function.py\u001b[0m in \u001b[0;36m_create_graph_function\u001b[0;34m(self, args, kwargs, override_flat_arg_shapes)\u001b[0m\n\u001b[1;32m   3073\u001b[0m             \u001b[0marg_names\u001b[0m\u001b[0;34m=\u001b[0m\u001b[0marg_names\u001b[0m\u001b[0;34m,\u001b[0m\u001b[0;34m\u001b[0m\u001b[0;34m\u001b[0m\u001b[0m\n\u001b[1;32m   3074\u001b[0m             \u001b[0moverride_flat_arg_shapes\u001b[0m\u001b[0;34m=\u001b[0m\u001b[0moverride_flat_arg_shapes\u001b[0m\u001b[0;34m,\u001b[0m\u001b[0;34m\u001b[0m\u001b[0;34m\u001b[0m\u001b[0m\n\u001b[0;32m-> 3075\u001b[0;31m             capture_by_value=self._capture_by_value),\n\u001b[0m\u001b[1;32m   3076\u001b[0m         \u001b[0mself\u001b[0m\u001b[0;34m.\u001b[0m\u001b[0m_function_attributes\u001b[0m\u001b[0;34m,\u001b[0m\u001b[0;34m\u001b[0m\u001b[0;34m\u001b[0m\u001b[0m\n\u001b[1;32m   3077\u001b[0m         \u001b[0mfunction_spec\u001b[0m\u001b[0;34m=\u001b[0m\u001b[0mself\u001b[0m\u001b[0;34m.\u001b[0m\u001b[0mfunction_spec\u001b[0m\u001b[0;34m,\u001b[0m\u001b[0;34m\u001b[0m\u001b[0;34m\u001b[0m\u001b[0m\n",
      "\u001b[0;32m/opt/conda/lib/python3.6/site-packages/tensorflow/python/framework/func_graph.py\u001b[0m in \u001b[0;36mfunc_graph_from_py_func\u001b[0;34m(name, python_func, args, kwargs, signature, func_graph, autograph, autograph_options, add_control_dependencies, arg_names, op_return_value, collections, capture_by_value, override_flat_arg_shapes)\u001b[0m\n\u001b[1;32m    984\u001b[0m         \u001b[0m_\u001b[0m\u001b[0;34m,\u001b[0m \u001b[0moriginal_func\u001b[0m \u001b[0;34m=\u001b[0m \u001b[0mtf_decorator\u001b[0m\u001b[0;34m.\u001b[0m\u001b[0munwrap\u001b[0m\u001b[0;34m(\u001b[0m\u001b[0mpython_func\u001b[0m\u001b[0;34m)\u001b[0m\u001b[0;34m\u001b[0m\u001b[0;34m\u001b[0m\u001b[0m\n\u001b[1;32m    985\u001b[0m \u001b[0;34m\u001b[0m\u001b[0m\n\u001b[0;32m--> 986\u001b[0;31m       \u001b[0mfunc_outputs\u001b[0m \u001b[0;34m=\u001b[0m \u001b[0mpython_func\u001b[0m\u001b[0;34m(\u001b[0m\u001b[0;34m*\u001b[0m\u001b[0mfunc_args\u001b[0m\u001b[0;34m,\u001b[0m \u001b[0;34m**\u001b[0m\u001b[0mfunc_kwargs\u001b[0m\u001b[0;34m)\u001b[0m\u001b[0;34m\u001b[0m\u001b[0;34m\u001b[0m\u001b[0m\n\u001b[0m\u001b[1;32m    987\u001b[0m \u001b[0;34m\u001b[0m\u001b[0m\n\u001b[1;32m    988\u001b[0m       \u001b[0;31m# invariant: `func_outputs` contains only Tensors, CompositeTensors,\u001b[0m\u001b[0;34m\u001b[0m\u001b[0;34m\u001b[0m\u001b[0;34m\u001b[0m\u001b[0m\n",
      "\u001b[0;32m/opt/conda/lib/python3.6/site-packages/tensorflow/python/eager/def_function.py\u001b[0m in \u001b[0;36mwrapped_fn\u001b[0;34m(*args, **kwds)\u001b[0m\n\u001b[1;32m    598\u001b[0m         \u001b[0;31m# __wrapped__ allows AutoGraph to swap in a converted function. We give\u001b[0m\u001b[0;34m\u001b[0m\u001b[0;34m\u001b[0m\u001b[0;34m\u001b[0m\u001b[0m\n\u001b[1;32m    599\u001b[0m         \u001b[0;31m# the function a weak reference to itself to avoid a reference cycle.\u001b[0m\u001b[0;34m\u001b[0m\u001b[0;34m\u001b[0m\u001b[0;34m\u001b[0m\u001b[0m\n\u001b[0;32m--> 600\u001b[0;31m         \u001b[0;32mreturn\u001b[0m \u001b[0mweak_wrapped_fn\u001b[0m\u001b[0;34m(\u001b[0m\u001b[0;34m)\u001b[0m\u001b[0;34m.\u001b[0m\u001b[0m__wrapped__\u001b[0m\u001b[0;34m(\u001b[0m\u001b[0;34m*\u001b[0m\u001b[0margs\u001b[0m\u001b[0;34m,\u001b[0m \u001b[0;34m**\u001b[0m\u001b[0mkwds\u001b[0m\u001b[0;34m)\u001b[0m\u001b[0;34m\u001b[0m\u001b[0;34m\u001b[0m\u001b[0m\n\u001b[0m\u001b[1;32m    601\u001b[0m     \u001b[0mweak_wrapped_fn\u001b[0m \u001b[0;34m=\u001b[0m \u001b[0mweakref\u001b[0m\u001b[0;34m.\u001b[0m\u001b[0mref\u001b[0m\u001b[0;34m(\u001b[0m\u001b[0mwrapped_fn\u001b[0m\u001b[0;34m)\u001b[0m\u001b[0;34m\u001b[0m\u001b[0;34m\u001b[0m\u001b[0m\n\u001b[1;32m    602\u001b[0m \u001b[0;34m\u001b[0m\u001b[0m\n",
      "\u001b[0;32m/opt/conda/lib/python3.6/site-packages/tensorflow/python/framework/func_graph.py\u001b[0m in \u001b[0;36mwrapper\u001b[0;34m(*args, **kwargs)\u001b[0m\n\u001b[1;32m    971\u001b[0m           \u001b[0;32mexcept\u001b[0m \u001b[0mException\u001b[0m \u001b[0;32mas\u001b[0m \u001b[0me\u001b[0m\u001b[0;34m:\u001b[0m  \u001b[0;31m# pylint:disable=broad-except\u001b[0m\u001b[0;34m\u001b[0m\u001b[0;34m\u001b[0m\u001b[0m\n\u001b[1;32m    972\u001b[0m             \u001b[0;32mif\u001b[0m \u001b[0mhasattr\u001b[0m\u001b[0;34m(\u001b[0m\u001b[0me\u001b[0m\u001b[0;34m,\u001b[0m \u001b[0;34m\"ag_error_metadata\"\u001b[0m\u001b[0;34m)\u001b[0m\u001b[0;34m:\u001b[0m\u001b[0;34m\u001b[0m\u001b[0;34m\u001b[0m\u001b[0m\n\u001b[0;32m--> 973\u001b[0;31m               \u001b[0;32mraise\u001b[0m \u001b[0me\u001b[0m\u001b[0;34m.\u001b[0m\u001b[0mag_error_metadata\u001b[0m\u001b[0;34m.\u001b[0m\u001b[0mto_exception\u001b[0m\u001b[0;34m(\u001b[0m\u001b[0me\u001b[0m\u001b[0;34m)\u001b[0m\u001b[0;34m\u001b[0m\u001b[0;34m\u001b[0m\u001b[0m\n\u001b[0m\u001b[1;32m    974\u001b[0m             \u001b[0;32melse\u001b[0m\u001b[0;34m:\u001b[0m\u001b[0;34m\u001b[0m\u001b[0;34m\u001b[0m\u001b[0m\n\u001b[1;32m    975\u001b[0m               \u001b[0;32mraise\u001b[0m\u001b[0;34m\u001b[0m\u001b[0;34m\u001b[0m\u001b[0m\n",
      "\u001b[0;31mValueError\u001b[0m: in user code:\n\n    /opt/conda/lib/python3.6/site-packages/tensorflow/python/keras/engine/training.py:806 train_function  *\n        return step_function(self, iterator)\n    /opt/conda/lib/python3.6/site-packages/tensorflow/python/keras/engine/training.py:796 step_function  **\n        outputs = model.distribute_strategy.run(run_step, args=(data,))\n    /opt/conda/lib/python3.6/site-packages/tensorflow/python/distribute/distribute_lib.py:1211 run\n        return self._extended.call_for_each_replica(fn, args=args, kwargs=kwargs)\n    /opt/conda/lib/python3.6/site-packages/tensorflow/python/distribute/distribute_lib.py:2585 call_for_each_replica\n        return self._call_for_each_replica(fn, args, kwargs)\n    /opt/conda/lib/python3.6/site-packages/tensorflow/python/distribute/distribute_lib.py:2945 _call_for_each_replica\n        return fn(*args, **kwargs)\n    /opt/conda/lib/python3.6/site-packages/tensorflow/python/keras/engine/training.py:789 run_step  **\n        outputs = model.train_step(data)\n    /opt/conda/lib/python3.6/site-packages/tensorflow/python/keras/engine/training.py:747 train_step\n        y_pred = self(x, training=True)\n    /opt/conda/lib/python3.6/site-packages/tensorflow/python/keras/engine/base_layer.py:976 __call__\n        self.name)\n    /opt/conda/lib/python3.6/site-packages/tensorflow/python/keras/engine/input_spec.py:216 assert_input_compatibility\n        ' but received input with shape ' + str(shape))\n\n    ValueError: Input 0 of layer sequential_1 is incompatible with the layer: expected axis -1 of input shape to have value 8 but received input with shape [None, 18]\n"
     ]
    }
   ],
   "source": [
    "history = model.fit(train_X, train_y, epochs=100, \n",
    "                    batch_size=72, validation_data=(test_X, test_y), \n",
    "                    verbose=1, shuffle=False)"
   ]
  },
  {
   "cell_type": "markdown",
   "metadata": {},
   "source": [
    "## Plot Loss Curve"
   ]
  },
  {
   "cell_type": "code",
   "execution_count": null,
   "metadata": {},
   "outputs": [],
   "source": [
    "%pylab inline\n",
    "from matplotlib import pyplot\n",
    "pyplot.plot(history.history['loss'], label='train')\n",
    "pyplot.plot(history.history['val_loss'], label='test')\n",
    "pyplot.legend()\n",
    "pyplot.show()"
   ]
  },
  {
   "cell_type": "markdown",
   "metadata": {},
   "source": [
    "## Model Predict"
   ]
  },
  {
   "cell_type": "code",
   "execution_count": null,
   "metadata": {},
   "outputs": [],
   "source": [
    "yhat = model.predict(test_X)\n",
    "yhat.shape, test_X.shape"
   ]
  },
  {
   "cell_type": "code",
   "execution_count": null,
   "metadata": {},
   "outputs": [],
   "source": [
    "pred = {'VFINX': 0}\n",
    "inv_yhat = concatenate((yhat, numpy.delete(test_X, pred['VFINX'], axis=1)), axis=1)\n",
    "inv_yhat = scaler.inverse_transform(inv_yhat)\n",
    "inv_yhat = inv_yhat[:,0]\n",
    "inv_yhat.shape"
   ]
  },
  {
   "cell_type": "code",
   "execution_count": null,
   "metadata": {},
   "outputs": [],
   "source": [
    "real = test_y.reshape((len(test_y), 1))\n",
    "inv_y = concatenate((real, numpy.delete(test_X, pred['VFINX'], axis=1)), axis=1)\n",
    "inv_y = scaler.inverse_transform(inv_y)\n",
    "inv_y = inv_y[:,0]\n",
    "inv_y.shape"
   ]
  },
  {
   "cell_type": "code",
   "execution_count": null,
   "metadata": {},
   "outputs": [],
   "source": [
    "from sklearn.metrics import mean_squared_error\n",
    "rmse = sqrt(mean_squared_error(inv_y, inv_yhat))\n",
    "print('Test RMSE: %.3f' % rmse)"
   ]
  },
  {
   "cell_type": "code",
   "execution_count": null,
   "metadata": {},
   "outputs": [],
   "source": [
    "inv_y = np.cumprod(inv_y+1)\n",
    "inv_yhat = np.cumprod(inv_yhat+1)"
   ]
  },
  {
   "cell_type": "code",
   "execution_count": null,
   "metadata": {},
   "outputs": [],
   "source": [
    "import matplotlib.pyplot as plt\n",
    "plt.figure(figsize=(20,10))\n",
    "plt.plot(inv_y, color = 'red', label = 'Real')\n",
    "plt.plot(inv_yhat, color = 'blue', label = 'Predict')\n",
    "plt.title('Real vs Predict')\n",
    "plt.xlabel('Time')\n",
    "plt.ylabel('Price')\n",
    "plt.legend()\n",
    "plt.show()"
   ]
  },
  {
   "cell_type": "code",
   "execution_count": null,
   "metadata": {},
   "outputs": [],
   "source": []
  },
  {
   "cell_type": "markdown",
   "metadata": {},
   "source": [
    "## *** SVM Classification ***"
   ]
  },
  {
   "cell_type": "code",
   "execution_count": null,
   "metadata": {},
   "outputs": [],
   "source": [
    "folder=\"C:/Users/user/Desktop/NCCU_DB/DataBase\"\n",
    "data=read_csv(filename=\"FEAT_DATA\",folder=folder)\n",
    "data.head()"
   ]
  },
  {
   "cell_type": "markdown",
   "metadata": {},
   "source": [
    "## Data convert to Relative Change"
   ]
  },
  {
   "cell_type": "code",
   "execution_count": null,
   "metadata": {},
   "outputs": [],
   "source": [
    "import numpy\n",
    "y = data['VFINX']\n",
    "#x = data[['VBMFX','VIX.chg','VIX.ret','SPX_SMA','VFINX_SKW','VBMFX_SKW','VIX_SKW']]\n",
    "x = data[['VIX.ret','SPX_SMA']]\n",
    "x.head()"
   ]
  },
  {
   "cell_type": "markdown",
   "metadata": {},
   "source": [
    "## Y convert to Category"
   ]
  },
  {
   "cell_type": "code",
   "execution_count": null,
   "metadata": {},
   "outputs": [],
   "source": [
    "#y = (y-y.mean())/y.std()\n",
    "y = numpy.where(y>0, 1, 0)\n",
    "#y = numpy.where(y>1, 1, numpy.where(y<-1, -1, 0))"
   ]
  },
  {
   "cell_type": "code",
   "execution_count": null,
   "metadata": {},
   "outputs": [],
   "source": [
    "from sklearn.model_selection     import train_test_split\n",
    "x_train, x_test, y_train, y_test =  train_test_split(x,y, test_size = 0.33, random_state = 42 )"
   ]
  },
  {
   "cell_type": "markdown",
   "metadata": {},
   "source": [
    "## Standardize Function"
   ]
  },
  {
   "cell_type": "code",
   "execution_count": null,
   "metadata": {},
   "outputs": [],
   "source": [
    "from sklearn.preprocessing       import StandardScaler\n",
    "def Standard(data):\n",
    "    sc = StandardScaler()\n",
    "    # fit_transform will fixed mean & vol by data\n",
    "    # transform reuse above mean & vol\n",
    "    return sc.fit_transform(data)"
   ]
  },
  {
   "cell_type": "code",
   "execution_count": null,
   "metadata": {},
   "outputs": [],
   "source": [
    "x = Standard(x)\n",
    "x.shape"
   ]
  },
  {
   "cell_type": "markdown",
   "metadata": {},
   "source": [
    "## SVM Classifier"
   ]
  },
  {
   "cell_type": "code",
   "execution_count": null,
   "metadata": {},
   "outputs": [],
   "source": [
    "def plot_classifier(data,target,type,C=100,svc_kernel=\"rbf\"):\n",
    "    if type == 'SVC':\n",
    "        from sklearn.svm import SVC\n",
    "        clf = SVC(C=C,kernel=svc_kernel)\n",
    "        clf.fit(data, target)\n",
    "    if type == 'Logistic':\n",
    "        from sklearn.linear_model import LogisticRegression\n",
    "        clf = LogisticRegression()\n",
    "        clf.fit(data, target)\n",
    "    plot_estimator(estimator=clf, data=data ,target=target)\n",
    "    \n",
    "def plot_estimator(estimator, data, target):\n",
    "    # *** estimator model must trained by two variables ***\n",
    "    x_min, x_max = data[:, 0].min() - 0.02, data[:, 0].max() + 0.02\n",
    "    y_min, y_max = data[:, 1].min() - 0.02, data[:, 1].max() + 0.02\n",
    "    xx, yy = numpy.meshgrid(numpy.arange(x_min, x_max, 0.005), numpy.arange(y_min, y_max, 0.005))\n",
    "    Z = estimator.predict(numpy.c_[xx.ravel(), yy.ravel()])\n",
    "    Z = Z.reshape(xx.shape)\n",
    "    plt.plot()\n",
    "    plt.contourf(xx, yy, Z, alpha=0.4, cmap = plt.cm.RdYlBu)\n",
    "    plt.scatter(data[:, 0], data[:, 1], c=target, cmap = plt.cm.brg)\n",
    "    plt.xlabel('Index Return')\n",
    "    plt.ylabel('Dividend Growth')\n",
    "    plt.show()"
   ]
  },
  {
   "cell_type": "markdown",
   "metadata": {},
   "source": [
    "## Plot Decision Boundary"
   ]
  },
  {
   "cell_type": "code",
   "execution_count": null,
   "metadata": {},
   "outputs": [],
   "source": [
    "import matplotlib.pyplot as plt\n",
    "plot_classifier(data=x,target=y,type=\"SVC\",svc_kernel=\"linear\",C=100)"
   ]
  },
  {
   "cell_type": "code",
   "execution_count": null,
   "metadata": {},
   "outputs": [],
   "source": [
    "plot_classifier(data=x[:1000,:],target=y[:1000],type=\"SVC\",svc_kernel=\"linear\",C=100)"
   ]
  },
  {
   "cell_type": "code",
   "execution_count": null,
   "metadata": {},
   "outputs": [],
   "source": [
    "plot_classifier(data=x[:50,:],target=y[:50],type=\"SVC\",svc_kernel=\"rbf\",C=1000)"
   ]
  },
  {
   "cell_type": "code",
   "execution_count": null,
   "metadata": {},
   "outputs": [],
   "source": [
    "plot_classifier(data=x[:1500,:],target=y[:1500],type=\"SVC\",svc_kernel=\"rbf\",C=1000)"
   ]
  }
 ],
 "metadata": {
  "kernelspec": {
   "display_name": "Python 3",
   "language": "python",
   "name": "python3"
  },
  "language_info": {
   "codemirror_mode": {
    "name": "ipython",
    "version": 3
   },
   "file_extension": ".py",
   "mimetype": "text/x-python",
   "name": "python",
   "nbconvert_exporter": "python",
   "pygments_lexer": "ipython3",
   "version": "3.6.10"
  }
 },
 "nbformat": 4,
 "nbformat_minor": 4
}
