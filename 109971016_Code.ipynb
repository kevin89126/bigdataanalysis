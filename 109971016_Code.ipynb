{
 "cells": [
  {
   "cell_type": "markdown",
   "metadata": {},
   "source": [
    "## Import CSV"
   ]
  },
  {
   "cell_type": "code",
   "execution_count": 1,
   "metadata": {},
   "outputs": [],
   "source": [
    "import pandas\n",
    "def read_csv(filename,folder):\n",
    "    folder=folder+\"/\"+filename+\".csv\"\n",
    "    return pandas.read_csv(folder,encoding='ISO-8859-1')"
   ]
  },
  {
   "cell_type": "code",
   "execution_count": 2,
   "metadata": {},
   "outputs": [
    {
     "data": {
      "text/html": [
       "<div>\n",
       "<style scoped>\n",
       "    .dataframe tbody tr th:only-of-type {\n",
       "        vertical-align: middle;\n",
       "    }\n",
       "\n",
       "    .dataframe tbody tr th {\n",
       "        vertical-align: top;\n",
       "    }\n",
       "\n",
       "    .dataframe thead th {\n",
       "        text-align: right;\n",
       "    }\n",
       "</style>\n",
       "<table border=\"1\" class=\"dataframe\">\n",
       "  <thead>\n",
       "    <tr style=\"text-align: right;\">\n",
       "      <th></th>\n",
       "      <th>DATE</th>\n",
       "      <th>vfx</th>\n",
       "      <th>vix</th>\n",
       "      <th>vbx</th>\n",
       "      <th>vmt</th>\n",
       "      <th>rwm</th>\n",
       "      <th>dog</th>\n",
       "      <th>psh</th>\n",
       "      <th>spx</th>\n",
       "    </tr>\n",
       "  </thead>\n",
       "  <tbody>\n",
       "    <tr>\n",
       "      <th>0</th>\n",
       "      <td>2017-08-30</td>\n",
       "      <td>214.569443</td>\n",
       "      <td>11.22</td>\n",
       "      <td>9.983647</td>\n",
       "      <td>25.105610</td>\n",
       "      <td>45.747974</td>\n",
       "      <td>66.125107</td>\n",
       "      <td>32.038193</td>\n",
       "      <td>4761.720215</td>\n",
       "    </tr>\n",
       "    <tr>\n",
       "      <th>1</th>\n",
       "      <td>2017-08-31</td>\n",
       "      <td>215.804016</td>\n",
       "      <td>10.59</td>\n",
       "      <td>10.013153</td>\n",
       "      <td>25.402401</td>\n",
       "      <td>45.260769</td>\n",
       "      <td>65.929901</td>\n",
       "      <td>31.872953</td>\n",
       "      <td>4789.180176</td>\n",
       "    </tr>\n",
       "    <tr>\n",
       "      <th>2</th>\n",
       "      <td>2017-09-01</td>\n",
       "      <td>216.256409</td>\n",
       "      <td>10.13</td>\n",
       "      <td>9.994713</td>\n",
       "      <td>25.531948</td>\n",
       "      <td>45.056149</td>\n",
       "      <td>65.812805</td>\n",
       "      <td>31.795191</td>\n",
       "      <td>4798.990234</td>\n",
       "    </tr>\n",
       "    <tr>\n",
       "      <th>3</th>\n",
       "      <td>2017-09-05</td>\n",
       "      <td>214.626022</td>\n",
       "      <td>12.23</td>\n",
       "      <td>10.040814</td>\n",
       "      <td>25.362762</td>\n",
       "      <td>45.465393</td>\n",
       "      <td>66.593506</td>\n",
       "      <td>32.047920</td>\n",
       "      <td>4762.750000</td>\n",
       "    </tr>\n",
       "    <tr>\n",
       "      <th>4</th>\n",
       "      <td>2017-09-06</td>\n",
       "      <td>215.304565</td>\n",
       "      <td>11.63</td>\n",
       "      <td>10.022372</td>\n",
       "      <td>25.482641</td>\n",
       "      <td>45.358208</td>\n",
       "      <td>66.359299</td>\n",
       "      <td>31.931274</td>\n",
       "      <td>4777.689941</td>\n",
       "    </tr>\n",
       "  </tbody>\n",
       "</table>\n",
       "</div>"
      ],
      "text/plain": [
       "         DATE         vfx    vix        vbx        vmt        rwm        dog  \\\n",
       "0  2017-08-30  214.569443  11.22   9.983647  25.105610  45.747974  66.125107   \n",
       "1  2017-08-31  215.804016  10.59  10.013153  25.402401  45.260769  65.929901   \n",
       "2  2017-09-01  216.256409  10.13   9.994713  25.531948  45.056149  65.812805   \n",
       "3  2017-09-05  214.626022  12.23  10.040814  25.362762  45.465393  66.593506   \n",
       "4  2017-09-06  215.304565  11.63  10.022372  25.482641  45.358208  66.359299   \n",
       "\n",
       "         psh          spx  \n",
       "0  32.038193  4761.720215  \n",
       "1  31.872953  4789.180176  \n",
       "2  31.795191  4798.990234  \n",
       "3  32.047920  4762.750000  \n",
       "4  31.931274  4777.689941  "
      ]
     },
     "execution_count": 2,
     "metadata": {},
     "output_type": "execute_result"
    }
   ],
   "source": [
    "folder=\"/nfs/Workspace/\"\n",
    "data=read_csv(filename=\"WEN\",folder=folder)\n",
    "data.columns = ( 'DATE','vfx','vix' ,'vbx', 'vmt','rwm','dog','psh', 'spx')\n",
    "data = data.fillna(method='ffill')\n",
    "data.head()"
   ]
  },
  {
   "cell_type": "markdown",
   "metadata": {},
   "source": [
    "## Visualize Data"
   ]
  },
  {
   "cell_type": "code",
   "execution_count": 3,
   "metadata": {},
   "outputs": [],
   "source": [
    "from matplotlib import pyplot\n",
    "def plot_data(dataset,groups):\n",
    "    i = 1\n",
    "    pyplot.figure()\n",
    "    values = dataset.values\n",
    "    for group in groups:\n",
    "    \tpyplot.subplot(len(groups), 1, i)\n",
    "    \tpyplot.plot(values[:, group])\n",
    "    \tpyplot.title(dataset.columns[group], y=0.5, loc='right')\n",
    "    \ti += 1\n",
    "    pyplot.show()"
   ]
  },
  {
   "cell_type": "code",
   "execution_count": 4,
   "metadata": {},
   "outputs": [
    {
     "data": {
      "image/png": "[encoded data removed]",
      "text/plain": [
       "<Figure size 432x288 with 8 Axes>"
      ]
     },
     "metadata": {
      "needs_background": "light"
     },
     "output_type": "display_data"
    }
   ],
   "source": [
    "plot_data(data,groups=list(range(1,9)))"
   ]
  },
  {
   "cell_type": "markdown",
   "metadata": {},
   "source": [
    "## Data Summary"
   ]
  },
  {
   "cell_type": "code",
   "execution_count": 5,
   "metadata": {},
   "outputs": [
    {
     "data": {
      "text/html": [
       "<div>\n",
       "<style scoped>\n",
       "    .dataframe tbody tr th:only-of-type {\n",
       "        vertical-align: middle;\n",
       "    }\n",
       "\n",
       "    .dataframe tbody tr th {\n",
       "        vertical-align: top;\n",
       "    }\n",
       "\n",
       "    .dataframe thead th {\n",
       "        text-align: right;\n",
       "    }\n",
       "</style>\n",
       "<table border=\"1\" class=\"dataframe\">\n",
       "  <thead>\n",
       "    <tr style=\"text-align: right;\">\n",
       "      <th></th>\n",
       "      <th>vfx</th>\n",
       "      <th>vix</th>\n",
       "      <th>vbx</th>\n",
       "      <th>vmt</th>\n",
       "      <th>rwm</th>\n",
       "      <th>dog</th>\n",
       "      <th>psh</th>\n",
       "      <th>spx</th>\n",
       "    </tr>\n",
       "  </thead>\n",
       "  <tbody>\n",
       "    <tr>\n",
       "      <th>count</th>\n",
       "      <td>504.000000</td>\n",
       "      <td>504.000000</td>\n",
       "      <td>504.000000</td>\n",
       "      <td>504.000000</td>\n",
       "      <td>504.000000</td>\n",
       "      <td>504.000000</td>\n",
       "      <td>504.000000</td>\n",
       "      <td>504.000000</td>\n",
       "    </tr>\n",
       "    <tr>\n",
       "      <th>mean</th>\n",
       "      <td>244.395805</td>\n",
       "      <td>15.333413</td>\n",
       "      <td>10.017343</td>\n",
       "      <td>26.430865</td>\n",
       "      <td>40.405756</td>\n",
       "      <td>57.019953</td>\n",
       "      <td>28.412942</td>\n",
       "      <td>5431.560540</td>\n",
       "    </tr>\n",
       "    <tr>\n",
       "      <th>std</th>\n",
       "      <td>13.908723</td>\n",
       "      <td>4.533763</td>\n",
       "      <td>0.286577</td>\n",
       "      <td>2.149230</td>\n",
       "      <td>2.195040</td>\n",
       "      <td>3.233095</td>\n",
       "      <td>1.507878</td>\n",
       "      <td>312.578747</td>\n",
       "    </tr>\n",
       "    <tr>\n",
       "      <th>min</th>\n",
       "      <td>210.128433</td>\n",
       "      <td>9.140000</td>\n",
       "      <td>9.683455</td>\n",
       "      <td>22.548750</td>\n",
       "      <td>36.076992</td>\n",
       "      <td>51.579994</td>\n",
       "      <td>25.667391</td>\n",
       "      <td>4672.660156</td>\n",
       "    </tr>\n",
       "    <tr>\n",
       "      <th>25%</th>\n",
       "      <td>235.074059</td>\n",
       "      <td>12.175000</td>\n",
       "      <td>9.805305</td>\n",
       "      <td>24.422805</td>\n",
       "      <td>39.192882</td>\n",
       "      <td>54.586658</td>\n",
       "      <td>27.226387</td>\n",
       "      <td>5222.270142</td>\n",
       "    </tr>\n",
       "    <tr>\n",
       "      <th>50%</th>\n",
       "      <td>244.253342</td>\n",
       "      <td>14.455000</td>\n",
       "      <td>9.943701</td>\n",
       "      <td>26.665625</td>\n",
       "      <td>40.392239</td>\n",
       "      <td>56.529932</td>\n",
       "      <td>28.301810</td>\n",
       "      <td>5430.175049</td>\n",
       "    </tr>\n",
       "    <tr>\n",
       "      <th>75%</th>\n",
       "      <td>255.819534</td>\n",
       "      <td>17.884999</td>\n",
       "      <td>10.096783</td>\n",
       "      <td>28.382936</td>\n",
       "      <td>41.760325</td>\n",
       "      <td>58.581785</td>\n",
       "      <td>29.345070</td>\n",
       "      <td>5685.679932</td>\n",
       "    </tr>\n",
       "    <tr>\n",
       "      <th>max</th>\n",
       "      <td>273.387878</td>\n",
       "      <td>37.320000</td>\n",
       "      <td>10.912119</td>\n",
       "      <td>30.474449</td>\n",
       "      <td>48.979759</td>\n",
       "      <td>66.593506</td>\n",
       "      <td>32.930397</td>\n",
       "      <td>6083.819824</td>\n",
       "    </tr>\n",
       "  </tbody>\n",
       "</table>\n",
       "</div>"
      ],
      "text/plain": [
       "              vfx         vix         vbx         vmt         rwm         dog  \\\n",
       "count  504.000000  504.000000  504.000000  504.000000  504.000000  504.000000   \n",
       "mean   244.395805   15.333413   10.017343   26.430865   40.405756   57.019953   \n",
       "std     13.908723    4.533763    0.286577    2.149230    2.195040    3.233095   \n",
       "min    210.128433    9.140000    9.683455   22.548750   36.076992   51.579994   \n",
       "25%    235.074059   12.175000    9.805305   24.422805   39.192882   54.586658   \n",
       "50%    244.253342   14.455000    9.943701   26.665625   40.392239   56.529932   \n",
       "75%    255.819534   17.884999   10.096783   28.382936   41.760325   58.581785   \n",
       "max    273.387878   37.320000   10.912119   30.474449   48.979759   66.593506   \n",
       "\n",
       "              psh          spx  \n",
       "count  504.000000   504.000000  \n",
       "mean    28.412942  5431.560540  \n",
       "std      1.507878   312.578747  \n",
       "min     25.667391  4672.660156  \n",
       "25%     27.226387  5222.270142  \n",
       "50%     28.301810  5430.175049  \n",
       "75%     29.345070  5685.679932  \n",
       "max     32.930397  6083.819824  "
      ]
     },
     "execution_count": 5,
     "metadata": {},
     "output_type": "execute_result"
    }
   ],
   "source": [
    "data.describe()"
   ]
  },
  {
   "cell_type": "markdown",
   "metadata": {},
   "source": [
    "## Independent and identically distributed (I.I.D.) Testing"
   ]
  },
  {
   "cell_type": "code",
   "execution_count": 6,
   "metadata": {},
   "outputs": [
    {
     "data": {
      "image/png": "[encoded data removed]",
      "text/plain": [
       "<Figure size 432x288 with 1 Axes>"
      ]
     },
     "metadata": {
      "needs_background": "light"
     },
     "output_type": "display_data"
    }
   ],
   "source": [
    "import statsmodels.api as sm\n",
    "import matplotlib.pyplot as plt\n",
    "sm.graphics.tsa.plot_acf(data['vfx'].values, lags=40)\n",
    "plt.show()"
   ]
  },
  {
   "cell_type": "markdown",
   "metadata": {},
   "source": [
    "## Histogram"
   ]
  },
  {
   "cell_type": "code",
   "execution_count": 7,
   "metadata": {},
   "outputs": [
    {
     "data": {
      "text/plain": [
       "<AxesSubplot:ylabel='Frequency'>"
      ]
     },
     "execution_count": 7,
     "metadata": {},
     "output_type": "execute_result"
    },
    {
     "data": {
      "image/png": "[encoded data removed]",
      "text/plain": [
       "<Figure size 432x288 with 1 Axes>"
      ]
     },
     "metadata": {
      "needs_background": "light"
     },
     "output_type": "display_data"
    }
   ],
   "source": [
    "data.plot(kind=\"hist\",bins=50)"
   ]
  },
  {
   "cell_type": "markdown",
   "metadata": {},
   "source": [
    "## Normal Test "
   ]
  },
  {
   "cell_type": "code",
   "execution_count": 8,
   "metadata": {},
   "outputs": [
    {
     "name": "stdout",
     "output_type": "stream",
     "text": [
      "ShapiroResult(statistic=0.9867095947265625, pvalue=0.00014817931514699012)\n",
      "ShapiroResult(statistic=0.9145379066467285, pvalue=2.8941739379140154e-16)\n",
      "ShapiroResult(statistic=0.8311961889266968, pvalue=1.1175922448543255e-22)\n",
      "ShapiroResult(statistic=0.920864462852478, pvalue=1.3000096503034287e-15)\n",
      "ShapiroResult(statistic=0.9752805829048157, pvalue=1.6048961981596221e-07)\n",
      "ShapiroResult(statistic=0.943689227104187, pvalue=6.682389017131918e-13)\n",
      "ShapiroResult(statistic=0.97395259141922, pvalue=8.181211796909338e-08)\n",
      "ShapiroResult(statistic=0.9866713285446167, pvalue=0.0001442709326511249)\n"
     ]
    }
   ],
   "source": [
    "from scipy import stats\n",
    "print(stats.shapiro(data['vfx'].values))\n",
    "print(stats.shapiro(data['vix'].values))\n",
    "print(stats.shapiro(data['vbx'].values))\n",
    "print(stats.shapiro(data['vmt'].values))\n",
    "print(stats.shapiro(data['rwm'].values))\n",
    "print(stats.shapiro(data['dog'].values))\n",
    "print(stats.shapiro(data['psh'].values))\n",
    "print(stats.shapiro(data['spx'].values))"
   ]
  },
  {
   "cell_type": "markdown",
   "metadata": {},
   "source": [
    "## *** LSTM ***"
   ]
  },
  {
   "cell_type": "code",
   "execution_count": 9,
   "metadata": {},
   "outputs": [],
   "source": [
    "from sklearn.preprocessing import MinMaxScaler, LabelEncoder\n",
    "def Standard_MinMax(data):\n",
    "    sc = MinMaxScaler(feature_range = (0, 1))\n",
    "    return sc.fit_transform(data.reshape(-1,1))"
   ]
  },
  {
   "cell_type": "code",
   "execution_count": 10,
   "metadata": {},
   "outputs": [
    {
     "data": {
      "text/html": [
       "<div>\n",
       "<style scoped>\n",
       "    .dataframe tbody tr th:only-of-type {\n",
       "        vertical-align: middle;\n",
       "    }\n",
       "\n",
       "    .dataframe tbody tr th {\n",
       "        vertical-align: top;\n",
       "    }\n",
       "\n",
       "    .dataframe thead th {\n",
       "        text-align: right;\n",
       "    }\n",
       "</style>\n",
       "<table border=\"1\" class=\"dataframe\">\n",
       "  <thead>\n",
       "    <tr style=\"text-align: right;\">\n",
       "      <th></th>\n",
       "      <th>vfx</th>\n",
       "      <th>vix</th>\n",
       "      <th>vbx</th>\n",
       "      <th>vmt</th>\n",
       "      <th>rwm</th>\n",
       "      <th>dog</th>\n",
       "      <th>psh</th>\n",
       "      <th>spx</th>\n",
       "    </tr>\n",
       "  </thead>\n",
       "  <tbody>\n",
       "    <tr>\n",
       "      <th>0</th>\n",
       "      <td>214.569443</td>\n",
       "      <td>11.22</td>\n",
       "      <td>9.983647</td>\n",
       "      <td>25.105610</td>\n",
       "      <td>45.747974</td>\n",
       "      <td>66.125107</td>\n",
       "      <td>32.038193</td>\n",
       "      <td>4761.720215</td>\n",
       "    </tr>\n",
       "    <tr>\n",
       "      <th>1</th>\n",
       "      <td>215.804016</td>\n",
       "      <td>10.59</td>\n",
       "      <td>10.013153</td>\n",
       "      <td>25.402401</td>\n",
       "      <td>45.260769</td>\n",
       "      <td>65.929901</td>\n",
       "      <td>31.872953</td>\n",
       "      <td>4789.180176</td>\n",
       "    </tr>\n",
       "    <tr>\n",
       "      <th>2</th>\n",
       "      <td>216.256409</td>\n",
       "      <td>10.13</td>\n",
       "      <td>9.994713</td>\n",
       "      <td>25.531948</td>\n",
       "      <td>45.056149</td>\n",
       "      <td>65.812805</td>\n",
       "      <td>31.795191</td>\n",
       "      <td>4798.990234</td>\n",
       "    </tr>\n",
       "    <tr>\n",
       "      <th>3</th>\n",
       "      <td>214.626022</td>\n",
       "      <td>12.23</td>\n",
       "      <td>10.040814</td>\n",
       "      <td>25.362762</td>\n",
       "      <td>45.465393</td>\n",
       "      <td>66.593506</td>\n",
       "      <td>32.047920</td>\n",
       "      <td>4762.750000</td>\n",
       "    </tr>\n",
       "    <tr>\n",
       "      <th>4</th>\n",
       "      <td>215.304565</td>\n",
       "      <td>11.63</td>\n",
       "      <td>10.022372</td>\n",
       "      <td>25.482641</td>\n",
       "      <td>45.358208</td>\n",
       "      <td>66.359299</td>\n",
       "      <td>31.931274</td>\n",
       "      <td>4777.689941</td>\n",
       "    </tr>\n",
       "  </tbody>\n",
       "</table>\n",
       "</div>"
      ],
      "text/plain": [
       "          vfx    vix        vbx        vmt        rwm        dog        psh  \\\n",
       "0  214.569443  11.22   9.983647  25.105610  45.747974  66.125107  32.038193   \n",
       "1  215.804016  10.59  10.013153  25.402401  45.260769  65.929901  31.872953   \n",
       "2  216.256409  10.13   9.994713  25.531948  45.056149  65.812805  31.795191   \n",
       "3  214.626022  12.23  10.040814  25.362762  45.465393  66.593506  32.047920   \n",
       "4  215.304565  11.63  10.022372  25.482641  45.358208  66.359299  31.931274   \n",
       "\n",
       "           spx  \n",
       "0  4761.720215  \n",
       "1  4789.180176  \n",
       "2  4798.990234  \n",
       "3  4762.750000  \n",
       "4  4777.689941  "
      ]
     },
     "execution_count": 10,
     "metadata": {},
     "output_type": "execute_result"
    }
   ],
   "source": [
    "#folder=\"/Users/wenyongjing/Downloads/第二章\"\n",
    "#data=read_csv(filename=\"WEN\",folder=folder)\n",
    "#data.columns = ( 'DATE','vfx','vix' ,'vbx', 'vmt','rwm','dog','psh', 'spx')\n",
    "del data['DATE']\n",
    "scaler = MinMaxScaler(feature_range=(0, 1))\n",
    "scaled = scaler.fit_transform(data)\n",
    "data.head()"
   ]
  },
  {
   "cell_type": "code",
   "execution_count": 11,
   "metadata": {},
   "outputs": [
    {
     "data": {
      "text/plain": [
       "(504, 8)"
      ]
     },
     "execution_count": 11,
     "metadata": {},
     "output_type": "execute_result"
    }
   ],
   "source": [
    "data.shape"
   ]
  },
  {
   "cell_type": "markdown",
   "metadata": {},
   "source": [
    "## Series to Supervised"
   ]
  },
  {
   "cell_type": "code",
   "execution_count": 12,
   "metadata": {},
   "outputs": [],
   "source": [
    "def series_to_supervised(data, n_in=1, n_out=1, dropnan=True):\n",
    "\tn_vars = 1 if type(data) is list else data.shape[1]\n",
    "\tdf = pandas.DataFrame(data)\n",
    "\tcols, names = list(), list()\n",
    "\tfor i in range(n_in, 0, -1):\n",
    "\t\tcols.append(df.shift(i))\n",
    "\t\tnames += [('var%d(t-%d)' % (j+1, i)) for j in range(n_vars)]\n",
    "        \n",
    "\tfor i in range(0, n_out):\n",
    "\t\tcols.append(df.shift(-i))\n",
    "\t\tif i == 0:\n",
    "\t\t\tnames += [('var%d(t)' % (j+1)) for j in range(n_vars)]\n",
    "\t\telse:\n",
    "\t\t\tnames += [('var%d(t+%d)' % (j+1, i)) for j in range(n_vars)]\n",
    "\t# put it all together\n",
    "\tagg = pandas.concat(cols, axis=1)\n",
    "\tagg.columns = names\n",
    "    \n",
    "\t# drop rows with NaN values\n",
    "\tif dropnan:\n",
    "\t\tagg.dropna(inplace=True)\n",
    "\treturn agg"
   ]
  },
  {
   "cell_type": "code",
   "execution_count": 13,
   "metadata": {},
   "outputs": [
    {
     "data": {
      "text/html": [
       "<div>\n",
       "<style scoped>\n",
       "    .dataframe tbody tr th:only-of-type {\n",
       "        vertical-align: middle;\n",
       "    }\n",
       "\n",
       "    .dataframe tbody tr th {\n",
       "        vertical-align: top;\n",
       "    }\n",
       "\n",
       "    .dataframe thead th {\n",
       "        text-align: right;\n",
       "    }\n",
       "</style>\n",
       "<table border=\"1\" class=\"dataframe\">\n",
       "  <thead>\n",
       "    <tr style=\"text-align: right;\">\n",
       "      <th></th>\n",
       "      <th>var1(t-1)</th>\n",
       "      <th>var2(t-1)</th>\n",
       "      <th>var3(t-1)</th>\n",
       "      <th>var4(t-1)</th>\n",
       "      <th>var5(t-1)</th>\n",
       "      <th>var6(t-1)</th>\n",
       "      <th>var7(t-1)</th>\n",
       "      <th>var8(t-1)</th>\n",
       "      <th>var1(t)</th>\n",
       "      <th>var2(t)</th>\n",
       "      <th>var3(t)</th>\n",
       "      <th>var4(t)</th>\n",
       "      <th>var5(t)</th>\n",
       "      <th>var6(t)</th>\n",
       "      <th>var7(t)</th>\n",
       "      <th>var8(t)</th>\n",
       "    </tr>\n",
       "  </thead>\n",
       "  <tbody>\n",
       "    <tr>\n",
       "      <th>1</th>\n",
       "      <td>0.070203</td>\n",
       "      <td>0.073811</td>\n",
       "      <td>0.244324</td>\n",
       "      <td>0.322604</td>\n",
       "      <td>0.749528</td>\n",
       "      <td>0.968801</td>\n",
       "      <td>0.877158</td>\n",
       "      <td>0.063111</td>\n",
       "      <td>0.089719</td>\n",
       "      <td>0.051455</td>\n",
       "      <td>0.268338</td>\n",
       "      <td>0.360050</td>\n",
       "      <td>0.711768</td>\n",
       "      <td>0.955799</td>\n",
       "      <td>0.854407</td>\n",
       "      <td>0.082570</td>\n",
       "    </tr>\n",
       "    <tr>\n",
       "      <th>2</th>\n",
       "      <td>0.089719</td>\n",
       "      <td>0.051455</td>\n",
       "      <td>0.268338</td>\n",
       "      <td>0.360050</td>\n",
       "      <td>0.711768</td>\n",
       "      <td>0.955799</td>\n",
       "      <td>0.854407</td>\n",
       "      <td>0.082570</td>\n",
       "      <td>0.096871</td>\n",
       "      <td>0.035131</td>\n",
       "      <td>0.253330</td>\n",
       "      <td>0.376396</td>\n",
       "      <td>0.695909</td>\n",
       "      <td>0.948000</td>\n",
       "      <td>0.843700</td>\n",
       "      <td>0.089522</td>\n",
       "    </tr>\n",
       "    <tr>\n",
       "      <th>3</th>\n",
       "      <td>0.096871</td>\n",
       "      <td>0.035131</td>\n",
       "      <td>0.253330</td>\n",
       "      <td>0.376396</td>\n",
       "      <td>0.695909</td>\n",
       "      <td>0.948000</td>\n",
       "      <td>0.843700</td>\n",
       "      <td>0.089522</td>\n",
       "      <td>0.071098</td>\n",
       "      <td>0.109652</td>\n",
       "      <td>0.290852</td>\n",
       "      <td>0.355049</td>\n",
       "      <td>0.727627</td>\n",
       "      <td>1.000000</td>\n",
       "      <td>0.878497</td>\n",
       "      <td>0.063841</td>\n",
       "    </tr>\n",
       "    <tr>\n",
       "      <th>4</th>\n",
       "      <td>0.071098</td>\n",
       "      <td>0.109652</td>\n",
       "      <td>0.290852</td>\n",
       "      <td>0.355049</td>\n",
       "      <td>0.727627</td>\n",
       "      <td>1.000000</td>\n",
       "      <td>0.878497</td>\n",
       "      <td>0.063841</td>\n",
       "      <td>0.081824</td>\n",
       "      <td>0.088361</td>\n",
       "      <td>0.275842</td>\n",
       "      <td>0.370174</td>\n",
       "      <td>0.719320</td>\n",
       "      <td>0.984400</td>\n",
       "      <td>0.862437</td>\n",
       "      <td>0.074428</td>\n",
       "    </tr>\n",
       "    <tr>\n",
       "      <th>5</th>\n",
       "      <td>0.081824</td>\n",
       "      <td>0.088361</td>\n",
       "      <td>0.275842</td>\n",
       "      <td>0.370174</td>\n",
       "      <td>0.719320</td>\n",
       "      <td>0.984400</td>\n",
       "      <td>0.862437</td>\n",
       "      <td>0.074428</td>\n",
       "      <td>0.081824</td>\n",
       "      <td>0.085522</td>\n",
       "      <td>0.298355</td>\n",
       "      <td>0.387373</td>\n",
       "      <td>0.730648</td>\n",
       "      <td>0.992200</td>\n",
       "      <td>0.863776</td>\n",
       "      <td>0.074598</td>\n",
       "    </tr>\n",
       "  </tbody>\n",
       "</table>\n",
       "</div>"
      ],
      "text/plain": [
       "   var1(t-1)  var2(t-1)  var3(t-1)  var4(t-1)  var5(t-1)  var6(t-1)  \\\n",
       "1   0.070203   0.073811   0.244324   0.322604   0.749528   0.968801   \n",
       "2   0.089719   0.051455   0.268338   0.360050   0.711768   0.955799   \n",
       "3   0.096871   0.035131   0.253330   0.376396   0.695909   0.948000   \n",
       "4   0.071098   0.109652   0.290852   0.355049   0.727627   1.000000   \n",
       "5   0.081824   0.088361   0.275842   0.370174   0.719320   0.984400   \n",
       "\n",
       "   var7(t-1)  var8(t-1)   var1(t)   var2(t)   var3(t)   var4(t)   var5(t)  \\\n",
       "1   0.877158   0.063111  0.089719  0.051455  0.268338  0.360050  0.711768   \n",
       "2   0.854407   0.082570  0.096871  0.035131  0.253330  0.376396  0.695909   \n",
       "3   0.843700   0.089522  0.071098  0.109652  0.290852  0.355049  0.727627   \n",
       "4   0.878497   0.063841  0.081824  0.088361  0.275842  0.370174  0.719320   \n",
       "5   0.862437   0.074428  0.081824  0.085522  0.298355  0.387373  0.730648   \n",
       "\n",
       "    var6(t)   var7(t)   var8(t)  \n",
       "1  0.955799  0.854407  0.082570  \n",
       "2  0.948000  0.843700  0.089522  \n",
       "3  1.000000  0.878497  0.063841  \n",
       "4  0.984400  0.862437  0.074428  \n",
       "5  0.992200  0.863776  0.074598  "
      ]
     },
     "execution_count": 13,
     "metadata": {},
     "output_type": "execute_result"
    }
   ],
   "source": [
    "reframed = series_to_supervised(scaled, 1, 1)\n",
    "reframed.head()"
   ]
  },
  {
   "cell_type": "code",
   "execution_count": 14,
   "metadata": {},
   "outputs": [
    {
     "data": {
      "text/html": [
       "<div>\n",
       "<style scoped>\n",
       "    .dataframe tbody tr th:only-of-type {\n",
       "        vertical-align: middle;\n",
       "    }\n",
       "\n",
       "    .dataframe tbody tr th {\n",
       "        vertical-align: top;\n",
       "    }\n",
       "\n",
       "    .dataframe thead th {\n",
       "        text-align: right;\n",
       "    }\n",
       "</style>\n",
       "<table border=\"1\" class=\"dataframe\">\n",
       "  <thead>\n",
       "    <tr style=\"text-align: right;\">\n",
       "      <th></th>\n",
       "      <th>var1(t-1)</th>\n",
       "      <th>var2(t-1)</th>\n",
       "      <th>var3(t-1)</th>\n",
       "      <th>var4(t-1)</th>\n",
       "      <th>var5(t-1)</th>\n",
       "      <th>var6(t-1)</th>\n",
       "      <th>var7(t-1)</th>\n",
       "      <th>var8(t-1)</th>\n",
       "      <th>var1(t)</th>\n",
       "    </tr>\n",
       "  </thead>\n",
       "  <tbody>\n",
       "    <tr>\n",
       "      <th>1</th>\n",
       "      <td>0.070203</td>\n",
       "      <td>0.073811</td>\n",
       "      <td>0.244324</td>\n",
       "      <td>0.322604</td>\n",
       "      <td>0.749528</td>\n",
       "      <td>0.968801</td>\n",
       "      <td>0.877158</td>\n",
       "      <td>0.063111</td>\n",
       "      <td>0.089719</td>\n",
       "    </tr>\n",
       "    <tr>\n",
       "      <th>2</th>\n",
       "      <td>0.089719</td>\n",
       "      <td>0.051455</td>\n",
       "      <td>0.268338</td>\n",
       "      <td>0.360050</td>\n",
       "      <td>0.711768</td>\n",
       "      <td>0.955799</td>\n",
       "      <td>0.854407</td>\n",
       "      <td>0.082570</td>\n",
       "      <td>0.096871</td>\n",
       "    </tr>\n",
       "    <tr>\n",
       "      <th>3</th>\n",
       "      <td>0.096871</td>\n",
       "      <td>0.035131</td>\n",
       "      <td>0.253330</td>\n",
       "      <td>0.376396</td>\n",
       "      <td>0.695909</td>\n",
       "      <td>0.948000</td>\n",
       "      <td>0.843700</td>\n",
       "      <td>0.089522</td>\n",
       "      <td>0.071098</td>\n",
       "    </tr>\n",
       "    <tr>\n",
       "      <th>4</th>\n",
       "      <td>0.071098</td>\n",
       "      <td>0.109652</td>\n",
       "      <td>0.290852</td>\n",
       "      <td>0.355049</td>\n",
       "      <td>0.727627</td>\n",
       "      <td>1.000000</td>\n",
       "      <td>0.878497</td>\n",
       "      <td>0.063841</td>\n",
       "      <td>0.081824</td>\n",
       "    </tr>\n",
       "    <tr>\n",
       "      <th>5</th>\n",
       "      <td>0.081824</td>\n",
       "      <td>0.088361</td>\n",
       "      <td>0.275842</td>\n",
       "      <td>0.370174</td>\n",
       "      <td>0.719320</td>\n",
       "      <td>0.984400</td>\n",
       "      <td>0.862437</td>\n",
       "      <td>0.074428</td>\n",
       "      <td>0.081824</td>\n",
       "    </tr>\n",
       "  </tbody>\n",
       "</table>\n",
       "</div>"
      ],
      "text/plain": [
       "   var1(t-1)  var2(t-1)  var3(t-1)  var4(t-1)  var5(t-1)  var6(t-1)  \\\n",
       "1   0.070203   0.073811   0.244324   0.322604   0.749528   0.968801   \n",
       "2   0.089719   0.051455   0.268338   0.360050   0.711768   0.955799   \n",
       "3   0.096871   0.035131   0.253330   0.376396   0.695909   0.948000   \n",
       "4   0.071098   0.109652   0.290852   0.355049   0.727627   1.000000   \n",
       "5   0.081824   0.088361   0.275842   0.370174   0.719320   0.984400   \n",
       "\n",
       "   var7(t-1)  var8(t-1)   var1(t)  \n",
       "1   0.877158   0.063111  0.089719  \n",
       "2   0.854407   0.082570  0.096871  \n",
       "3   0.843700   0.089522  0.071098  \n",
       "4   0.878497   0.063841  0.081824  \n",
       "5   0.862437   0.074428  0.081824  "
      ]
     },
     "execution_count": 14,
     "metadata": {},
     "output_type": "execute_result"
    }
   ],
   "source": [
    "pred = {'vfx': 8}\n",
    "reframed = pandas.concat([reframed.iloc[:,0:8],reframed.iloc[:,pred['vfx']]],axis=1)\n",
    "reframed.head()"
   ]
  },
  {
   "cell_type": "markdown",
   "metadata": {},
   "source": [
    "## Data Split"
   ]
  },
  {
   "cell_type": "code",
   "execution_count": 250,
   "metadata": {},
   "outputs": [
    {
     "data": {
      "text/plain": [
       "((400, 8), (400,), (103, 8), (103,))"
      ]
     },
     "execution_count": 250,
     "metadata": {},
     "output_type": "execute_result"
    }
   ],
   "source": [
    "train = reframed.values[:400,:]\n",
    "test = reframed.values[400:504,:]\n",
    "train_X, train_y = train[:, :-1], train[:, -1]\n",
    "test_X , test_y  = test[:, :-1], test[:, -1]\n",
    "train_X.shape, train_y.shape, test_X.shape, test_y.shape"
   ]
  },
  {
   "cell_type": "markdown",
   "metadata": {},
   "source": [
    "## LSTM"
   ]
  },
  {
   "cell_type": "code",
   "execution_count": 251,
   "metadata": {},
   "outputs": [
    {
     "name": "stdout",
     "output_type": "stream",
     "text": [
      "Model: \"sequential_14\"\n",
      "_________________________________________________________________\n",
      "Layer (type)                 Output Shape              Param #   \n",
      "=================================================================\n",
      "lstm_13 (LSTM)               (None, 50)                11800     \n",
      "_________________________________________________________________\n",
      "dense_16 (Dense)             (None, 1)                 51        \n",
      "=================================================================\n",
      "Total params: 11,851\n",
      "Trainable params: 11,851\n",
      "Non-trainable params: 0\n",
      "_________________________________________________________________\n"
     ]
    }
   ],
   "source": [
    "train_X = train_X.reshape((train_X.shape[0], 1, train_X.shape[1]))\n",
    "test_X  = test_X.reshape((test_X.shape[0], 1, test_X.shape[1]))\n",
    "train_X.shape, train_y.shape, test_X.shape, test_y.shape\n",
    "\n",
    "import keras\n",
    "from keras import layers\n",
    "from keras.layers import Dropout\n",
    "\n",
    "model = keras.models.Sequential()\n",
    "model.add(layers.LSTM(50, input_shape=(train_X.shape[1], train_X.shape[2])))\n",
    "model.add(layers.Dense(1))\n",
    "#model.add(Dropout(0.5))\n",
    "model.compile(loss='mse', optimizer='adam')\n",
    "model.summary()"
   ]
  },
  {
   "cell_type": "markdown",
   "metadata": {},
   "source": [
    "## Training"
   ]
  },
  {
   "cell_type": "code",
   "execution_count": 252,
   "metadata": {},
   "outputs": [
    {
     "name": "stdout",
     "output_type": "stream",
     "text": [
      "Epoch 1/50\n",
      "6/6 [==============================] - 0s 61ms/step - loss: 0.2201 - val_loss: 0.5601\n",
      "Epoch 2/50\n",
      "6/6 [==============================] - 0s 8ms/step - loss: 0.1708 - val_loss: 0.4735\n",
      "Epoch 3/50\n",
      "6/6 [==============================] - 0s 15ms/step - loss: 0.1300 - val_loss: 0.3956\n",
      "Epoch 4/50\n",
      "6/6 [==============================] - 0s 14ms/step - loss: 0.0972 - val_loss: 0.3264\n",
      "Epoch 5/50\n",
      "6/6 [==============================] - 0s 4ms/step - loss: 0.0721 - val_loss: 0.2664\n",
      "Epoch 6/50\n",
      "6/6 [==============================] - 0s 15ms/step - loss: 0.0543 - val_loss: 0.2160\n",
      "Epoch 7/50\n",
      "6/6 [==============================] - 0s 15ms/step - loss: 0.0429 - val_loss: 0.1755\n",
      "Epoch 8/50\n",
      "6/6 [==============================] - 0s 14ms/step - loss: 0.0367 - val_loss: 0.1445\n",
      "Epoch 9/50\n",
      "6/6 [==============================] - 0s 4ms/step - loss: 0.0337 - val_loss: 0.1221\n",
      "Epoch 10/50\n",
      "6/6 [==============================] - 0s 15ms/step - loss: 0.0322 - val_loss: 0.1066\n",
      "Epoch 11/50\n",
      "6/6 [==============================] - 0s 15ms/step - loss: 0.0311 - val_loss: 0.0963\n",
      "Epoch 12/50\n",
      "6/6 [==============================] - 0s 13ms/step - loss: 0.0299 - val_loss: 0.0893\n",
      "Epoch 13/50\n",
      "6/6 [==============================] - 0s 4ms/step - loss: 0.0284 - val_loss: 0.0844\n",
      "Epoch 14/50\n",
      "6/6 [==============================] - 0s 15ms/step - loss: 0.0267 - val_loss: 0.0806\n",
      "Epoch 15/50\n",
      "6/6 [==============================] - 0s 15ms/step - loss: 0.0250 - val_loss: 0.0770\n",
      "Epoch 16/50\n",
      "6/6 [==============================] - 0s 14ms/step - loss: 0.0233 - val_loss: 0.0734\n",
      "Epoch 17/50\n",
      "6/6 [==============================] - 0s 4ms/step - loss: 0.0217 - val_loss: 0.0695\n",
      "Epoch 18/50\n",
      "6/6 [==============================] - 0s 15ms/step - loss: 0.0202 - val_loss: 0.0654\n",
      "Epoch 19/50\n",
      "6/6 [==============================] - 0s 15ms/step - loss: 0.0188 - val_loss: 0.0611\n",
      "Epoch 20/50\n",
      "6/6 [==============================] - 0s 4ms/step - loss: 0.0174 - val_loss: 0.0567\n",
      "Epoch 21/50\n",
      "6/6 [==============================] - 0s 4ms/step - loss: 0.0162 - val_loss: 0.0525\n",
      "Epoch 22/50\n",
      "6/6 [==============================] - 0s 15ms/step - loss: 0.0150 - val_loss: 0.0484\n",
      "Epoch 23/50\n",
      "6/6 [==============================] - 0s 14ms/step - loss: 0.0138 - val_loss: 0.0444\n",
      "Epoch 24/50\n",
      "6/6 [==============================] - 0s 4ms/step - loss: 0.0127 - val_loss: 0.0407\n",
      "Epoch 25/50\n",
      "6/6 [==============================] - 0s 14ms/step - loss: 0.0117 - val_loss: 0.0373\n",
      "Epoch 26/50\n",
      "6/6 [==============================] - 0s 15ms/step - loss: 0.0108 - val_loss: 0.0340\n",
      "Epoch 27/50\n",
      "6/6 [==============================] - 0s 4ms/step - loss: 0.0099 - val_loss: 0.0310\n",
      "Epoch 28/50\n",
      "6/6 [==============================] - 0s 14ms/step - loss: 0.0090 - val_loss: 0.0281\n",
      "Epoch 29/50\n",
      "6/6 [==============================] - 0s 14ms/step - loss: 0.0082 - val_loss: 0.0254\n",
      "Epoch 30/50\n",
      "6/6 [==============================] - 0s 4ms/step - loss: 0.0074 - val_loss: 0.0229\n",
      "Epoch 31/50\n",
      "6/6 [==============================] - 0s 14ms/step - loss: 0.0068 - val_loss: 0.0206\n",
      "Epoch 32/50\n",
      "6/6 [==============================] - 0s 14ms/step - loss: 0.0061 - val_loss: 0.0184\n",
      "Epoch 33/50\n",
      "6/6 [==============================] - 0s 4ms/step - loss: 0.0055 - val_loss: 0.0163\n",
      "Epoch 34/50\n",
      "6/6 [==============================] - 0s 14ms/step - loss: 0.0050 - val_loss: 0.0145\n",
      "Epoch 35/50\n",
      "6/6 [==============================] - 0s 15ms/step - loss: 0.0045 - val_loss: 0.0128\n",
      "Epoch 36/50\n",
      "6/6 [==============================] - 0s 4ms/step - loss: 0.0041 - val_loss: 0.0112\n",
      "Epoch 37/50\n",
      "6/6 [==============================] - 0s 13ms/step - loss: 0.0037 - val_loss: 0.0099\n",
      "Epoch 38/50\n",
      "6/6 [==============================] - 0s 14ms/step - loss: 0.0034 - val_loss: 0.0086\n",
      "Epoch 39/50\n",
      "6/6 [==============================] - 0s 4ms/step - loss: 0.0031 - val_loss: 0.0075\n",
      "Epoch 40/50\n",
      "6/6 [==============================] - 0s 13ms/step - loss: 0.0028 - val_loss: 0.0066\n",
      "Epoch 41/50\n",
      "6/6 [==============================] - 0s 14ms/step - loss: 0.0026 - val_loss: 0.0057\n",
      "Epoch 42/50\n",
      "6/6 [==============================] - 0s 4ms/step - loss: 0.0024 - val_loss: 0.0050\n",
      "Epoch 43/50\n",
      "6/6 [==============================] - 0s 14ms/step - loss: 0.0023 - val_loss: 0.0044\n",
      "Epoch 44/50\n",
      "6/6 [==============================] - 0s 14ms/step - loss: 0.0021 - val_loss: 0.0038\n",
      "Epoch 45/50\n",
      "6/6 [==============================] - 0s 4ms/step - loss: 0.0020 - val_loss: 0.0034\n",
      "Epoch 46/50\n",
      "6/6 [==============================] - 0s 13ms/step - loss: 0.0019 - val_loss: 0.0030\n",
      "Epoch 47/50\n",
      "6/6 [==============================] - 0s 14ms/step - loss: 0.0018 - val_loss: 0.0027\n",
      "Epoch 48/50\n",
      "6/6 [==============================] - 0s 4ms/step - loss: 0.0018 - val_loss: 0.0025\n",
      "Epoch 49/50\n",
      "6/6 [==============================] - 0s 14ms/step - loss: 0.0017 - val_loss: 0.0023\n",
      "Epoch 50/50\n",
      "6/6 [==============================] - 0s 13ms/step - loss: 0.0017 - val_loss: 0.0022\n"
     ]
    }
   ],
   "source": [
    "history = model.fit(train_X, train_y, epochs=50, \n",
    "                    batch_size=72, validation_data=(test_X, test_y), \n",
    "                    verbose=1, shuffle=False)"
   ]
  },
  {
   "cell_type": "markdown",
   "metadata": {},
   "source": [
    "## Plot Loss Curve"
   ]
  },
  {
   "cell_type": "code",
   "execution_count": 254,
   "metadata": {
    "scrolled": true
   },
   "outputs": [
    {
     "name": "stdout",
     "output_type": "stream",
     "text": [
      "Populating the interactive namespace from numpy and matplotlib\n"
     ]
    },
    {
     "data": {
      "image/png": "[encoded data removed]",
      "text/plain": [
       "<Figure size 432x288 with 1 Axes>"
      ]
     },
     "metadata": {
      "needs_background": "light"
     },
     "output_type": "display_data"
    }
   ],
   "source": [
    "%pylab inline\n",
    "from matplotlib import pyplot\n",
    "pyplot.plot(history.history['loss'], label='train')\n",
    "pyplot.plot(history.history['val_loss'], label='test')\n",
    "pyplot.legend()\n",
    "pyplot.show()"
   ]
  },
  {
   "cell_type": "markdown",
   "metadata": {},
   "source": [
    "## Model Predict"
   ]
  },
  {
   "cell_type": "code",
   "execution_count": 255,
   "metadata": {},
   "outputs": [
    {
     "data": {
      "text/html": [
       "<div>\n",
       "<style scoped>\n",
       "    .dataframe tbody tr th:only-of-type {\n",
       "        vertical-align: middle;\n",
       "    }\n",
       "\n",
       "    .dataframe tbody tr th {\n",
       "        vertical-align: top;\n",
       "    }\n",
       "\n",
       "    .dataframe thead th {\n",
       "        text-align: right;\n",
       "    }\n",
       "</style>\n",
       "<table border=\"1\" class=\"dataframe\">\n",
       "  <thead>\n",
       "    <tr style=\"text-align: right;\">\n",
       "      <th></th>\n",
       "      <th>DATE</th>\n",
       "      <th>vfx</th>\n",
       "      <th>vix</th>\n",
       "      <th>vbx</th>\n",
       "      <th>vmt</th>\n",
       "      <th>rwm</th>\n",
       "      <th>dog</th>\n",
       "      <th>psh</th>\n",
       "      <th>spx</th>\n",
       "    </tr>\n",
       "  </thead>\n",
       "  <tbody>\n",
       "    <tr>\n",
       "      <th>0</th>\n",
       "      <td>2019-09-27</td>\n",
       "      <td>268.591461</td>\n",
       "      <td>5978.109863</td>\n",
       "      <td>23.038769</td>\n",
       "      <td>40.458401</td>\n",
       "      <td>52.470287</td>\n",
       "      <td>26.140480</td>\n",
       "      <td>141.059998</td>\n",
       "      <td>93.279999</td>\n",
       "    </tr>\n",
       "    <tr>\n",
       "      <th>1</th>\n",
       "      <td>2019-09-30</td>\n",
       "      <td>269.957397</td>\n",
       "      <td>6008.589844</td>\n",
       "      <td>23.182716</td>\n",
       "      <td>40.438496</td>\n",
       "      <td>52.261082</td>\n",
       "      <td>26.011070</td>\n",
       "      <td>138.869995</td>\n",
       "      <td>90.720001</td>\n",
       "    </tr>\n",
       "    <tr>\n",
       "      <th>2</th>\n",
       "      <td>2019-10-01</td>\n",
       "      <td>266.665375</td>\n",
       "      <td>5935.200195</td>\n",
       "      <td>23.015104</td>\n",
       "      <td>41.204865</td>\n",
       "      <td>52.948467</td>\n",
       "      <td>26.339569</td>\n",
       "      <td>139.630005</td>\n",
       "      <td>89.519997</td>\n",
       "    </tr>\n",
       "    <tr>\n",
       "      <th>3</th>\n",
       "      <td>2019-10-02</td>\n",
       "      <td>261.889435</td>\n",
       "      <td>5828.930176</td>\n",
       "      <td>22.696642</td>\n",
       "      <td>41.543262</td>\n",
       "      <td>53.954639</td>\n",
       "      <td>26.807430</td>\n",
       "      <td>141.259995</td>\n",
       "      <td>87.839996</td>\n",
       "    </tr>\n",
       "    <tr>\n",
       "      <th>4</th>\n",
       "      <td>2019-10-03</td>\n",
       "      <td>264.041565</td>\n",
       "      <td>5876.859863</td>\n",
       "      <td>22.826788</td>\n",
       "      <td>41.384018</td>\n",
       "      <td>53.665741</td>\n",
       "      <td>26.598385</td>\n",
       "      <td>141.899994</td>\n",
       "      <td>87.440002</td>\n",
       "    </tr>\n",
       "  </tbody>\n",
       "</table>\n",
       "</div>"
      ],
      "text/plain": [
       "         DATE         vfx          vix        vbx        vmt        rwm  \\\n",
       "0  2019-09-27  268.591461  5978.109863  23.038769  40.458401  52.470287   \n",
       "1  2019-09-30  269.957397  6008.589844  23.182716  40.438496  52.261082   \n",
       "2  2019-10-01  266.665375  5935.200195  23.015104  41.204865  52.948467   \n",
       "3  2019-10-02  261.889435  5828.930176  22.696642  41.543262  53.954639   \n",
       "4  2019-10-03  264.041565  5876.859863  22.826788  41.384018  53.665741   \n",
       "\n",
       "         dog         psh        spx  \n",
       "0  26.140480  141.059998  93.279999  \n",
       "1  26.011070  138.869995  90.720001  \n",
       "2  26.339569  139.630005  89.519997  \n",
       "3  26.807430  141.259995  87.839996  \n",
       "4  26.598385  141.899994  87.440002  "
      ]
     },
     "execution_count": 255,
     "metadata": {},
     "output_type": "execute_result"
    }
   ],
   "source": [
    "folder=\"/nfs/Workspace/\"\n",
    "pred_data=read_csv(filename=\"PRED\",folder=folder)\n",
    "pred_data.columns = ( 'DATE','vfx','vix' ,'vbx', 'vmt','rwm','dog','psh', 'spx')\n",
    "#pred_data.isnull().sum()\n",
    "#pred_data = data.fillna(method='ffill')\n",
    "pred_data.head()"
   ]
  },
  {
   "cell_type": "code",
   "execution_count": 256,
   "metadata": {},
   "outputs": [
    {
     "data": {
      "text/html": [
       "<div>\n",
       "<style scoped>\n",
       "    .dataframe tbody tr th:only-of-type {\n",
       "        vertical-align: middle;\n",
       "    }\n",
       "\n",
       "    .dataframe tbody tr th {\n",
       "        vertical-align: top;\n",
       "    }\n",
       "\n",
       "    .dataframe thead th {\n",
       "        text-align: right;\n",
       "    }\n",
       "</style>\n",
       "<table border=\"1\" class=\"dataframe\">\n",
       "  <thead>\n",
       "    <tr style=\"text-align: right;\">\n",
       "      <th></th>\n",
       "      <th>vfx</th>\n",
       "      <th>vix</th>\n",
       "      <th>vbx</th>\n",
       "      <th>vmt</th>\n",
       "      <th>rwm</th>\n",
       "      <th>dog</th>\n",
       "      <th>psh</th>\n",
       "      <th>spx</th>\n",
       "    </tr>\n",
       "  </thead>\n",
       "  <tbody>\n",
       "    <tr>\n",
       "      <th>0</th>\n",
       "      <td>268.591461</td>\n",
       "      <td>5978.109863</td>\n",
       "      <td>23.038769</td>\n",
       "      <td>40.458401</td>\n",
       "      <td>52.470287</td>\n",
       "      <td>26.140480</td>\n",
       "      <td>141.059998</td>\n",
       "      <td>93.279999</td>\n",
       "    </tr>\n",
       "    <tr>\n",
       "      <th>1</th>\n",
       "      <td>269.957397</td>\n",
       "      <td>6008.589844</td>\n",
       "      <td>23.182716</td>\n",
       "      <td>40.438496</td>\n",
       "      <td>52.261082</td>\n",
       "      <td>26.011070</td>\n",
       "      <td>138.869995</td>\n",
       "      <td>90.720001</td>\n",
       "    </tr>\n",
       "    <tr>\n",
       "      <th>2</th>\n",
       "      <td>266.665375</td>\n",
       "      <td>5935.200195</td>\n",
       "      <td>23.015104</td>\n",
       "      <td>41.204865</td>\n",
       "      <td>52.948467</td>\n",
       "      <td>26.339569</td>\n",
       "      <td>139.630005</td>\n",
       "      <td>89.519997</td>\n",
       "    </tr>\n",
       "    <tr>\n",
       "      <th>3</th>\n",
       "      <td>261.889435</td>\n",
       "      <td>5828.930176</td>\n",
       "      <td>22.696642</td>\n",
       "      <td>41.543262</td>\n",
       "      <td>53.954639</td>\n",
       "      <td>26.807430</td>\n",
       "      <td>141.259995</td>\n",
       "      <td>87.839996</td>\n",
       "    </tr>\n",
       "    <tr>\n",
       "      <th>4</th>\n",
       "      <td>264.041565</td>\n",
       "      <td>5876.859863</td>\n",
       "      <td>22.826788</td>\n",
       "      <td>41.384018</td>\n",
       "      <td>53.665741</td>\n",
       "      <td>26.598385</td>\n",
       "      <td>141.899994</td>\n",
       "      <td>87.440002</td>\n",
       "    </tr>\n",
       "  </tbody>\n",
       "</table>\n",
       "</div>"
      ],
      "text/plain": [
       "          vfx          vix        vbx        vmt        rwm        dog  \\\n",
       "0  268.591461  5978.109863  23.038769  40.458401  52.470287  26.140480   \n",
       "1  269.957397  6008.589844  23.182716  40.438496  52.261082  26.011070   \n",
       "2  266.665375  5935.200195  23.015104  41.204865  52.948467  26.339569   \n",
       "3  261.889435  5828.930176  22.696642  41.543262  53.954639  26.807430   \n",
       "4  264.041565  5876.859863  22.826788  41.384018  53.665741  26.598385   \n",
       "\n",
       "          psh        spx  \n",
       "0  141.059998  93.279999  \n",
       "1  138.869995  90.720001  \n",
       "2  139.630005  89.519997  \n",
       "3  141.259995  87.839996  \n",
       "4  141.899994  87.440002  "
      ]
     },
     "execution_count": 256,
     "metadata": {},
     "output_type": "execute_result"
    }
   ],
   "source": [
    "del pred_data['DATE']\n",
    "scaler = MinMaxScaler(feature_range=(0, 1))\n",
    "pred_scaled = scaler.fit_transform(pred_data)\n",
    "pred_data.head()"
   ]
  },
  {
   "cell_type": "code",
   "execution_count": 257,
   "metadata": {},
   "outputs": [
    {
     "data": {
      "text/html": [
       "<div>\n",
       "<style scoped>\n",
       "    .dataframe tbody tr th:only-of-type {\n",
       "        vertical-align: middle;\n",
       "    }\n",
       "\n",
       "    .dataframe tbody tr th {\n",
       "        vertical-align: top;\n",
       "    }\n",
       "\n",
       "    .dataframe thead th {\n",
       "        text-align: right;\n",
       "    }\n",
       "</style>\n",
       "<table border=\"1\" class=\"dataframe\">\n",
       "  <thead>\n",
       "    <tr style=\"text-align: right;\">\n",
       "      <th></th>\n",
       "      <th>var1(t-1)</th>\n",
       "      <th>var2(t-1)</th>\n",
       "      <th>var3(t-1)</th>\n",
       "      <th>var4(t-1)</th>\n",
       "      <th>var5(t-1)</th>\n",
       "      <th>var6(t-1)</th>\n",
       "      <th>var7(t-1)</th>\n",
       "      <th>var8(t-1)</th>\n",
       "      <th>var1(t)</th>\n",
       "      <th>var2(t)</th>\n",
       "      <th>var3(t)</th>\n",
       "      <th>var4(t)</th>\n",
       "      <th>var5(t)</th>\n",
       "      <th>var6(t)</th>\n",
       "      <th>var7(t)</th>\n",
       "      <th>var8(t)</th>\n",
       "    </tr>\n",
       "  </thead>\n",
       "  <tbody>\n",
       "    <tr>\n",
       "      <th>1</th>\n",
       "      <td>0.509917</td>\n",
       "      <td>0.506829</td>\n",
       "      <td>0.545241</td>\n",
       "      <td>0.334866</td>\n",
       "      <td>0.369087</td>\n",
       "      <td>0.520731</td>\n",
       "      <td>0.071203</td>\n",
       "      <td>0.862443</td>\n",
       "      <td>0.520807</td>\n",
       "      <td>0.517719</td>\n",
       "      <td>0.570215</td>\n",
       "      <td>0.334036</td>\n",
       "      <td>0.361712</td>\n",
       "      <td>0.511007</td>\n",
       "      <td>0.032700</td>\n",
       "      <td>0.833484</td>\n",
       "    </tr>\n",
       "    <tr>\n",
       "      <th>2</th>\n",
       "      <td>0.520807</td>\n",
       "      <td>0.517719</td>\n",
       "      <td>0.570215</td>\n",
       "      <td>0.334036</td>\n",
       "      <td>0.361712</td>\n",
       "      <td>0.511007</td>\n",
       "      <td>0.032700</td>\n",
       "      <td>0.833484</td>\n",
       "      <td>0.494561</td>\n",
       "      <td>0.491499</td>\n",
       "      <td>0.541135</td>\n",
       "      <td>0.366002</td>\n",
       "      <td>0.385943</td>\n",
       "      <td>0.535689</td>\n",
       "      <td>0.046062</td>\n",
       "      <td>0.819909</td>\n",
       "    </tr>\n",
       "    <tr>\n",
       "      <th>3</th>\n",
       "      <td>0.494561</td>\n",
       "      <td>0.491499</td>\n",
       "      <td>0.541135</td>\n",
       "      <td>0.366002</td>\n",
       "      <td>0.385943</td>\n",
       "      <td>0.535689</td>\n",
       "      <td>0.046062</td>\n",
       "      <td>0.819909</td>\n",
       "      <td>0.456484</td>\n",
       "      <td>0.453531</td>\n",
       "      <td>0.485885</td>\n",
       "      <td>0.380116</td>\n",
       "      <td>0.421411</td>\n",
       "      <td>0.570843</td>\n",
       "      <td>0.074719</td>\n",
       "      <td>0.800905</td>\n",
       "    </tr>\n",
       "    <tr>\n",
       "      <th>4</th>\n",
       "      <td>0.456484</td>\n",
       "      <td>0.453531</td>\n",
       "      <td>0.485885</td>\n",
       "      <td>0.380116</td>\n",
       "      <td>0.421411</td>\n",
       "      <td>0.570843</td>\n",
       "      <td>0.074719</td>\n",
       "      <td>0.800905</td>\n",
       "      <td>0.473642</td>\n",
       "      <td>0.470655</td>\n",
       "      <td>0.508464</td>\n",
       "      <td>0.373474</td>\n",
       "      <td>0.411227</td>\n",
       "      <td>0.555136</td>\n",
       "      <td>0.085970</td>\n",
       "      <td>0.796380</td>\n",
       "    </tr>\n",
       "    <tr>\n",
       "      <th>5</th>\n",
       "      <td>0.473642</td>\n",
       "      <td>0.470655</td>\n",
       "      <td>0.508464</td>\n",
       "      <td>0.373474</td>\n",
       "      <td>0.411227</td>\n",
       "      <td>0.555136</td>\n",
       "      <td>0.085970</td>\n",
       "      <td>0.796380</td>\n",
       "      <td>0.503571</td>\n",
       "      <td>0.500513</td>\n",
       "      <td>0.549175</td>\n",
       "      <td>0.358114</td>\n",
       "      <td>0.385241</td>\n",
       "      <td>0.527462</td>\n",
       "      <td>0.085970</td>\n",
       "      <td>0.806335</td>\n",
       "    </tr>\n",
       "  </tbody>\n",
       "</table>\n",
       "</div>"
      ],
      "text/plain": [
       "   var1(t-1)  var2(t-1)  var3(t-1)  var4(t-1)  var5(t-1)  var6(t-1)  \\\n",
       "1   0.509917   0.506829   0.545241   0.334866   0.369087   0.520731   \n",
       "2   0.520807   0.517719   0.570215   0.334036   0.361712   0.511007   \n",
       "3   0.494561   0.491499   0.541135   0.366002   0.385943   0.535689   \n",
       "4   0.456484   0.453531   0.485885   0.380116   0.421411   0.570843   \n",
       "5   0.473642   0.470655   0.508464   0.373474   0.411227   0.555136   \n",
       "\n",
       "   var7(t-1)  var8(t-1)   var1(t)   var2(t)   var3(t)   var4(t)   var5(t)  \\\n",
       "1   0.071203   0.862443  0.520807  0.517719  0.570215  0.334036  0.361712   \n",
       "2   0.032700   0.833484  0.494561  0.491499  0.541135  0.366002  0.385943   \n",
       "3   0.046062   0.819909  0.456484  0.453531  0.485885  0.380116  0.421411   \n",
       "4   0.074719   0.800905  0.473642  0.470655  0.508464  0.373474  0.411227   \n",
       "5   0.085970   0.796380  0.503571  0.500513  0.549175  0.358114  0.385241   \n",
       "\n",
       "    var6(t)   var7(t)   var8(t)  \n",
       "1  0.511007  0.032700  0.833484  \n",
       "2  0.535689  0.046062  0.819909  \n",
       "3  0.570843  0.074719  0.800905  \n",
       "4  0.555136  0.085970  0.796380  \n",
       "5  0.527462  0.085970  0.806335  "
      ]
     },
     "execution_count": 257,
     "metadata": {},
     "output_type": "execute_result"
    }
   ],
   "source": [
    "pred_reframed = series_to_supervised(pred_scaled, 1, 1)\n",
    "pred_reframed.head()"
   ]
  },
  {
   "cell_type": "code",
   "execution_count": 258,
   "metadata": {},
   "outputs": [
    {
     "data": {
      "text/html": [
       "<div>\n",
       "<style scoped>\n",
       "    .dataframe tbody tr th:only-of-type {\n",
       "        vertical-align: middle;\n",
       "    }\n",
       "\n",
       "    .dataframe tbody tr th {\n",
       "        vertical-align: top;\n",
       "    }\n",
       "\n",
       "    .dataframe thead th {\n",
       "        text-align: right;\n",
       "    }\n",
       "</style>\n",
       "<table border=\"1\" class=\"dataframe\">\n",
       "  <thead>\n",
       "    <tr style=\"text-align: right;\">\n",
       "      <th></th>\n",
       "      <th>var1(t-1)</th>\n",
       "      <th>var2(t-1)</th>\n",
       "      <th>var3(t-1)</th>\n",
       "      <th>var4(t-1)</th>\n",
       "      <th>var5(t-1)</th>\n",
       "      <th>var6(t-1)</th>\n",
       "      <th>var7(t-1)</th>\n",
       "      <th>var8(t-1)</th>\n",
       "      <th>var1(t)</th>\n",
       "    </tr>\n",
       "  </thead>\n",
       "  <tbody>\n",
       "    <tr>\n",
       "      <th>1</th>\n",
       "      <td>0.509917</td>\n",
       "      <td>0.506829</td>\n",
       "      <td>0.545241</td>\n",
       "      <td>0.334866</td>\n",
       "      <td>0.369087</td>\n",
       "      <td>0.520731</td>\n",
       "      <td>0.071203</td>\n",
       "      <td>0.862443</td>\n",
       "      <td>0.520807</td>\n",
       "    </tr>\n",
       "    <tr>\n",
       "      <th>2</th>\n",
       "      <td>0.520807</td>\n",
       "      <td>0.517719</td>\n",
       "      <td>0.570215</td>\n",
       "      <td>0.334036</td>\n",
       "      <td>0.361712</td>\n",
       "      <td>0.511007</td>\n",
       "      <td>0.032700</td>\n",
       "      <td>0.833484</td>\n",
       "      <td>0.494561</td>\n",
       "    </tr>\n",
       "    <tr>\n",
       "      <th>3</th>\n",
       "      <td>0.494561</td>\n",
       "      <td>0.491499</td>\n",
       "      <td>0.541135</td>\n",
       "      <td>0.366002</td>\n",
       "      <td>0.385943</td>\n",
       "      <td>0.535689</td>\n",
       "      <td>0.046062</td>\n",
       "      <td>0.819909</td>\n",
       "      <td>0.456484</td>\n",
       "    </tr>\n",
       "    <tr>\n",
       "      <th>4</th>\n",
       "      <td>0.456484</td>\n",
       "      <td>0.453531</td>\n",
       "      <td>0.485885</td>\n",
       "      <td>0.380116</td>\n",
       "      <td>0.421411</td>\n",
       "      <td>0.570843</td>\n",
       "      <td>0.074719</td>\n",
       "      <td>0.800905</td>\n",
       "      <td>0.473642</td>\n",
       "    </tr>\n",
       "    <tr>\n",
       "      <th>5</th>\n",
       "      <td>0.473642</td>\n",
       "      <td>0.470655</td>\n",
       "      <td>0.508464</td>\n",
       "      <td>0.373474</td>\n",
       "      <td>0.411227</td>\n",
       "      <td>0.555136</td>\n",
       "      <td>0.085970</td>\n",
       "      <td>0.796380</td>\n",
       "      <td>0.503571</td>\n",
       "    </tr>\n",
       "  </tbody>\n",
       "</table>\n",
       "</div>"
      ],
      "text/plain": [
       "   var1(t-1)  var2(t-1)  var3(t-1)  var4(t-1)  var5(t-1)  var6(t-1)  \\\n",
       "1   0.509917   0.506829   0.545241   0.334866   0.369087   0.520731   \n",
       "2   0.520807   0.517719   0.570215   0.334036   0.361712   0.511007   \n",
       "3   0.494561   0.491499   0.541135   0.366002   0.385943   0.535689   \n",
       "4   0.456484   0.453531   0.485885   0.380116   0.421411   0.570843   \n",
       "5   0.473642   0.470655   0.508464   0.373474   0.411227   0.555136   \n",
       "\n",
       "   var7(t-1)  var8(t-1)   var1(t)  \n",
       "1   0.071203   0.862443  0.520807  \n",
       "2   0.032700   0.833484  0.494561  \n",
       "3   0.046062   0.819909  0.456484  \n",
       "4   0.074719   0.800905  0.473642  \n",
       "5   0.085970   0.796380  0.503571  "
      ]
     },
     "execution_count": 258,
     "metadata": {},
     "output_type": "execute_result"
    }
   ],
   "source": [
    "pred = {'vfx': 8}\n",
    "pred_reframed = pandas.concat([pred_reframed.iloc[:,0:8],pred_reframed.iloc[:,pred['vfx']]],axis=1)\n",
    "pred_reframed.head()"
   ]
  },
  {
   "cell_type": "code",
   "execution_count": 259,
   "metadata": {},
   "outputs": [
    {
     "data": {
      "text/plain": [
       "((254, 8), (254,))"
      ]
     },
     "execution_count": 259,
     "metadata": {},
     "output_type": "execute_result"
    }
   ],
   "source": [
    "pred_test = pred_reframed.values[:,:]\n",
    "pred_test_X , pred_test_y  = pred_test[:, :-1], pred_test[:, -1]\n",
    "pred_test_X.shape, pred_test_y.shape"
   ]
  },
  {
   "cell_type": "code",
   "execution_count": 260,
   "metadata": {},
   "outputs": [
    {
     "data": {
      "text/plain": [
       "((254, 1), (254, 8))"
      ]
     },
     "execution_count": 260,
     "metadata": {},
     "output_type": "execute_result"
    }
   ],
   "source": [
    "pred_test_X  = pred_test_X.reshape((pred_test_X.shape[0], 1, pred_test_X.shape[1]))\n",
    "pred_test_X.shape, pred_test_y.shape\n",
    "\n",
    "pred_yhat = model.predict(pred_test_X)\n",
    "pred_test_X = pred_test_X.reshape((pred_test_X.shape[0], pred_test_X.shape[2]))\n",
    "pred_yhat.shape, pred_test_X.shape"
   ]
  },
  {
   "cell_type": "markdown",
   "metadata": {},
   "source": [
    "## Invert scaling for forecast"
   ]
  },
  {
   "cell_type": "code",
   "execution_count": 261,
   "metadata": {},
   "outputs": [
    {
     "data": {
      "text/plain": [
       "((254,),\n",
       " array([300.06053952, 300.49707575, 297.35447094, 291.94181046,\n",
       "        293.23404442, 296.77695571, 296.29507624, 292.26430449,\n",
       "        294.58176686, 296.92060372, 301.09447023, 299.54006034,\n",
       "        301.33758181, 300.54005651, 301.42240695, 300.40482672,\n",
       "        301.62660483, 301.57802438, 303.29474292, 304.46544352,\n",
       "        305.76551256, 306.63181904, 306.25448696, 306.47301675,\n",
       "        304.14294201, 307.87483708, 309.44123882, 310.6347045 ,\n",
       "        309.83447281, 311.71696147, 312.9703565 , 312.62069389,\n",
       "        312.68287358, 313.0767879 , 312.67207792, 315.46220159,\n",
       "        314.95136673, 313.28754242, 313.71079342, 314.91861343,\n",
       "        314.96071948, 317.10237115, 318.05926694, 319.10887528,\n",
       "        314.96354548, 312.65333505, 311.21149454, 314.76120919,\n",
       "        315.18896086, 318.35751561, 317.58425811, 317.42144108,\n",
       "        317.58081157, 319.69953369, 320.73448117, 323.15797123,\n",
       "        323.25730771, 323.42692061, 324.12146104, 324.72406645,\n",
       "        325.30132748, 325.22398603, 326.84234   , 327.01995993,\n",
       "        324.89371673, 325.35635991, 327.40499251, 326.72332612,\n",
       "        327.33701876, 326.8643425 , 326.00231989, 326.89696123,\n",
       "        325.52695219, 326.86864132, 327.01767221, 326.65990538,\n",
       "        329.17201102, 330.16866533, 328.88030404, 327.76892721,\n",
       "        326.4053851 , 323.10044175, 316.62149349, 319.98125245,\n",
       "        319.23496913, 318.72847048, 312.74562893, 312.84659522,\n",
       "        317.44152967, 321.20218575, 321.83225129, 318.44108475,\n",
       "        319.79155096, 321.21802785, 324.75692441, 324.13716857,\n",
       "        324.6084692 , 323.06673897, 325.2828388 , 324.14381492,\n",
       "        320.11159279, 308.41547213, 300.71339257, 298.69013424,\n",
       "        286.00480559, 284.18453399, 295.06141095, 289.61616911,\n",
       "        295.80536169, 287.89815719, 280.87624877, 258.32148191,\n",
       "        270.52234805, 261.51259614, 247.48195239, 262.30345266,\n",
       "        242.46442485, 246.58562142, 235.52801443, 239.66184955,\n",
       "        231.43948519, 225.81160501, 236.96371324, 240.75827021,\n",
       "        246.95409419, 240.83465844, 243.99421183, 242.5775699 ,\n",
       "        237.46129651, 242.30551789, 243.83869533, 249.89802978,\n",
       "        248.59212555, 254.96359574, 253.49887053, 251.19985573,\n",
       "        253.44423061, 249.99383748, 250.44176372, 253.78148269,\n",
       "        248.83780147, 241.45953924, 242.42018435, 243.15744387,\n",
       "        245.14837131, 245.42335399, 245.61175089, 249.40150439,\n",
       "        249.32107153, 245.41207238, 245.96505067, 248.01592988,\n",
       "        247.63744272, 248.65269411, 251.80453578, 251.63804794,\n",
       "        248.71223843, 245.79552748, 247.67427056, 248.50669484,\n",
       "        254.06294352, 252.80875228, 255.14632192, 255.81193688,\n",
       "        255.35155899, 258.30555009, 259.77708614, 259.07771981,\n",
       "        260.44556448, 261.16857808, 263.28050058, 265.89141936,\n",
       "        265.08741592, 270.56463353, 271.50894685, 270.01103471,\n",
       "        268.8138085 , 258.01868022, 259.96714275, 261.55402559,\n",
       "        265.2570064 , 264.55444399, 264.94265022, 263.73771976,\n",
       "        265.0679329 , 265.28270215, 260.15938616, 262.31217366,\n",
       "        258.18593438, 260.91615113, 263.19703985, 264.38292091,\n",
       "        265.28832426, 268.25284561, 266.16752722, 267.44117531,\n",
       "        266.46345079, 268.4122161 , 266.52493145, 269.45178388,\n",
       "        271.06164487, 270.91337656, 271.13437349, 272.60054161,\n",
       "        272.27092274, 272.99474003, 269.94059381, 268.28372986,\n",
       "        269.27450038, 267.53180947, 269.21922124, 268.89731783,\n",
       "        269.94261239, 271.83654714, 272.17935405, 273.32561491,\n",
       "        273.66476595, 273.76403514, 274.36949647, 275.194452  ,\n",
       "        279.14069017, 278.00165882, 277.89563113, 278.26766257,\n",
       "        278.47025306, 278.35933593, 278.94880562, 279.64530482,\n",
       "        281.87665614, 282.69102535, 284.33890289, 284.61606116,\n",
       "        285.07842024, 285.08808698, 286.42424371, 290.47004265,\n",
       "        281.99235805, 279.5284441 , 273.40006306, 277.73080301,\n",
       "        274.11468461, 274.75786344, 277.28739613, 278.99996537,\n",
       "        279.26062363, 278.05131585, 276.18377961, 273.54718003,\n",
       "        275.75470465, 272.22339644, 272.29608768, 275.90163471,\n",
       "        279.08072345, 277.83549245]))"
      ]
     },
     "execution_count": 261,
     "metadata": {},
     "output_type": "execute_result"
    }
   ],
   "source": [
    "pred = {'VFINX': 0}\n",
    "pred_inv_yhat = concatenate((pred_yhat, numpy.delete(pred_test_X, pred['VFINX'], axis=1)), axis=1)\n",
    "pred_inv_yhat = scaler.inverse_transform(pred_inv_yhat)\n",
    "pred_inv_yhat = pred_inv_yhat[:,0]\n",
    "pred_inv_yhat.shape,pred_inv_yhat"
   ]
  },
  {
   "cell_type": "markdown",
   "metadata": {},
   "source": [
    "## Invert scaling for actual"
   ]
  },
  {
   "cell_type": "code",
   "execution_count": 264,
   "metadata": {},
   "outputs": [
    {
     "data": {
      "text/plain": [
       "(254,)"
      ]
     },
     "execution_count": 264,
     "metadata": {},
     "output_type": "execute_result"
    }
   ],
   "source": [
    "real = pred_test_y.reshape((len(pred_test_y), 1))\n",
    "inv_y = concatenate((real, numpy.delete(pred_test_X, pred['VFINX'], axis=1)), axis=1)\n",
    "inv_y = scaler.inverse_transform(inv_y)\n",
    "inv_y = inv_y[:,0]\n",
    "inv_y.shape"
   ]
  },
  {
   "cell_type": "markdown",
   "metadata": {},
   "source": [
    "## RMSE"
   ]
  },
  {
   "cell_type": "code",
   "execution_count": 265,
   "metadata": {},
   "outputs": [
    {
     "name": "stdout",
     "output_type": "stream",
     "text": [
      "Test RMSE: 26.054\n"
     ]
    }
   ],
   "source": [
    "from sklearn.metrics import mean_squared_error\n",
    "rmse = sqrt(mean_squared_error(inv_y, pred_inv_yhat))\n",
    "print('Test RMSE: %.3f' % rmse)"
   ]
  },
  {
   "cell_type": "code",
   "execution_count": 266,
   "metadata": {},
   "outputs": [
    {
     "data": {
      "text/plain": [
       "25358.164295907314"
      ]
     },
     "execution_count": 266,
     "metadata": {},
     "output_type": "execute_result"
    }
   ],
   "source": [
    "from RegscorePy import *\n",
    "aic.aic(inv_y, pred_inv_yhat, 11851)"
   ]
  },
  {
   "cell_type": "code",
   "execution_count": 267,
   "metadata": {},
   "outputs": [
    {
     "data": {
      "text/plain": [
       "(array([269.95739746, 266.66537476, 261.88943481, 264.04156494,\n",
       "        267.79547119, 266.59655762, 262.44955444, 264.9161377 ,\n",
       "        266.62606812, 269.56430054, 269.19088745, 271.87365723,\n",
       "        271.34295654, 272.10946655, 271.04821777, 272.91531372,\n",
       "        271.95227051, 272.73846436, 273.25927734, 274.37954712,\n",
       "        275.90274048, 275.81433105, 276.60043335, 275.7749939 ,\n",
       "        278.46755981, 279.49942017, 279.1652832 , 279.38146973,\n",
       "        280.27572632, 281.04223633, 280.48214722, 280.93414307,\n",
       "        281.15036011, 281.45498657, 283.66604614, 283.81344604,\n",
       "        283.65625   , 282.64407349, 282.22149658, 282.84057617,\n",
       "        284.9927063 , 285.62161255, 286.85003662, 285.75924683,\n",
       "        283.30245972, 281.42550659, 283.2336731 , 283.73486328,\n",
       "        286.33901978, 285.45458984, 285.15975952, 285.98519897,\n",
       "        288.48129272, 288.55004883, 290.61373901, 290.7119751 ,\n",
       "        290.61373901, 291.92071533, 293.38677979, 293.63360596,\n",
       "        293.60397339, 295.13421631, 295.14404297, 293.47564697,\n",
       "        294.35427856, 296.85198975, 294.78866577, 295.82525635,\n",
       "        295.02560425, 296.48669434, 298.53030396, 297.6812439 ,\n",
       "        299.75445557, 299.32995605, 299.89263916, 302.41012573,\n",
       "        303.58493042, 302.78527832, 302.88397217, 303.2492981 ,\n",
       "        300.51461792, 295.77590942, 298.75735474, 298.51052856,\n",
       "        299.48788452, 294.20620728, 296.33862305, 300.78118896,\n",
       "        304.16738892, 305.23361206, 303.64416504, 305.91482544,\n",
       "        306.4380188 , 308.42242432, 308.02749634, 308.63961792,\n",
       "        307.75106812, 309.25167847, 308.07684326, 304.84857178,\n",
       "        294.66033936, 285.74557495, 284.65963745, 272.14144897,\n",
       "        269.9597168 , 282.37908936, 274.45159912, 286.04171753,\n",
       "        276.40634155, 271.69720459, 251.00299072, 263.4034729 ,\n",
       "        250.55693054, 226.77696228, 247.91030884, 218.21261597,\n",
       "        231.25738525, 219.29307556, 220.32397461, 210.80801392,\n",
       "        204.63256836, 223.86270142, 226.44985962, 240.58502197,\n",
       "        232.48654175, 240.30744934, 236.48126221, 226.04344177,\n",
       "        231.24746704, 227.77812195, 243.78674316, 243.40014648,\n",
       "        251.7563324 , 255.43386841, 252.85661316, 260.61807251,\n",
       "        254.89857483, 256.37554932, 263.25476074, 258.54632568,\n",
       "        250.62631226, 256.37554932, 256.24667358, 259.82507324,\n",
       "        263.65127563, 262.2734375 , 269.25180054, 266.78359985,\n",
       "        259.31951904, 260.4197998 , 262.7789917 , 260.95510864,\n",
       "        264.05770874, 268.56784058, 268.60751343, 263.12591553,\n",
       "        258.55627441, 261.58947754, 262.64019775, 270.94683838,\n",
       "        268.13171387, 272.6418457 , 270.54040527, 271.22436523,\n",
       "        274.56484985, 278.6388855 , 278.09371948, 279.47155762,\n",
       "        280.52227783, 282.83184814, 286.72744751, 285.81552124,\n",
       "        293.30932617, 296.84805298, 294.55828857, 292.99209595,\n",
       "        275.75439453, 279.43188477, 281.77124023, 287.11401367,\n",
       "        286.08312988, 286.25164795, 284.68548584, 286.53912354,\n",
       "        287.76824951, 280.33392334, 283.42657471, 276.52954102,\n",
       "        280.62298584, 284.96536255, 286.39956665, 287.76403809,\n",
       "        292.33551025, 289.16833496, 291.43914795, 289.87545776,\n",
       "        292.90319824, 290.16430664, 294.08840942, 296.76754761,\n",
       "        295.7616272 , 296.61816406, 299.10806274, 299.61599731,\n",
       "        301.33901978, 297.65393066, 295.81143188, 298.00253296,\n",
       "        296.07037354, 299.75543213, 298.6897583 , 301.00039673,\n",
       "        303.17160034, 304.26715088, 306.21923828, 308.22113037,\n",
       "        308.48010254, 309.32666016, 306.86660767, 311.19906616,\n",
       "        310.6413269 , 310.60147095, 311.45803833, 312.21496582,\n",
       "        310.89031982, 311.8862915 , 312.97189331, 316.14901733,\n",
       "        317.29437256, 320.53125   , 321.08901978, 323.28012085,\n",
       "        323.28012085, 325.03302002, 330.06265259, 318.52938843,\n",
       "        315.93988037, 307.17538452, 313.38021851, 307.88250732,\n",
       "        308.0617981 , 312.07553101, 313.71884155, 312.27471924,\n",
       "        309.65533447, 306.18936157, 302.66366577, 305.84075928,\n",
       "        298.6100769 , 299.51641846, 304.30700684, 309.23001099,\n",
       "        307.77999878, 310.32998657]),\n",
       " array([300.06053952, 300.49707575, 297.35447094, 291.94181046,\n",
       "        293.23404442, 296.77695571, 296.29507624, 292.26430449,\n",
       "        294.58176686, 296.92060372, 301.09447023, 299.54006034,\n",
       "        301.33758181, 300.54005651, 301.42240695, 300.40482672,\n",
       "        301.62660483, 301.57802438, 303.29474292, 304.46544352,\n",
       "        305.76551256, 306.63181904, 306.25448696, 306.47301675,\n",
       "        304.14294201, 307.87483708, 309.44123882, 310.6347045 ,\n",
       "        309.83447281, 311.71696147, 312.9703565 , 312.62069389,\n",
       "        312.68287358, 313.0767879 , 312.67207792, 315.46220159,\n",
       "        314.95136673, 313.28754242, 313.71079342, 314.91861343,\n",
       "        314.96071948, 317.10237115, 318.05926694, 319.10887528,\n",
       "        314.96354548, 312.65333505, 311.21149454, 314.76120919,\n",
       "        315.18896086, 318.35751561, 317.58425811, 317.42144108,\n",
       "        317.58081157, 319.69953369, 320.73448117, 323.15797123,\n",
       "        323.25730771, 323.42692061, 324.12146104, 324.72406645,\n",
       "        325.30132748, 325.22398603, 326.84234   , 327.01995993,\n",
       "        324.89371673, 325.35635991, 327.40499251, 326.72332612,\n",
       "        327.33701876, 326.8643425 , 326.00231989, 326.89696123,\n",
       "        325.52695219, 326.86864132, 327.01767221, 326.65990538,\n",
       "        329.17201102, 330.16866533, 328.88030404, 327.76892721,\n",
       "        326.4053851 , 323.10044175, 316.62149349, 319.98125245,\n",
       "        319.23496913, 318.72847048, 312.74562893, 312.84659522,\n",
       "        317.44152967, 321.20218575, 321.83225129, 318.44108475,\n",
       "        319.79155096, 321.21802785, 324.75692441, 324.13716857,\n",
       "        324.6084692 , 323.06673897, 325.2828388 , 324.14381492,\n",
       "        320.11159279, 308.41547213, 300.71339257, 298.69013424,\n",
       "        286.00480559, 284.18453399, 295.06141095, 289.61616911,\n",
       "        295.80536169, 287.89815719, 280.87624877, 258.32148191,\n",
       "        270.52234805, 261.51259614, 247.48195239, 262.30345266,\n",
       "        242.46442485, 246.58562142, 235.52801443, 239.66184955,\n",
       "        231.43948519, 225.81160501, 236.96371324, 240.75827021,\n",
       "        246.95409419, 240.83465844, 243.99421183, 242.5775699 ,\n",
       "        237.46129651, 242.30551789, 243.83869533, 249.89802978,\n",
       "        248.59212555, 254.96359574, 253.49887053, 251.19985573,\n",
       "        253.44423061, 249.99383748, 250.44176372, 253.78148269,\n",
       "        248.83780147, 241.45953924, 242.42018435, 243.15744387,\n",
       "        245.14837131, 245.42335399, 245.61175089, 249.40150439,\n",
       "        249.32107153, 245.41207238, 245.96505067, 248.01592988,\n",
       "        247.63744272, 248.65269411, 251.80453578, 251.63804794,\n",
       "        248.71223843, 245.79552748, 247.67427056, 248.50669484,\n",
       "        254.06294352, 252.80875228, 255.14632192, 255.81193688,\n",
       "        255.35155899, 258.30555009, 259.77708614, 259.07771981,\n",
       "        260.44556448, 261.16857808, 263.28050058, 265.89141936,\n",
       "        265.08741592, 270.56463353, 271.50894685, 270.01103471,\n",
       "        268.8138085 , 258.01868022, 259.96714275, 261.55402559,\n",
       "        265.2570064 , 264.55444399, 264.94265022, 263.73771976,\n",
       "        265.0679329 , 265.28270215, 260.15938616, 262.31217366,\n",
       "        258.18593438, 260.91615113, 263.19703985, 264.38292091,\n",
       "        265.28832426, 268.25284561, 266.16752722, 267.44117531,\n",
       "        266.46345079, 268.4122161 , 266.52493145, 269.45178388,\n",
       "        271.06164487, 270.91337656, 271.13437349, 272.60054161,\n",
       "        272.27092274, 272.99474003, 269.94059381, 268.28372986,\n",
       "        269.27450038, 267.53180947, 269.21922124, 268.89731783,\n",
       "        269.94261239, 271.83654714, 272.17935405, 273.32561491,\n",
       "        273.66476595, 273.76403514, 274.36949647, 275.194452  ,\n",
       "        279.14069017, 278.00165882, 277.89563113, 278.26766257,\n",
       "        278.47025306, 278.35933593, 278.94880562, 279.64530482,\n",
       "        281.87665614, 282.69102535, 284.33890289, 284.61606116,\n",
       "        285.07842024, 285.08808698, 286.42424371, 290.47004265,\n",
       "        281.99235805, 279.5284441 , 273.40006306, 277.73080301,\n",
       "        274.11468461, 274.75786344, 277.28739613, 278.99996537,\n",
       "        279.26062363, 278.05131585, 276.18377961, 273.54718003,\n",
       "        275.75470465, 272.22339644, 272.29608768, 275.90163471,\n",
       "        279.08072345, 277.83549245]))"
      ]
     },
     "execution_count": 267,
     "metadata": {},
     "output_type": "execute_result"
    }
   ],
   "source": [
    "#inv_y = np.cumprod(inv_y+1)\n",
    "#inv_yhat = np.cumprod(inv_yhat+1)\n",
    "inv_y,pred_inv_yhat"
   ]
  },
  {
   "cell_type": "markdown",
   "metadata": {},
   "source": [
    "## Predict vs Real"
   ]
  },
  {
   "cell_type": "code",
   "execution_count": 268,
   "metadata": {},
   "outputs": [
    {
     "data": {
      "image/png": "[encoded data removed]",
      "text/plain": [
       "<Figure size 1440x720 with 1 Axes>"
      ]
     },
     "metadata": {
      "needs_background": "light"
     },
     "output_type": "display_data"
    }
   ],
   "source": [
    "import matplotlib.pyplot as plt\n",
    "plt.figure(figsize=(20,10))\n",
    "plt.plot(inv_y, color = 'red', label = 'Real')\n",
    "plt.plot(pred_inv_yhat, color = 'blue', label = 'Predict')\n",
    "plt.title('Real vs Predict')\n",
    "plt.xlabel('Time')\n",
    "plt.ylabel('Price')\n",
    "plt.legend()\n",
    "plt.show()"
   ]
  },
  {
   "cell_type": "markdown",
   "metadata": {},
   "source": [
    "## CNN Data Split (same with LSTM)"
   ]
  },
  {
   "cell_type": "code",
   "execution_count": 68,
   "metadata": {},
   "outputs": [
    {
     "data": {
      "text/plain": [
       "((400, 8), (400,), (103, 8), (103,))"
      ]
     },
     "execution_count": 68,
     "metadata": {},
     "output_type": "execute_result"
    }
   ],
   "source": [
    "train = reframed.values[:400,:]\n",
    "test = reframed.values[400:504,:]\n",
    "train_X, train_y = train[:, :-1], train[:, -1]\n",
    "test_X , test_y  = test[:, :-1], test[:, -1]\n",
    "train_X.shape, train_y.shape, test_X.shape, test_y.shape"
   ]
  },
  {
   "cell_type": "markdown",
   "metadata": {},
   "source": [
    "## CNN Data Split"
   ]
  },
  {
   "cell_type": "code",
   "execution_count": 69,
   "metadata": {},
   "outputs": [
    {
     "name": "stdout",
     "output_type": "stream",
     "text": [
      "Model: \"sequential_2\"\n",
      "_________________________________________________________________\n",
      "Layer (type)                 Output Shape              Param #   \n",
      "=================================================================\n",
      "dense_2 (Dense)              (None, 5)                 45        \n",
      "_________________________________________________________________\n",
      "dense_3 (Dense)              (None, 5)                 30        \n",
      "_________________________________________________________________\n",
      "dense_4 (Dense)              (None, 1)                 6         \n",
      "=================================================================\n",
      "Total params: 81\n",
      "Trainable params: 81\n",
      "Non-trainable params: 0\n",
      "_________________________________________________________________\n"
     ]
    }
   ],
   "source": [
    "from keras.layers import Activation, Dense\n",
    "model = keras.Sequential()\n",
    "model.add(Dense(5, activation='relu', input_shape=(8,)))\n",
    "model.add(Dense(5, activation='relu'))\n",
    "model.add(Dense(1,  activation='sigmoid'))\n",
    "model.compile(loss='mse',\n",
    "              optimizer='adam',\n",
    "              metrics=['mae','mse'])\n",
    "model.summary()"
   ]
  },
  {
   "cell_type": "markdown",
   "metadata": {},
   "source": [
    "## Training"
   ]
  },
  {
   "cell_type": "code",
   "execution_count": 73,
   "metadata": {},
   "outputs": [
    {
     "name": "stdout",
     "output_type": "stream",
     "text": [
      "Epoch 1/200\n",
      "13/13 [==============================] - 0s 3ms/step - loss: 0.0200 - mae: 0.1066 - mse: 0.0200 - val_loss: 0.0380 - val_mae: 0.1851 - val_mse: 0.0380\n",
      "Epoch 2/200\n",
      "13/13 [==============================] - 0s 2ms/step - loss: 0.0196 - mae: 0.1050 - mse: 0.0196 - val_loss: 0.0363 - val_mae: 0.1806 - val_mse: 0.0363\n",
      "Epoch 3/200\n",
      "13/13 [==============================] - 0s 4ms/step - loss: 0.0193 - mae: 0.1037 - mse: 0.0193 - val_loss: 0.0344 - val_mae: 0.1755 - val_mse: 0.0344\n",
      "Epoch 4/200\n",
      "13/13 [==============================] - 0s 2ms/step - loss: 0.0190 - mae: 0.1024 - mse: 0.0190 - val_loss: 0.0326 - val_mae: 0.1707 - val_mse: 0.0326\n",
      "Epoch 5/200\n",
      "13/13 [==============================] - 0s 2ms/step - loss: 0.0187 - mae: 0.1012 - mse: 0.0187 - val_loss: 0.0310 - val_mae: 0.1660 - val_mse: 0.0310\n",
      "Epoch 6/200\n",
      "13/13 [==============================] - 0s 5ms/step - loss: 0.0184 - mae: 0.0999 - mse: 0.0184 - val_loss: 0.0294 - val_mae: 0.1615 - val_mse: 0.0294\n",
      "Epoch 7/200\n",
      "13/13 [==============================] - 0s 2ms/step - loss: 0.0181 - mae: 0.0987 - mse: 0.0181 - val_loss: 0.0279 - val_mae: 0.1571 - val_mse: 0.0279\n",
      "Epoch 8/200\n",
      "13/13 [==============================] - 0s 2ms/step - loss: 0.0179 - mae: 0.0975 - mse: 0.0179 - val_loss: 0.0266 - val_mae: 0.1528 - val_mse: 0.0266\n",
      "Epoch 9/200\n",
      "13/13 [==============================] - 0s 4ms/step - loss: 0.0176 - mae: 0.0963 - mse: 0.0176 - val_loss: 0.0251 - val_mae: 0.1482 - val_mse: 0.0251\n",
      "Epoch 10/200\n",
      "13/13 [==============================] - 0s 2ms/step - loss: 0.0173 - mae: 0.0952 - mse: 0.0173 - val_loss: 0.0239 - val_mae: 0.1440 - val_mse: 0.0239\n",
      "Epoch 11/200\n",
      "13/13 [==============================] - 0s 2ms/step - loss: 0.0171 - mae: 0.0941 - mse: 0.0171 - val_loss: 0.0227 - val_mae: 0.1401 - val_mse: 0.0227\n",
      "Epoch 12/200\n",
      "13/13 [==============================] - 0s 2ms/step - loss: 0.0168 - mae: 0.0930 - mse: 0.0168 - val_loss: 0.0216 - val_mae: 0.1364 - val_mse: 0.0216\n",
      "Epoch 13/200\n",
      "13/13 [==============================] - 0s 2ms/step - loss: 0.0166 - mae: 0.0919 - mse: 0.0166 - val_loss: 0.0206 - val_mae: 0.1328 - val_mse: 0.0206\n",
      "Epoch 14/200\n",
      "13/13 [==============================] - 0s 4ms/step - loss: 0.0164 - mae: 0.0909 - mse: 0.0164 - val_loss: 0.0197 - val_mae: 0.1294 - val_mse: 0.0197\n",
      "Epoch 15/200\n",
      "13/13 [==============================] - 0s 2ms/step - loss: 0.0161 - mae: 0.0898 - mse: 0.0161 - val_loss: 0.0188 - val_mae: 0.1260 - val_mse: 0.0188\n",
      "Epoch 16/200\n",
      "13/13 [==============================] - 0s 2ms/step - loss: 0.0159 - mae: 0.0888 - mse: 0.0159 - val_loss: 0.0179 - val_mae: 0.1226 - val_mse: 0.0179\n",
      "Epoch 17/200\n",
      "13/13 [==============================] - 0s 4ms/step - loss: 0.0157 - mae: 0.0879 - mse: 0.0157 - val_loss: 0.0171 - val_mae: 0.1193 - val_mse: 0.0171\n",
      "Epoch 18/200\n",
      "13/13 [==============================] - 0s 2ms/step - loss: 0.0155 - mae: 0.0869 - mse: 0.0155 - val_loss: 0.0163 - val_mae: 0.1163 - val_mse: 0.0163\n",
      "Epoch 19/200\n",
      "13/13 [==============================] - 0s 2ms/step - loss: 0.0153 - mae: 0.0860 - mse: 0.0153 - val_loss: 0.0156 - val_mae: 0.1135 - val_mse: 0.0156\n",
      "Epoch 20/200\n",
      "13/13 [==============================] - 0s 4ms/step - loss: 0.0151 - mae: 0.0851 - mse: 0.0151 - val_loss: 0.0149 - val_mae: 0.1109 - val_mse: 0.0149\n",
      "Epoch 21/200\n",
      "13/13 [==============================] - 0s 2ms/step - loss: 0.0149 - mae: 0.0842 - mse: 0.0149 - val_loss: 0.0143 - val_mae: 0.1084 - val_mse: 0.0143\n",
      "Epoch 22/200\n",
      "13/13 [==============================] - 0s 2ms/step - loss: 0.0147 - mae: 0.0833 - mse: 0.0147 - val_loss: 0.0137 - val_mae: 0.1061 - val_mse: 0.0137\n",
      "Epoch 23/200\n",
      "13/13 [==============================] - 0s 4ms/step - loss: 0.0145 - mae: 0.0824 - mse: 0.0145 - val_loss: 0.0132 - val_mae: 0.1038 - val_mse: 0.0132\n",
      "Epoch 24/200\n",
      "13/13 [==============================] - 0s 2ms/step - loss: 0.0143 - mae: 0.0815 - mse: 0.0143 - val_loss: 0.0126 - val_mae: 0.1014 - val_mse: 0.0126\n",
      "Epoch 25/200\n",
      "13/13 [==============================] - 0s 2ms/step - loss: 0.0141 - mae: 0.0807 - mse: 0.0141 - val_loss: 0.0121 - val_mae: 0.0991 - val_mse: 0.0121\n",
      "Epoch 26/200\n",
      "13/13 [==============================] - 0s 4ms/step - loss: 0.0139 - mae: 0.0799 - mse: 0.0139 - val_loss: 0.0116 - val_mae: 0.0970 - val_mse: 0.0116\n",
      "Epoch 27/200\n",
      "13/13 [==============================] - 0s 2ms/step - loss: 0.0137 - mae: 0.0791 - mse: 0.0137 - val_loss: 0.0112 - val_mae: 0.0949 - val_mse: 0.0112\n",
      "Epoch 28/200\n",
      "13/13 [==============================] - 0s 2ms/step - loss: 0.0136 - mae: 0.0784 - mse: 0.0136 - val_loss: 0.0107 - val_mae: 0.0929 - val_mse: 0.0107\n",
      "Epoch 29/200\n",
      "13/13 [==============================] - 0s 4ms/step - loss: 0.0134 - mae: 0.0776 - mse: 0.0134 - val_loss: 0.0103 - val_mae: 0.0909 - val_mse: 0.0103\n",
      "Epoch 30/200\n",
      "13/13 [==============================] - 0s 2ms/step - loss: 0.0132 - mae: 0.0769 - mse: 0.0132 - val_loss: 0.0100 - val_mae: 0.0890 - val_mse: 0.0100\n",
      "Epoch 31/200\n",
      "13/13 [==============================] - 0s 4ms/step - loss: 0.0131 - mae: 0.0763 - mse: 0.0131 - val_loss: 0.0096 - val_mae: 0.0872 - val_mse: 0.0096\n",
      "Epoch 32/200\n",
      "13/13 [==============================] - 0s 2ms/step - loss: 0.0129 - mae: 0.0756 - mse: 0.0129 - val_loss: 0.0093 - val_mae: 0.0855 - val_mse: 0.0093\n",
      "Epoch 33/200\n",
      "13/13 [==============================] - 0s 2ms/step - loss: 0.0128 - mae: 0.0749 - mse: 0.0128 - val_loss: 0.0090 - val_mae: 0.0839 - val_mse: 0.0090\n",
      "Epoch 34/200\n",
      "13/13 [==============================] - 0s 4ms/step - loss: 0.0126 - mae: 0.0743 - mse: 0.0126 - val_loss: 0.0087 - val_mae: 0.0823 - val_mse: 0.0087\n",
      "Epoch 35/200\n",
      "13/13 [==============================] - 0s 2ms/step - loss: 0.0125 - mae: 0.0736 - mse: 0.0125 - val_loss: 0.0084 - val_mae: 0.0808 - val_mse: 0.0084\n",
      "Epoch 36/200\n",
      "13/13 [==============================] - 0s 2ms/step - loss: 0.0123 - mae: 0.0730 - mse: 0.0123 - val_loss: 0.0081 - val_mae: 0.0794 - val_mse: 0.0081\n",
      "Epoch 37/200\n",
      "13/13 [==============================] - 0s 4ms/step - loss: 0.0122 - mae: 0.0724 - mse: 0.0122 - val_loss: 0.0079 - val_mae: 0.0780 - val_mse: 0.0079\n",
      "Epoch 38/200\n",
      "13/13 [==============================] - 0s 2ms/step - loss: 0.0121 - mae: 0.0719 - mse: 0.0121 - val_loss: 0.0076 - val_mae: 0.0767 - val_mse: 0.0076\n",
      "Epoch 39/200\n",
      "13/13 [==============================] - 0s 2ms/step - loss: 0.0119 - mae: 0.0713 - mse: 0.0119 - val_loss: 0.0074 - val_mae: 0.0754 - val_mse: 0.0074\n",
      "Epoch 40/200\n",
      "13/13 [==============================] - 0s 4ms/step - loss: 0.0118 - mae: 0.0708 - mse: 0.0118 - val_loss: 0.0072 - val_mae: 0.0741 - val_mse: 0.0072\n",
      "Epoch 41/200\n",
      "13/13 [==============================] - 0s 2ms/step - loss: 0.0117 - mae: 0.0703 - mse: 0.0117 - val_loss: 0.0070 - val_mae: 0.0729 - val_mse: 0.0070\n",
      "Epoch 42/200\n",
      "13/13 [==============================] - 0s 2ms/step - loss: 0.0115 - mae: 0.0698 - mse: 0.0115 - val_loss: 0.0068 - val_mae: 0.0717 - val_mse: 0.0068\n",
      "Epoch 43/200\n",
      "13/13 [==============================] - 0s 4ms/step - loss: 0.0114 - mae: 0.0693 - mse: 0.0114 - val_loss: 0.0066 - val_mae: 0.0706 - val_mse: 0.0066\n",
      "Epoch 44/200\n",
      "13/13 [==============================] - 0s 2ms/step - loss: 0.0113 - mae: 0.0688 - mse: 0.0113 - val_loss: 0.0065 - val_mae: 0.0696 - val_mse: 0.0065\n",
      "Epoch 45/200\n",
      "13/13 [==============================] - 0s 4ms/step - loss: 0.0112 - mae: 0.0683 - mse: 0.0112 - val_loss: 0.0063 - val_mae: 0.0686 - val_mse: 0.0063\n",
      "Epoch 46/200\n",
      "13/13 [==============================] - 0s 2ms/step - loss: 0.0111 - mae: 0.0678 - mse: 0.0111 - val_loss: 0.0062 - val_mae: 0.0677 - val_mse: 0.0062\n",
      "Epoch 47/200\n",
      "13/13 [==============================] - 0s 2ms/step - loss: 0.0109 - mae: 0.0674 - mse: 0.0109 - val_loss: 0.0060 - val_mae: 0.0668 - val_mse: 0.0060\n",
      "Epoch 48/200\n",
      "13/13 [==============================] - 0s 4ms/step - loss: 0.0108 - mae: 0.0669 - mse: 0.0108 - val_loss: 0.0059 - val_mae: 0.0659 - val_mse: 0.0059\n",
      "Epoch 49/200\n",
      "13/13 [==============================] - 0s 2ms/step - loss: 0.0107 - mae: 0.0665 - mse: 0.0107 - val_loss: 0.0058 - val_mae: 0.0651 - val_mse: 0.0058\n",
      "Epoch 50/200\n",
      "13/13 [==============================] - 0s 2ms/step - loss: 0.0106 - mae: 0.0661 - mse: 0.0106 - val_loss: 0.0057 - val_mae: 0.0644 - val_mse: 0.0057\n",
      "Epoch 51/200\n",
      "13/13 [==============================] - 0s 4ms/step - loss: 0.0105 - mae: 0.0657 - mse: 0.0105 - val_loss: 0.0056 - val_mae: 0.0636 - val_mse: 0.0056\n",
      "Epoch 52/200\n",
      "13/13 [==============================] - 0s 2ms/step - loss: 0.0104 - mae: 0.0653 - mse: 0.0104 - val_loss: 0.0055 - val_mae: 0.0630 - val_mse: 0.0055\n",
      "Epoch 53/200\n",
      "13/13 [==============================] - 0s 4ms/step - loss: 0.0103 - mae: 0.0649 - mse: 0.0103 - val_loss: 0.0054 - val_mae: 0.0624 - val_mse: 0.0054\n",
      "Epoch 54/200\n",
      "13/13 [==============================] - 0s 2ms/step - loss: 0.0102 - mae: 0.0645 - mse: 0.0102 - val_loss: 0.0053 - val_mae: 0.0618 - val_mse: 0.0053\n",
      "Epoch 55/200\n",
      "13/13 [==============================] - 0s 2ms/step - loss: 0.0101 - mae: 0.0641 - mse: 0.0101 - val_loss: 0.0053 - val_mae: 0.0612 - val_mse: 0.0053\n",
      "Epoch 56/200\n",
      "13/13 [==============================] - 0s 4ms/step - loss: 0.0100 - mae: 0.0638 - mse: 0.0100 - val_loss: 0.0052 - val_mae: 0.0607 - val_mse: 0.0052\n",
      "Epoch 57/200\n",
      "13/13 [==============================] - 0s 2ms/step - loss: 0.0099 - mae: 0.0634 - mse: 0.0099 - val_loss: 0.0051 - val_mae: 0.0602 - val_mse: 0.0051\n",
      "Epoch 58/200\n",
      "13/13 [==============================] - 0s 2ms/step - loss: 0.0098 - mae: 0.0630 - mse: 0.0098 - val_loss: 0.0051 - val_mae: 0.0598 - val_mse: 0.0051\n",
      "Epoch 59/200\n",
      "13/13 [==============================] - 0s 4ms/step - loss: 0.0097 - mae: 0.0627 - mse: 0.0097 - val_loss: 0.0050 - val_mae: 0.0593 - val_mse: 0.0050\n",
      "Epoch 60/200\n",
      "13/13 [==============================] - 0s 2ms/step - loss: 0.0096 - mae: 0.0624 - mse: 0.0096 - val_loss: 0.0050 - val_mae: 0.0590 - val_mse: 0.0050\n",
      "Epoch 61/200\n",
      "13/13 [==============================] - 0s 2ms/step - loss: 0.0095 - mae: 0.0621 - mse: 0.0095 - val_loss: 0.0049 - val_mae: 0.0586 - val_mse: 0.0049\n",
      "Epoch 62/200\n",
      "13/13 [==============================] - 0s 2ms/step - loss: 0.0094 - mae: 0.0618 - mse: 0.0094 - val_loss: 0.0049 - val_mae: 0.0582 - val_mse: 0.0049\n",
      "Epoch 63/200\n",
      "13/13 [==============================] - 0s 2ms/step - loss: 0.0094 - mae: 0.0615 - mse: 0.0094 - val_loss: 0.0048 - val_mae: 0.0579 - val_mse: 0.0048\n",
      "Epoch 64/200\n",
      "13/13 [==============================] - 0s 4ms/step - loss: 0.0093 - mae: 0.0612 - mse: 0.0093 - val_loss: 0.0048 - val_mae: 0.0577 - val_mse: 0.0048\n",
      "Epoch 65/200\n",
      "13/13 [==============================] - 0s 2ms/step - loss: 0.0092 - mae: 0.0609 - mse: 0.0092 - val_loss: 0.0048 - val_mae: 0.0575 - val_mse: 0.0048\n",
      "Epoch 66/200\n",
      "13/13 [==============================] - 0s 2ms/step - loss: 0.0091 - mae: 0.0606 - mse: 0.0091 - val_loss: 0.0047 - val_mae: 0.0572 - val_mse: 0.0047\n",
      "Epoch 67/200\n",
      "13/13 [==============================] - 0s 4ms/step - loss: 0.0090 - mae: 0.0603 - mse: 0.0090 - val_loss: 0.0047 - val_mae: 0.0569 - val_mse: 0.0047\n",
      "Epoch 68/200\n",
      "13/13 [==============================] - 0s 2ms/step - loss: 0.0089 - mae: 0.0600 - mse: 0.0089 - val_loss: 0.0047 - val_mae: 0.0566 - val_mse: 0.0047\n",
      "Epoch 69/200\n",
      "13/13 [==============================] - 0s 2ms/step - loss: 0.0089 - mae: 0.0598 - mse: 0.0089 - val_loss: 0.0046 - val_mae: 0.0564 - val_mse: 0.0046\n",
      "Epoch 70/200\n",
      "13/13 [==============================] - 0s 2ms/step - loss: 0.0088 - mae: 0.0595 - mse: 0.0088 - val_loss: 0.0046 - val_mae: 0.0562 - val_mse: 0.0046\n",
      "Epoch 71/200\n",
      "13/13 [==============================] - 0s 2ms/step - loss: 0.0087 - mae: 0.0592 - mse: 0.0087 - val_loss: 0.0046 - val_mae: 0.0560 - val_mse: 0.0046\n",
      "Epoch 72/200\n",
      "13/13 [==============================] - 0s 5ms/step - loss: 0.0086 - mae: 0.0590 - mse: 0.0086 - val_loss: 0.0046 - val_mae: 0.0558 - val_mse: 0.0046\n",
      "Epoch 73/200\n",
      "13/13 [==============================] - 0s 2ms/step - loss: 0.0086 - mae: 0.0587 - mse: 0.0086 - val_loss: 0.0045 - val_mae: 0.0556 - val_mse: 0.0045\n",
      "Epoch 74/200\n",
      "13/13 [==============================] - 0s 2ms/step - loss: 0.0085 - mae: 0.0585 - mse: 0.0085 - val_loss: 0.0045 - val_mae: 0.0555 - val_mse: 0.0045\n",
      "Epoch 75/200\n",
      "13/13 [==============================] - 0s 4ms/step - loss: 0.0084 - mae: 0.0583 - mse: 0.0084 - val_loss: 0.0045 - val_mae: 0.0553 - val_mse: 0.0045\n",
      "Epoch 76/200\n",
      "13/13 [==============================] - 0s 2ms/step - loss: 0.0083 - mae: 0.0580 - mse: 0.0083 - val_loss: 0.0045 - val_mae: 0.0551 - val_mse: 0.0045\n",
      "Epoch 77/200\n",
      "13/13 [==============================] - 0s 2ms/step - loss: 0.0083 - mae: 0.0578 - mse: 0.0083 - val_loss: 0.0045 - val_mae: 0.0549 - val_mse: 0.0045\n",
      "Epoch 78/200\n",
      "13/13 [==============================] - 0s 4ms/step - loss: 0.0082 - mae: 0.0576 - mse: 0.0082 - val_loss: 0.0044 - val_mae: 0.0548 - val_mse: 0.0044\n",
      "Epoch 79/200\n",
      "13/13 [==============================] - 0s 2ms/step - loss: 0.0081 - mae: 0.0573 - mse: 0.0081 - val_loss: 0.0044 - val_mae: 0.0547 - val_mse: 0.0044\n",
      "Epoch 80/200\n",
      "13/13 [==============================] - 0s 2ms/step - loss: 0.0081 - mae: 0.0571 - mse: 0.0081 - val_loss: 0.0044 - val_mae: 0.0545 - val_mse: 0.0044\n",
      "Epoch 81/200\n",
      "13/13 [==============================] - 0s 4ms/step - loss: 0.0080 - mae: 0.0569 - mse: 0.0080 - val_loss: 0.0044 - val_mae: 0.0543 - val_mse: 0.0044\n",
      "Epoch 82/200\n",
      "13/13 [==============================] - 0s 2ms/step - loss: 0.0079 - mae: 0.0567 - mse: 0.0079 - val_loss: 0.0044 - val_mae: 0.0542 - val_mse: 0.0044\n",
      "Epoch 83/200\n",
      "13/13 [==============================] - 0s 2ms/step - loss: 0.0079 - mae: 0.0564 - mse: 0.0079 - val_loss: 0.0044 - val_mae: 0.0541 - val_mse: 0.0044\n",
      "Epoch 84/200\n",
      "13/13 [==============================] - 0s 4ms/step - loss: 0.0078 - mae: 0.0562 - mse: 0.0078 - val_loss: 0.0044 - val_mae: 0.0540 - val_mse: 0.0044\n",
      "Epoch 85/200\n",
      "13/13 [==============================] - 0s 2ms/step - loss: 0.0077 - mae: 0.0560 - mse: 0.0077 - val_loss: 0.0044 - val_mae: 0.0540 - val_mse: 0.0044\n",
      "Epoch 86/200\n",
      "13/13 [==============================] - 0s 4ms/step - loss: 0.0077 - mae: 0.0558 - mse: 0.0077 - val_loss: 0.0044 - val_mae: 0.0539 - val_mse: 0.0044\n",
      "Epoch 87/200\n",
      "13/13 [==============================] - 0s 2ms/step - loss: 0.0076 - mae: 0.0555 - mse: 0.0076 - val_loss: 0.0043 - val_mae: 0.0538 - val_mse: 0.0043\n",
      "Epoch 88/200\n",
      "13/13 [==============================] - 0s 2ms/step - loss: 0.0076 - mae: 0.0553 - mse: 0.0076 - val_loss: 0.0043 - val_mae: 0.0538 - val_mse: 0.0043\n",
      "Epoch 89/200\n",
      "13/13 [==============================] - 0s 4ms/step - loss: 0.0075 - mae: 0.0551 - mse: 0.0075 - val_loss: 0.0043 - val_mae: 0.0538 - val_mse: 0.0043\n",
      "Epoch 90/200\n",
      "13/13 [==============================] - 0s 2ms/step - loss: 0.0074 - mae: 0.0549 - mse: 0.0074 - val_loss: 0.0043 - val_mae: 0.0538 - val_mse: 0.0043\n",
      "Epoch 91/200\n",
      "13/13 [==============================] - 0s 2ms/step - loss: 0.0074 - mae: 0.0547 - mse: 0.0074 - val_loss: 0.0043 - val_mae: 0.0537 - val_mse: 0.0043\n",
      "Epoch 92/200\n",
      "13/13 [==============================] - 0s 5ms/step - loss: 0.0073 - mae: 0.0544 - mse: 0.0073 - val_loss: 0.0043 - val_mae: 0.0537 - val_mse: 0.0043\n",
      "Epoch 93/200\n",
      "13/13 [==============================] - 0s 2ms/step - loss: 0.0072 - mae: 0.0542 - mse: 0.0072 - val_loss: 0.0044 - val_mae: 0.0538 - val_mse: 0.0044\n",
      "Epoch 94/200\n",
      "13/13 [==============================] - 0s 2ms/step - loss: 0.0072 - mae: 0.0540 - mse: 0.0072 - val_loss: 0.0044 - val_mae: 0.0539 - val_mse: 0.0044\n",
      "Epoch 95/200\n",
      "13/13 [==============================] - 0s 4ms/step - loss: 0.0071 - mae: 0.0538 - mse: 0.0071 - val_loss: 0.0044 - val_mae: 0.0539 - val_mse: 0.0044\n",
      "Epoch 96/200\n",
      "13/13 [==============================] - 0s 2ms/step - loss: 0.0071 - mae: 0.0536 - mse: 0.0071 - val_loss: 0.0044 - val_mae: 0.0539 - val_mse: 0.0044\n",
      "Epoch 97/200\n",
      "13/13 [==============================] - 0s 4ms/step - loss: 0.0070 - mae: 0.0534 - mse: 0.0070 - val_loss: 0.0044 - val_mae: 0.0538 - val_mse: 0.0044\n",
      "Epoch 98/200\n",
      "13/13 [==============================] - 0s 2ms/step - loss: 0.0070 - mae: 0.0532 - mse: 0.0070 - val_loss: 0.0044 - val_mae: 0.0539 - val_mse: 0.0044\n",
      "Epoch 99/200\n",
      "13/13 [==============================] - 0s 2ms/step - loss: 0.0069 - mae: 0.0530 - mse: 0.0069 - val_loss: 0.0044 - val_mae: 0.0539 - val_mse: 0.0044\n",
      "Epoch 100/200\n",
      "13/13 [==============================] - 0s 4ms/step - loss: 0.0068 - mae: 0.0528 - mse: 0.0068 - val_loss: 0.0044 - val_mae: 0.0539 - val_mse: 0.0044\n",
      "Epoch 101/200\n",
      "13/13 [==============================] - 0s 2ms/step - loss: 0.0068 - mae: 0.0526 - mse: 0.0068 - val_loss: 0.0044 - val_mae: 0.0539 - val_mse: 0.0044\n",
      "Epoch 102/200\n",
      "13/13 [==============================] - 0s 2ms/step - loss: 0.0067 - mae: 0.0524 - mse: 0.0067 - val_loss: 0.0044 - val_mae: 0.0540 - val_mse: 0.0044\n",
      "Epoch 103/200\n",
      "13/13 [==============================] - 0s 4ms/step - loss: 0.0067 - mae: 0.0522 - mse: 0.0067 - val_loss: 0.0044 - val_mae: 0.0540 - val_mse: 0.0044\n",
      "Epoch 104/200\n",
      "13/13 [==============================] - 0s 2ms/step - loss: 0.0066 - mae: 0.0520 - mse: 0.0066 - val_loss: 0.0044 - val_mae: 0.0540 - val_mse: 0.0044\n",
      "Epoch 105/200\n",
      "13/13 [==============================] - 0s 2ms/step - loss: 0.0066 - mae: 0.0518 - mse: 0.0066 - val_loss: 0.0044 - val_mae: 0.0540 - val_mse: 0.0044\n",
      "Epoch 106/200\n",
      "13/13 [==============================] - 0s 2ms/step - loss: 0.0065 - mae: 0.0517 - mse: 0.0065 - val_loss: 0.0044 - val_mae: 0.0540 - val_mse: 0.0044\n",
      "Epoch 107/200\n",
      "13/13 [==============================] - 0s 2ms/step - loss: 0.0065 - mae: 0.0515 - mse: 0.0065 - val_loss: 0.0044 - val_mae: 0.0540 - val_mse: 0.0044\n",
      "Epoch 108/200\n",
      "13/13 [==============================] - 0s 4ms/step - loss: 0.0064 - mae: 0.0513 - mse: 0.0064 - val_loss: 0.0044 - val_mae: 0.0540 - val_mse: 0.0044\n",
      "Epoch 109/200\n",
      "13/13 [==============================] - 0s 2ms/step - loss: 0.0064 - mae: 0.0511 - mse: 0.0064 - val_loss: 0.0044 - val_mae: 0.0540 - val_mse: 0.0044\n",
      "Epoch 110/200\n",
      "13/13 [==============================] - 0s 2ms/step - loss: 0.0063 - mae: 0.0509 - mse: 0.0063 - val_loss: 0.0044 - val_mae: 0.0540 - val_mse: 0.0044\n",
      "Epoch 111/200\n",
      "13/13 [==============================] - 0s 5ms/step - loss: 0.0063 - mae: 0.0508 - mse: 0.0063 - val_loss: 0.0044 - val_mae: 0.0540 - val_mse: 0.0044\n",
      "Epoch 112/200\n",
      "13/13 [==============================] - 0s 2ms/step - loss: 0.0062 - mae: 0.0506 - mse: 0.0062 - val_loss: 0.0044 - val_mae: 0.0540 - val_mse: 0.0044\n",
      "Epoch 113/200\n",
      "13/13 [==============================] - 0s 2ms/step - loss: 0.0062 - mae: 0.0504 - mse: 0.0062 - val_loss: 0.0044 - val_mae: 0.0540 - val_mse: 0.0044\n",
      "Epoch 114/200\n",
      "13/13 [==============================] - 0s 4ms/step - loss: 0.0061 - mae: 0.0503 - mse: 0.0061 - val_loss: 0.0044 - val_mae: 0.0540 - val_mse: 0.0044\n",
      "Epoch 115/200\n",
      "13/13 [==============================] - 0s 2ms/step - loss: 0.0061 - mae: 0.0501 - mse: 0.0061 - val_loss: 0.0044 - val_mae: 0.0541 - val_mse: 0.0044\n",
      "Epoch 116/200\n",
      "13/13 [==============================] - 0s 4ms/step - loss: 0.0060 - mae: 0.0499 - mse: 0.0060 - val_loss: 0.0044 - val_mae: 0.0541 - val_mse: 0.0044\n",
      "Epoch 117/200\n",
      "13/13 [==============================] - 0s 2ms/step - loss: 0.0060 - mae: 0.0498 - mse: 0.0060 - val_loss: 0.0044 - val_mae: 0.0541 - val_mse: 0.0044\n",
      "Epoch 118/200\n",
      "13/13 [==============================] - 0s 2ms/step - loss: 0.0059 - mae: 0.0496 - mse: 0.0059 - val_loss: 0.0044 - val_mae: 0.0541 - val_mse: 0.0044\n",
      "Epoch 119/200\n",
      "13/13 [==============================] - 0s 5ms/step - loss: 0.0059 - mae: 0.0494 - mse: 0.0059 - val_loss: 0.0044 - val_mae: 0.0542 - val_mse: 0.0044\n",
      "Epoch 120/200\n",
      "13/13 [==============================] - 0s 2ms/step - loss: 0.0059 - mae: 0.0493 - mse: 0.0059 - val_loss: 0.0044 - val_mae: 0.0542 - val_mse: 0.0044\n",
      "Epoch 121/200\n",
      "13/13 [==============================] - 0s 2ms/step - loss: 0.0058 - mae: 0.0491 - mse: 0.0058 - val_loss: 0.0044 - val_mae: 0.0542 - val_mse: 0.0044\n",
      "Epoch 122/200\n",
      "13/13 [==============================] - 0s 4ms/step - loss: 0.0058 - mae: 0.0490 - mse: 0.0058 - val_loss: 0.0044 - val_mae: 0.0542 - val_mse: 0.0044\n",
      "Epoch 123/200\n",
      "13/13 [==============================] - 0s 2ms/step - loss: 0.0057 - mae: 0.0488 - mse: 0.0057 - val_loss: 0.0044 - val_mae: 0.0542 - val_mse: 0.0044\n",
      "Epoch 124/200\n",
      "13/13 [==============================] - 0s 4ms/step - loss: 0.0057 - mae: 0.0486 - mse: 0.0057 - val_loss: 0.0045 - val_mae: 0.0543 - val_mse: 0.0045\n",
      "Epoch 125/200\n",
      "13/13 [==============================] - 0s 2ms/step - loss: 0.0056 - mae: 0.0485 - mse: 0.0056 - val_loss: 0.0045 - val_mae: 0.0543 - val_mse: 0.0045\n",
      "Epoch 126/200\n",
      "13/13 [==============================] - 0s 2ms/step - loss: 0.0056 - mae: 0.0483 - mse: 0.0056 - val_loss: 0.0045 - val_mae: 0.0544 - val_mse: 0.0045\n",
      "Epoch 127/200\n",
      "13/13 [==============================] - 0s 5ms/step - loss: 0.0056 - mae: 0.0481 - mse: 0.0056 - val_loss: 0.0045 - val_mae: 0.0544 - val_mse: 0.0045\n",
      "Epoch 128/200\n",
      "13/13 [==============================] - 0s 2ms/step - loss: 0.0055 - mae: 0.0480 - mse: 0.0055 - val_loss: 0.0045 - val_mae: 0.0544 - val_mse: 0.0045\n",
      "Epoch 129/200\n",
      "13/13 [==============================] - 0s 4ms/step - loss: 0.0055 - mae: 0.0478 - mse: 0.0055 - val_loss: 0.0045 - val_mae: 0.0545 - val_mse: 0.0045\n",
      "Epoch 130/200\n",
      "13/13 [==============================] - 0s 2ms/step - loss: 0.0054 - mae: 0.0476 - mse: 0.0054 - val_loss: 0.0045 - val_mae: 0.0545 - val_mse: 0.0045\n",
      "Epoch 131/200\n",
      "13/13 [==============================] - 0s 2ms/step - loss: 0.0054 - mae: 0.0475 - mse: 0.0054 - val_loss: 0.0045 - val_mae: 0.0546 - val_mse: 0.0045\n",
      "Epoch 132/200\n",
      "13/13 [==============================] - 0s 5ms/step - loss: 0.0054 - mae: 0.0473 - mse: 0.0054 - val_loss: 0.0045 - val_mae: 0.0546 - val_mse: 0.0045\n",
      "Epoch 133/200\n",
      "13/13 [==============================] - 0s 2ms/step - loss: 0.0053 - mae: 0.0472 - mse: 0.0053 - val_loss: 0.0045 - val_mae: 0.0547 - val_mse: 0.0045\n",
      "Epoch 134/200\n",
      "13/13 [==============================] - 0s 2ms/step - loss: 0.0053 - mae: 0.0470 - mse: 0.0053 - val_loss: 0.0045 - val_mae: 0.0547 - val_mse: 0.0045\n",
      "Epoch 135/200\n",
      "13/13 [==============================] - 0s 4ms/step - loss: 0.0052 - mae: 0.0469 - mse: 0.0052 - val_loss: 0.0045 - val_mae: 0.0548 - val_mse: 0.0045\n",
      "Epoch 136/200\n",
      "13/13 [==============================] - 0s 2ms/step - loss: 0.0052 - mae: 0.0467 - mse: 0.0052 - val_loss: 0.0045 - val_mae: 0.0548 - val_mse: 0.0045\n",
      "Epoch 137/200\n",
      "13/13 [==============================] - 0s 4ms/step - loss: 0.0052 - mae: 0.0466 - mse: 0.0052 - val_loss: 0.0045 - val_mae: 0.0548 - val_mse: 0.0045\n",
      "Epoch 138/200\n",
      "13/13 [==============================] - 0s 2ms/step - loss: 0.0051 - mae: 0.0465 - mse: 0.0051 - val_loss: 0.0045 - val_mae: 0.0548 - val_mse: 0.0045\n",
      "Epoch 139/200\n",
      "13/13 [==============================] - 0s 2ms/step - loss: 0.0051 - mae: 0.0463 - mse: 0.0051 - val_loss: 0.0045 - val_mae: 0.0549 - val_mse: 0.0045\n",
      "Epoch 140/200\n",
      "13/13 [==============================] - 0s 4ms/step - loss: 0.0051 - mae: 0.0462 - mse: 0.0051 - val_loss: 0.0045 - val_mae: 0.0549 - val_mse: 0.0045\n",
      "Epoch 141/200\n",
      "13/13 [==============================] - 0s 2ms/step - loss: 0.0050 - mae: 0.0460 - mse: 0.0050 - val_loss: 0.0045 - val_mae: 0.0549 - val_mse: 0.0045\n",
      "Epoch 142/200\n",
      "13/13 [==============================] - 0s 2ms/step - loss: 0.0050 - mae: 0.0459 - mse: 0.0050 - val_loss: 0.0045 - val_mae: 0.0549 - val_mse: 0.0045\n",
      "Epoch 143/200\n",
      "13/13 [==============================] - 0s 4ms/step - loss: 0.0049 - mae: 0.0457 - mse: 0.0049 - val_loss: 0.0046 - val_mae: 0.0549 - val_mse: 0.0046\n",
      "Epoch 144/200\n",
      "13/13 [==============================] - 0s 2ms/step - loss: 0.0049 - mae: 0.0456 - mse: 0.0049 - val_loss: 0.0046 - val_mae: 0.0549 - val_mse: 0.0046\n",
      "Epoch 145/200\n",
      "13/13 [==============================] - 0s 2ms/step - loss: 0.0049 - mae: 0.0455 - mse: 0.0049 - val_loss: 0.0046 - val_mae: 0.0549 - val_mse: 0.0046\n",
      "Epoch 146/200\n",
      "13/13 [==============================] - 0s 2ms/step - loss: 0.0048 - mae: 0.0453 - mse: 0.0048 - val_loss: 0.0046 - val_mae: 0.0549 - val_mse: 0.0046\n",
      "Epoch 147/200\n",
      "13/13 [==============================] - 0s 2ms/step - loss: 0.0048 - mae: 0.0452 - mse: 0.0048 - val_loss: 0.0046 - val_mae: 0.0550 - val_mse: 0.0046\n",
      "Epoch 148/200\n",
      "13/13 [==============================] - 0s 4ms/step - loss: 0.0048 - mae: 0.0450 - mse: 0.0048 - val_loss: 0.0046 - val_mae: 0.0551 - val_mse: 0.0046\n",
      "Epoch 149/200\n",
      "13/13 [==============================] - 0s 2ms/step - loss: 0.0047 - mae: 0.0449 - mse: 0.0047 - val_loss: 0.0046 - val_mae: 0.0551 - val_mse: 0.0046\n",
      "Epoch 150/200\n",
      "13/13 [==============================] - 0s 2ms/step - loss: 0.0047 - mae: 0.0448 - mse: 0.0047 - val_loss: 0.0046 - val_mae: 0.0551 - val_mse: 0.0046\n",
      "Epoch 151/200\n",
      "13/13 [==============================] - 0s 4ms/step - loss: 0.0047 - mae: 0.0446 - mse: 0.0047 - val_loss: 0.0046 - val_mae: 0.0552 - val_mse: 0.0046\n",
      "Epoch 152/200\n",
      "13/13 [==============================] - 0s 2ms/step - loss: 0.0046 - mae: 0.0445 - mse: 0.0046 - val_loss: 0.0046 - val_mae: 0.0552 - val_mse: 0.0046\n",
      "Epoch 153/200\n",
      "13/13 [==============================] - 0s 2ms/step - loss: 0.0046 - mae: 0.0444 - mse: 0.0046 - val_loss: 0.0046 - val_mae: 0.0552 - val_mse: 0.0046\n",
      "Epoch 154/200\n",
      "13/13 [==============================] - 0s 4ms/step - loss: 0.0046 - mae: 0.0442 - mse: 0.0046 - val_loss: 0.0046 - val_mae: 0.0553 - val_mse: 0.0046\n",
      "Epoch 155/200\n",
      "13/13 [==============================] - 0s 2ms/step - loss: 0.0046 - mae: 0.0441 - mse: 0.0046 - val_loss: 0.0046 - val_mae: 0.0553 - val_mse: 0.0046\n",
      "Epoch 156/200\n",
      "13/13 [==============================] - 0s 4ms/step - loss: 0.0045 - mae: 0.0440 - mse: 0.0045 - val_loss: 0.0046 - val_mae: 0.0553 - val_mse: 0.0046\n",
      "Epoch 157/200\n",
      "13/13 [==============================] - 0s 2ms/step - loss: 0.0045 - mae: 0.0439 - mse: 0.0045 - val_loss: 0.0046 - val_mae: 0.0553 - val_mse: 0.0046\n",
      "Epoch 158/200\n",
      "13/13 [==============================] - 0s 2ms/step - loss: 0.0045 - mae: 0.0438 - mse: 0.0045 - val_loss: 0.0046 - val_mae: 0.0554 - val_mse: 0.0046\n",
      "Epoch 159/200\n",
      "13/13 [==============================] - 0s 4ms/step - loss: 0.0044 - mae: 0.0436 - mse: 0.0044 - val_loss: 0.0046 - val_mae: 0.0554 - val_mse: 0.0046\n",
      "Epoch 160/200\n",
      "13/13 [==============================] - 0s 2ms/step - loss: 0.0044 - mae: 0.0435 - mse: 0.0044 - val_loss: 0.0046 - val_mae: 0.0554 - val_mse: 0.0046\n",
      "Epoch 161/200\n",
      "13/13 [==============================] - 0s 2ms/step - loss: 0.0044 - mae: 0.0434 - mse: 0.0044 - val_loss: 0.0046 - val_mae: 0.0554 - val_mse: 0.0046\n",
      "Epoch 162/200\n",
      "13/13 [==============================] - 0s 4ms/step - loss: 0.0043 - mae: 0.0433 - mse: 0.0043 - val_loss: 0.0046 - val_mae: 0.0554 - val_mse: 0.0046\n",
      "Epoch 163/200\n",
      "13/13 [==============================] - 0s 2ms/step - loss: 0.0043 - mae: 0.0431 - mse: 0.0043 - val_loss: 0.0046 - val_mae: 0.0554 - val_mse: 0.0046\n",
      "Epoch 164/200\n",
      "13/13 [==============================] - 0s 2ms/step - loss: 0.0043 - mae: 0.0430 - mse: 0.0043 - val_loss: 0.0046 - val_mae: 0.0554 - val_mse: 0.0046\n",
      "Epoch 165/200\n",
      "13/13 [==============================] - 0s 5ms/step - loss: 0.0043 - mae: 0.0429 - mse: 0.0043 - val_loss: 0.0046 - val_mae: 0.0554 - val_mse: 0.0046\n",
      "Epoch 166/200\n",
      "13/13 [==============================] - 0s 2ms/step - loss: 0.0042 - mae: 0.0428 - mse: 0.0042 - val_loss: 0.0046 - val_mae: 0.0555 - val_mse: 0.0046\n",
      "Epoch 167/200\n",
      "13/13 [==============================] - 0s 4ms/step - loss: 0.0042 - mae: 0.0427 - mse: 0.0042 - val_loss: 0.0046 - val_mae: 0.0555 - val_mse: 0.0046\n",
      "Epoch 168/200\n",
      "13/13 [==============================] - 0s 2ms/step - loss: 0.0042 - mae: 0.0426 - mse: 0.0042 - val_loss: 0.0046 - val_mae: 0.0555 - val_mse: 0.0046\n",
      "Epoch 169/200\n",
      "13/13 [==============================] - 0s 2ms/step - loss: 0.0041 - mae: 0.0424 - mse: 0.0041 - val_loss: 0.0046 - val_mae: 0.0555 - val_mse: 0.0046\n",
      "Epoch 170/200\n",
      "13/13 [==============================] - 0s 4ms/step - loss: 0.0041 - mae: 0.0423 - mse: 0.0041 - val_loss: 0.0046 - val_mae: 0.0555 - val_mse: 0.0046\n",
      "Epoch 171/200\n",
      "13/13 [==============================] - 0s 2ms/step - loss: 0.0041 - mae: 0.0422 - mse: 0.0041 - val_loss: 0.0046 - val_mae: 0.0555 - val_mse: 0.0046\n",
      "Epoch 172/200\n",
      "13/13 [==============================] - 0s 2ms/step - loss: 0.0041 - mae: 0.0421 - mse: 0.0041 - val_loss: 0.0047 - val_mae: 0.0555 - val_mse: 0.0047\n",
      "Epoch 173/200\n",
      "13/13 [==============================] - 0s 4ms/step - loss: 0.0040 - mae: 0.0420 - mse: 0.0040 - val_loss: 0.0047 - val_mae: 0.0555 - val_mse: 0.0047\n",
      "Epoch 174/200\n",
      "13/13 [==============================] - 0s 2ms/step - loss: 0.0040 - mae: 0.0419 - mse: 0.0040 - val_loss: 0.0047 - val_mae: 0.0556 - val_mse: 0.0047\n",
      "Epoch 175/200\n",
      "13/13 [==============================] - 0s 2ms/step - loss: 0.0040 - mae: 0.0417 - mse: 0.0040 - val_loss: 0.0047 - val_mae: 0.0556 - val_mse: 0.0047\n",
      "Epoch 176/200\n",
      "13/13 [==============================] - 0s 4ms/step - loss: 0.0040 - mae: 0.0416 - mse: 0.0040 - val_loss: 0.0047 - val_mae: 0.0556 - val_mse: 0.0047\n",
      "Epoch 177/200\n",
      "13/13 [==============================] - 0s 2ms/step - loss: 0.0039 - mae: 0.0415 - mse: 0.0039 - val_loss: 0.0047 - val_mae: 0.0556 - val_mse: 0.0047\n",
      "Epoch 178/200\n",
      "13/13 [==============================] - 0s 2ms/step - loss: 0.0039 - mae: 0.0414 - mse: 0.0039 - val_loss: 0.0047 - val_mae: 0.0556 - val_mse: 0.0047\n",
      "Epoch 179/200\n",
      "13/13 [==============================] - 0s 4ms/step - loss: 0.0039 - mae: 0.0413 - mse: 0.0039 - val_loss: 0.0047 - val_mae: 0.0557 - val_mse: 0.0047\n",
      "Epoch 180/200\n",
      "13/13 [==============================] - 0s 2ms/step - loss: 0.0039 - mae: 0.0412 - mse: 0.0039 - val_loss: 0.0047 - val_mae: 0.0556 - val_mse: 0.0047\n",
      "Epoch 181/200\n",
      "13/13 [==============================] - 0s 4ms/step - loss: 0.0038 - mae: 0.0410 - mse: 0.0038 - val_loss: 0.0047 - val_mae: 0.0557 - val_mse: 0.0047\n",
      "Epoch 182/200\n",
      "13/13 [==============================] - 0s 2ms/step - loss: 0.0038 - mae: 0.0409 - mse: 0.0038 - val_loss: 0.0047 - val_mae: 0.0558 - val_mse: 0.0047\n",
      "Epoch 183/200\n",
      "13/13 [==============================] - 0s 2ms/step - loss: 0.0038 - mae: 0.0408 - mse: 0.0038 - val_loss: 0.0047 - val_mae: 0.0559 - val_mse: 0.0047\n",
      "Epoch 184/200\n",
      "13/13 [==============================] - 0s 4ms/step - loss: 0.0038 - mae: 0.0407 - mse: 0.0038 - val_loss: 0.0047 - val_mae: 0.0560 - val_mse: 0.0047\n",
      "Epoch 185/200\n",
      "13/13 [==============================] - 0s 2ms/step - loss: 0.0037 - mae: 0.0406 - mse: 0.0037 - val_loss: 0.0047 - val_mae: 0.0561 - val_mse: 0.0047\n",
      "Epoch 186/200\n",
      "13/13 [==============================] - 0s 2ms/step - loss: 0.0037 - mae: 0.0405 - mse: 0.0037 - val_loss: 0.0047 - val_mae: 0.0561 - val_mse: 0.0047\n",
      "Epoch 187/200\n",
      "13/13 [==============================] - 0s 4ms/step - loss: 0.0037 - mae: 0.0403 - mse: 0.0037 - val_loss: 0.0047 - val_mae: 0.0562 - val_mse: 0.0047\n",
      "Epoch 188/200\n",
      "13/13 [==============================] - 0s 2ms/step - loss: 0.0037 - mae: 0.0402 - mse: 0.0037 - val_loss: 0.0048 - val_mae: 0.0562 - val_mse: 0.0048\n",
      "Epoch 189/200\n",
      "13/13 [==============================] - 0s 2ms/step - loss: 0.0037 - mae: 0.0401 - mse: 0.0037 - val_loss: 0.0048 - val_mae: 0.0563 - val_mse: 0.0048\n",
      "Epoch 190/200\n",
      "13/13 [==============================] - 0s 4ms/step - loss: 0.0036 - mae: 0.0400 - mse: 0.0036 - val_loss: 0.0048 - val_mae: 0.0563 - val_mse: 0.0048\n",
      "Epoch 191/200\n",
      "13/13 [==============================] - 0s 2ms/step - loss: 0.0036 - mae: 0.0399 - mse: 0.0036 - val_loss: 0.0048 - val_mae: 0.0563 - val_mse: 0.0048\n",
      "Epoch 192/200\n",
      "13/13 [==============================] - 0s 2ms/step - loss: 0.0036 - mae: 0.0398 - mse: 0.0036 - val_loss: 0.0048 - val_mae: 0.0564 - val_mse: 0.0048\n",
      "Epoch 193/200\n",
      "13/13 [==============================] - 0s 4ms/step - loss: 0.0036 - mae: 0.0397 - mse: 0.0036 - val_loss: 0.0048 - val_mae: 0.0564 - val_mse: 0.0048\n",
      "Epoch 194/200\n",
      "13/13 [==============================] - 0s 2ms/step - loss: 0.0035 - mae: 0.0395 - mse: 0.0035 - val_loss: 0.0048 - val_mae: 0.0564 - val_mse: 0.0048\n",
      "Epoch 195/200\n",
      "13/13 [==============================] - 0s 2ms/step - loss: 0.0035 - mae: 0.0394 - mse: 0.0035 - val_loss: 0.0048 - val_mae: 0.0565 - val_mse: 0.0048\n",
      "Epoch 196/200\n",
      "13/13 [==============================] - 0s 4ms/step - loss: 0.0035 - mae: 0.0393 - mse: 0.0035 - val_loss: 0.0048 - val_mae: 0.0565 - val_mse: 0.0048\n",
      "Epoch 197/200\n",
      "13/13 [==============================] - 0s 2ms/step - loss: 0.0035 - mae: 0.0392 - mse: 0.0035 - val_loss: 0.0048 - val_mae: 0.0566 - val_mse: 0.0048\n",
      "Epoch 198/200\n",
      "13/13 [==============================] - 0s 2ms/step - loss: 0.0035 - mae: 0.0391 - mse: 0.0035 - val_loss: 0.0048 - val_mae: 0.0566 - val_mse: 0.0048\n",
      "Epoch 199/200\n",
      "13/13 [==============================] - 0s 4ms/step - loss: 0.0034 - mae: 0.0390 - mse: 0.0034 - val_loss: 0.0048 - val_mae: 0.0566 - val_mse: 0.0048\n",
      "Epoch 200/200\n",
      "13/13 [==============================] - 0s 2ms/step - loss: 0.0034 - mae: 0.0389 - mse: 0.0034 - val_loss: 0.0048 - val_mae: 0.0566 - val_mse: 0.0048\n"
     ]
    }
   ],
   "source": [
    "history = model.fit(train_X, train_y, epochs=200, \n",
    "                    batch_size=32, validation_data=(test_X, test_y), \n",
    "                    verbose=1, shuffle=False)"
   ]
  },
  {
   "cell_type": "markdown",
   "metadata": {},
   "source": [
    "## Plot Loss Curve"
   ]
  },
  {
   "cell_type": "code",
   "execution_count": 74,
   "metadata": {},
   "outputs": [
    {
     "name": "stdout",
     "output_type": "stream",
     "text": [
      "Populating the interactive namespace from numpy and matplotlib\n"
     ]
    },
    {
     "data": {
      "image/png": "[encoded data removed]",
      "text/plain": [
       "<Figure size 432x288 with 1 Axes>"
      ]
     },
     "metadata": {
      "needs_background": "light"
     },
     "output_type": "display_data"
    }
   ],
   "source": [
    "%pylab inline\n",
    "from matplotlib import pyplot\n",
    "pyplot.plot(history.history['loss'], label='train')\n",
    "pyplot.plot(history.history['val_loss'], label='test')\n",
    "pyplot.legend()\n",
    "pyplot.show()"
   ]
  },
  {
   "cell_type": "markdown",
   "metadata": {},
   "source": [
    "## Model Predict"
   ]
  },
  {
   "cell_type": "code",
   "execution_count": 276,
   "metadata": {},
   "outputs": [
    {
     "data": {
      "text/plain": [
       "((251, 1), (251, 8))"
      ]
     },
     "execution_count": 276,
     "metadata": {},
     "output_type": "execute_result"
    }
   ],
   "source": [
    "yhat = model.predict(pred_test_X)\n",
    "yhat.shape, test_X.shape"
   ]
  },
  {
   "cell_type": "code",
   "execution_count": 277,
   "metadata": {},
   "outputs": [
    {
     "data": {
      "text/plain": [
       "(251,)"
      ]
     },
     "execution_count": 277,
     "metadata": {},
     "output_type": "execute_result"
    }
   ],
   "source": [
    "pred = {'vfx': 0}\n",
    "inv_yhat = concatenate((yhat, numpy.delete(test_X, pred['vfx'], axis=1)), axis=1)\n",
    "inv_yhat = scaler.inverse_transform(inv_yhat)\n",
    "inv_yhat = inv_yhat[:,0]\n",
    "inv_yhat.shape"
   ]
  },
  {
   "cell_type": "code",
   "execution_count": 278,
   "metadata": {},
   "outputs": [
    {
     "data": {
      "text/plain": [
       "(251,)"
      ]
     },
     "execution_count": 278,
     "metadata": {},
     "output_type": "execute_result"
    }
   ],
   "source": [
    "real = test_y.reshape((len(test_y), 1))\n",
    "inv_y = concatenate((real, numpy.delete(test_X, pred['vfx'], axis=1)), axis=1)\n",
    "inv_y = scaler.inverse_transform(inv_y)\n",
    "inv_y = inv_y[:,0]\n",
    "inv_y.shape"
   ]
  },
  {
   "cell_type": "code",
   "execution_count": 279,
   "metadata": {},
   "outputs": [
    {
     "name": "stdout",
     "output_type": "stream",
     "text": [
      "Test RMSE: 19.011\n"
     ]
    }
   ],
   "source": [
    "from sklearn.metrics import mean_squared_error\n",
    "rmse = sqrt(mean_squared_error(inv_y, inv_yhat))\n",
    "print('Test RMSE: %.3f' % rmse)"
   ]
  },
  {
   "cell_type": "code",
   "execution_count": 280,
   "metadata": {},
   "outputs": [],
   "source": [
    "#inv_y = np.cumprod(inv_y+1)\n",
    "#inv_yhat = np.cumprod(inv_yhat+1)"
   ]
  },
  {
   "cell_type": "code",
   "execution_count": 281,
   "metadata": {},
   "outputs": [
    {
     "data": {
      "image/png": "[encoded data removed]",
      "text/plain": [
       "<Figure size 1440x720 with 1 Axes>"
      ]
     },
     "metadata": {
      "needs_background": "light"
     },
     "output_type": "display_data"
    }
   ],
   "source": [
    "import matplotlib.pyplot as plt\n",
    "plt.figure(figsize=(20,10))\n",
    "plt.plot(inv_y, color = 'red', label = 'Real')\n",
    "plt.plot(inv_yhat, color = 'blue', label = 'Predict')\n",
    "plt.title('Real vs Predict')\n",
    "plt.xlabel('Time')\n",
    "plt.ylabel('Price')\n",
    "plt.legend()\n",
    "plt.show()"
   ]
  },
  {
   "cell_type": "code",
   "execution_count": null,
   "metadata": {},
   "outputs": [],
   "source": []
  },
  {
   "cell_type": "markdown",
   "metadata": {},
   "source": [
    "## *** SVM Classification ***"
   ]
  },
  {
   "cell_type": "code",
   "execution_count": 48,
   "metadata": {},
   "outputs": [
    {
     "data": {
      "text/html": [
       "<div>\n",
       "<style scoped>\n",
       "    .dataframe tbody tr th:only-of-type {\n",
       "        vertical-align: middle;\n",
       "    }\n",
       "\n",
       "    .dataframe tbody tr th {\n",
       "        vertical-align: top;\n",
       "    }\n",
       "\n",
       "    .dataframe thead th {\n",
       "        text-align: right;\n",
       "    }\n",
       "</style>\n",
       "<table border=\"1\" class=\"dataframe\">\n",
       "  <thead>\n",
       "    <tr style=\"text-align: right;\">\n",
       "      <th></th>\n",
       "      <th>Date</th>\n",
       "      <th>VBMFX</th>\n",
       "      <th>VFINX</th>\n",
       "      <th>VIX.chg</th>\n",
       "      <th>VIX.ret</th>\n",
       "      <th>SPX_SMA</th>\n",
       "      <th>VFINX_SKW</th>\n",
       "      <th>VBMFX_SKW</th>\n",
       "      <th>VIX_SKW</th>\n",
       "    </tr>\n",
       "  </thead>\n",
       "  <tbody>\n",
       "    <tr>\n",
       "      <th>0</th>\n",
       "      <td>2020/5/29</td>\n",
       "      <td>0.003475</td>\n",
       "      <td>0.047559</td>\n",
       "      <td>5.470001</td>\n",
       "      <td>0.095864</td>\n",
       "      <td>400.036400</td>\n",
       "      <td>-0.478190</td>\n",
       "      <td>0.439268</td>\n",
       "      <td>2.747991</td>\n",
       "    </tr>\n",
       "    <tr>\n",
       "      <th>1</th>\n",
       "      <td>2020/4/30</td>\n",
       "      <td>0.016932</td>\n",
       "      <td>0.128139</td>\n",
       "      <td>5.680000</td>\n",
       "      <td>0.068690</td>\n",
       "      <td>147.717885</td>\n",
       "      <td>-0.468298</td>\n",
       "      <td>0.471941</td>\n",
       "      <td>2.754459</td>\n",
       "    </tr>\n",
       "    <tr>\n",
       "      <th>2</th>\n",
       "      <td>2020/3/31</td>\n",
       "      <td>-0.005856</td>\n",
       "      <td>-0.124013</td>\n",
       "      <td>24.860000</td>\n",
       "      <td>0.619796</td>\n",
       "      <td>-500.768910</td>\n",
       "      <td>-0.952582</td>\n",
       "      <td>0.596769</td>\n",
       "      <td>2.762359</td>\n",
       "    </tr>\n",
       "    <tr>\n",
       "      <th>3</th>\n",
       "      <td>2020/2/28</td>\n",
       "      <td>0.017066</td>\n",
       "      <td>-0.082413</td>\n",
       "      <td>11.600001</td>\n",
       "      <td>0.615711</td>\n",
       "      <td>239.538152</td>\n",
       "      <td>-0.840620</td>\n",
       "      <td>0.599255</td>\n",
       "      <td>3.167991</td>\n",
       "    </tr>\n",
       "    <tr>\n",
       "      <th>4</th>\n",
       "      <td>2020/1/31</td>\n",
       "      <td>0.021187</td>\n",
       "      <td>-0.000503</td>\n",
       "      <td>3.670000</td>\n",
       "      <td>0.229950</td>\n",
       "      <td>816.021351</td>\n",
       "      <td>-0.870556</td>\n",
       "      <td>0.657260</td>\n",
       "      <td>3.488195</td>\n",
       "    </tr>\n",
       "  </tbody>\n",
       "</table>\n",
       "</div>"
      ],
      "text/plain": [
       "        Date     VBMFX     VFINX    VIX.chg   VIX.ret     SPX_SMA  VFINX_SKW  \\\n",
       "0  2020/5/29  0.003475  0.047559   5.470001  0.095864  400.036400  -0.478190   \n",
       "1  2020/4/30  0.016932  0.128139   5.680000  0.068690  147.717885  -0.468298   \n",
       "2  2020/3/31 -0.005856 -0.124013  24.860000  0.619796 -500.768910  -0.952582   \n",
       "3  2020/2/28  0.017066 -0.082413  11.600001  0.615711  239.538152  -0.840620   \n",
       "4  2020/1/31  0.021187 -0.000503   3.670000  0.229950  816.021351  -0.870556   \n",
       "\n",
       "   VBMFX_SKW   VIX_SKW  \n",
       "0   0.439268  2.747991  \n",
       "1   0.471941  2.754459  \n",
       "2   0.596769  2.762359  \n",
       "3   0.599255  3.167991  \n",
       "4   0.657260  3.488195  "
      ]
     },
     "execution_count": 48,
     "metadata": {},
     "output_type": "execute_result"
    }
   ],
   "source": [
    "folder=\"C:/Users/user/Desktop/NCCU_DB/DataBase\"\n",
    "data=read_csv(filename=\"FEAT_DATA\",folder=folder)\n",
    "data.head()"
   ]
  },
  {
   "cell_type": "markdown",
   "metadata": {},
   "source": [
    "## Data convert to Relative Change"
   ]
  },
  {
   "cell_type": "code",
   "execution_count": 49,
   "metadata": {},
   "outputs": [
    {
     "data": {
      "text/html": [
       "<div>\n",
       "<style scoped>\n",
       "    .dataframe tbody tr th:only-of-type {\n",
       "        vertical-align: middle;\n",
       "    }\n",
       "\n",
       "    .dataframe tbody tr th {\n",
       "        vertical-align: top;\n",
       "    }\n",
       "\n",
       "    .dataframe thead th {\n",
       "        text-align: right;\n",
       "    }\n",
       "</style>\n",
       "<table border=\"1\" class=\"dataframe\">\n",
       "  <thead>\n",
       "    <tr style=\"text-align: right;\">\n",
       "      <th></th>\n",
       "      <th>VIX.ret</th>\n",
       "      <th>SPX_SMA</th>\n",
       "    </tr>\n",
       "  </thead>\n",
       "  <tbody>\n",
       "    <tr>\n",
       "      <th>0</th>\n",
       "      <td>0.095864</td>\n",
       "      <td>400.036400</td>\n",
       "    </tr>\n",
       "    <tr>\n",
       "      <th>1</th>\n",
       "      <td>0.068690</td>\n",
       "      <td>147.717885</td>\n",
       "    </tr>\n",
       "    <tr>\n",
       "      <th>2</th>\n",
       "      <td>0.619796</td>\n",
       "      <td>-500.768910</td>\n",
       "    </tr>\n",
       "    <tr>\n",
       "      <th>3</th>\n",
       "      <td>0.615711</td>\n",
       "      <td>239.538152</td>\n",
       "    </tr>\n",
       "    <tr>\n",
       "      <th>4</th>\n",
       "      <td>0.229950</td>\n",
       "      <td>816.021351</td>\n",
       "    </tr>\n",
       "  </tbody>\n",
       "</table>\n",
       "</div>"
      ],
      "text/plain": [
       "    VIX.ret     SPX_SMA\n",
       "0  0.095864  400.036400\n",
       "1  0.068690  147.717885\n",
       "2  0.619796 -500.768910\n",
       "3  0.615711  239.538152\n",
       "4  0.229950  816.021351"
      ]
     },
     "execution_count": 49,
     "metadata": {},
     "output_type": "execute_result"
    }
   ],
   "source": [
    "import numpy\n",
    "y = data['VFINX']\n",
    "#x = data[['VBMFX','VIX.chg','VIX.ret','SPX_SMA','VFINX_SKW','VBMFX_SKW','VIX_SKW']]\n",
    "x = data[['VIX.ret','SPX_SMA']]\n",
    "x.head()"
   ]
  },
  {
   "cell_type": "markdown",
   "metadata": {},
   "source": [
    "## Y convert to Category"
   ]
  },
  {
   "cell_type": "code",
   "execution_count": 50,
   "metadata": {},
   "outputs": [],
   "source": [
    "#y = (y-y.mean())/y.std()\n",
    "y = numpy.where(y>0, 1, 0)\n",
    "#y = numpy.where(y>1, 1, numpy.where(y<-1, -1, 0))"
   ]
  },
  {
   "cell_type": "code",
   "execution_count": 51,
   "metadata": {},
   "outputs": [],
   "source": [
    "from sklearn.model_selection     import train_test_split\n",
    "x_train, x_test, y_train, y_test =  train_test_split(x,y, test_size = 0.33, random_state = 42 )"
   ]
  },
  {
   "cell_type": "markdown",
   "metadata": {},
   "source": [
    "## Standardize Function"
   ]
  },
  {
   "cell_type": "code",
   "execution_count": 52,
   "metadata": {},
   "outputs": [],
   "source": [
    "from sklearn.preprocessing       import StandardScaler\n",
    "def Standard(data):\n",
    "    sc = StandardScaler()\n",
    "    # fit_transform will fixed mean & vol by data\n",
    "    # transform reuse above mean & vol\n",
    "    return sc.fit_transform(data)"
   ]
  },
  {
   "cell_type": "code",
   "execution_count": 53,
   "metadata": {},
   "outputs": [
    {
     "data": {
      "text/plain": [
       "(335, 2)"
      ]
     },
     "execution_count": 53,
     "metadata": {},
     "output_type": "execute_result"
    }
   ],
   "source": [
    "x = Standard(x)\n",
    "x.shape"
   ]
  },
  {
   "cell_type": "markdown",
   "metadata": {},
   "source": [
    "## SVM Classifier"
   ]
  },
  {
   "cell_type": "code",
   "execution_count": 54,
   "metadata": {},
   "outputs": [],
   "source": [
    "def plot_classifier(data,target,type,C=100,svc_kernel=\"rbf\"):\n",
    "    if type == 'SVC':\n",
    "        from sklearn.svm import SVC\n",
    "        clf = SVC(C=C,kernel=svc_kernel)\n",
    "        clf.fit(data, target)\n",
    "    if type == 'Logistic':\n",
    "        from sklearn.linear_model import LogisticRegression\n",
    "        clf = LogisticRegression()\n",
    "        clf.fit(data, target)\n",
    "    plot_estimator(estimator=clf, data=data ,target=target)\n",
    "    \n",
    "def plot_estimator(estimator, data, target):\n",
    "    # *** estimator model must trained by two variables ***\n",
    "    x_min, x_max = data[:, 0].min() - 0.02, data[:, 0].max() + 0.02\n",
    "    y_min, y_max = data[:, 1].min() - 0.02, data[:, 1].max() + 0.02\n",
    "    xx, yy = numpy.meshgrid(numpy.arange(x_min, x_max, 0.005), numpy.arange(y_min, y_max, 0.005))\n",
    "    Z = estimator.predict(numpy.c_[xx.ravel(), yy.ravel()])\n",
    "    Z = Z.reshape(xx.shape)\n",
    "    plt.plot()\n",
    "    plt.contourf(xx, yy, Z, alpha=0.4, cmap = plt.cm.RdYlBu)\n",
    "    plt.scatter(data[:, 0], data[:, 1], c=target, cmap = plt.cm.brg)\n",
    "    plt.xlabel('Index Return')\n",
    "    plt.ylabel('Dividend Growth')\n",
    "    plt.show()"
   ]
  },
  {
   "cell_type": "markdown",
   "metadata": {},
   "source": [
    "## Plot Decision Boundary"
   ]
  },
  {
   "cell_type": "code",
   "execution_count": 55,
   "metadata": {},
   "outputs": [
    {
     "data": {
      "image/png": "[encoded data removed]",
      "text/plain": [
       "<Figure size 432x288 with 1 Axes>"
      ]
     },
     "metadata": {
      "needs_background": "light"
     },
     "output_type": "display_data"
    }
   ],
   "source": [
    "import matplotlib.pyplot as plt\n",
    "plot_classifier(data=x,target=y,type=\"SVC\",svc_kernel=\"linear\",C=100)"
   ]
  },
  {
   "cell_type": "code",
   "execution_count": 72,
   "metadata": {},
   "outputs": [
    {
     "data": {
      "image/png": "[encoded data removed]",
      "text/plain": [
       "<Figure size 432x288 with 1 Axes>"
      ]
     },
     "metadata": {
      "needs_background": "light"
     },
     "output_type": "display_data"
    }
   ],
   "source": [
    "plot_classifier(data=x[:1000,:],target=y[:1000],type=\"SVC\",svc_kernel=\"linear\",C=100)"
   ]
  },
  {
   "cell_type": "code",
   "execution_count": 73,
   "metadata": {},
   "outputs": [
    {
     "name": "stderr",
     "output_type": "stream",
     "text": [
      "/usr/local/lib/python3.6/dist-packages/sklearn/svm/base.py:193: FutureWarning: The default value of gamma will change from 'auto' to 'scale' in version 0.22 to account better for unscaled features. Set gamma explicitly to 'auto' or 'scale' to avoid this warning.\n",
      "  \"avoid this warning.\", FutureWarning)\n"
     ]
    },
    {
     "data": {
      "image/png": "[encoded data removed]",
      "text/plain": [
       "<Figure size 432x288 with 1 Axes>"
      ]
     },
     "metadata": {
      "needs_background": "light"
     },
     "output_type": "display_data"
    }
   ],
   "source": [
    "plot_classifier(data=x[:50,:],target=y[:50],type=\"SVC\",svc_kernel=\"rbf\",C=1000)"
   ]
  },
  {
   "cell_type": "code",
   "execution_count": 74,
   "metadata": {},
   "outputs": [
    {
     "name": "stderr",
     "output_type": "stream",
     "text": [
      "/usr/local/lib/python3.6/dist-packages/sklearn/svm/base.py:193: FutureWarning: The default value of gamma will change from 'auto' to 'scale' in version 0.22 to account better for unscaled features. Set gamma explicitly to 'auto' or 'scale' to avoid this warning.\n",
      "  \"avoid this warning.\", FutureWarning)\n"
     ]
    },
    {
     "data": {
      "image/png": "[encoded data removed]",
      "text/plain": [
       "<Figure size 432x288 with 1 Axes>"
      ]
     },
     "metadata": {
      "needs_background": "light"
     },
     "output_type": "display_data"
    }
   ],
   "source": [
    "plot_classifier(data=x[:1500,:],target=y[:1500],type=\"SVC\",svc_kernel=\"rbf\",C=1000)"
   ]
  }
 ],
 "metadata": {
  "kernelspec": {
   "display_name": "Python 3",
   "language": "python",
   "name": "python3"
  },
  "language_info": {
   "codemirror_mode": {
    "name": "ipython",
    "version": 3
   },
   "file_extension": ".py",
   "mimetype": "text/x-python",
   "name": "python",
   "nbconvert_exporter": "python",
   "pygments_lexer": "ipython3",
   "version": "3.6.10"
  }
 },
 "nbformat": 4,
 "nbformat_minor": 4
}
