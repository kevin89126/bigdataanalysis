{
 "cells": [
  {
   "cell_type": "code",
   "execution_count": 1,
   "metadata": {},
   "outputs": [],
   "source": [
    "from mnist import MNIST\n",
    "import numpy as np\n",
    "from keras.layers import Conv2D,MaxPooling2D,Flatten,Dense\n",
    "from keras import models, layers, Sequential\n",
    "from keras import optimizers\n",
    "import keras\n",
    "import matplotlib.pyplot as plt\n",
    "\n",
    "# Wget to save mnist train and test data under /nfs/Workspace/mndata/\n",
    "\n",
    "mndata = MNIST('/nfs/Workspace/mndata/')\n",
    "raw_train_images, raw_train_labels = mndata.load_training()"
   ]
  },
  {
   "cell_type": "code",
   "execution_count": 2,
   "metadata": {},
   "outputs": [
    {
     "name": "stdout",
     "output_type": "stream",
     "text": [
      "10000 (50000,) (50000, 784)\n",
      "10000 (10000,) (10000, 784)\n"
     ]
    }
   ],
   "source": [
    "train_labels = np.array(raw_train_labels)\n",
    "train_images = np.array(raw_train_images)\n",
    "\n",
    "# Random select 50000 from taining set\n",
    "\n",
    "rng = np.random.default_rng()\n",
    "test_index = rng.choice(len(train_images), 10000, replace=False)\n",
    "test_labels = []\n",
    "test_images = []\n",
    "# Get 10000 from training set for testing set\n",
    "for index in test_index:\n",
    "    test_labels.append(train_labels[index])\n",
    "    test_images.append(train_images[index])\n",
    "\n",
    "train_labels = np.delete(train_labels, test_index)\n",
    "train_images = np.delete(train_images, test_index,axis=0)\n",
    "test_labels = np.array(test_labels)\n",
    "test_images = np.array(test_images)\n",
    "\n",
    "\n",
    "print(len(test_index), train_labels.shape, train_images.shape)\n",
    "print(len(test_index), test_labels.shape, test_images.shape)"
   ]
  },
  {
   "cell_type": "code",
   "execution_count": 3,
   "metadata": {},
   "outputs": [
    {
     "name": "stdout",
     "output_type": "stream",
     "text": [
      "(50000, 28, 28, 1) (50000,)\n",
      "(10000, 28, 28, 1) (10000,)\n"
     ]
    }
   ],
   "source": [
    "# Reshape images data for training\n",
    "\n",
    "train_images = train_images.reshape(-1, 28, 28,1)\n",
    "print(train_images.shape, train_labels.shape)\n",
    "\n",
    "test_images = test_images.reshape(-1, 28, 28, 1)\n",
    "print(test_images.shape,test_labels.shape)\n"
   ]
  },
  {
   "cell_type": "code",
   "execution_count": 4,
   "metadata": {},
   "outputs": [],
   "source": [
    "# Categorical labels to 10 classes\n",
    "train_labels = keras.utils.to_categorical(train_labels, num_classes=10)\n",
    "test_labels = keras.utils.to_categorical(test_labels, num_classes=10)"
   ]
  },
  {
   "cell_type": "code",
   "execution_count": 5,
   "metadata": {},
   "outputs": [
    {
     "name": "stdout",
     "output_type": "stream",
     "text": [
      "Model: \"sequential\"\n",
      "_________________________________________________________________\n",
      "Layer (type)                 Output Shape              Param #   \n",
      "=================================================================\n",
      "batch_normalization (BatchNo (None, 28, 28, 1)         4         \n",
      "_________________________________________________________________\n",
      "dense (Dense)                (None, 28, 28, 100)       200       \n",
      "_________________________________________________________________\n",
      "flatten (Flatten)            (None, 78400)             0         \n",
      "_________________________________________________________________\n",
      "dense_1 (Dense)              (None, 100)               7840100   \n",
      "_________________________________________________________________\n",
      "dense_2 (Dense)              (None, 10)                1010      \n",
      "=================================================================\n",
      "Total params: 7,841,314\n",
      "Trainable params: 7,841,312\n",
      "Non-trainable params: 2\n",
      "_________________________________________________________________\n"
     ]
    }
   ],
   "source": [
    "# Build batch-normalized model\n",
    "# Use tow hidden layer with activation \"relu\" and neurl number 100\n",
    "bn_model = keras.models.Sequential()\n",
    "bn_model.add(keras.layers.normalization.BatchNormalization(input_shape=(28, 28, 1),axis=-1, momentum=0.99, epsilon=0.001, center=True, scale=True, beta_initializer='zeros', gamma_initializer='ones', moving_mean_initializer='zeros', moving_variance_initializer='ones', beta_regularizer=None, gamma_regularizer=None, beta_constraint=None, gamma_constraint=None))\n",
    "bn_model.add(keras.layers.Dense(100, activation=\"relu\"))\n",
    "bn_model.add(Flatten())\n",
    "bn_model.add(keras.layers.Dense(100, activation=\"relu\"))\n",
    "bn_model.add(keras.layers.Dense(10, activation=\"softmax\"))\n",
    "# optimizer use sgd (strogatic gradient descent)\n",
    "bn_model.compile(loss=\"categorical_crossentropy\",optimizer=\"sgd\",metrics=[\"accuracy\"])\n",
    "bn_model.summary()\n"
   ]
  },
  {
   "cell_type": "code",
   "execution_count": 6,
   "metadata": {},
   "outputs": [
    {
     "name": "stdout",
     "output_type": "stream",
     "text": [
      "Epoch 1/100\n",
      "100/100 [==============================] - 11s 53ms/step - loss: 1.2297 - accuracy: 0.7043 - val_loss: 0.4065 - val_accuracy: 0.8766\n",
      "Epoch 2/100\n",
      "100/100 [==============================] - 4s 37ms/step - loss: 0.3785 - accuracy: 0.8940 - val_loss: 0.3381 - val_accuracy: 0.8994\n",
      "Epoch 3/100\n",
      "100/100 [==============================] - 5s 46ms/step - loss: 0.3175 - accuracy: 0.9097 - val_loss: 0.3024 - val_accuracy: 0.9118\n",
      "Epoch 4/100\n",
      "100/100 [==============================] - 3s 33ms/step - loss: 0.2814 - accuracy: 0.9184 - val_loss: 0.2807 - val_accuracy: 0.9178\n",
      "Epoch 5/100\n",
      "100/100 [==============================] - 3s 32ms/step - loss: 0.2540 - accuracy: 0.9285 - val_loss: 0.2655 - val_accuracy: 0.9228\n",
      "Epoch 6/100\n",
      "100/100 [==============================] - 4s 39ms/step - loss: 0.2367 - accuracy: 0.9334 - val_loss: 0.2467 - val_accuracy: 0.9295\n",
      "Epoch 7/100\n",
      "100/100 [==============================] - 4s 38ms/step - loss: 0.2191 - accuracy: 0.9381 - val_loss: 0.2358 - val_accuracy: 0.9330\n",
      "Epoch 8/100\n",
      "100/100 [==============================] - 3s 33ms/step - loss: 0.2009 - accuracy: 0.9427 - val_loss: 0.2206 - val_accuracy: 0.9370\n",
      "Epoch 9/100\n",
      "100/100 [==============================] - 3s 34ms/step - loss: 0.1963 - accuracy: 0.9449 - val_loss: 0.2138 - val_accuracy: 0.9385\n",
      "Epoch 10/100\n",
      "100/100 [==============================] - 3s 32ms/step - loss: 0.1815 - accuracy: 0.9503 - val_loss: 0.2033 - val_accuracy: 0.9415\n",
      "Epoch 11/100\n",
      "100/100 [==============================] - 3s 32ms/step - loss: 0.1682 - accuracy: 0.9538 - val_loss: 0.1914 - val_accuracy: 0.9460\n",
      "Epoch 12/100\n",
      "100/100 [==============================] - 3s 34ms/step - loss: 0.1576 - accuracy: 0.9567 - val_loss: 0.1828 - val_accuracy: 0.9475\n",
      "Epoch 13/100\n",
      "100/100 [==============================] - 3s 33ms/step - loss: 0.1470 - accuracy: 0.9592 - val_loss: 0.1778 - val_accuracy: 0.9493\n",
      "Epoch 14/100\n",
      "100/100 [==============================] - 3s 31ms/step - loss: 0.1426 - accuracy: 0.9602 - val_loss: 0.1697 - val_accuracy: 0.9514\n",
      "Epoch 15/100\n",
      "100/100 [==============================] - 3s 34ms/step - loss: 0.1324 - accuracy: 0.9634 - val_loss: 0.1638 - val_accuracy: 0.9534\n",
      "Epoch 16/100\n",
      "100/100 [==============================] - 3s 34ms/step - loss: 0.1286 - accuracy: 0.9634 - val_loss: 0.1575 - val_accuracy: 0.9544\n",
      "Epoch 17/100\n",
      "100/100 [==============================] - 3s 32ms/step - loss: 0.1195 - accuracy: 0.9662 - val_loss: 0.1527 - val_accuracy: 0.9549\n",
      "Epoch 18/100\n",
      "100/100 [==============================] - 3s 32ms/step - loss: 0.1137 - accuracy: 0.9695 - val_loss: 0.1489 - val_accuracy: 0.9567\n",
      "Epoch 19/100\n",
      "100/100 [==============================] - 3s 30ms/step - loss: 0.1116 - accuracy: 0.9674 - val_loss: 0.1443 - val_accuracy: 0.9575\n",
      "Epoch 20/100\n",
      "100/100 [==============================] - 3s 28ms/step - loss: 0.1030 - accuracy: 0.9714 - val_loss: 0.1405 - val_accuracy: 0.9606\n",
      "Epoch 21/100\n",
      "100/100 [==============================] - 3s 29ms/step - loss: 0.0991 - accuracy: 0.9723 - val_loss: 0.1372 - val_accuracy: 0.9613\n",
      "Epoch 22/100\n",
      "100/100 [==============================] - 4s 36ms/step - loss: 0.0922 - accuracy: 0.9741 - val_loss: 0.1400 - val_accuracy: 0.9586\n",
      "Epoch 23/100\n",
      "100/100 [==============================] - 3s 35ms/step - loss: 0.0919 - accuracy: 0.9744 - val_loss: 0.1326 - val_accuracy: 0.9617\n",
      "Epoch 24/100\n",
      "100/100 [==============================] - 3s 35ms/step - loss: 0.0870 - accuracy: 0.9761 - val_loss: 0.1294 - val_accuracy: 0.9627\n",
      "Epoch 25/100\n",
      "100/100 [==============================] - 3s 33ms/step - loss: 0.0836 - accuracy: 0.9760 - val_loss: 0.1291 - val_accuracy: 0.9635\n",
      "Epoch 26/100\n",
      "100/100 [==============================] - 3s 32ms/step - loss: 0.0802 - accuracy: 0.9791 - val_loss: 0.1266 - val_accuracy: 0.9634\n",
      "Epoch 27/100\n",
      "100/100 [==============================] - 3s 33ms/step - loss: 0.0753 - accuracy: 0.9801 - val_loss: 0.1238 - val_accuracy: 0.9644\n",
      "Epoch 28/100\n",
      "100/100 [==============================] - 3s 32ms/step - loss: 0.0750 - accuracy: 0.9802 - val_loss: 0.1242 - val_accuracy: 0.9633\n",
      "Epoch 29/100\n",
      "100/100 [==============================] - 3s 32ms/step - loss: 0.0706 - accuracy: 0.9799 - val_loss: 0.1198 - val_accuracy: 0.9655\n",
      "Epoch 30/100\n",
      "100/100 [==============================] - 3s 32ms/step - loss: 0.0660 - accuracy: 0.9820 - val_loss: 0.1156 - val_accuracy: 0.9663\n",
      "Epoch 31/100\n",
      "100/100 [==============================] - 3s 32ms/step - loss: 0.0638 - accuracy: 0.9832 - val_loss: 0.1160 - val_accuracy: 0.9674\n",
      "Epoch 32/100\n",
      "100/100 [==============================] - 3s 32ms/step - loss: 0.0605 - accuracy: 0.9844 - val_loss: 0.1143 - val_accuracy: 0.9680\n",
      "Epoch 33/100\n",
      "100/100 [==============================] - 3s 29ms/step - loss: 0.0575 - accuracy: 0.9848 - val_loss: 0.1144 - val_accuracy: 0.9672\n",
      "Epoch 34/100\n",
      "100/100 [==============================] - 3s 31ms/step - loss: 0.0545 - accuracy: 0.9853 - val_loss: 0.1149 - val_accuracy: 0.9671\n",
      "Epoch 35/100\n",
      "100/100 [==============================] - 3s 30ms/step - loss: 0.0525 - accuracy: 0.9865 - val_loss: 0.1107 - val_accuracy: 0.9686\n",
      "Epoch 36/100\n",
      "100/100 [==============================] - 3s 30ms/step - loss: 0.0509 - accuracy: 0.9871 - val_loss: 0.1117 - val_accuracy: 0.9680\n",
      "Epoch 37/100\n",
      "100/100 [==============================] - 3s 30ms/step - loss: 0.0474 - accuracy: 0.9885 - val_loss: 0.1114 - val_accuracy: 0.9682\n",
      "Epoch 38/100\n",
      "100/100 [==============================] - 3s 34ms/step - loss: 0.0484 - accuracy: 0.9872 - val_loss: 0.1092 - val_accuracy: 0.9689\n",
      "Epoch 39/100\n",
      "100/100 [==============================] - 3s 34ms/step - loss: 0.0465 - accuracy: 0.9883 - val_loss: 0.1090 - val_accuracy: 0.9686\n",
      "Epoch 40/100\n",
      "100/100 [==============================] - 3s 33ms/step - loss: 0.0428 - accuracy: 0.9885 - val_loss: 0.1084 - val_accuracy: 0.9691\n",
      "Epoch 41/100\n",
      "100/100 [==============================] - 3s 29ms/step - loss: 0.0418 - accuracy: 0.9892 - val_loss: 0.1079 - val_accuracy: 0.9695\n",
      "Epoch 42/100\n",
      "100/100 [==============================] - 3s 30ms/step - loss: 0.0398 - accuracy: 0.9905 - val_loss: 0.1071 - val_accuracy: 0.9692\n",
      "Epoch 43/100\n",
      "100/100 [==============================] - 3s 28ms/step - loss: 0.0396 - accuracy: 0.9904 - val_loss: 0.1066 - val_accuracy: 0.9697\n",
      "Epoch 44/100\n",
      "100/100 [==============================] - 3s 30ms/step - loss: 0.0370 - accuracy: 0.9908 - val_loss: 0.1080 - val_accuracy: 0.9697\n",
      "Epoch 45/100\n",
      "100/100 [==============================] - 4s 36ms/step - loss: 0.0344 - accuracy: 0.9922 - val_loss: 0.1064 - val_accuracy: 0.9707\n",
      "Epoch 46/100\n",
      "100/100 [==============================] - 3s 33ms/step - loss: 0.0336 - accuracy: 0.9924 - val_loss: 0.1090 - val_accuracy: 0.9698\n",
      "Epoch 47/100\n",
      "100/100 [==============================] - 3s 32ms/step - loss: 0.0322 - accuracy: 0.9929 - val_loss: 0.1080 - val_accuracy: 0.9701\n",
      "Epoch 48/100\n",
      "100/100 [==============================] - 3s 31ms/step - loss: 0.0307 - accuracy: 0.9940 - val_loss: 0.1074 - val_accuracy: 0.9696\n",
      "Epoch 49/100\n",
      "100/100 [==============================] - 3s 31ms/step - loss: 0.0322 - accuracy: 0.9924 - val_loss: 0.1064 - val_accuracy: 0.9703\n",
      "Epoch 50/100\n",
      "100/100 [==============================] - 3s 29ms/step - loss: 0.0290 - accuracy: 0.9935 - val_loss: 0.1092 - val_accuracy: 0.9690\n",
      "Epoch 51/100\n",
      "100/100 [==============================] - 3s 28ms/step - loss: 0.0288 - accuracy: 0.9936 - val_loss: 0.1082 - val_accuracy: 0.9701\n",
      "Epoch 52/100\n",
      "100/100 [==============================] - 3s 29ms/step - loss: 0.0251 - accuracy: 0.9957 - val_loss: 0.1068 - val_accuracy: 0.9705\n",
      "Epoch 53/100\n",
      "100/100 [==============================] - 4s 40ms/step - loss: 0.0264 - accuracy: 0.9947 - val_loss: 0.1058 - val_accuracy: 0.9701\n",
      "Epoch 54/100\n",
      "100/100 [==============================] - 3s 34ms/step - loss: 0.0245 - accuracy: 0.9952 - val_loss: 0.1070 - val_accuracy: 0.9701\n",
      "Epoch 55/100\n",
      "100/100 [==============================] - 3s 30ms/step - loss: 0.0249 - accuracy: 0.9951 - val_loss: 0.1069 - val_accuracy: 0.9705\n",
      "Epoch 56/100\n",
      "100/100 [==============================] - 3s 31ms/step - loss: 0.0222 - accuracy: 0.9957 - val_loss: 0.1067 - val_accuracy: 0.9712\n",
      "Epoch 57/100\n",
      "100/100 [==============================] - 3s 29ms/step - loss: 0.0221 - accuracy: 0.9959 - val_loss: 0.1092 - val_accuracy: 0.9699\n",
      "Epoch 58/100\n",
      "100/100 [==============================] - 3s 29ms/step - loss: 0.0214 - accuracy: 0.9962 - val_loss: 0.1073 - val_accuracy: 0.9715\n",
      "Epoch 59/100\n",
      "100/100 [==============================] - 3s 33ms/step - loss: 0.0202 - accuracy: 0.9964 - val_loss: 0.1086 - val_accuracy: 0.9705\n",
      "Epoch 60/100\n",
      "100/100 [==============================] - 3s 33ms/step - loss: 0.0202 - accuracy: 0.9966 - val_loss: 0.1079 - val_accuracy: 0.9699\n",
      "Epoch 61/100\n",
      "100/100 [==============================] - 3s 32ms/step - loss: 0.0186 - accuracy: 0.9969 - val_loss: 0.1072 - val_accuracy: 0.9708\n",
      "Epoch 62/100\n",
      "100/100 [==============================] - 3s 30ms/step - loss: 0.0181 - accuracy: 0.9974 - val_loss: 0.1087 - val_accuracy: 0.9720\n",
      "Epoch 63/100\n",
      "100/100 [==============================] - 3s 31ms/step - loss: 0.0181 - accuracy: 0.9974 - val_loss: 0.1078 - val_accuracy: 0.9718\n",
      "Epoch 64/100\n",
      "100/100 [==============================] - 3s 31ms/step - loss: 0.0158 - accuracy: 0.9980 - val_loss: 0.1069 - val_accuracy: 0.9714\n",
      "Epoch 65/100\n",
      "100/100 [==============================] - 3s 30ms/step - loss: 0.0158 - accuracy: 0.9981 - val_loss: 0.1078 - val_accuracy: 0.9715\n",
      "Epoch 66/100\n",
      "100/100 [==============================] - 3s 33ms/step - loss: 0.0160 - accuracy: 0.9979 - val_loss: 0.1090 - val_accuracy: 0.9718\n",
      "Epoch 67/100\n",
      "100/100 [==============================] - 3s 32ms/step - loss: 0.0154 - accuracy: 0.9978 - val_loss: 0.1135 - val_accuracy: 0.9707\n",
      "Epoch 68/100\n",
      "100/100 [==============================] - 3s 32ms/step - loss: 0.0134 - accuracy: 0.9983 - val_loss: 0.1135 - val_accuracy: 0.9706\n",
      "Epoch 69/100\n",
      "100/100 [==============================] - 3s 32ms/step - loss: 0.0135 - accuracy: 0.9986 - val_loss: 0.1090 - val_accuracy: 0.9720\n",
      "Epoch 70/100\n",
      "100/100 [==============================] - 3s 30ms/step - loss: 0.0136 - accuracy: 0.9983 - val_loss: 0.1103 - val_accuracy: 0.9708\n",
      "Epoch 71/100\n",
      "100/100 [==============================] - 3s 29ms/step - loss: 0.0128 - accuracy: 0.9984 - val_loss: 0.1101 - val_accuracy: 0.9713\n",
      "Epoch 72/100\n",
      "100/100 [==============================] - 3s 29ms/step - loss: 0.0127 - accuracy: 0.9985 - val_loss: 0.1120 - val_accuracy: 0.9723\n",
      "Epoch 73/100\n",
      "100/100 [==============================] - 3s 34ms/step - loss: 0.0120 - accuracy: 0.9990 - val_loss: 0.1113 - val_accuracy: 0.9715\n",
      "Epoch 74/100\n",
      "100/100 [==============================] - 3s 34ms/step - loss: 0.0114 - accuracy: 0.9988 - val_loss: 0.1114 - val_accuracy: 0.9723\n",
      "Epoch 75/100\n",
      "100/100 [==============================] - 4s 36ms/step - loss: 0.0110 - accuracy: 0.9989 - val_loss: 0.1113 - val_accuracy: 0.9723\n",
      "Epoch 76/100\n",
      "100/100 [==============================] - 3s 33ms/step - loss: 0.0109 - accuracy: 0.9992 - val_loss: 0.1106 - val_accuracy: 0.9720\n",
      "Epoch 77/100\n",
      "100/100 [==============================] - 3s 31ms/step - loss: 0.0102 - accuracy: 0.9993 - val_loss: 0.1117 - val_accuracy: 0.9715\n",
      "Epoch 78/100\n",
      "100/100 [==============================] - 3s 29ms/step - loss: 0.0099 - accuracy: 0.9992 - val_loss: 0.1147 - val_accuracy: 0.9712\n",
      "Epoch 79/100\n",
      "100/100 [==============================] - 3s 31ms/step - loss: 0.0100 - accuracy: 0.9991 - val_loss: 0.1135 - val_accuracy: 0.9715\n",
      "Epoch 80/100\n",
      "100/100 [==============================] - 3s 31ms/step - loss: 0.0093 - accuracy: 0.9995 - val_loss: 0.1126 - val_accuracy: 0.9720\n",
      "Epoch 81/100\n",
      "100/100 [==============================] - 3s 31ms/step - loss: 0.0089 - accuracy: 0.9994 - val_loss: 0.1128 - val_accuracy: 0.9728\n",
      "Epoch 82/100\n",
      "100/100 [==============================] - 3s 33ms/step - loss: 0.0088 - accuracy: 0.9994 - val_loss: 0.1131 - val_accuracy: 0.9727\n",
      "Epoch 83/100\n",
      "100/100 [==============================] - 3s 31ms/step - loss: 0.0084 - accuracy: 0.9996 - val_loss: 0.1131 - val_accuracy: 0.9720\n",
      "Epoch 84/100\n",
      "100/100 [==============================] - 3s 31ms/step - loss: 0.0083 - accuracy: 0.9996 - val_loss: 0.1146 - val_accuracy: 0.9719\n",
      "Epoch 85/100\n",
      "100/100 [==============================] - 3s 30ms/step - loss: 0.0074 - accuracy: 0.9996 - val_loss: 0.1136 - val_accuracy: 0.9724\n",
      "Epoch 86/100\n",
      "100/100 [==============================] - 3s 28ms/step - loss: 0.0075 - accuracy: 0.9997 - val_loss: 0.1162 - val_accuracy: 0.9709\n",
      "Epoch 87/100\n",
      "100/100 [==============================] - 3s 29ms/step - loss: 0.0076 - accuracy: 0.9996 - val_loss: 0.1155 - val_accuracy: 0.9719\n",
      "Epoch 88/100\n",
      "100/100 [==============================] - 3s 28ms/step - loss: 0.0070 - accuracy: 0.9997 - val_loss: 0.1166 - val_accuracy: 0.9729\n",
      "Epoch 89/100\n",
      "100/100 [==============================] - 3s 30ms/step - loss: 0.0070 - accuracy: 0.9997 - val_loss: 0.1162 - val_accuracy: 0.9721\n",
      "Epoch 90/100\n",
      "100/100 [==============================] - 3s 35ms/step - loss: 0.0070 - accuracy: 0.9997 - val_loss: 0.1166 - val_accuracy: 0.9725\n",
      "Epoch 91/100\n",
      "100/100 [==============================] - 3s 32ms/step - loss: 0.0066 - accuracy: 0.9998 - val_loss: 0.1165 - val_accuracy: 0.9729\n",
      "Epoch 92/100\n",
      "100/100 [==============================] - 3s 31ms/step - loss: 0.0062 - accuracy: 0.9998 - val_loss: 0.1164 - val_accuracy: 0.9721\n",
      "Epoch 93/100\n",
      "100/100 [==============================] - 3s 29ms/step - loss: 0.0059 - accuracy: 0.9998 - val_loss: 0.1161 - val_accuracy: 0.9722\n",
      "Epoch 94/100\n",
      "100/100 [==============================] - 3s 29ms/step - loss: 0.0062 - accuracy: 0.9997 - val_loss: 0.1169 - val_accuracy: 0.9730\n",
      "Epoch 95/100\n",
      "100/100 [==============================] - 3s 29ms/step - loss: 0.0060 - accuracy: 0.9998 - val_loss: 0.1174 - val_accuracy: 0.9721\n",
      "Epoch 96/100\n",
      "100/100 [==============================] - 3s 28ms/step - loss: 0.0056 - accuracy: 0.9998 - val_loss: 0.1178 - val_accuracy: 0.9723\n",
      "Epoch 97/100\n",
      "100/100 [==============================] - 3s 31ms/step - loss: 0.0056 - accuracy: 0.9998 - val_loss: 0.1195 - val_accuracy: 0.9718\n",
      "Epoch 98/100\n",
      "100/100 [==============================] - 3s 34ms/step - loss: 0.0054 - accuracy: 0.9998 - val_loss: 0.1189 - val_accuracy: 0.9722\n",
      "Epoch 99/100\n",
      "100/100 [==============================] - 5s 47ms/step - loss: 0.0050 - accuracy: 0.9999 - val_loss: 0.1189 - val_accuracy: 0.9724\n",
      "Epoch 100/100\n",
      "100/100 [==============================] - 3s 31ms/step - loss: 0.0049 - accuracy: 0.9999 - val_loss: 0.1197 - val_accuracy: 0.9725\n"
     ]
    }
   ],
   "source": [
    "# Train batch-normalized \n",
    "# Use epochs 100, batch size 500\n",
    "bn_history = bn_model.fit(train_images, train_labels, epochs=100, \n",
    "    batch_size=500, validation_data=(test_images, test_labels), \n",
    "    verbose=1, shuffle=True)"
   ]
  },
  {
   "cell_type": "code",
   "execution_count": 7,
   "metadata": {},
   "outputs": [
    {
     "data": {
      "text/plain": [
       "<matplotlib.legend.Legend at 0x7f6728730940>"
      ]
     },
     "execution_count": 7,
     "metadata": {},
     "output_type": "execute_result"
    },
    {
     "data": {
      "image/png": "[encoded data removed]",
      "text/plain": [
       "<Figure size 432x288 with 1 Axes>"
      ]
     },
     "metadata": {
      "needs_background": "light"
     },
     "output_type": "display_data"
    }
   ],
   "source": [
    "# Plot training accuracy and validation accuracy\n",
    "plt.plot(bn_history.history['accuracy'], label='accuracy')\n",
    "plt.plot(bn_history.history['val_accuracy'], label = 'val_accuracy')\n",
    "plt.xlabel('Epoch')\n",
    "plt.ylabel('Accuracy')\n",
    "plt.ylim([0.5, 1])\n",
    "plt.legend(loc='lower right')"
   ]
  },
  {
   "cell_type": "code",
   "execution_count": 10,
   "metadata": {},
   "outputs": [
    {
     "data": {
      "text/plain": [
       "<matplotlib.legend.Legend at 0x7f6734339a58>"
      ]
     },
     "execution_count": 10,
     "metadata": {},
     "output_type": "execute_result"
    },
    {
     "data": {
      "image/png": "[encoded data removed]",
      "text/plain": [
       "<Figure size 432x288 with 1 Axes>"
      ]
     },
     "metadata": {
      "needs_background": "light"
     },
     "output_type": "display_data"
    }
   ],
   "source": [
    "# Plot training loss and validation loss\n",
    "plt.plot(bn_history.history['loss'], label='loss')\n",
    "plt.plot(bn_history.history['val_loss'], label = 'val_loss')\n",
    "plt.xlabel('Epoch')\n",
    "plt.ylabel('Cost')\n",
    "plt.ylim([0.0, 1])\n",
    "plt.legend(loc='lower right')"
   ]
  },
  {
   "cell_type": "code",
   "execution_count": null,
   "metadata": {},
   "outputs": [],
   "source": []
  }
 ],
 "metadata": {
  "kernelspec": {
   "display_name": "Python 3",
   "language": "python",
   "name": "python3"
  },
  "language_info": {
   "codemirror_mode": {
    "name": "ipython",
    "version": 3
   },
   "file_extension": ".py",
   "mimetype": "text/x-python",
   "name": "python",
   "nbconvert_exporter": "python",
   "pygments_lexer": "ipython3",
   "version": "3.6.10"
  }
 },
 "nbformat": 4,
 "nbformat_minor": 4
}
