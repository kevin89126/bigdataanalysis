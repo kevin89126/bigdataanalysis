{
 "cells": [
  {
   "cell_type": "markdown",
   "metadata": {},
   "source": [
    "## Import CSV"
   ]
  },
  {
   "cell_type": "code",
   "execution_count": 1,
   "metadata": {},
   "outputs": [],
   "source": [
    "import pandas\n",
    "def read_csv(filename,folder):\n",
    "    folder=folder+\"/\"+filename+\".csv\"\n",
    "    return pandas.read_csv(folder,encoding='ISO-8859-1')"
   ]
  },
  {
   "cell_type": "code",
   "execution_count": 2,
   "metadata": {},
   "outputs": [
    {
     "data": {
      "text/html": [
       "<div>\n",
       "<style scoped>\n",
       "    .dataframe tbody tr th:only-of-type {\n",
       "        vertical-align: middle;\n",
       "    }\n",
       "\n",
       "    .dataframe tbody tr th {\n",
       "        vertical-align: top;\n",
       "    }\n",
       "\n",
       "    .dataframe thead th {\n",
       "        text-align: right;\n",
       "    }\n",
       "</style>\n",
       "<table border=\"1\" class=\"dataframe\">\n",
       "  <thead>\n",
       "    <tr style=\"text-align: right;\">\n",
       "      <th></th>\n",
       "      <th>DATE</th>\n",
       "      <th>VFINX</th>\n",
       "      <th>^SP500TR</th>\n",
       "      <th>VMOT</th>\n",
       "      <th>RWM</th>\n",
       "      <th>DOG</th>\n",
       "      <th>SH</th>\n",
       "      <th>GLD</th>\n",
       "      <th>USO</th>\n",
       "    </tr>\n",
       "  </thead>\n",
       "  <tbody>\n",
       "    <tr>\n",
       "      <th>0</th>\n",
       "      <td>2019-08-30</td>\n",
       "      <td>265.023315</td>\n",
       "      <td>5898.229980</td>\n",
       "      <td>23.169899</td>\n",
       "      <td>41.254547</td>\n",
       "      <td>53.297012</td>\n",
       "      <td>26.470428</td>\n",
       "      <td>143.750000</td>\n",
       "      <td>91.680000</td>\n",
       "    </tr>\n",
       "    <tr>\n",
       "      <th>1</th>\n",
       "      <td>2019-08-29</td>\n",
       "      <td>264.817871</td>\n",
       "      <td>5893.649902</td>\n",
       "      <td>23.101868</td>\n",
       "      <td>41.165298</td>\n",
       "      <td>53.336716</td>\n",
       "      <td>26.460512</td>\n",
       "      <td>144.119995</td>\n",
       "      <td>94.239998</td>\n",
       "    </tr>\n",
       "    <tr>\n",
       "      <th>2</th>\n",
       "      <td>2019-08-28</td>\n",
       "      <td>261.462280</td>\n",
       "      <td>5818.839844</td>\n",
       "      <td>22.963835</td>\n",
       "      <td>41.879318</td>\n",
       "      <td>54.021534</td>\n",
       "      <td>26.807505</td>\n",
       "      <td>145.160004</td>\n",
       "      <td>93.120003</td>\n",
       "    </tr>\n",
       "    <tr>\n",
       "      <th>3</th>\n",
       "      <td>2019-08-27</td>\n",
       "      <td>259.750244</td>\n",
       "      <td>5780.790039</td>\n",
       "      <td>22.928339</td>\n",
       "      <td>42.385082</td>\n",
       "      <td>54.587254</td>\n",
       "      <td>26.995869</td>\n",
       "      <td>145.570007</td>\n",
       "      <td>91.360001</td>\n",
       "    </tr>\n",
       "    <tr>\n",
       "      <th>4</th>\n",
       "      <td>2019-08-26</td>\n",
       "      <td>260.591614</td>\n",
       "      <td>5799.339844</td>\n",
       "      <td>22.938200</td>\n",
       "      <td>41.780151</td>\n",
       "      <td>54.319283</td>\n",
       "      <td>26.876900</td>\n",
       "      <td>144.190002</td>\n",
       "      <td>89.440002</td>\n",
       "    </tr>\n",
       "  </tbody>\n",
       "</table>\n",
       "</div>"
      ],
      "text/plain": [
       "         DATE       VFINX     ^SP500TR       VMOT        RWM        DOG  \\\n",
       "0  2019-08-30  265.023315  5898.229980  23.169899  41.254547  53.297012   \n",
       "1  2019-08-29  264.817871  5893.649902  23.101868  41.165298  53.336716   \n",
       "2  2019-08-28  261.462280  5818.839844  22.963835  41.879318  54.021534   \n",
       "3  2019-08-27  259.750244  5780.790039  22.928339  42.385082  54.587254   \n",
       "4  2019-08-26  260.591614  5799.339844  22.938200  41.780151  54.319283   \n",
       "\n",
       "          SH         GLD        USO  \n",
       "0  26.470428  143.750000  91.680000  \n",
       "1  26.460512  144.119995  94.239998  \n",
       "2  26.807505  145.160004  93.120003  \n",
       "3  26.995869  145.570007  91.360001  \n",
       "4  26.876900  144.190002  89.440002  "
      ]
     },
     "execution_count": 2,
     "metadata": {},
     "output_type": "execute_result"
    }
   ],
   "source": [
    "PERD_INDEX=\"VFINX\"\n",
    "folder='/nfs/Workspace/'\n",
    "RES_PATH='Result'\n",
    "data=read_csv(filename=\"TEST\",folder=folder)\n",
    "data.columns = ( 'DATE','VFINX','^SP500TR','VMOT','RWM','DOG','SH','GLD','USO')\n",
    "data = data.fillna(method='ffill')\n",
    "data.head()"
   ]
  },
  {
   "cell_type": "markdown",
   "metadata": {},
   "source": [
    "## Visualize Data"
   ]
  },
  {
   "cell_type": "code",
   "execution_count": 3,
   "metadata": {},
   "outputs": [],
   "source": [
    "from matplotlib import pyplot\n",
    "def plot_data(dataset,groups):\n",
    "    i = 1\n",
    "    pyplot.figure()\n",
    "    values = dataset.values\n",
    "    for group in groups:\n",
    "        pyplot.subplot(len(groups), 1, i)\n",
    "        pyplot.plot(values[:, group])\n",
    "        pyplot.title(dataset.columns[group], y=0.5, loc='right')\n",
    "        i += 1\n",
    "    pyplot.show()"
   ]
  },
  {
   "cell_type": "code",
   "execution_count": null,
   "metadata": {},
   "outputs": [],
   "source": [
    "plot_data(data,groups=range(1,len(data.columns)-1))"
   ]
  },
  {
   "cell_type": "markdown",
   "metadata": {},
   "source": [
    "## Data Summary"
   ]
  },
  {
   "cell_type": "code",
   "execution_count": null,
   "metadata": {},
   "outputs": [],
   "source": [
    "data.describe()"
   ]
  },
  {
   "cell_type": "markdown",
   "metadata": {},
   "source": [
    "## Independent and identically distributed (I.I.D.) Testing"
   ]
  },
  {
   "cell_type": "code",
   "execution_count": null,
   "metadata": {},
   "outputs": [],
   "source": [
    "import statsmodels.api as sm\n",
    "import matplotlib.pyplot as plt\n",
    "#sm.graphics.tsa.plot_acf(data['vfx'].values, lags=40)\n",
    "#print(data['VFINX'])\n",
    "sm.graphics.tsa.plot_acf(data['VFINX'].values, lags=40)\n",
    "plt.show()"
   ]
  },
  {
   "cell_type": "markdown",
   "metadata": {},
   "source": [
    "## Histogram"
   ]
  },
  {
   "cell_type": "code",
   "execution_count": null,
   "metadata": {},
   "outputs": [],
   "source": [
    "data.plot(kind=\"hist\",bins=50)"
   ]
  },
  {
   "cell_type": "markdown",
   "metadata": {},
   "source": [
    "## Normal Test "
   ]
  },
  {
   "cell_type": "code",
   "execution_count": null,
   "metadata": {},
   "outputs": [],
   "source": [
    "from scipy import stats\n",
    "for group in data.columns[1:]:\n",
    "    print(stats.shapiro(data[group].values))\n",
    "#print(stats.shapiro(data['spx'].values))"
   ]
  },
  {
   "cell_type": "markdown",
   "metadata": {},
   "source": [
    "## *** LSTM ***"
   ]
  },
  {
   "cell_type": "code",
   "execution_count": 4,
   "metadata": {},
   "outputs": [],
   "source": [
    "from sklearn.preprocessing import MinMaxScaler, LabelEncoder\n",
    "def Standard_MinMax(data):\n",
    "    sc = MinMaxScaler(feature_range = (0, 1))\n",
    "    return sc.fit_transform(data.reshape(-1,1))"
   ]
  },
  {
   "cell_type": "code",
   "execution_count": 5,
   "metadata": {},
   "outputs": [
    {
     "data": {
      "text/html": [
       "<div>\n",
       "<style scoped>\n",
       "    .dataframe tbody tr th:only-of-type {\n",
       "        vertical-align: middle;\n",
       "    }\n",
       "\n",
       "    .dataframe tbody tr th {\n",
       "        vertical-align: top;\n",
       "    }\n",
       "\n",
       "    .dataframe thead th {\n",
       "        text-align: right;\n",
       "    }\n",
       "</style>\n",
       "<table border=\"1\" class=\"dataframe\">\n",
       "  <thead>\n",
       "    <tr style=\"text-align: right;\">\n",
       "      <th></th>\n",
       "      <th>VFINX</th>\n",
       "      <th>^SP500TR</th>\n",
       "      <th>VMOT</th>\n",
       "      <th>RWM</th>\n",
       "      <th>DOG</th>\n",
       "      <th>SH</th>\n",
       "      <th>GLD</th>\n",
       "      <th>USO</th>\n",
       "    </tr>\n",
       "  </thead>\n",
       "  <tbody>\n",
       "    <tr>\n",
       "      <th>0</th>\n",
       "      <td>265.023315</td>\n",
       "      <td>5898.229980</td>\n",
       "      <td>23.169899</td>\n",
       "      <td>41.254547</td>\n",
       "      <td>53.297012</td>\n",
       "      <td>26.470428</td>\n",
       "      <td>143.750000</td>\n",
       "      <td>91.680000</td>\n",
       "    </tr>\n",
       "    <tr>\n",
       "      <th>1</th>\n",
       "      <td>264.817871</td>\n",
       "      <td>5893.649902</td>\n",
       "      <td>23.101868</td>\n",
       "      <td>41.165298</td>\n",
       "      <td>53.336716</td>\n",
       "      <td>26.460512</td>\n",
       "      <td>144.119995</td>\n",
       "      <td>94.239998</td>\n",
       "    </tr>\n",
       "    <tr>\n",
       "      <th>2</th>\n",
       "      <td>261.462280</td>\n",
       "      <td>5818.839844</td>\n",
       "      <td>22.963835</td>\n",
       "      <td>41.879318</td>\n",
       "      <td>54.021534</td>\n",
       "      <td>26.807505</td>\n",
       "      <td>145.160004</td>\n",
       "      <td>93.120003</td>\n",
       "    </tr>\n",
       "    <tr>\n",
       "      <th>3</th>\n",
       "      <td>259.750244</td>\n",
       "      <td>5780.790039</td>\n",
       "      <td>22.928339</td>\n",
       "      <td>42.385082</td>\n",
       "      <td>54.587254</td>\n",
       "      <td>26.995869</td>\n",
       "      <td>145.570007</td>\n",
       "      <td>91.360001</td>\n",
       "    </tr>\n",
       "    <tr>\n",
       "      <th>4</th>\n",
       "      <td>260.591614</td>\n",
       "      <td>5799.339844</td>\n",
       "      <td>22.938200</td>\n",
       "      <td>41.780151</td>\n",
       "      <td>54.319283</td>\n",
       "      <td>26.876900</td>\n",
       "      <td>144.190002</td>\n",
       "      <td>89.440002</td>\n",
       "    </tr>\n",
       "  </tbody>\n",
       "</table>\n",
       "</div>"
      ],
      "text/plain": [
       "        VFINX     ^SP500TR       VMOT        RWM        DOG         SH  \\\n",
       "0  265.023315  5898.229980  23.169899  41.254547  53.297012  26.470428   \n",
       "1  264.817871  5893.649902  23.101868  41.165298  53.336716  26.460512   \n",
       "2  261.462280  5818.839844  22.963835  41.879318  54.021534  26.807505   \n",
       "3  259.750244  5780.790039  22.928339  42.385082  54.587254  26.995869   \n",
       "4  260.591614  5799.339844  22.938200  41.780151  54.319283  26.876900   \n",
       "\n",
       "          GLD        USO  \n",
       "0  143.750000  91.680000  \n",
       "1  144.119995  94.239998  \n",
       "2  145.160004  93.120003  \n",
       "3  145.570007  91.360001  \n",
       "4  144.190002  89.440002  "
      ]
     },
     "execution_count": 5,
     "metadata": {},
     "output_type": "execute_result"
    }
   ],
   "source": [
    "#folder=\"/root/bigdataanalysis/test/\"\n",
    "#data=read_csv(filename=\"FEAT_DATA\",folder=folder)\n",
    "#data.columns = ( 'DATE','vfx' ,'vix' ,'vbx' ,'rom', 'vmt','rwm','dog','psh', 'spx')\n",
    "#if not data.get('DATE', None):\n",
    "del data['DATE']\n",
    "scaler = MinMaxScaler(feature_range=(0, 1))\n",
    "scaled = scaler.fit_transform(data)\n",
    "data.head()\n",
    "#print(scaled)"
   ]
  },
  {
   "cell_type": "markdown",
   "metadata": {},
   "source": [
    "## Series to Supervised"
   ]
  },
  {
   "cell_type": "code",
   "execution_count": 6,
   "metadata": {},
   "outputs": [],
   "source": [
    "def series_to_supervised(data, n_in=1, n_out=1, dropnan=True):\n",
    "\tn_vars = 1 if type(data) is list else data.shape[1]\n",
    "\tdf = pandas.DataFrame(data)\n",
    "\tcols, names = list(), list()\n",
    "\tfor i in range(n_in, 0, -1):\n",
    "\t\tcols.append(df.shift(i))\n",
    "\t\tnames += [('var%d(t-%d)' % (j+1, i)) for j in range(n_vars)]\n",
    "        \n",
    "\tfor i in range(0, n_out):\n",
    "\t\tcols.append(df.shift(-i))\n",
    "\t\tif i == 0:\n",
    "\t\t\tnames += [('var%d(t)' % (j+1)) for j in range(n_vars)]\n",
    "\t\telse:\n",
    "\t\t\tnames += [('var%d(t+%d)' % (j+1, i)) for j in range(n_vars)]\n",
    "\t# put it all together\n",
    "\tagg = pandas.concat(cols, axis=1)\n",
    "\tagg.columns = names\n",
    "    \n",
    "\t# drop rows with NaN values\n",
    "\tif dropnan:\n",
    "\t\tagg.dropna(inplace=True)\n",
    "\treturn agg"
   ]
  },
  {
   "cell_type": "code",
   "execution_count": 7,
   "metadata": {},
   "outputs": [
    {
     "data": {
      "text/html": [
       "<div>\n",
       "<style scoped>\n",
       "    .dataframe tbody tr th:only-of-type {\n",
       "        vertical-align: middle;\n",
       "    }\n",
       "\n",
       "    .dataframe tbody tr th {\n",
       "        vertical-align: top;\n",
       "    }\n",
       "\n",
       "    .dataframe thead th {\n",
       "        text-align: right;\n",
       "    }\n",
       "</style>\n",
       "<table border=\"1\" class=\"dataframe\">\n",
       "  <thead>\n",
       "    <tr style=\"text-align: right;\">\n",
       "      <th></th>\n",
       "      <th>var1(t-1)</th>\n",
       "      <th>var2(t-1)</th>\n",
       "      <th>var3(t-1)</th>\n",
       "      <th>var4(t-1)</th>\n",
       "      <th>var5(t-1)</th>\n",
       "      <th>var6(t-1)</th>\n",
       "      <th>var7(t-1)</th>\n",
       "      <th>var8(t-1)</th>\n",
       "      <th>var1(t)</th>\n",
       "      <th>var2(t)</th>\n",
       "      <th>var3(t)</th>\n",
       "      <th>var4(t)</th>\n",
       "      <th>var5(t)</th>\n",
       "      <th>var6(t)</th>\n",
       "      <th>var7(t)</th>\n",
       "      <th>var8(t)</th>\n",
       "    </tr>\n",
       "  </thead>\n",
       "  <tbody>\n",
       "    <tr>\n",
       "      <th>1</th>\n",
       "      <td>0.867774</td>\n",
       "      <td>0.868484</td>\n",
       "      <td>0.105944</td>\n",
       "      <td>0.324259</td>\n",
       "      <td>0.130623</td>\n",
       "      <td>0.110565</td>\n",
       "      <td>0.944898</td>\n",
       "      <td>0.319588</td>\n",
       "      <td>0.864526</td>\n",
       "      <td>0.865239</td>\n",
       "      <td>0.094340</td>\n",
       "      <td>0.316452</td>\n",
       "      <td>0.133644</td>\n",
       "      <td>0.109200</td>\n",
       "      <td>0.956100</td>\n",
       "      <td>0.366716</td>\n",
       "    </tr>\n",
       "    <tr>\n",
       "      <th>2</th>\n",
       "      <td>0.864526</td>\n",
       "      <td>0.865239</td>\n",
       "      <td>0.094340</td>\n",
       "      <td>0.316452</td>\n",
       "      <td>0.133644</td>\n",
       "      <td>0.109200</td>\n",
       "      <td>0.956100</td>\n",
       "      <td>0.366716</td>\n",
       "      <td>0.811481</td>\n",
       "      <td>0.812225</td>\n",
       "      <td>0.070797</td>\n",
       "      <td>0.378909</td>\n",
       "      <td>0.185742</td>\n",
       "      <td>0.156975</td>\n",
       "      <td>0.987587</td>\n",
       "      <td>0.346097</td>\n",
       "    </tr>\n",
       "    <tr>\n",
       "      <th>3</th>\n",
       "      <td>0.811481</td>\n",
       "      <td>0.812225</td>\n",
       "      <td>0.070797</td>\n",
       "      <td>0.378909</td>\n",
       "      <td>0.185742</td>\n",
       "      <td>0.156975</td>\n",
       "      <td>0.987587</td>\n",
       "      <td>0.346097</td>\n",
       "      <td>0.784417</td>\n",
       "      <td>0.785262</td>\n",
       "      <td>0.064743</td>\n",
       "      <td>0.423149</td>\n",
       "      <td>0.228779</td>\n",
       "      <td>0.182910</td>\n",
       "      <td>1.000000</td>\n",
       "      <td>0.313697</td>\n",
       "    </tr>\n",
       "    <tr>\n",
       "      <th>4</th>\n",
       "      <td>0.784417</td>\n",
       "      <td>0.785262</td>\n",
       "      <td>0.064743</td>\n",
       "      <td>0.423149</td>\n",
       "      <td>0.228779</td>\n",
       "      <td>0.182910</td>\n",
       "      <td>1.000000</td>\n",
       "      <td>0.313697</td>\n",
       "      <td>0.797718</td>\n",
       "      <td>0.798407</td>\n",
       "      <td>0.066425</td>\n",
       "      <td>0.370235</td>\n",
       "      <td>0.208393</td>\n",
       "      <td>0.166530</td>\n",
       "      <td>0.958220</td>\n",
       "      <td>0.278351</td>\n",
       "    </tr>\n",
       "    <tr>\n",
       "      <th>5</th>\n",
       "      <td>0.797718</td>\n",
       "      <td>0.798407</td>\n",
       "      <td>0.066425</td>\n",
       "      <td>0.370235</td>\n",
       "      <td>0.208393</td>\n",
       "      <td>0.166530</td>\n",
       "      <td>0.958220</td>\n",
       "      <td>0.278351</td>\n",
       "      <td>0.752405</td>\n",
       "      <td>0.753260</td>\n",
       "      <td>0.036492</td>\n",
       "      <td>0.411005</td>\n",
       "      <td>0.252941</td>\n",
       "      <td>0.210210</td>\n",
       "      <td>0.957614</td>\n",
       "      <td>0.279823</td>\n",
       "    </tr>\n",
       "  </tbody>\n",
       "</table>\n",
       "</div>"
      ],
      "text/plain": [
       "   var1(t-1)  var2(t-1)  var3(t-1)  var4(t-1)  var5(t-1)  var6(t-1)  \\\n",
       "1   0.867774   0.868484   0.105944   0.324259   0.130623   0.110565   \n",
       "2   0.864526   0.865239   0.094340   0.316452   0.133644   0.109200   \n",
       "3   0.811481   0.812225   0.070797   0.378909   0.185742   0.156975   \n",
       "4   0.784417   0.785262   0.064743   0.423149   0.228779   0.182910   \n",
       "5   0.797718   0.798407   0.066425   0.370235   0.208393   0.166530   \n",
       "\n",
       "   var7(t-1)  var8(t-1)   var1(t)   var2(t)   var3(t)   var4(t)   var5(t)  \\\n",
       "1   0.944898   0.319588  0.864526  0.865239  0.094340  0.316452  0.133644   \n",
       "2   0.956100   0.366716  0.811481  0.812225  0.070797  0.378909  0.185742   \n",
       "3   0.987587   0.346097  0.784417  0.785262  0.064743  0.423149  0.228779   \n",
       "4   1.000000   0.313697  0.797718  0.798407  0.066425  0.370235  0.208393   \n",
       "5   0.958220   0.278351  0.752405  0.753260  0.036492  0.411005  0.252941   \n",
       "\n",
       "    var6(t)   var7(t)   var8(t)  \n",
       "1  0.109200  0.956100  0.366716  \n",
       "2  0.156975  0.987587  0.346097  \n",
       "3  0.182910  1.000000  0.313697  \n",
       "4  0.166530  0.958220  0.278351  \n",
       "5  0.210210  0.957614  0.279823  "
      ]
     },
     "execution_count": 7,
     "metadata": {},
     "output_type": "execute_result"
    }
   ],
   "source": [
    "reframed = series_to_supervised(scaled, 1, 1)\n",
    "reframed.head()"
   ]
  },
  {
   "cell_type": "code",
   "execution_count": 8,
   "metadata": {},
   "outputs": [
    {
     "data": {
      "text/html": [
       "<div>\n",
       "<style scoped>\n",
       "    .dataframe tbody tr th:only-of-type {\n",
       "        vertical-align: middle;\n",
       "    }\n",
       "\n",
       "    .dataframe tbody tr th {\n",
       "        vertical-align: top;\n",
       "    }\n",
       "\n",
       "    .dataframe thead th {\n",
       "        text-align: right;\n",
       "    }\n",
       "</style>\n",
       "<table border=\"1\" class=\"dataframe\">\n",
       "  <thead>\n",
       "    <tr style=\"text-align: right;\">\n",
       "      <th></th>\n",
       "      <th>var1(t-1)</th>\n",
       "      <th>var2(t-1)</th>\n",
       "      <th>var3(t-1)</th>\n",
       "      <th>var4(t-1)</th>\n",
       "      <th>var5(t-1)</th>\n",
       "      <th>var6(t-1)</th>\n",
       "      <th>var7(t-1)</th>\n",
       "      <th>var8(t-1)</th>\n",
       "      <th>var1(t)</th>\n",
       "    </tr>\n",
       "  </thead>\n",
       "  <tbody>\n",
       "    <tr>\n",
       "      <th>1</th>\n",
       "      <td>0.867774</td>\n",
       "      <td>0.868484</td>\n",
       "      <td>0.105944</td>\n",
       "      <td>0.324259</td>\n",
       "      <td>0.130623</td>\n",
       "      <td>0.110565</td>\n",
       "      <td>0.944898</td>\n",
       "      <td>0.319588</td>\n",
       "      <td>0.864526</td>\n",
       "    </tr>\n",
       "    <tr>\n",
       "      <th>2</th>\n",
       "      <td>0.864526</td>\n",
       "      <td>0.865239</td>\n",
       "      <td>0.094340</td>\n",
       "      <td>0.316452</td>\n",
       "      <td>0.133644</td>\n",
       "      <td>0.109200</td>\n",
       "      <td>0.956100</td>\n",
       "      <td>0.366716</td>\n",
       "      <td>0.811481</td>\n",
       "    </tr>\n",
       "    <tr>\n",
       "      <th>3</th>\n",
       "      <td>0.811481</td>\n",
       "      <td>0.812225</td>\n",
       "      <td>0.070797</td>\n",
       "      <td>0.378909</td>\n",
       "      <td>0.185742</td>\n",
       "      <td>0.156975</td>\n",
       "      <td>0.987587</td>\n",
       "      <td>0.346097</td>\n",
       "      <td>0.784417</td>\n",
       "    </tr>\n",
       "    <tr>\n",
       "      <th>4</th>\n",
       "      <td>0.784417</td>\n",
       "      <td>0.785262</td>\n",
       "      <td>0.064743</td>\n",
       "      <td>0.423149</td>\n",
       "      <td>0.228779</td>\n",
       "      <td>0.182910</td>\n",
       "      <td>1.000000</td>\n",
       "      <td>0.313697</td>\n",
       "      <td>0.797718</td>\n",
       "    </tr>\n",
       "    <tr>\n",
       "      <th>5</th>\n",
       "      <td>0.797718</td>\n",
       "      <td>0.798407</td>\n",
       "      <td>0.066425</td>\n",
       "      <td>0.370235</td>\n",
       "      <td>0.208393</td>\n",
       "      <td>0.166530</td>\n",
       "      <td>0.958220</td>\n",
       "      <td>0.278351</td>\n",
       "      <td>0.752405</td>\n",
       "    </tr>\n",
       "  </tbody>\n",
       "</table>\n",
       "</div>"
      ],
      "text/plain": [
       "   var1(t-1)  var2(t-1)  var3(t-1)  var4(t-1)  var5(t-1)  var6(t-1)  \\\n",
       "1   0.867774   0.868484   0.105944   0.324259   0.130623   0.110565   \n",
       "2   0.864526   0.865239   0.094340   0.316452   0.133644   0.109200   \n",
       "3   0.811481   0.812225   0.070797   0.378909   0.185742   0.156975   \n",
       "4   0.784417   0.785262   0.064743   0.423149   0.228779   0.182910   \n",
       "5   0.797718   0.798407   0.066425   0.370235   0.208393   0.166530   \n",
       "\n",
       "   var7(t-1)  var8(t-1)   var1(t)  \n",
       "1   0.944898   0.319588  0.864526  \n",
       "2   0.956100   0.366716  0.811481  \n",
       "3   0.987587   0.346097  0.784417  \n",
       "4   1.000000   0.313697  0.797718  \n",
       "5   0.958220   0.278351  0.752405  "
      ]
     },
     "execution_count": 8,
     "metadata": {},
     "output_type": "execute_result"
    }
   ],
   "source": [
    "pred = {PERD_INDEX: 8}\n",
    "reframed = pandas.concat([reframed.iloc[:,0:8],reframed.iloc[:,pred[PERD_INDEX]]],axis=1)\n",
    "reframed.head()\n"
   ]
  },
  {
   "cell_type": "code",
   "execution_count": 9,
   "metadata": {},
   "outputs": [
    {
     "data": {
      "text/plain": [
       "230"
      ]
     },
     "execution_count": 9,
     "metadata": {},
     "output_type": "execute_result"
    }
   ],
   "source": [
    "len(reframed.values)"
   ]
  },
  {
   "cell_type": "markdown",
   "metadata": {},
   "source": [
    "## Data Split"
   ]
  },
  {
   "cell_type": "code",
   "execution_count": 10,
   "metadata": {},
   "outputs": [
    {
     "data": {
      "text/plain": [
       "((200, 8), (200,), (30, 8), (30,))"
      ]
     },
     "execution_count": 10,
     "metadata": {},
     "output_type": "execute_result"
    }
   ],
   "source": [
    "train = reframed.values[:200,:]\n",
    "test = reframed.values[200:230,:]\n",
    "train_X, train_y = train[:, :-1], train[:, -1]\n",
    "test_X , test_y  = test[:, :-1], test[:, -1]\n",
    "train_X.shape, train_y.shape, test_X.shape, test_y.shape"
   ]
  },
  {
   "cell_type": "markdown",
   "metadata": {},
   "source": [
    "## LSTM"
   ]
  },
  {
   "cell_type": "code",
   "execution_count": 11,
   "metadata": {},
   "outputs": [
    {
     "name": "stdout",
     "output_type": "stream",
     "text": [
      "Model: \"sequential\"\n",
      "_________________________________________________________________\n",
      "Layer (type)                 Output Shape              Param #   \n",
      "=================================================================\n",
      "lstm (LSTM)                  (None, 50)                11800     \n",
      "_________________________________________________________________\n",
      "dense (Dense)                (None, 1)                 51        \n",
      "=================================================================\n",
      "Total params: 11,851\n",
      "Trainable params: 11,851\n",
      "Non-trainable params: 0\n",
      "_________________________________________________________________\n"
     ]
    }
   ],
   "source": [
    "train_X = train_X.reshape((train_X.shape[0], 1, train_X.shape[1]))\n",
    "test_X  = test_X.reshape((test_X.shape[0], 1, test_X.shape[1]))\n",
    "train_X.shape, train_y.shape, test_X.shape, test_y.shape\n",
    "\n",
    "import keras\n",
    "from keras import layers\n",
    "\n",
    "model = keras.models.Sequential()\n",
    "model.add(layers.LSTM(50, input_shape=(train_X.shape[1], train_X.shape[2])))\n",
    "model.add(layers.Dense(1))\n",
    "model.compile(loss='mse', optimizer='adam')\n",
    "model.summary()"
   ]
  },
  {
   "cell_type": "markdown",
   "metadata": {},
   "source": [
    "## Training"
   ]
  },
  {
   "cell_type": "code",
   "execution_count": 12,
   "metadata": {},
   "outputs": [
    {
     "name": "stdout",
     "output_type": "stream",
     "text": [
      "Epoch 1/100\n",
      "3/3 [==============================] - 0s 163ms/step - loss: 0.4199 - val_loss: 0.2535\n",
      "Epoch 2/100\n",
      "3/3 [==============================] - 0s 13ms/step - loss: 0.3820 - val_loss: 0.2217\n",
      "Epoch 3/100\n",
      "3/3 [==============================] - 0s 6ms/step - loss: 0.3468 - val_loss: 0.1918\n",
      "Epoch 4/100\n",
      "3/3 [==============================] - 0s 22ms/step - loss: 0.3133 - val_loss: 0.1638\n",
      "Epoch 5/100\n",
      "3/3 [==============================] - 0s 6ms/step - loss: 0.2815 - val_loss: 0.1378\n",
      "Epoch 6/100\n",
      "3/3 [==============================] - 0s 25ms/step - loss: 0.2514 - val_loss: 0.1138\n",
      "Epoch 7/100\n",
      "3/3 [==============================] - 0s 6ms/step - loss: 0.2229 - val_loss: 0.0919\n",
      "Epoch 8/100\n",
      "3/3 [==============================] - 0s 6ms/step - loss: 0.1961 - val_loss: 0.0723\n",
      "Epoch 9/100\n",
      "3/3 [==============================] - 0s 6ms/step - loss: 0.1713 - val_loss: 0.0552\n",
      "Epoch 10/100\n",
      "3/3 [==============================] - 0s 6ms/step - loss: 0.1485 - val_loss: 0.0407\n",
      "Epoch 11/100\n",
      "3/3 [==============================] - 0s 25ms/step - loss: 0.1278 - val_loss: 0.0289\n",
      "Epoch 12/100\n",
      "3/3 [==============================] - 0s 6ms/step - loss: 0.1093 - val_loss: 0.0198\n",
      "Epoch 13/100\n",
      "3/3 [==============================] - 0s 24ms/step - loss: 0.0931 - val_loss: 0.0133\n",
      "Epoch 14/100\n",
      "3/3 [==============================] - 0s 6ms/step - loss: 0.0793 - val_loss: 0.0094\n",
      "Epoch 15/100\n",
      "3/3 [==============================] - 0s 26ms/step - loss: 0.0676 - val_loss: 0.0076\n",
      "Epoch 16/100\n",
      "3/3 [==============================] - 0s 6ms/step - loss: 0.0581 - val_loss: 0.0077\n",
      "Epoch 17/100\n",
      "3/3 [==============================] - 0s 22ms/step - loss: 0.0504 - val_loss: 0.0093\n",
      "Epoch 18/100\n",
      "3/3 [==============================] - 0s 6ms/step - loss: 0.0443 - val_loss: 0.0118\n",
      "Epoch 19/100\n",
      "3/3 [==============================] - 0s 6ms/step - loss: 0.0396 - val_loss: 0.0149\n",
      "Epoch 20/100\n",
      "3/3 [==============================] - 0s 6ms/step - loss: 0.0359 - val_loss: 0.0180\n",
      "Epoch 21/100\n",
      "3/3 [==============================] - 0s 6ms/step - loss: 0.0331 - val_loss: 0.0209\n",
      "Epoch 22/100\n",
      "3/3 [==============================] - 0s 6ms/step - loss: 0.0308 - val_loss: 0.0234\n",
      "Epoch 23/100\n",
      "3/3 [==============================] - 0s 6ms/step - loss: 0.0289 - val_loss: 0.0254\n",
      "Epoch 24/100\n",
      "3/3 [==============================] - 0s 24ms/step - loss: 0.0273 - val_loss: 0.0267\n",
      "Epoch 25/100\n",
      "3/3 [==============================] - 0s 5ms/step - loss: 0.0258 - val_loss: 0.0275\n",
      "Epoch 26/100\n",
      "3/3 [==============================] - 0s 24ms/step - loss: 0.0245 - val_loss: 0.0277\n",
      "Epoch 27/100\n",
      "3/3 [==============================] - 0s 6ms/step - loss: 0.0233 - val_loss: 0.0276\n",
      "Epoch 28/100\n",
      "3/3 [==============================] - 0s 6ms/step - loss: 0.0221 - val_loss: 0.0271\n",
      "Epoch 29/100\n",
      "3/3 [==============================] - 0s 6ms/step - loss: 0.0210 - val_loss: 0.0265\n",
      "Epoch 30/100\n",
      "3/3 [==============================] - 0s 6ms/step - loss: 0.0200 - val_loss: 0.0257\n",
      "Epoch 31/100\n",
      "3/3 [==============================] - 0s 25ms/step - loss: 0.0190 - val_loss: 0.0249\n",
      "Epoch 32/100\n",
      "3/3 [==============================] - 0s 6ms/step - loss: 0.0181 - val_loss: 0.0241\n",
      "Epoch 33/100\n",
      "3/3 [==============================] - 0s 25ms/step - loss: 0.0172 - val_loss: 0.0234\n",
      "Epoch 34/100\n",
      "3/3 [==============================] - 0s 6ms/step - loss: 0.0164 - val_loss: 0.0227\n",
      "Epoch 35/100\n",
      "3/3 [==============================] - 0s 24ms/step - loss: 0.0156 - val_loss: 0.0221\n",
      "Epoch 36/100\n",
      "3/3 [==============================] - 0s 6ms/step - loss: 0.0149 - val_loss: 0.0216\n",
      "Epoch 37/100\n",
      "3/3 [==============================] - 0s 24ms/step - loss: 0.0142 - val_loss: 0.0212\n",
      "Epoch 38/100\n",
      "3/3 [==============================] - 0s 6ms/step - loss: 0.0135 - val_loss: 0.0209\n",
      "Epoch 39/100\n",
      "3/3 [==============================] - 0s 5ms/step - loss: 0.0129 - val_loss: 0.0206\n",
      "Epoch 40/100\n",
      "3/3 [==============================] - 0s 6ms/step - loss: 0.0122 - val_loss: 0.0204\n",
      "Epoch 41/100\n",
      "3/3 [==============================] - 0s 6ms/step - loss: 0.0116 - val_loss: 0.0202\n",
      "Epoch 42/100\n",
      "3/3 [==============================] - 0s 25ms/step - loss: 0.0110 - val_loss: 0.0201\n",
      "Epoch 43/100\n",
      "3/3 [==============================] - 0s 5ms/step - loss: 0.0105 - val_loss: 0.0200\n",
      "Epoch 44/100\n",
      "3/3 [==============================] - 0s 23ms/step - loss: 0.0099 - val_loss: 0.0199\n",
      "Epoch 45/100\n",
      "3/3 [==============================] - 0s 6ms/step - loss: 0.0094 - val_loss: 0.0198\n",
      "Epoch 46/100\n",
      "3/3 [==============================] - 0s 5ms/step - loss: 0.0090 - val_loss: 0.0197\n",
      "Epoch 47/100\n",
      "3/3 [==============================] - 0s 6ms/step - loss: 0.0085 - val_loss: 0.0196\n",
      "Epoch 48/100\n",
      "3/3 [==============================] - 0s 6ms/step - loss: 0.0081 - val_loss: 0.0195\n",
      "Epoch 49/100\n",
      "3/3 [==============================] - 0s 25ms/step - loss: 0.0077 - val_loss: 0.0194\n",
      "Epoch 50/100\n",
      "3/3 [==============================] - 0s 6ms/step - loss: 0.0073 - val_loss: 0.0193\n",
      "Epoch 51/100\n",
      "3/3 [==============================] - 0s 23ms/step - loss: 0.0069 - val_loss: 0.0192\n",
      "Epoch 52/100\n",
      "3/3 [==============================] - 0s 5ms/step - loss: 0.0066 - val_loss: 0.0190\n",
      "Epoch 53/100\n",
      "3/3 [==============================] - 0s 22ms/step - loss: 0.0062 - val_loss: 0.0189\n",
      "Epoch 54/100\n",
      "3/3 [==============================] - 0s 5ms/step - loss: 0.0059 - val_loss: 0.0187\n",
      "Epoch 55/100\n",
      "3/3 [==============================] - 0s 5ms/step - loss: 0.0057 - val_loss: 0.0186\n",
      "Epoch 56/100\n",
      "3/3 [==============================] - 0s 6ms/step - loss: 0.0054 - val_loss: 0.0184\n",
      "Epoch 57/100\n",
      "3/3 [==============================] - 0s 6ms/step - loss: 0.0052 - val_loss: 0.0183\n",
      "Epoch 58/100\n",
      "3/3 [==============================] - 0s 25ms/step - loss: 0.0049 - val_loss: 0.0181\n",
      "Epoch 59/100\n",
      "3/3 [==============================] - 0s 5ms/step - loss: 0.0047 - val_loss: 0.0180\n",
      "Epoch 60/100\n",
      "3/3 [==============================] - 0s 21ms/step - loss: 0.0045 - val_loss: 0.0178\n",
      "Epoch 61/100\n",
      "3/3 [==============================] - 0s 5ms/step - loss: 0.0043 - val_loss: 0.0177\n",
      "Epoch 62/100\n",
      "3/3 [==============================] - 0s 6ms/step - loss: 0.0042 - val_loss: 0.0176\n",
      "Epoch 63/100\n",
      "3/3 [==============================] - 0s 5ms/step - loss: 0.0040 - val_loss: 0.0174\n",
      "Epoch 64/100\n",
      "3/3 [==============================] - 0s 5ms/step - loss: 0.0038 - val_loss: 0.0173\n",
      "Epoch 65/100\n",
      "3/3 [==============================] - 0s 23ms/step - loss: 0.0037 - val_loss: 0.0172\n",
      "Epoch 66/100\n",
      "3/3 [==============================] - 0s 5ms/step - loss: 0.0036 - val_loss: 0.0171\n",
      "Epoch 67/100\n",
      "3/3 [==============================] - 0s 24ms/step - loss: 0.0035 - val_loss: 0.0169\n",
      "Epoch 68/100\n",
      "3/3 [==============================] - 0s 6ms/step - loss: 0.0034 - val_loss: 0.0168\n",
      "Epoch 69/100\n",
      "3/3 [==============================] - 0s 6ms/step - loss: 0.0033 - val_loss: 0.0167\n",
      "Epoch 70/100\n",
      "3/3 [==============================] - 0s 6ms/step - loss: 0.0032 - val_loss: 0.0166\n",
      "Epoch 71/100\n",
      "3/3 [==============================] - 0s 24ms/step - loss: 0.0031 - val_loss: 0.0165\n",
      "Epoch 72/100\n",
      "3/3 [==============================] - 0s 6ms/step - loss: 0.0030 - val_loss: 0.0164\n",
      "Epoch 73/100\n",
      "3/3 [==============================] - 0s 25ms/step - loss: 0.0029 - val_loss: 0.0163\n",
      "Epoch 74/100\n",
      "3/3 [==============================] - 0s 6ms/step - loss: 0.0029 - val_loss: 0.0162\n",
      "Epoch 75/100\n",
      "3/3 [==============================] - 0s 22ms/step - loss: 0.0028 - val_loss: 0.0161\n",
      "Epoch 76/100\n",
      "3/3 [==============================] - 0s 6ms/step - loss: 0.0028 - val_loss: 0.0160\n",
      "Epoch 77/100\n",
      "3/3 [==============================] - 0s 6ms/step - loss: 0.0027 - val_loss: 0.0159\n",
      "Epoch 78/100\n",
      "3/3 [==============================] - 0s 6ms/step - loss: 0.0027 - val_loss: 0.0158\n",
      "Epoch 79/100\n",
      "3/3 [==============================] - 0s 6ms/step - loss: 0.0026 - val_loss: 0.0157\n",
      "Epoch 80/100\n",
      "3/3 [==============================] - 0s 25ms/step - loss: 0.0026 - val_loss: 0.0156\n",
      "Epoch 81/100\n",
      "3/3 [==============================] - 0s 27ms/step - loss: 0.0026 - val_loss: 0.0155\n",
      "Epoch 82/100\n",
      "3/3 [==============================] - 0s 7ms/step - loss: 0.0025 - val_loss: 0.0154\n",
      "Epoch 83/100\n",
      "3/3 [==============================] - 0s 6ms/step - loss: 0.0025 - val_loss: 0.0153\n",
      "Epoch 84/100\n",
      "3/3 [==============================] - 0s 6ms/step - loss: 0.0025 - val_loss: 0.0153\n",
      "Epoch 85/100\n",
      "3/3 [==============================] - 0s 6ms/step - loss: 0.0025 - val_loss: 0.0152\n",
      "Epoch 86/100\n",
      "3/3 [==============================] - 0s 23ms/step - loss: 0.0024 - val_loss: 0.0151\n",
      "Epoch 87/100\n",
      "3/3 [==============================] - 0s 6ms/step - loss: 0.0024 - val_loss: 0.0150\n",
      "Epoch 88/100\n",
      "3/3 [==============================] - 0s 23ms/step - loss: 0.0024 - val_loss: 0.0149\n",
      "Epoch 89/100\n",
      "3/3 [==============================] - 0s 6ms/step - loss: 0.0024 - val_loss: 0.0148\n",
      "Epoch 90/100\n",
      "3/3 [==============================] - 0s 6ms/step - loss: 0.0024 - val_loss: 0.0148\n",
      "Epoch 91/100\n",
      "3/3 [==============================] - 0s 22ms/step - loss: 0.0024 - val_loss: 0.0147\n",
      "Epoch 92/100\n",
      "3/3 [==============================] - 0s 6ms/step - loss: 0.0024 - val_loss: 0.0146\n",
      "Epoch 93/100\n",
      "3/3 [==============================] - 0s 25ms/step - loss: 0.0023 - val_loss: 0.0145\n",
      "Epoch 94/100\n",
      "3/3 [==============================] - 0s 5ms/step - loss: 0.0023 - val_loss: 0.0145\n",
      "Epoch 95/100\n",
      "3/3 [==============================] - 0s 5ms/step - loss: 0.0023 - val_loss: 0.0144\n",
      "Epoch 96/100\n",
      "3/3 [==============================] - 0s 5ms/step - loss: 0.0023 - val_loss: 0.0143\n",
      "Epoch 97/100\n",
      "3/3 [==============================] - 0s 5ms/step - loss: 0.0023 - val_loss: 0.0142\n",
      "Epoch 98/100\n",
      "3/3 [==============================] - 0s 25ms/step - loss: 0.0023 - val_loss: 0.0142\n",
      "Epoch 99/100\n",
      "3/3 [==============================] - 0s 6ms/step - loss: 0.0023 - val_loss: 0.0141\n",
      "Epoch 100/100\n",
      "3/3 [==============================] - 0s 21ms/step - loss: 0.0023 - val_loss: 0.0140\n"
     ]
    }
   ],
   "source": [
    "history = model.fit(train_X, train_y, epochs=100, \n",
    "                    batch_size=72, validation_data=(test_X, test_y), \n",
    "                    verbose=1, shuffle=False)"
   ]
  },
  {
   "cell_type": "markdown",
   "metadata": {},
   "source": [
    "## Plot Loss Curve"
   ]
  },
  {
   "cell_type": "code",
   "execution_count": 13,
   "metadata": {
    "scrolled": true
   },
   "outputs": [
    {
     "name": "stdout",
     "output_type": "stream",
     "text": [
      "Populating the interactive namespace from numpy and matplotlib\n"
     ]
    },
    {
     "name": "stderr",
     "output_type": "stream",
     "text": [
      "/opt/conda/lib/python3.6/site-packages/IPython/core/magics/pylab.py:160: UserWarning: pylab import has clobbered these variables: ['test']\n",
      "`%matplotlib` prevents importing * from pylab and numpy\n",
      "  \"\\n`%matplotlib` prevents importing * from pylab and numpy\"\n"
     ]
    },
    {
     "data": {
      "image/png": "[encoded data removed]",
      "text/plain": [
       "<Figure size 432x288 with 1 Axes>"
      ]
     },
     "metadata": {
      "needs_background": "light"
     },
     "output_type": "display_data"
    }
   ],
   "source": [
    "%pylab inline\n",
    "from matplotlib import pyplot\n",
    "pyplot.plot(history.history['loss'], label='train')\n",
    "pyplot.plot(history.history['val_loss'], label='test')\n",
    "pyplot.legend()\n",
    "pyplot.show()"
   ]
  },
  {
   "cell_type": "markdown",
   "metadata": {},
   "source": [
    "## Model Predict"
   ]
  },
  {
   "cell_type": "code",
   "execution_count": 14,
   "metadata": {},
   "outputs": [
    {
     "data": {
      "text/plain": [
       "((30, 1), (30, 8))"
      ]
     },
     "execution_count": 14,
     "metadata": {},
     "output_type": "execute_result"
    }
   ],
   "source": [
    "yhat = model.predict(test_X)\n",
    "test_X = test_X.reshape((test_X.shape[0], test_X.shape[2]))\n",
    "yhat.shape, test_X.shape"
   ]
  },
  {
   "cell_type": "markdown",
   "metadata": {},
   "source": [
    "## Invert scaling for forecast"
   ]
  },
  {
   "cell_type": "code",
   "execution_count": 15,
   "metadata": {},
   "outputs": [
    {
     "data": {
      "text/plain": [
       "array([[0.52040308, 0.51768046, 0.51306479, 0.31701016, 0.32912497,\n",
       "        0.39393793, 0.03390864, 0.46980848],\n",
       "       [0.59763142, 0.59463851, 0.5388339 , 0.24656301, 0.23349964,\n",
       "        0.31834916, 0.05873455, 0.50220911],\n",
       "       [0.63327642, 0.63021915, 0.59673081, 0.18298934, 0.20137534,\n",
       "        0.28325455, 0.09809256, 0.52282772],\n",
       "       [0.64119702, 0.63805672, 0.60342424, 0.1726803 , 0.20585757,\n",
       "        0.27515509, 0.10566143, 0.55522835],\n",
       "       [0.55894091, 0.55598942, 0.58736002, 0.23367697, 0.29625426,\n",
       "        0.35614394, 0.10596425, 0.57290138],\n",
       "       [0.53441688, 0.53163348, 0.57230005, 0.25085881, 0.32613672,\n",
       "        0.38044023, 0.11595523, 0.59057441],\n",
       "       [0.51293933, 0.51012628, 0.59589409, 0.24914102, 0.35975558,\n",
       "        0.40203687, 0.12443233, 0.5920472 ],\n",
       "       [0.53685358, 0.53407842, 0.57665086, 0.2585915 , 0.33659602,\n",
       "        0.37774032, 0.12382669, 0.61413845],\n",
       "       [0.49648787, 0.4937996 , 0.52979786, 0.33676968, 0.38142058,\n",
       "        0.41688466, 0.07901908, 0.66273933],\n",
       "       [0.45551286, 0.45282598, 0.4712321 , 0.34879683, 0.4232566 ,\n",
       "        0.46277785, 0.0986982 , 0.69808539],\n",
       "       [0.39686755, 0.39444128, 0.38756607, 0.42439833, 0.49945877,\n",
       "        0.52351883, 0.11413854, 0.70986741],\n",
       "       [0.42139158, 0.41886123, 0.43190924, 0.40721649, 0.45762274,\n",
       "        0.50327227, 0.12806524, 0.74226804],\n",
       "       [0.48734843, 0.48462261, 0.48294551, 0.36855635, 0.40308587,\n",
       "        0.4276835 , 0.11686345, 0.72459501],\n",
       "       [0.41788825, 0.41522566, 0.4478056 , 0.44673553, 0.47630008,\n",
       "        0.5005721 , 0.12473515, 0.70103097],\n",
       "       [0.53685358, 0.53390126, 0.58334396, 0.30841857, 0.37021458,\n",
       "        0.38044023, 0.11656063, 0.69955818],\n",
       "       [0.55802745, 0.5550185 , 0.62183075, 0.27835035, 0.34929628,\n",
       "        0.36019315, 0.09597328, 0.80265093],\n",
       "       [0.57478307, 0.57161473, 0.61262717, 0.2697591 , 0.32912497,\n",
       "        0.34399553, 0.10505603, 0.7997055 ],\n",
       "       [0.57615411, 0.57291159, 0.65328903, 0.23109929, 0.33958426,\n",
       "        0.33859598, 0.10233111, 0.77614146],\n",
       "       [0.63266688, 0.62924131, 0.70332104, 0.16408905, 0.28654195,\n",
       "        0.28460411, 0.09839538, 0.81443295],\n",
       "       [0.63358082, 0.63007728, 0.74565602, 0.15206156, 0.27085344,\n",
       "        0.28595394, 0.0986982 , 0.86892484],\n",
       "       [0.55025905, 0.54703215, 0.66700999, 0.25085881, 0.36498479,\n",
       "        0.36694226, 0.10475321, 0.86008839],\n",
       "       [0.57310763, 0.56986459, 0.66868342, 0.2628863 , 0.3478023 ,\n",
       "        0.34534536, 0.08144117, 0.8586156 ],\n",
       "       [0.5182703 , 0.515094  , 0.60844422, 0.26718176, 0.39785666,\n",
       "        0.39933722, 0.09809256, 0.83357877],\n",
       "       [0.59885097, 0.59545337, 0.67370309, 0.19673528, 0.30297803,\n",
       "        0.31564952, 0.01029356, 0.89690724],\n",
       "       [0.73213475, 0.72817403, 0.7925087 , 0.10223382, 0.17597481,\n",
       "        0.19686668, 0.00181646, 0.96170836],\n",
       "       [0.7367047 , 0.73273069, 0.8092421 , 0.08848755, 0.16626251,\n",
       "        0.19011756, 0.        , 0.94108989],\n",
       "       [0.73838063, 0.73431786, 0.85609477, 0.08075585, 0.17373327,\n",
       "        0.188768  , 0.0381472 , 0.94256254],\n",
       "       [0.76077212, 0.75675342, 0.89792779, 0.04896885, 0.14609119,\n",
       "        0.16852092, 0.02845905, 0.94992634],\n",
       "       [0.7935226 , 0.78929398, 0.97155384, 0.00257668, 0.11546145,\n",
       "        0.13747526, 0.02664236, 1.        ],\n",
       "       [0.79062809, 0.78638157, 0.9564942 , 0.0326459 , 0.1229325 ,\n",
       "        0.14152473, 0.04026647, 0.96907216]])"
      ]
     },
     "execution_count": 15,
     "metadata": {},
     "output_type": "execute_result"
    }
   ],
   "source": [
    "pred = {PERD_INDEX: 0}\n",
    "pred,pred[PERD_INDEX]\n",
    "test_X"
   ]
  },
  {
   "cell_type": "code",
   "execution_count": 16,
   "metadata": {},
   "outputs": [
    {
     "data": {
      "text/plain": [
       "(30, 8)"
      ]
     },
     "execution_count": 16,
     "metadata": {},
     "output_type": "execute_result"
    }
   ],
   "source": [
    "inv_yhat = concatenate((yhat, numpy.delete(test_X, pred[PERD_INDEX], axis=1)), axis=1)\n",
    "inv_yhat.shape"
   ]
  },
  {
   "cell_type": "code",
   "execution_count": 17,
   "metadata": {},
   "outputs": [
    {
     "data": {
      "text/plain": [
       "(30,)"
      ]
     },
     "execution_count": 17,
     "metadata": {},
     "output_type": "execute_result"
    }
   ],
   "source": [
    "scaler = MinMaxScaler(feature_range=(0, 1)).fit(inv_yhat)\n",
    "inv_yhat = scaler.inverse_transform(inv_yhat)\n",
    "inv_yhat = inv_yhat[:,0]\n",
    "inv_yhat.shape\n"
   ]
  },
  {
   "cell_type": "markdown",
   "metadata": {},
   "source": [
    "## Invert scaling for actual"
   ]
  },
  {
   "cell_type": "code",
   "execution_count": 18,
   "metadata": {},
   "outputs": [
    {
     "data": {
      "text/plain": [
       "(30,)"
      ]
     },
     "execution_count": 18,
     "metadata": {},
     "output_type": "execute_result"
    }
   ],
   "source": [
    "real = test_y.reshape((len(test_y), 1))\n",
    "inv_y = concatenate((real, numpy.delete(test_X, pred[PERD_INDEX], axis=1)), axis=1)\n",
    "inv_y = scaler.inverse_transform(inv_y)\n",
    "inv_y = inv_y[:,0]\n",
    "inv_y.shape"
   ]
  },
  {
   "cell_type": "markdown",
   "metadata": {},
   "source": [
    "## RMSE"
   ]
  },
  {
   "cell_type": "code",
   "execution_count": 19,
   "metadata": {},
   "outputs": [
    {
     "name": "stdout",
     "output_type": "stream",
     "text": [
      "Test RMSE: 0.056\n"
     ]
    }
   ],
   "source": [
    "from sklearn.metrics import mean_squared_error\n",
    "rmse = sqrt(mean_squared_error(inv_y, inv_yhat))\n",
    "print('Test RMSE: %.3f' % rmse)"
   ]
  },
  {
   "cell_type": "code",
   "execution_count": 20,
   "metadata": {},
   "outputs": [
    {
     "data": {
      "text/plain": [
       "(array([0.7751658 , 0.79192615, 0.79565043, 0.75697344, 0.7454422 ,\n",
       "        0.73534341, 0.74658794, 0.7276079 , 0.70834137, 0.68076623,\n",
       "        0.69229748, 0.72331052, 0.69065021, 0.74658794, 0.75654393,\n",
       "        0.76442246, 0.76506712, 0.79163954, 0.79206928, 0.75289122,\n",
       "        0.76363466, 0.73785005, 0.77573923, 0.83840953, 0.84055833,\n",
       "        0.84134635, 0.85187488, 0.86727422, 0.86591321, 0.86662933]),\n",
       " array([0.75372455, 0.79054574, 0.81374794, 0.82091868, 0.79040162,\n",
       "        0.782526  , 0.77659908, 0.78658047, 0.76892763, 0.75349908,\n",
       "        0.72651255, 0.74435488, 0.77095544, 0.73986547, 0.79445237,\n",
       "        0.81457688, 0.82093432, 0.82128862, 0.85031855, 0.86051163,\n",
       "        0.82154153, 0.82828296, 0.80072208, 0.83641017, 0.90333345,\n",
       "        0.90413542, 0.91210328, 0.92394391, 0.94760244, 0.94344195]))"
      ]
     },
     "execution_count": 20,
     "metadata": {},
     "output_type": "execute_result"
    }
   ],
   "source": [
    "#inv_y = np.cumprod(inv_y+1)\n",
    "#inv_yhat = np.cumprod(inv_yhat+1)\n",
    "inv_y,inv_yhat"
   ]
  },
  {
   "cell_type": "markdown",
   "metadata": {},
   "source": [
    "## Predict vs Real"
   ]
  },
  {
   "cell_type": "code",
   "execution_count": 21,
   "metadata": {},
   "outputs": [
    {
     "data": {
      "image/png": "[encoded data removed]",
      "text/plain": [
       "<Figure size 432x288 with 1 Axes>"
      ]
     },
     "metadata": {
      "needs_background": "light"
     },
     "output_type": "display_data"
    }
   ],
   "source": [
    "import matplotlib.pyplot as plt\n",
    "plt.figure()\n",
    "plt.plot(inv_y, color = 'red', label = 'Real')\n",
    "plt.plot(inv_yhat, color = 'blue', label = 'Predict')\n",
    "plt.title('Real vs Predict')\n",
    "plt.xlabel('Time')\n",
    "plt.ylabel('Price')\n",
    "plt.legend()\n",
    "plt.show()"
   ]
  },
  {
   "cell_type": "markdown",
   "metadata": {},
   "source": [
    "## CNN Data Split (same with LSTM)"
   ]
  },
  {
   "cell_type": "code",
   "execution_count": null,
   "metadata": {},
   "outputs": [],
   "source": [
    "train = reframed.values[:90,:]\n",
    "print(train.shape)\n",
    "test = reframed.values[90:100,:]\n",
    "train_X, train_y = train[:, :-1], train[:, -1]\n",
    "test_X , test_y  = test[:, :-1], test[:, -1]\n",
    "train_X.shape, train_y.shape, test_X.shape, test_y.shape"
   ]
  },
  {
   "cell_type": "markdown",
   "metadata": {},
   "source": [
    "## CNN Data Split"
   ]
  },
  {
   "cell_type": "code",
   "execution_count": null,
   "metadata": {},
   "outputs": [],
   "source": [
    "from keras.layers import Activation, Dense\n",
    "model = keras.Sequential()\n",
    "model.add(Dense(5, activation='relu', input_shape=(8,)))\n",
    "model.add(Dense(5, activation='relu'))\n",
    "model.add(Dense(1,  activation='sigmoid'))\n",
    "model.compile(loss='mse',\n",
    "              optimizer='adam',\n",
    "              metrics=['mae','mse'])\n",
    "model.summary()"
   ]
  },
  {
   "cell_type": "markdown",
   "metadata": {},
   "source": [
    "## Training"
   ]
  },
  {
   "cell_type": "code",
   "execution_count": null,
   "metadata": {},
   "outputs": [],
   "source": [
    "history = model.fit(train_X, train_y, epochs=100, \n",
    "                    batch_size=72, validation_data=(test_X, test_y), \n",
    "                    verbose=1, shuffle=False)"
   ]
  },
  {
   "cell_type": "markdown",
   "metadata": {},
   "source": [
    "## Plot Loss Curve"
   ]
  },
  {
   "cell_type": "code",
   "execution_count": null,
   "metadata": {},
   "outputs": [],
   "source": [
    "%pylab inline\n",
    "from matplotlib import pyplot\n",
    "pyplot.plot(history.history['loss'], label='train')\n",
    "pyplot.plot(history.history['val_loss'], label='test')\n",
    "pyplot.legend()\n",
    "pyplot.show()"
   ]
  },
  {
   "cell_type": "markdown",
   "metadata": {},
   "source": [
    "## Model Predict"
   ]
  },
  {
   "cell_type": "code",
   "execution_count": null,
   "metadata": {},
   "outputs": [],
   "source": [
    "yhat = model.predict(test_X)\n",
    "yhat.shape, test_X.shape"
   ]
  },
  {
   "cell_type": "code",
   "execution_count": null,
   "metadata": {},
   "outputs": [],
   "source": [
    "pred = {'VFINX': 0}\n",
    "inv_yhat = concatenate((yhat, numpy.delete(test_X, pred['VFINX'], axis=1)), axis=1)\n",
    "inv_yhat = scaler.inverse_transform(inv_yhat)\n",
    "inv_yhat = inv_yhat[:,0]\n",
    "inv_yhat.shape"
   ]
  },
  {
   "cell_type": "code",
   "execution_count": null,
   "metadata": {},
   "outputs": [],
   "source": [
    "real = test_y.reshape((len(test_y), 1))\n",
    "inv_y = concatenate((real, numpy.delete(test_X, pred['VFINX'], axis=1)), axis=1)\n",
    "inv_y = scaler.inverse_transform(inv_y)\n",
    "inv_y = inv_y[:,0]\n",
    "inv_y.shape"
   ]
  },
  {
   "cell_type": "code",
   "execution_count": null,
   "metadata": {},
   "outputs": [],
   "source": [
    "from sklearn.metrics import mean_squared_error\n",
    "rmse = sqrt(mean_squared_error(inv_y, inv_yhat))\n",
    "print('Test RMSE: %.3f' % rmse)"
   ]
  },
  {
   "cell_type": "code",
   "execution_count": null,
   "metadata": {},
   "outputs": [],
   "source": [
    "inv_y = np.cumprod(inv_y+1)\n",
    "inv_yhat = np.cumprod(inv_yhat+1)"
   ]
  },
  {
   "cell_type": "code",
   "execution_count": null,
   "metadata": {},
   "outputs": [],
   "source": [
    "import matplotlib.pyplot as plt\n",
    "plt.figure(figsize=(20,10))\n",
    "plt.plot(inv_y, color = 'red', label = 'Real')\n",
    "plt.plot(inv_yhat, color = 'blue', label = 'Predict')\n",
    "plt.title('Real vs Predict')\n",
    "plt.xlabel('Time')\n",
    "plt.ylabel('Price')\n",
    "plt.legend()\n",
    "plt.show()"
   ]
  },
  {
   "cell_type": "code",
   "execution_count": null,
   "metadata": {},
   "outputs": [],
   "source": []
  },
  {
   "cell_type": "markdown",
   "metadata": {},
   "source": [
    "## Predict Real DATA"
   ]
  },
  {
   "cell_type": "code",
   "execution_count": null,
   "metadata": {},
   "outputs": [],
   "source": [
    "#res_data=read_csv(filename=RES_PATH,folder=folder)\n",
    "#res_data.columns = ('DATE','VFINX')\n",
    "#res_data = res_data.fillna(method='ffill')\n",
    "#res_data.head()"
   ]
  },
  {
   "cell_type": "markdown",
   "metadata": {},
   "source": [
    "## Y convert to Category"
   ]
  },
  {
   "cell_type": "code",
   "execution_count": null,
   "metadata": {},
   "outputs": [],
   "source": []
  },
  {
   "cell_type": "code",
   "execution_count": null,
   "metadata": {},
   "outputs": [],
   "source": []
  },
  {
   "cell_type": "markdown",
   "metadata": {},
   "source": [
    "## Standardize Function"
   ]
  },
  {
   "cell_type": "code",
   "execution_count": null,
   "metadata": {},
   "outputs": [],
   "source": []
  },
  {
   "cell_type": "code",
   "execution_count": null,
   "metadata": {},
   "outputs": [],
   "source": []
  },
  {
   "cell_type": "markdown",
   "metadata": {},
   "source": [
    "## SVM Classifier"
   ]
  },
  {
   "cell_type": "code",
   "execution_count": null,
   "metadata": {},
   "outputs": [],
   "source": []
  },
  {
   "cell_type": "markdown",
   "metadata": {},
   "source": [
    "## Plot Decision Boundary"
   ]
  },
  {
   "cell_type": "code",
   "execution_count": null,
   "metadata": {},
   "outputs": [],
   "source": []
  },
  {
   "cell_type": "code",
   "execution_count": null,
   "metadata": {},
   "outputs": [],
   "source": []
  },
  {
   "cell_type": "code",
   "execution_count": null,
   "metadata": {},
   "outputs": [],
   "source": []
  },
  {
   "cell_type": "code",
   "execution_count": null,
   "metadata": {},
   "outputs": [],
   "source": []
  }
 ],
 "metadata": {
  "kernelspec": {
   "display_name": "Python 3",
   "language": "python",
   "name": "python3"
  },
  "language_info": {
   "codemirror_mode": {
    "name": "ipython",
    "version": 3
   },
   "file_extension": ".py",
   "mimetype": "text/x-python",
   "name": "python",
   "nbconvert_exporter": "python",
   "pygments_lexer": "ipython3",
   "version": "3.6.10"
  }
 },
 "nbformat": 4,
 "nbformat_minor": 4
}
