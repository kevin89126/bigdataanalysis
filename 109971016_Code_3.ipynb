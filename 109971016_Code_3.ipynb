{
 "cells": [
  {
   "cell_type": "code",
   "execution_count": 1,
   "metadata": {},
   "outputs": [],
   "source": [
    "import numpy as np\n",
    "import matplotlib.pyplot as plt\n",
    "import torch\n",
    "import torch.optim as optim\n",
    "import warnings\n",
    "from datetime import datetime\n",
    "import pandas \n",
    "import pandas_datareader as pdr\n",
    "warnings.filterwarnings(\"ignore\")\n",
    "%matplotlib inline"
   ]
  },
  {
   "cell_type": "code",
   "execution_count": 2,
   "metadata": {},
   "outputs": [
    {
     "name": "stdout",
     "output_type": "stream",
     "text": [
      "                   spx        vix\n",
      "Date                             \n",
      "1990-01-02  386.160004  17.240000\n",
      "1990-01-03  385.170013  18.190001\n",
      "1990-01-04  382.019989  19.219999\n",
      "1990-01-05  378.299988  20.110001\n",
      "1990-01-08  380.040009  20.260000\n",
      "1990-01-09  375.559998  22.200001\n",
      "1990-01-10  373.089996  22.440001\n",
      "1990-01-11  374.399994  20.049999\n",
      "1990-01-12  365.220001  24.639999\n",
      "1990-01-15  362.079987  26.340000\n"
     ]
    },
    {
     "data": {
      "text/html": [
       "<div>\n",
       "<style scoped>\n",
       "    .dataframe tbody tr th:only-of-type {\n",
       "        vertical-align: middle;\n",
       "    }\n",
       "\n",
       "    .dataframe tbody tr th {\n",
       "        vertical-align: top;\n",
       "    }\n",
       "\n",
       "    .dataframe thead th {\n",
       "        text-align: right;\n",
       "    }\n",
       "</style>\n",
       "<table border=\"1\" class=\"dataframe\">\n",
       "  <thead>\n",
       "    <tr style=\"text-align: right;\">\n",
       "      <th></th>\n",
       "      <th>spx</th>\n",
       "      <th>vix</th>\n",
       "    </tr>\n",
       "    <tr>\n",
       "      <th>Date</th>\n",
       "      <th></th>\n",
       "      <th></th>\n",
       "    </tr>\n",
       "  </thead>\n",
       "  <tbody>\n",
       "    <tr>\n",
       "      <th>1990-01-02</th>\n",
       "      <td>386.160004</td>\n",
       "      <td>17.240000</td>\n",
       "    </tr>\n",
       "    <tr>\n",
       "      <th>1990-01-03</th>\n",
       "      <td>385.170013</td>\n",
       "      <td>18.190001</td>\n",
       "    </tr>\n",
       "    <tr>\n",
       "      <th>1990-01-04</th>\n",
       "      <td>382.019989</td>\n",
       "      <td>19.219999</td>\n",
       "    </tr>\n",
       "    <tr>\n",
       "      <th>1990-01-05</th>\n",
       "      <td>378.299988</td>\n",
       "      <td>20.110001</td>\n",
       "    </tr>\n",
       "    <tr>\n",
       "      <th>1990-01-08</th>\n",
       "      <td>380.040009</td>\n",
       "      <td>20.260000</td>\n",
       "    </tr>\n",
       "  </tbody>\n",
       "</table>\n",
       "</div>"
      ],
      "text/plain": [
       "                   spx        vix\n",
       "Date                             \n",
       "1990-01-02  386.160004  17.240000\n",
       "1990-01-03  385.170013  18.190001\n",
       "1990-01-04  382.019989  19.219999\n",
       "1990-01-05  378.299988  20.110001\n",
       "1990-01-08  380.040009  20.260000"
      ]
     },
     "execution_count": 2,
     "metadata": {},
     "output_type": "execute_result"
    }
   ],
   "source": [
    "start_date = datetime(1990, 1, 1)\n",
    "end_date = datetime(2020, 8, 31)\n",
    "spx = pdr.get_data_yahoo(symbols='^SP500TR', start=start_date, end=end_date)[\"Adj Close\"]\n",
    "vix = pdr.get_data_yahoo(symbols='^vix', start=start_date, end=end_date)[\"Adj Close\"]\n",
    "bnp = pandas.concat([spx, vix], axis=1)\n",
    "#Update Here! update column name base on features\n",
    "bnp.columns = ('spx','vix')\n",
    "bnp = bnp.sort_values(by=\"Date\",ascending=True)\n",
    "print(bnp.head(10))\n",
    "bnp.to_csv('Result.csv')\n",
    "\n",
    "#看資料內容\n",
    "bnp.head()"
   ]
  },
  {
   "cell_type": "code",
   "execution_count": 3,
   "metadata": {},
   "outputs": [
    {
     "name": "stdout",
     "output_type": "stream",
     "text": [
      "資料维度: (7727, 2)\n"
     ]
    }
   ],
   "source": [
    "print('資料维度:', bnp.shape)"
   ]
  },
  {
   "cell_type": "code",
   "execution_count": 4,
   "metadata": {},
   "outputs": [
    {
     "data": {
      "text/html": [
       "<div>\n",
       "<style scoped>\n",
       "    .dataframe tbody tr th:only-of-type {\n",
       "        vertical-align: middle;\n",
       "    }\n",
       "\n",
       "    .dataframe tbody tr th {\n",
       "        vertical-align: top;\n",
       "    }\n",
       "\n",
       "    .dataframe thead th {\n",
       "        text-align: right;\n",
       "    }\n",
       "</style>\n",
       "<table border=\"1\" class=\"dataframe\">\n",
       "  <thead>\n",
       "    <tr style=\"text-align: right;\">\n",
       "      <th></th>\n",
       "      <th>spx</th>\n",
       "      <th>vix</th>\n",
       "    </tr>\n",
       "    <tr>\n",
       "      <th>Date</th>\n",
       "      <th></th>\n",
       "      <th></th>\n",
       "    </tr>\n",
       "  </thead>\n",
       "  <tbody>\n",
       "    <tr>\n",
       "      <th>1990-01-02</th>\n",
       "      <td>386.160004</td>\n",
       "      <td>17.240000</td>\n",
       "    </tr>\n",
       "    <tr>\n",
       "      <th>1990-01-03</th>\n",
       "      <td>385.170013</td>\n",
       "      <td>18.190001</td>\n",
       "    </tr>\n",
       "    <tr>\n",
       "      <th>1990-01-04</th>\n",
       "      <td>382.019989</td>\n",
       "      <td>19.219999</td>\n",
       "    </tr>\n",
       "    <tr>\n",
       "      <th>1990-01-05</th>\n",
       "      <td>378.299988</td>\n",
       "      <td>20.110001</td>\n",
       "    </tr>\n",
       "    <tr>\n",
       "      <th>1990-01-08</th>\n",
       "      <td>380.040009</td>\n",
       "      <td>20.260000</td>\n",
       "    </tr>\n",
       "  </tbody>\n",
       "</table>\n",
       "</div>"
      ],
      "text/plain": [
       "                   spx        vix\n",
       "Date                             \n",
       "1990-01-02  386.160004  17.240000\n",
       "1990-01-03  385.170013  18.190001\n",
       "1990-01-04  382.019989  19.219999\n",
       "1990-01-05  378.299988  20.110001\n",
       "1990-01-08  380.040009  20.260000"
      ]
     },
     "execution_count": 4,
     "metadata": {},
     "output_type": "execute_result"
    }
   ],
   "source": [
    "\n",
    "bnp = pandas.get_dummies(bnp)\n",
    "bnp.head(5)"
   ]
  },
  {
   "cell_type": "code",
   "execution_count": 5,
   "metadata": {},
   "outputs": [],
   "source": [
    "# 答案\n",
    "labels = np.array(bnp['spx'])\n",
    "\n",
    "# 將答案移除\n",
    "bnp= bnp.drop('spx', axis = 1)\n",
    "\n",
    "# 名字单独保存一下，以备后患\n",
    "bnp_list = list(bnp.columns)\n",
    "\n",
    "# 轉成np array格式\n",
    "bnp = np.array(bnp)"
   ]
  },
  {
   "cell_type": "code",
   "execution_count": 6,
   "metadata": {},
   "outputs": [
    {
     "data": {
      "text/plain": [
       "(7727, 1)"
      ]
     },
     "execution_count": 6,
     "metadata": {},
     "output_type": "execute_result"
    }
   ],
   "source": [
    "bnp.shape"
   ]
  },
  {
   "cell_type": "code",
   "execution_count": 7,
   "metadata": {},
   "outputs": [],
   "source": [
    "from sklearn import preprocessing\n",
    "input_features = preprocessing.StandardScaler().fit_transform(bnp)"
   ]
  },
  {
   "cell_type": "code",
   "execution_count": 8,
   "metadata": {},
   "outputs": [
    {
     "data": {
      "text/plain": [
       "array([-0.26619062])"
      ]
     },
     "execution_count": 8,
     "metadata": {},
     "output_type": "execute_result"
    }
   ],
   "source": [
    "input_features[0]"
   ]
  },
  {
   "cell_type": "markdown",
   "metadata": {},
   "source": [
    "### 建立模型"
   ]
  },
  {
   "cell_type": "code",
   "execution_count": null,
   "metadata": {},
   "outputs": [
    {
     "name": "stdout",
     "output_type": "stream",
     "text": [
      "loss: tensor(7073520.8520, dtype=torch.float64, grad_fn=<MeanBackward0>)\n",
      "loss: tensor(nan, dtype=torch.float64, grad_fn=<MeanBackward0>)\n"
     ]
    }
   ],
   "source": [
    "x = torch.tensor(input_features, dtype = float)\n",
    "\n",
    "y = torch.tensor(labels, dtype = float)\n",
    "\n",
    "# 權重參數\n",
    "weights = torch.randn((1, 7727), dtype = float, requires_grad = True) \n",
    "biases = torch.randn(7727, dtype = float, requires_grad = True) \n",
    "weights2 = torch.randn((7727, 1), dtype = float, requires_grad = True) \n",
    "biases2 = torch.randn(1, dtype = float, requires_grad = True) \n",
    "\n",
    "learning_rate = 0.001 \n",
    "losses = []\n",
    "\n",
    "for i in range(1000):\n",
    "    # 计算隐层\n",
    "    hidden = x.mm(weights) + biases\n",
    "    # 加入激活函数\n",
    "    hidden = torch.relu(hidden)\n",
    "    # 预测结果\n",
    "    predictions = hidden.mm(weights2) + biases2\n",
    "    # 算損失\n",
    "    loss = torch.mean((predictions - y) ** 2) \n",
    "    losses.append(loss.data.numpy())\n",
    "    \n",
    "    # 打印损失值\n",
    "    if i % 100 == 0:\n",
    "        print('loss:', loss)\n",
    "    #返向传播计算\n",
    "    loss.backward()\n",
    "    \n",
    "    #更新参数\n",
    "    weights.data.add_(- learning_rate * weights.grad.data)  \n",
    "    biases.data.add_(- learning_rate * biases.grad.data)\n",
    "    weights2.data.add_(- learning_rate * weights2.grad.data)\n",
    "    biases2.data.add_(- learning_rate * biases2.grad.data)\n",
    "    \n",
    "    # 每次迭代都得记得清空\n",
    "    weights.grad.data.zero_()\n",
    "    biases.grad.data.zero_()\n",
    "    weights2.grad.data.zero_()\n",
    "    biases2.grad.data.zero_()\n",
    "\n"
   ]
  },
  {
   "cell_type": "code",
   "execution_count": null,
   "metadata": {},
   "outputs": [],
   "source": [
    "predictions.shape"
   ]
  },
  {
   "cell_type": "markdown",
   "metadata": {},
   "source": [
    "### 更简单的构建网络模型"
   ]
  },
  {
   "cell_type": "code",
   "execution_count": null,
   "metadata": {},
   "outputs": [],
   "source": [
    "input_size = input_features.shape[1]\n",
    "hidden_size = 128\n",
    "output_size = 1\n",
    "batch_size = 16\n",
    "my_nn = torch.nn.Sequential(\n",
    "    torch.nn.Linear(input_size, hidden_size),\n",
    "    torch.nn.Sigmoid(),\n",
    "    torch.nn.Linear(hidden_size, output_size),\n",
    ")\n",
    "cost = torch.nn.MSELoss(reduction='mean')\n",
    "optimizer = torch.optim.Adam(my_nn.parameters(), lr = 0.001)"
   ]
  },
  {
   "cell_type": "code",
   "execution_count": null,
   "metadata": {},
   "outputs": [],
   "source": [
    "# 训练网络\n",
    "losses = []\n",
    "for i in range(1000):\n",
    "    batch_loss = []\n",
    "    # MINI-Batch方法来进行训练\n",
    "    for start in range(0, len(input_features), batch_size):\n",
    "        end = start + batch_size if start + batch_size < len(input_features) else len(input_features)\n",
    "        xx = torch.tensor(input_features[start:end], dtype = torch.float, requires_grad = True)\n",
    "        yy = torch.tensor(labels[start:end], dtype = torch.float, requires_grad = True)\n",
    "        prediction = my_nn(xx)\n",
    "        loss = cost(prediction, yy)\n",
    "        optimizer.zero_grad()\n",
    "        loss.backward(retain_graph=True)\n",
    "        optimizer.step()\n",
    "        batch_loss.append(loss.data.numpy())\n",
    "    \n",
    "    # 打印损失\n",
    "    if i % 100==0:\n",
    "        losses.append(np.mean(batch_loss))\n",
    "        print(i, np.mean(batch_loss))"
   ]
  },
  {
   "cell_type": "markdown",
   "metadata": {},
   "source": [
    "预测训练结果"
   ]
  },
  {
   "cell_type": "code",
   "execution_count": 60,
   "metadata": {
    "collapsed": true,
    "jupyter": {
     "outputs_hidden": true
    }
   },
   "outputs": [],
   "source": [
    "x = torch.tensor(input_features, dtype = torch.float)\n",
    "predict = my_nn(x).data.numpy()"
   ]
  },
  {
   "cell_type": "code",
   "execution_count": null,
   "metadata": {},
   "outputs": [],
   "source": [
    "# 转换日期格式\n",
    "dates = [str(int(year)) + '-' + str(int(month)) + '-' + str(int(day)) for year, month, day in zip(years, months, days)]\n",
    "dates = [datetime.datetime.strptime(date, '%Y-%m-%d') for date in dates]\n",
    "\n",
    "# 创建一个表格来存日期和其对应的标签数值\n",
    "true_data = pd.DataFrame(data = {'date': dates, 'actual': labels})\n",
    "\n",
    "# 同理，再创建一个来存日期和其对应的模型预测值\n",
    "months = features[:, feature_list.index('month')]\n",
    "days = features[:, feature_list.index('day')]\n",
    "years = features[:, feature_list.index('year')]\n",
    "\n",
    "test_dates = [str(int(year)) + '-' + str(int(month)) + '-' + str(int(day)) for year, month, day in zip(years, months, days)]\n",
    "\n",
    "test_dates = [datetime.datetime.strptime(date, '%Y-%m-%d') for date in test_dates]\n",
    "\n",
    "predictions_data = pd.DataFrame(data = {'date': test_dates, 'prediction': predict.reshape(-1)}) "
   ]
  },
  {
   "cell_type": "code",
   "execution_count": null,
   "metadata": {},
   "outputs": [],
   "source": [
    "# 真实值\n",
    "plt.plot(true_data['date'], true_data['actual'], 'b-', label = 'actual')\n",
    "\n",
    "# 预测值\n",
    "plt.plot(predictions_data['date'], predictions_data['prediction'], 'ro', label = 'prediction')\n",
    "plt.xticks(rotation = '60'); \n",
    "plt.legend()\n",
    "\n",
    "# 图名\n",
    "plt.xlabel('Date'); plt.ylabel('Maximum Temperature (F)'); plt.title('Actual and Predicted Values');\n"
   ]
  },
  {
   "cell_type": "code",
   "execution_count": null,
   "metadata": {
    "collapsed": true,
    "jupyter": {
     "outputs_hidden": true
    }
   },
   "outputs": [],
   "source": []
  },
  {
   "cell_type": "code",
   "execution_count": null,
   "metadata": {
    "collapsed": true,
    "jupyter": {
     "outputs_hidden": true
    }
   },
   "outputs": [],
   "source": []
  }
 ],
 "metadata": {
  "kernelspec": {
   "display_name": "Python 3",
   "language": "python",
   "name": "python3"
  },
  "language_info": {
   "codemirror_mode": {
    "name": "ipython",
    "version": 3
   },
   "file_extension": ".py",
   "mimetype": "text/x-python",
   "name": "python",
   "nbconvert_exporter": "python",
   "pygments_lexer": "ipython3",
   "version": "3.6.10"
  }
 },
 "nbformat": 4,
 "nbformat_minor": 4
}
