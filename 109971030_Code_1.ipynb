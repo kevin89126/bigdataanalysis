{
 "cells": [
  {
   "cell_type": "markdown",
   "metadata": {},
   "source": [
    "## Import CSV"
   ]
  },
  {
   "cell_type": "code",
   "execution_count": 1,
   "metadata": {},
   "outputs": [],
   "source": [
    "import pandas\n",
    "def read_csv(filename,folder):\n",
    "    folder=folder+\"/\"+filename+\".csv\"\n",
    "    return pandas.read_csv(folder,encoding='ISO-8859-1')"
   ]
  },
  {
   "cell_type": "code",
   "execution_count": 2,
   "metadata": {},
   "outputs": [
    {
     "data": {
      "text/html": [
       "<div>\n",
       "<style scoped>\n",
       "    .dataframe tbody tr th:only-of-type {\n",
       "        vertical-align: middle;\n",
       "    }\n",
       "\n",
       "    .dataframe tbody tr th {\n",
       "        vertical-align: top;\n",
       "    }\n",
       "\n",
       "    .dataframe thead th {\n",
       "        text-align: right;\n",
       "    }\n",
       "</style>\n",
       "<table border=\"1\" class=\"dataframe\">\n",
       "  <thead>\n",
       "    <tr style=\"text-align: right;\">\n",
       "      <th></th>\n",
       "      <th>Date</th>\n",
       "      <th>vix</th>\n",
       "      <th>vfx</th>\n",
       "      <th>vbx</th>\n",
       "      <th>rom</th>\n",
       "      <th>vmt</th>\n",
       "      <th>rwm</th>\n",
       "      <th>dog</th>\n",
       "      <th>psh</th>\n",
       "      <th>spx</th>\n",
       "      <th>gld</th>\n",
       "    </tr>\n",
       "  </thead>\n",
       "  <tbody>\n",
       "    <tr>\n",
       "      <th>0</th>\n",
       "      <td>2020-10-30</td>\n",
       "      <td>38.020000</td>\n",
       "      <td>302.040009</td>\n",
       "      <td>11.53</td>\n",
       "      <td>22.030001</td>\n",
       "      <td>23.377001</td>\n",
       "      <td>33.040001</td>\n",
       "      <td>45.680000</td>\n",
       "      <td>20.750000</td>\n",
       "      <td>6734.839844</td>\n",
       "      <td>176.199997</td>\n",
       "    </tr>\n",
       "    <tr>\n",
       "      <th>1</th>\n",
       "      <td>2020-10-29</td>\n",
       "      <td>37.590000</td>\n",
       "      <td>305.720001</td>\n",
       "      <td>11.56</td>\n",
       "      <td>22.139999</td>\n",
       "      <td>23.607000</td>\n",
       "      <td>32.619999</td>\n",
       "      <td>45.419998</td>\n",
       "      <td>20.549999</td>\n",
       "      <td>6816.790039</td>\n",
       "      <td>175.399994</td>\n",
       "    </tr>\n",
       "    <tr>\n",
       "      <th>2</th>\n",
       "      <td>2020-10-28</td>\n",
       "      <td>40.279999</td>\n",
       "      <td>302.079987</td>\n",
       "      <td>11.59</td>\n",
       "      <td>21.975000</td>\n",
       "      <td>23.517000</td>\n",
       "      <td>33.000000</td>\n",
       "      <td>45.630001</td>\n",
       "      <td>20.760000</td>\n",
       "      <td>6735.750000</td>\n",
       "      <td>176.130005</td>\n",
       "    </tr>\n",
       "    <tr>\n",
       "      <th>3</th>\n",
       "      <td>2020-10-27</td>\n",
       "      <td>33.349998</td>\n",
       "      <td>313.140015</td>\n",
       "      <td>11.59</td>\n",
       "      <td>22.725000</td>\n",
       "      <td>23.867001</td>\n",
       "      <td>32.009998</td>\n",
       "      <td>44.139999</td>\n",
       "      <td>20.070000</td>\n",
       "      <td>6982.140137</td>\n",
       "      <td>179.020004</td>\n",
       "    </tr>\n",
       "    <tr>\n",
       "      <th>4</th>\n",
       "      <td>2020-10-26</td>\n",
       "      <td>32.459999</td>\n",
       "      <td>314.079987</td>\n",
       "      <td>11.57</td>\n",
       "      <td>22.757000</td>\n",
       "      <td>23.931000</td>\n",
       "      <td>31.730000</td>\n",
       "      <td>43.779999</td>\n",
       "      <td>20.010000</td>\n",
       "      <td>7003.209961</td>\n",
       "      <td>178.550003</td>\n",
       "    </tr>\n",
       "  </tbody>\n",
       "</table>\n",
       "</div>"
      ],
      "text/plain": [
       "         Date        vix         vfx    vbx        rom        vmt        rwm  \\\n",
       "0  2020-10-30  38.020000  302.040009  11.53  22.030001  23.377001  33.040001   \n",
       "1  2020-10-29  37.590000  305.720001  11.56  22.139999  23.607000  32.619999   \n",
       "2  2020-10-28  40.279999  302.079987  11.59  21.975000  23.517000  33.000000   \n",
       "3  2020-10-27  33.349998  313.140015  11.59  22.725000  23.867001  32.009998   \n",
       "4  2020-10-26  32.459999  314.079987  11.57  22.757000  23.931000  31.730000   \n",
       "\n",
       "         dog        psh          spx         gld  \n",
       "0  45.680000  20.750000  6734.839844  176.199997  \n",
       "1  45.419998  20.549999  6816.790039  175.399994  \n",
       "2  45.630001  20.760000  6735.750000  176.130005  \n",
       "3  44.139999  20.070000  6982.140137  179.020004  \n",
       "4  43.779999  20.010000  7003.209961  178.550003  "
      ]
     },
     "execution_count": 2,
     "metadata": {},
     "output_type": "execute_result"
    }
   ],
   "source": [
    "folder=\"/Users/mac/Desktop/bigdataanalysis/test\"\n",
    "data=read_csv(filename=\"Result\",folder=folder)\n",
    "data = data.fillna(method='ffill')\n",
    "data = data.sort_values(by=\"Date\",ascending=False)\n",
    "data.head()"
   ]
  },
  {
   "cell_type": "code",
   "execution_count": 3,
   "metadata": {},
   "outputs": [],
   "source": [
    "data2 = read_csv(filename=\"Result2\",folder=folder)\n",
    "data= pandas.merge(data,data2,on=['Date'],how = 'outer')\n",
    "data = data.sort_values(by=\"Date\",ascending=True)\n"
   ]
  },
  {
   "cell_type": "code",
   "execution_count": 4,
   "metadata": {},
   "outputs": [
    {
     "data": {
      "text/html": [
       "<div>\n",
       "<style scoped>\n",
       "    .dataframe tbody tr th:only-of-type {\n",
       "        vertical-align: middle;\n",
       "    }\n",
       "\n",
       "    .dataframe tbody tr th {\n",
       "        vertical-align: top;\n",
       "    }\n",
       "\n",
       "    .dataframe thead th {\n",
       "        text-align: right;\n",
       "    }\n",
       "</style>\n",
       "<table border=\"1\" class=\"dataframe\">\n",
       "  <thead>\n",
       "    <tr style=\"text-align: right;\">\n",
       "      <th></th>\n",
       "      <th>Date</th>\n",
       "      <th>vix</th>\n",
       "      <th>vfx</th>\n",
       "      <th>vbx</th>\n",
       "      <th>rom</th>\n",
       "      <th>vmt</th>\n",
       "      <th>rwm</th>\n",
       "      <th>dog</th>\n",
       "      <th>psh</th>\n",
       "      <th>spx</th>\n",
       "      <th>gld</th>\n",
       "      <th>Unemployment_Rate</th>\n",
       "      <th>CPI</th>\n",
       "    </tr>\n",
       "  </thead>\n",
       "  <tbody>\n",
       "    <tr>\n",
       "      <th>3483</th>\n",
       "      <td>2007-01-01</td>\n",
       "      <td>12.04</td>\n",
       "      <td>99.608803</td>\n",
       "      <td>6.436509</td>\n",
       "      <td>25.095781</td>\n",
       "      <td>24.101154</td>\n",
       "      <td>196.387619</td>\n",
       "      <td>207.181107</td>\n",
       "      <td>99.698906</td>\n",
       "      <td>2183.919922</td>\n",
       "      <td>62.279999</td>\n",
       "      <td>4.6</td>\n",
       "      <td>202.416</td>\n",
       "    </tr>\n",
       "    <tr>\n",
       "      <th>3484</th>\n",
       "      <td>2007-01-02</td>\n",
       "      <td>12.04</td>\n",
       "      <td>99.608803</td>\n",
       "      <td>6.436509</td>\n",
       "      <td>25.095781</td>\n",
       "      <td>24.101154</td>\n",
       "      <td>196.387619</td>\n",
       "      <td>207.181107</td>\n",
       "      <td>99.698906</td>\n",
       "      <td>2183.919922</td>\n",
       "      <td>62.279999</td>\n",
       "      <td>4.6</td>\n",
       "      <td>202.416</td>\n",
       "    </tr>\n",
       "    <tr>\n",
       "      <th>3482</th>\n",
       "      <td>2007-01-03</td>\n",
       "      <td>12.04</td>\n",
       "      <td>99.608803</td>\n",
       "      <td>6.436509</td>\n",
       "      <td>25.095781</td>\n",
       "      <td>24.101154</td>\n",
       "      <td>196.387619</td>\n",
       "      <td>207.181107</td>\n",
       "      <td>99.698906</td>\n",
       "      <td>2183.919922</td>\n",
       "      <td>62.279999</td>\n",
       "      <td>4.6</td>\n",
       "      <td>202.416</td>\n",
       "    </tr>\n",
       "    <tr>\n",
       "      <th>3481</th>\n",
       "      <td>2007-01-04</td>\n",
       "      <td>11.51</td>\n",
       "      <td>99.730949</td>\n",
       "      <td>6.455796</td>\n",
       "      <td>25.095781</td>\n",
       "      <td>24.101154</td>\n",
       "      <td>196.387619</td>\n",
       "      <td>207.214310</td>\n",
       "      <td>99.331474</td>\n",
       "      <td>2186.600098</td>\n",
       "      <td>61.650002</td>\n",
       "      <td>4.6</td>\n",
       "      <td>202.416</td>\n",
       "    </tr>\n",
       "    <tr>\n",
       "      <th>3480</th>\n",
       "      <td>2007-01-05</td>\n",
       "      <td>12.14</td>\n",
       "      <td>99.127716</td>\n",
       "      <td>6.442942</td>\n",
       "      <td>25.095781</td>\n",
       "      <td>24.101154</td>\n",
       "      <td>196.387619</td>\n",
       "      <td>208.639679</td>\n",
       "      <td>100.162170</td>\n",
       "      <td>2173.290039</td>\n",
       "      <td>60.169998</td>\n",
       "      <td>4.6</td>\n",
       "      <td>202.416</td>\n",
       "    </tr>\n",
       "  </tbody>\n",
       "</table>\n",
       "</div>"
      ],
      "text/plain": [
       "            Date    vix        vfx       vbx        rom        vmt  \\\n",
       "3483  2007-01-01  12.04  99.608803  6.436509  25.095781  24.101154   \n",
       "3484  2007-01-02  12.04  99.608803  6.436509  25.095781  24.101154   \n",
       "3482  2007-01-03  12.04  99.608803  6.436509  25.095781  24.101154   \n",
       "3481  2007-01-04  11.51  99.730949  6.455796  25.095781  24.101154   \n",
       "3480  2007-01-05  12.14  99.127716  6.442942  25.095781  24.101154   \n",
       "\n",
       "             rwm         dog         psh          spx        gld  \\\n",
       "3483  196.387619  207.181107   99.698906  2183.919922  62.279999   \n",
       "3484  196.387619  207.181107   99.698906  2183.919922  62.279999   \n",
       "3482  196.387619  207.181107   99.698906  2183.919922  62.279999   \n",
       "3481  196.387619  207.214310   99.331474  2186.600098  61.650002   \n",
       "3480  196.387619  208.639679  100.162170  2173.290039  60.169998   \n",
       "\n",
       "      Unemployment_Rate      CPI  \n",
       "3483                4.6  202.416  \n",
       "3484                4.6  202.416  \n",
       "3482                4.6  202.416  \n",
       "3481                4.6  202.416  \n",
       "3480                4.6  202.416  "
      ]
     },
     "execution_count": 4,
     "metadata": {},
     "output_type": "execute_result"
    }
   ],
   "source": [
    "data = data.fillna(method='bfill')\n",
    "data = data.rename(columns = {'Unemployment Rate in the United States (DISCONTINUED)':'Unemployment_Rate','Consumer Price Index for All Urban Consumers: All Items in U.S. City Average':'CPI'})\n",
    "data.head()"
   ]
  },
  {
   "cell_type": "markdown",
   "metadata": {},
   "source": [
    "## Visualize Data"
   ]
  },
  {
   "cell_type": "code",
   "execution_count": 5,
   "metadata": {},
   "outputs": [],
   "source": [
    "from matplotlib import pyplot\n",
    "def plot_data(dataset,groups):\n",
    "    i = 1\n",
    "    pyplot.figure()\n",
    "    values = dataset.values\n",
    "    for group in groups:\n",
    "    \tpyplot.subplot(len(groups), 1, i)\n",
    "    \tpyplot.plot(values[:, group])\n",
    "    \tpyplot.title(dataset.columns[group], y=0.5, loc='right')\n",
    "    \ti += 1\n",
    "    pyplot.show()"
   ]
  },
  {
   "cell_type": "code",
   "execution_count": null,
   "metadata": {},
   "outputs": [],
   "source": [
    "plot_data(data,groups=list(range(1,12)))"
   ]
  },
  {
   "cell_type": "markdown",
   "metadata": {},
   "source": [
    "## Data Summary"
   ]
  },
  {
   "cell_type": "code",
   "execution_count": null,
   "metadata": {},
   "outputs": [],
   "source": [
    "data.describe()"
   ]
  },
  {
   "cell_type": "markdown",
   "metadata": {},
   "source": [
    "## Independent and identically distributed (I.I.D.) Testing"
   ]
  },
  {
   "cell_type": "code",
   "execution_count": 7,
   "metadata": {},
   "outputs": [
    {
     "data": {
      "image/png": "[encoded data removed]",
      "text/plain": [
       "<Figure size 432x288 with 1 Axes>"
      ]
     },
     "metadata": {
      "needs_background": "light"
     },
     "output_type": "display_data"
    }
   ],
   "source": [
    "import statsmodels.api as sm\n",
    "import matplotlib.pyplot as plt\n",
    "sm.graphics.tsa.plot_acf(data['vix'].values, lags=40)\n",
    "plt.show()"
   ]
  },
  {
   "cell_type": "markdown",
   "metadata": {},
   "source": [
    "## Histogram"
   ]
  },
  {
   "cell_type": "code",
   "execution_count": null,
   "metadata": {},
   "outputs": [],
   "source": [
    "data.plot(kind=\"hist\",bins=50)"
   ]
  },
  {
   "cell_type": "markdown",
   "metadata": {},
   "source": [
    "## Normal Test "
   ]
  },
  {
   "cell_type": "code",
   "execution_count": null,
   "metadata": {},
   "outputs": [],
   "source": [
    "from scipy import stats\n",
    "print(stats.shapiro(data['vfx'].values))\n",
    "# print(stats.shapiro(data['VBMFX'].values))"
   ]
  },
  {
   "cell_type": "markdown",
   "metadata": {},
   "source": [
    "## *** LSTM ***"
   ]
  },
  {
   "cell_type": "code",
   "execution_count": 8,
   "metadata": {},
   "outputs": [],
   "source": [
    "from sklearn.preprocessing import MinMaxScaler, LabelEncoder\n",
    "def Standard_MinMax(data):\n",
    "    sc = MinMaxScaler(feature_range = (0, 1))\n",
    "    return sc.fit_transform(data.reshape(-1,1))"
   ]
  },
  {
   "cell_type": "code",
   "execution_count": 12,
   "metadata": {},
   "outputs": [
    {
     "data": {
      "text/plain": [
       "array([[0.03942895, 0.17741822, 0.01195597, ..., 0.01577924, 0.03571429,\n",
       "        0.        ],\n",
       "       [0.03942895, 0.17741822, 0.01195597, ..., 0.01577924, 0.03571429,\n",
       "        0.        ],\n",
       "       [0.03942895, 0.17741822, 0.01195597, ..., 0.01577924, 0.03571429,\n",
       "        0.        ],\n",
       "       ...,\n",
       "       [0.38681168, 0.91311136, 0.96458373, ..., 0.86172595, 0.57142857,\n",
       "        1.        ],\n",
       "       [0.39265805, 0.899976  , 0.9590056 , ..., 0.86770863, 0.57142857,\n",
       "        1.        ],\n",
       "       [       nan,        nan,        nan, ...,        nan, 0.57142857,\n",
       "        1.        ]])"
      ]
     },
     "execution_count": 12,
     "metadata": {},
     "output_type": "execute_result"
    }
   ],
   "source": [
    "# folder=\"/Users/mac/Desktop/bigdataanalysis/test\"\n",
    "# data=read_csv(filename=\"Result\",folder=folder)\n",
    "# del data['Date']\n",
    "scaler = MinMaxScaler(feature_range=(0, 1))\n",
    "scaled = scaler.fit_transform(data)\n",
    "scaled"
   ]
  },
  {
   "cell_type": "markdown",
   "metadata": {},
   "source": [
    "## Series to Supervised"
   ]
  },
  {
   "cell_type": "code",
   "execution_count": 13,
   "metadata": {},
   "outputs": [],
   "source": [
    "def series_to_supervised(data, n_in=1, n_out=1, dropnan=True):\n",
    "\tn_vars = 1 if type(data) is list else data.shape[1]\n",
    "\tdf = pandas.DataFrame(data)\n",
    "\tcols, names = list(), list()\n",
    "\tfor i in range(n_in, 0, -1):\n",
    "\t\tcols.append(df.shift(i))\n",
    "\t\tnames += [('var%d(t-%d)' % (j+1, i)) for j in range(n_vars)]\n",
    "        \n",
    "\tfor i in range(0, n_out):\n",
    "\t\tcols.append(df.shift(-i))\n",
    "\t\tif i == 0:\n",
    "\t\t\tnames += [('var%d(t)' % (j+1)) for j in range(n_vars)]\n",
    "\t\telse:\n",
    "\t\t\tnames += [('var%d(t+%d)' % (j+1, i)) for j in range(n_vars)]\n",
    "\t# put it all together\n",
    "\tagg = pandas.concat(cols, axis=1)\n",
    "\tagg.columns = names\n",
    "    \n",
    "\t# drop rows with NaN values\n",
    "\tif dropnan:\n",
    "\t\tagg.dropna(inplace=True)\n",
    "\treturn agg"
   ]
  },
  {
   "cell_type": "code",
   "execution_count": 14,
   "metadata": {},
   "outputs": [
    {
     "data": {
      "text/html": [
       "<div>\n",
       "<style scoped>\n",
       "    .dataframe tbody tr th:only-of-type {\n",
       "        vertical-align: middle;\n",
       "    }\n",
       "\n",
       "    .dataframe tbody tr th {\n",
       "        vertical-align: top;\n",
       "    }\n",
       "\n",
       "    .dataframe thead th {\n",
       "        text-align: right;\n",
       "    }\n",
       "</style>\n",
       "<table border=\"1\" class=\"dataframe\">\n",
       "  <thead>\n",
       "    <tr style=\"text-align: right;\">\n",
       "      <th></th>\n",
       "      <th>var1(t-1)</th>\n",
       "      <th>var2(t-1)</th>\n",
       "      <th>var3(t-1)</th>\n",
       "      <th>var4(t-1)</th>\n",
       "      <th>var5(t-1)</th>\n",
       "      <th>var6(t-1)</th>\n",
       "      <th>var7(t-1)</th>\n",
       "      <th>var8(t-1)</th>\n",
       "      <th>var9(t-1)</th>\n",
       "      <th>var10(t-1)</th>\n",
       "      <th>...</th>\n",
       "      <th>var3(t)</th>\n",
       "      <th>var4(t)</th>\n",
       "      <th>var5(t)</th>\n",
       "      <th>var6(t)</th>\n",
       "      <th>var7(t)</th>\n",
       "      <th>var8(t)</th>\n",
       "      <th>var9(t)</th>\n",
       "      <th>var10(t)</th>\n",
       "      <th>var11(t)</th>\n",
       "      <th>var12(t)</th>\n",
       "    </tr>\n",
       "  </thead>\n",
       "  <tbody>\n",
       "    <tr>\n",
       "      <th>1</th>\n",
       "      <td>0.039429</td>\n",
       "      <td>0.177418</td>\n",
       "      <td>0.011956</td>\n",
       "      <td>0.696</td>\n",
       "      <td>0.397521</td>\n",
       "      <td>0.512624</td>\n",
       "      <td>0.538509</td>\n",
       "      <td>0.497274</td>\n",
       "      <td>0.173847</td>\n",
       "      <td>0.015779</td>\n",
       "      <td>...</td>\n",
       "      <td>0.011956</td>\n",
       "      <td>0.696</td>\n",
       "      <td>0.397521</td>\n",
       "      <td>0.512624</td>\n",
       "      <td>0.538509</td>\n",
       "      <td>0.497274</td>\n",
       "      <td>0.173847</td>\n",
       "      <td>0.015779</td>\n",
       "      <td>0.035714</td>\n",
       "      <td>0.0</td>\n",
       "    </tr>\n",
       "    <tr>\n",
       "      <th>2</th>\n",
       "      <td>0.039429</td>\n",
       "      <td>0.177418</td>\n",
       "      <td>0.011956</td>\n",
       "      <td>0.696</td>\n",
       "      <td>0.397521</td>\n",
       "      <td>0.512624</td>\n",
       "      <td>0.538509</td>\n",
       "      <td>0.497274</td>\n",
       "      <td>0.173847</td>\n",
       "      <td>0.015779</td>\n",
       "      <td>...</td>\n",
       "      <td>0.011956</td>\n",
       "      <td>0.696</td>\n",
       "      <td>0.397521</td>\n",
       "      <td>0.512624</td>\n",
       "      <td>0.538509</td>\n",
       "      <td>0.497274</td>\n",
       "      <td>0.173847</td>\n",
       "      <td>0.015779</td>\n",
       "      <td>0.035714</td>\n",
       "      <td>0.0</td>\n",
       "    </tr>\n",
       "    <tr>\n",
       "      <th>3</th>\n",
       "      <td>0.039429</td>\n",
       "      <td>0.177418</td>\n",
       "      <td>0.011956</td>\n",
       "      <td>0.696</td>\n",
       "      <td>0.397521</td>\n",
       "      <td>0.512624</td>\n",
       "      <td>0.538509</td>\n",
       "      <td>0.497274</td>\n",
       "      <td>0.173847</td>\n",
       "      <td>0.015779</td>\n",
       "      <td>...</td>\n",
       "      <td>0.015542</td>\n",
       "      <td>0.696</td>\n",
       "      <td>0.397521</td>\n",
       "      <td>0.512624</td>\n",
       "      <td>0.538618</td>\n",
       "      <td>0.495004</td>\n",
       "      <td>0.174275</td>\n",
       "      <td>0.011068</td>\n",
       "      <td>0.035714</td>\n",
       "      <td>0.0</td>\n",
       "    </tr>\n",
       "    <tr>\n",
       "      <th>4</th>\n",
       "      <td>0.032223</td>\n",
       "      <td>0.177854</td>\n",
       "      <td>0.015542</td>\n",
       "      <td>0.696</td>\n",
       "      <td>0.397521</td>\n",
       "      <td>0.512624</td>\n",
       "      <td>0.538618</td>\n",
       "      <td>0.495004</td>\n",
       "      <td>0.174275</td>\n",
       "      <td>0.011068</td>\n",
       "      <td>...</td>\n",
       "      <td>0.013152</td>\n",
       "      <td>0.696</td>\n",
       "      <td>0.397521</td>\n",
       "      <td>0.512624</td>\n",
       "      <td>0.543265</td>\n",
       "      <td>0.500136</td>\n",
       "      <td>0.172150</td>\n",
       "      <td>0.000000</td>\n",
       "      <td>0.035714</td>\n",
       "      <td>0.0</td>\n",
       "    </tr>\n",
       "    <tr>\n",
       "      <th>5</th>\n",
       "      <td>0.040789</td>\n",
       "      <td>0.175701</td>\n",
       "      <td>0.013152</td>\n",
       "      <td>0.696</td>\n",
       "      <td>0.397521</td>\n",
       "      <td>0.512624</td>\n",
       "      <td>0.543265</td>\n",
       "      <td>0.500136</td>\n",
       "      <td>0.172150</td>\n",
       "      <td>0.000000</td>\n",
       "      <td>...</td>\n",
       "      <td>0.013152</td>\n",
       "      <td>0.696</td>\n",
       "      <td>0.397521</td>\n",
       "      <td>0.512624</td>\n",
       "      <td>0.542508</td>\n",
       "      <td>0.498952</td>\n",
       "      <td>0.173029</td>\n",
       "      <td>0.002318</td>\n",
       "      <td>0.035714</td>\n",
       "      <td>0.0</td>\n",
       "    </tr>\n",
       "  </tbody>\n",
       "</table>\n",
       "<p>5 rows × 24 columns</p>\n",
       "</div>"
      ],
      "text/plain": [
       "   var1(t-1)  var2(t-1)  var3(t-1)  var4(t-1)  var5(t-1)  var6(t-1)  \\\n",
       "1   0.039429   0.177418   0.011956      0.696   0.397521   0.512624   \n",
       "2   0.039429   0.177418   0.011956      0.696   0.397521   0.512624   \n",
       "3   0.039429   0.177418   0.011956      0.696   0.397521   0.512624   \n",
       "4   0.032223   0.177854   0.015542      0.696   0.397521   0.512624   \n",
       "5   0.040789   0.175701   0.013152      0.696   0.397521   0.512624   \n",
       "\n",
       "   var7(t-1)  var8(t-1)  var9(t-1)  var10(t-1)  ...   var3(t)  var4(t)  \\\n",
       "1   0.538509   0.497274   0.173847    0.015779  ...  0.011956    0.696   \n",
       "2   0.538509   0.497274   0.173847    0.015779  ...  0.011956    0.696   \n",
       "3   0.538509   0.497274   0.173847    0.015779  ...  0.015542    0.696   \n",
       "4   0.538618   0.495004   0.174275    0.011068  ...  0.013152    0.696   \n",
       "5   0.543265   0.500136   0.172150    0.000000  ...  0.013152    0.696   \n",
       "\n",
       "    var5(t)   var6(t)   var7(t)   var8(t)   var9(t)  var10(t)  var11(t)  \\\n",
       "1  0.397521  0.512624  0.538509  0.497274  0.173847  0.015779  0.035714   \n",
       "2  0.397521  0.512624  0.538509  0.497274  0.173847  0.015779  0.035714   \n",
       "3  0.397521  0.512624  0.538618  0.495004  0.174275  0.011068  0.035714   \n",
       "4  0.397521  0.512624  0.543265  0.500136  0.172150  0.000000  0.035714   \n",
       "5  0.397521  0.512624  0.542508  0.498952  0.173029  0.002318  0.035714   \n",
       "\n",
       "   var12(t)  \n",
       "1       0.0  \n",
       "2       0.0  \n",
       "3       0.0  \n",
       "4       0.0  \n",
       "5       0.0  \n",
       "\n",
       "[5 rows x 24 columns]"
      ]
     },
     "execution_count": 14,
     "metadata": {},
     "output_type": "execute_result"
    }
   ],
   "source": [
    "reframed = series_to_supervised(scaled, 1, 1)\n",
    "reframed.head()"
   ]
  },
  {
   "cell_type": "code",
   "execution_count": null,
   "metadata": {},
   "outputs": [],
   "source": [
    "# pred = {'VFINX':13}\n",
    "# reframed = pandas.concat([reframed.iloc[:,0:12],reframed.iloc[:,pred['VFINX']]],axis=1)\n",
    "reframed.head()\n",
    "# reframed.shape"
   ]
  },
  {
   "cell_type": "markdown",
   "metadata": {},
   "source": [
    "## Data Split"
   ]
  },
  {
   "cell_type": "code",
   "execution_count": null,
   "metadata": {},
   "outputs": [],
   "source": [
    "train = reframed.values[:5000,:]\n",
    "test = reframed.values[5000:5051,:]\n",
    "train_X, train_y = train[:, :-1], train[:, -1]\n",
    "test_X , test_y  = test[:, :-1], test[:, -1]\n",
    "train_X.shape, train_y.shape, test_X.shape, test_y.shape"
   ]
  },
  {
   "cell_type": "code",
   "execution_count": null,
   "metadata": {},
   "outputs": [],
   "source": [
    "train_X = train_X.reshape((train_X.shape[0], 1, train_X.shape[1]))\n",
    "test_X  = test_X.reshape((test_X.shape[0], 1, test_X.shape[1]))\n",
    "train_X.shape, train_y.shape, test_X.shape, test_y.shape\n"
   ]
  },
  {
   "cell_type": "markdown",
   "metadata": {},
   "source": [
    "## LSTM"
   ]
  },
  {
   "cell_type": "code",
   "execution_count": null,
   "metadata": {},
   "outputs": [],
   "source": [
    "import keras\n",
    "from keras import layers\n",
    "\n",
    "model = keras.models.Sequential()\n",
    "model.add(layers.LSTM(50, input_shape=(train_X.shape[1], train_X.shape[2])))\n",
    "model.add(layers.Dense(1))\n",
    "model.compile(loss='mse', optimizer='adam')\n",
    "model.summary()"
   ]
  },
  {
   "cell_type": "markdown",
   "metadata": {},
   "source": [
    "## Training"
   ]
  },
  {
   "cell_type": "code",
   "execution_count": null,
   "metadata": {},
   "outputs": [],
   "source": [
    "history = model.fit(train_X, train_y, epochs=100, \n",
    "                    batch_size=128, validation_data=(test_X, test_y), \n",
    "                    verbose=1, shuffle=False)"
   ]
  },
  {
   "cell_type": "markdown",
   "metadata": {},
   "source": [
    "## Plot Loss Curve"
   ]
  },
  {
   "cell_type": "code",
   "execution_count": null,
   "metadata": {
    "scrolled": true
   },
   "outputs": [],
   "source": [
    "%pylab inline\n",
    "from matplotlib import pyplot\n",
    "pyplot.plot(history.history['loss'], label='train')\n",
    "pyplot.plot(history.history['val_loss'], label='test')\n",
    "pyplot.legend()\n",
    "pyplot.show()"
   ]
  },
  {
   "cell_type": "code",
   "execution_count": null,
   "metadata": {},
   "outputs": [],
   "source": [
    "test_X.shape"
   ]
  },
  {
   "cell_type": "markdown",
   "metadata": {},
   "source": [
    "## Model Predict"
   ]
  },
  {
   "cell_type": "code",
   "execution_count": null,
   "metadata": {},
   "outputs": [],
   "source": [
    "yhat = model.predict(test_X)\n",
    "test_X = test_X.reshape((test_X.shape[0], test_X.shape[2]))\n",
    "yhat.shape, test_X.shape\n",
    "# yhat"
   ]
  },
  {
   "cell_type": "markdown",
   "metadata": {},
   "source": [
    "## Invert scaling for forecast"
   ]
  },
  {
   "cell_type": "code",
   "execution_count": null,
   "metadata": {},
   "outputs": [],
   "source": [
    "pred = {'VFINX': 2}\n",
    "inv_yhat = concatenate((yhat, numpy.delete(test_X, pred['VFINX'], axis=1)), axis=1)\n",
    "inv_yhat = scaler.inverse_transform(inv_yhat)\n",
    "inv_yhat = inv_yhat[:,0]\n",
    "inv_yhat"
   ]
  },
  {
   "cell_type": "markdown",
   "metadata": {},
   "source": [
    "## Invert scaling for actual"
   ]
  },
  {
   "cell_type": "code",
   "execution_count": null,
   "metadata": {},
   "outputs": [],
   "source": [
    "real = test_y.reshape((len(test_y), 1))\n",
    "inv_y = concatenate((real, numpy.delete(test_X, pred['VFINX'], axis=1)), axis=1)\n",
    "inv_y = scaler.inverse_transform(inv_y)\n",
    "inv_y = inv_y[:,0]\n",
    "inv_y"
   ]
  },
  {
   "cell_type": "markdown",
   "metadata": {},
   "source": [
    "# RMSE"
   ]
  },
  {
   "cell_type": "code",
   "execution_count": null,
   "metadata": {},
   "outputs": [],
   "source": [
    "from sklearn.metrics import mean_squared_error\n",
    "rmse = sqrt(mean_squared_error(inv_y, inv_yhat))\n",
    "print('Test RMSE: %.3f' % rmse)"
   ]
  },
  {
   "cell_type": "code",
   "execution_count": null,
   "metadata": {},
   "outputs": [],
   "source": [
    "inv_y = np.cumprod(inv_y+1)\n",
    "inv_yhat = np.cumprod(inv_yhat+1)"
   ]
  },
  {
   "cell_type": "markdown",
   "metadata": {},
   "source": [
    "## Predict vs Real"
   ]
  },
  {
   "cell_type": "code",
   "execution_count": null,
   "metadata": {},
   "outputs": [],
   "source": [
    "import matplotlib.pyplot as plt\n",
    "plt.figure(figsize=(20,10))\n",
    "plt.plot(inv_y, color = 'red', label = 'Real')\n",
    "plt.plot(inv_yhat, color = 'blue', label = 'Predict')\n",
    "plt.title('Real vs Predict')\n",
    "plt.xlabel('Time')\n",
    "plt.ylabel('Price')\n",
    "plt.legend()\n",
    "plt.show()"
   ]
  },
  {
   "cell_type": "code",
   "execution_count": null,
   "metadata": {},
   "outputs": [],
   "source": []
  }
 ],
 "metadata": {
  "kernelspec": {
   "display_name": "Python 3",
   "language": "python",
   "name": "python3"
  },
  "language_info": {
   "codemirror_mode": {
    "name": "ipython",
    "version": 3
   },
   "file_extension": ".py",
   "mimetype": "text/x-python",
   "name": "python",
   "nbconvert_exporter": "python",
   "pygments_lexer": "ipython3",
   "version": "3.6.10"
  }
 },
 "nbformat": 4,
 "nbformat_minor": 4
}
