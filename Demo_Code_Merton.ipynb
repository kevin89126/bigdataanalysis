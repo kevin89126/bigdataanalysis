{
 "cells": [
  {
   "cell_type": "markdown",
   "metadata": {},
   "source": [
    "## Import CSV"
   ]
  },
  {
   "cell_type": "code",
   "execution_count": 146,
   "metadata": {},
   "outputs": [],
   "source": [
    "import pandas\n",
    "def read_csv(filename,folder):\n",
    "    folder=folder+\"/\"+filename+\".csv\"\n",
    "    return pandas.read_csv(folder,encoding='ISO-8859-1')"
   ]
  },
  {
   "cell_type": "code",
   "execution_count": 147,
   "metadata": {},
   "outputs": [
    {
     "data": {
      "text/html": [
       "<div>\n",
       "<style scoped>\n",
       "    .dataframe tbody tr th:only-of-type {\n",
       "        vertical-align: middle;\n",
       "    }\n",
       "\n",
       "    .dataframe tbody tr th {\n",
       "        vertical-align: top;\n",
       "    }\n",
       "\n",
       "    .dataframe thead th {\n",
       "        text-align: right;\n",
       "    }\n",
       "</style>\n",
       "<table border=\"1\" class=\"dataframe\">\n",
       "  <thead>\n",
       "    <tr style=\"text-align: right;\">\n",
       "      <th></th>\n",
       "      <th>Date</th>\n",
       "      <th>VFINX</th>\n",
       "      <th>VBMFX</th>\n",
       "      <th>VIX.chg</th>\n",
       "      <th>VIX.ret</th>\n",
       "      <th>SPX_SMA</th>\n",
       "      <th>VFINX_SKW</th>\n",
       "      <th>VBMFX_SKW</th>\n",
       "      <th>VIX_SKW</th>\n",
       "    </tr>\n",
       "  </thead>\n",
       "  <tbody>\n",
       "    <tr>\n",
       "      <th>0</th>\n",
       "      <td>1992/7/31</td>\n",
       "      <td>0.040435</td>\n",
       "      <td>0.019139</td>\n",
       "      <td>0.990000</td>\n",
       "      <td>0.054396</td>\n",
       "      <td>59.404538</td>\n",
       "      <td>0.147270</td>\n",
       "      <td>-0.361634</td>\n",
       "      <td>1.611413</td>\n",
       "    </tr>\n",
       "    <tr>\n",
       "      <th>1</th>\n",
       "      <td>1992/8/31</td>\n",
       "      <td>-0.020678</td>\n",
       "      <td>0.009810</td>\n",
       "      <td>1.180001</td>\n",
       "      <td>0.074542</td>\n",
       "      <td>42.446817</td>\n",
       "      <td>0.203045</td>\n",
       "      <td>-0.383036</td>\n",
       "      <td>1.611591</td>\n",
       "    </tr>\n",
       "    <tr>\n",
       "      <th>2</th>\n",
       "      <td>1992/9/30</td>\n",
       "      <td>0.011695</td>\n",
       "      <td>0.012619</td>\n",
       "      <td>1.360000</td>\n",
       "      <td>0.084002</td>\n",
       "      <td>42.076810</td>\n",
       "      <td>0.234685</td>\n",
       "      <td>-0.484301</td>\n",
       "      <td>1.619356</td>\n",
       "    </tr>\n",
       "    <tr>\n",
       "      <th>3</th>\n",
       "      <td>1992/10/31</td>\n",
       "      <td>0.003287</td>\n",
       "      <td>-0.012196</td>\n",
       "      <td>2.219999</td>\n",
       "      <td>0.146149</td>\n",
       "      <td>38.072277</td>\n",
       "      <td>0.197649</td>\n",
       "      <td>-0.537942</td>\n",
       "      <td>1.608442</td>\n",
       "    </tr>\n",
       "    <tr>\n",
       "      <th>4</th>\n",
       "      <td>1992/11/30</td>\n",
       "      <td>0.034022</td>\n",
       "      <td>-0.000232</td>\n",
       "      <td>0.660000</td>\n",
       "      <td>0.031399</td>\n",
       "      <td>49.122285</td>\n",
       "      <td>0.083761</td>\n",
       "      <td>-0.564753</td>\n",
       "      <td>1.583007</td>\n",
       "    </tr>\n",
       "  </tbody>\n",
       "</table>\n",
       "</div>"
      ],
      "text/plain": [
       "         Date     VFINX     VBMFX   VIX.chg   VIX.ret    SPX_SMA  VFINX_SKW  \\\n",
       "0   1992/7/31  0.040435  0.019139  0.990000  0.054396  59.404538   0.147270   \n",
       "1   1992/8/31 -0.020678  0.009810  1.180001  0.074542  42.446817   0.203045   \n",
       "2   1992/9/30  0.011695  0.012619  1.360000  0.084002  42.076810   0.234685   \n",
       "3  1992/10/31  0.003287 -0.012196  2.219999  0.146149  38.072277   0.197649   \n",
       "4  1992/11/30  0.034022 -0.000232  0.660000  0.031399  49.122285   0.083761   \n",
       "\n",
       "   VBMFX_SKW   VIX_SKW  \n",
       "0  -0.361634  1.611413  \n",
       "1  -0.383036  1.611591  \n",
       "2  -0.484301  1.619356  \n",
       "3  -0.537942  1.608442  \n",
       "4  -0.564753  1.583007  "
      ]
     },
     "execution_count": 147,
     "metadata": {},
     "output_type": "execute_result"
    }
   ],
   "source": [
    "folder=\"/root/bigdataanalysis/test/\"\n",
    "data=read_csv(filename=\"FEAT_DATA\",folder=folder)\n",
    "data = data.fillna(method='ffill')\n",
    "data.head()"
   ]
  },
  {
   "cell_type": "markdown",
   "metadata": {},
   "source": [
    "## Visualize Data"
   ]
  },
  {
   "cell_type": "code",
   "execution_count": 123,
   "metadata": {},
   "outputs": [],
   "source": [
    "from matplotlib import pyplot\n",
    "def plot_data(dataset,groups):\n",
    "    i = 1\n",
    "    pyplot.figure()\n",
    "    values = dataset.values\n",
    "    for group in groups:\n",
    "        pyplot.subplot(len(groups), 1, i)\n",
    "        pyplot.plot(values[:, group])\n",
    "        pyplot.title(dataset.columns[group], y=0.5, loc='right')\n",
    "        i += 1\n",
    "    pyplot.show()"
   ]
  },
  {
   "cell_type": "code",
   "execution_count": 124,
   "metadata": {},
   "outputs": [
    {
     "data": {
      "image/png": "[encoded data removed]",
      "text/plain": [
       "<Figure size 432x288 with 7 Axes>"
      ]
     },
     "metadata": {
      "needs_background": "light"
     },
     "output_type": "display_data"
    }
   ],
   "source": [
    "plot_data(data,groups=list(range(1,8)))"
   ]
  },
  {
   "cell_type": "markdown",
   "metadata": {},
   "source": [
    "## Data Summary"
   ]
  },
  {
   "cell_type": "code",
   "execution_count": 125,
   "metadata": {},
   "outputs": [
    {
     "data": {
      "text/html": [
       "<div>\n",
       "<style scoped>\n",
       "    .dataframe tbody tr th:only-of-type {\n",
       "        vertical-align: middle;\n",
       "    }\n",
       "\n",
       "    .dataframe tbody tr th {\n",
       "        vertical-align: top;\n",
       "    }\n",
       "\n",
       "    .dataframe thead th {\n",
       "        text-align: right;\n",
       "    }\n",
       "</style>\n",
       "<table border=\"1\" class=\"dataframe\">\n",
       "  <thead>\n",
       "    <tr style=\"text-align: right;\">\n",
       "      <th></th>\n",
       "      <th>VFINX</th>\n",
       "      <th>VBMFX</th>\n",
       "      <th>VIX.chg</th>\n",
       "      <th>VIX.ret</th>\n",
       "      <th>SPX_SMA</th>\n",
       "      <th>VFINX_SKW</th>\n",
       "      <th>VBMFX_SKW</th>\n",
       "      <th>VIX_SKW</th>\n",
       "    </tr>\n",
       "  </thead>\n",
       "  <tbody>\n",
       "    <tr>\n",
       "      <th>count</th>\n",
       "      <td>335.000000</td>\n",
       "      <td>335.000000</td>\n",
       "      <td>335.000000</td>\n",
       "      <td>335.000000</td>\n",
       "      <td>335.000000</td>\n",
       "      <td>335.000000</td>\n",
       "      <td>335.000000</td>\n",
       "      <td>335.000000</td>\n",
       "    </tr>\n",
       "    <tr>\n",
       "      <th>mean</th>\n",
       "      <td>0.008500</td>\n",
       "      <td>0.004442</td>\n",
       "      <td>2.933612</td>\n",
       "      <td>0.132894</td>\n",
       "      <td>172.861865</td>\n",
       "      <td>-0.317719</td>\n",
       "      <td>-0.252150</td>\n",
       "      <td>1.984365</td>\n",
       "    </tr>\n",
       "    <tr>\n",
       "      <th>std</th>\n",
       "      <td>0.041888</td>\n",
       "      <td>0.010269</td>\n",
       "      <td>2.739455</td>\n",
       "      <td>0.121426</td>\n",
       "      <td>270.439242</td>\n",
       "      <td>0.529763</td>\n",
       "      <td>0.429091</td>\n",
       "      <td>0.722695</td>\n",
       "    </tr>\n",
       "    <tr>\n",
       "      <th>min</th>\n",
       "      <td>-0.167924</td>\n",
       "      <td>-0.033379</td>\n",
       "      <td>0.520000</td>\n",
       "      <td>0.027213</td>\n",
       "      <td>-828.955472</td>\n",
       "      <td>-1.591634</td>\n",
       "      <td>-1.130117</td>\n",
       "      <td>0.355788</td>\n",
       "    </tr>\n",
       "    <tr>\n",
       "      <th>25%</th>\n",
       "      <td>-0.015477</td>\n",
       "      <td>-0.001658</td>\n",
       "      <td>1.350000</td>\n",
       "      <td>0.068684</td>\n",
       "      <td>48.795472</td>\n",
       "      <td>-0.637919</td>\n",
       "      <td>-0.563336</td>\n",
       "      <td>1.613261</td>\n",
       "    </tr>\n",
       "    <tr>\n",
       "      <th>50%</th>\n",
       "      <td>0.013334</td>\n",
       "      <td>0.004791</td>\n",
       "      <td>2.209999</td>\n",
       "      <td>0.100211</td>\n",
       "      <td>175.974099</td>\n",
       "      <td>-0.331041</td>\n",
       "      <td>-0.228512</td>\n",
       "      <td>1.946692</td>\n",
       "    </tr>\n",
       "    <tr>\n",
       "      <th>75%</th>\n",
       "      <td>0.034467</td>\n",
       "      <td>0.011091</td>\n",
       "      <td>3.425000</td>\n",
       "      <td>0.151396</td>\n",
       "      <td>315.193620</td>\n",
       "      <td>0.054553</td>\n",
       "      <td>0.079435</td>\n",
       "      <td>2.386150</td>\n",
       "    </tr>\n",
       "    <tr>\n",
       "      <th>max</th>\n",
       "      <td>0.128139</td>\n",
       "      <td>0.039527</td>\n",
       "      <td>24.860000</td>\n",
       "      <td>1.352941</td>\n",
       "      <td>994.525901</td>\n",
       "      <td>1.352074</td>\n",
       "      <td>0.741078</td>\n",
       "      <td>3.793871</td>\n",
       "    </tr>\n",
       "  </tbody>\n",
       "</table>\n",
       "</div>"
      ],
      "text/plain": [
       "            VFINX       VBMFX     VIX.chg     VIX.ret     SPX_SMA   VFINX_SKW  \\\n",
       "count  335.000000  335.000000  335.000000  335.000000  335.000000  335.000000   \n",
       "mean     0.008500    0.004442    2.933612    0.132894  172.861865   -0.317719   \n",
       "std      0.041888    0.010269    2.739455    0.121426  270.439242    0.529763   \n",
       "min     -0.167924   -0.033379    0.520000    0.027213 -828.955472   -1.591634   \n",
       "25%     -0.015477   -0.001658    1.350000    0.068684   48.795472   -0.637919   \n",
       "50%      0.013334    0.004791    2.209999    0.100211  175.974099   -0.331041   \n",
       "75%      0.034467    0.011091    3.425000    0.151396  315.193620    0.054553   \n",
       "max      0.128139    0.039527   24.860000    1.352941  994.525901    1.352074   \n",
       "\n",
       "        VBMFX_SKW     VIX_SKW  \n",
       "count  335.000000  335.000000  \n",
       "mean    -0.252150    1.984365  \n",
       "std      0.429091    0.722695  \n",
       "min     -1.130117    0.355788  \n",
       "25%     -0.563336    1.613261  \n",
       "50%     -0.228512    1.946692  \n",
       "75%      0.079435    2.386150  \n",
       "max      0.741078    3.793871  "
      ]
     },
     "execution_count": 125,
     "metadata": {},
     "output_type": "execute_result"
    }
   ],
   "source": [
    "data.describe()"
   ]
  },
  {
   "cell_type": "markdown",
   "metadata": {},
   "source": [
    "## Independent and identically distributed (I.I.D.) Testing"
   ]
  },
  {
   "cell_type": "code",
   "execution_count": 126,
   "metadata": {},
   "outputs": [
    {
     "data": {
      "image/png": "[encoded data removed]",
      "text/plain": [
       "<Figure size 432x288 with 1 Axes>"
      ]
     },
     "metadata": {
      "needs_background": "light"
     },
     "output_type": "display_data"
    }
   ],
   "source": [
    "import statsmodels.api as sm\n",
    "import matplotlib.pyplot as plt\n",
    "sm.graphics.tsa.plot_acf(data['VFINX'].values, lags=40)\n",
    "plt.show()"
   ]
  },
  {
   "cell_type": "markdown",
   "metadata": {},
   "source": [
    "## Histogram"
   ]
  },
  {
   "cell_type": "code",
   "execution_count": 127,
   "metadata": {},
   "outputs": [
    {
     "data": {
      "text/plain": [
       "<AxesSubplot:ylabel='Frequency'>"
      ]
     },
     "execution_count": 127,
     "metadata": {},
     "output_type": "execute_result"
    },
    {
     "data": {
      "image/png": "[encoded data removed]",
      "text/plain": [
       "<Figure size 432x288 with 1 Axes>"
      ]
     },
     "metadata": {
      "needs_background": "light"
     },
     "output_type": "display_data"
    }
   ],
   "source": [
    "data.plot(kind=\"hist\",bins=50)"
   ]
  },
  {
   "cell_type": "markdown",
   "metadata": {},
   "source": [
    "## Normal Test "
   ]
  },
  {
   "cell_type": "code",
   "execution_count": 128,
   "metadata": {},
   "outputs": [
    {
     "name": "stdout",
     "output_type": "stream",
     "text": [
      "ShapiroResult(statistic=0.9699879884719849, pvalue=2.0183554170216667e-06)\n",
      "ShapiroResult(statistic=0.9902392625808716, pvalue=0.025059891864657402)\n"
     ]
    }
   ],
   "source": [
    "from scipy import stats\n",
    "print(stats.shapiro(data['VFINX'].values))\n",
    "print(stats.shapiro(data['VBMFX'].values))"
   ]
  },
  {
   "cell_type": "markdown",
   "metadata": {},
   "source": [
    "## *** LSTM ***"
   ]
  },
  {
   "cell_type": "code",
   "execution_count": 129,
   "metadata": {},
   "outputs": [],
   "source": [
    "from sklearn.preprocessing import MinMaxScaler, LabelEncoder\n",
    "def Standard_MinMax(data):\n",
    "    sc = MinMaxScaler(feature_range = (0, 1))\n",
    "    return sc.fit_transform(data.reshape(-1,1))"
   ]
  },
  {
   "cell_type": "code",
   "execution_count": 130,
   "metadata": {},
   "outputs": [
    {
     "data": {
      "text/html": [
       "<div>\n",
       "<style scoped>\n",
       "    .dataframe tbody tr th:only-of-type {\n",
       "        vertical-align: middle;\n",
       "    }\n",
       "\n",
       "    .dataframe tbody tr th {\n",
       "        vertical-align: top;\n",
       "    }\n",
       "\n",
       "    .dataframe thead th {\n",
       "        text-align: right;\n",
       "    }\n",
       "</style>\n",
       "<table border=\"1\" class=\"dataframe\">\n",
       "  <thead>\n",
       "    <tr style=\"text-align: right;\">\n",
       "      <th></th>\n",
       "      <th>VFINX</th>\n",
       "      <th>VBMFX</th>\n",
       "      <th>VIX.chg</th>\n",
       "      <th>VIX.ret</th>\n",
       "      <th>SPX_SMA</th>\n",
       "      <th>VFINX_SKW</th>\n",
       "      <th>VBMFX_SKW</th>\n",
       "      <th>VIX_SKW</th>\n",
       "    </tr>\n",
       "  </thead>\n",
       "  <tbody>\n",
       "    <tr>\n",
       "      <th>0</th>\n",
       "      <td>0.040435</td>\n",
       "      <td>0.019139</td>\n",
       "      <td>0.990000</td>\n",
       "      <td>0.054396</td>\n",
       "      <td>59.404538</td>\n",
       "      <td>0.147270</td>\n",
       "      <td>-0.361634</td>\n",
       "      <td>1.611413</td>\n",
       "    </tr>\n",
       "    <tr>\n",
       "      <th>1</th>\n",
       "      <td>-0.020678</td>\n",
       "      <td>0.009810</td>\n",
       "      <td>1.180001</td>\n",
       "      <td>0.074542</td>\n",
       "      <td>42.446817</td>\n",
       "      <td>0.203045</td>\n",
       "      <td>-0.383036</td>\n",
       "      <td>1.611591</td>\n",
       "    </tr>\n",
       "    <tr>\n",
       "      <th>2</th>\n",
       "      <td>0.011695</td>\n",
       "      <td>0.012619</td>\n",
       "      <td>1.360000</td>\n",
       "      <td>0.084002</td>\n",
       "      <td>42.076810</td>\n",
       "      <td>0.234685</td>\n",
       "      <td>-0.484301</td>\n",
       "      <td>1.619356</td>\n",
       "    </tr>\n",
       "    <tr>\n",
       "      <th>3</th>\n",
       "      <td>0.003287</td>\n",
       "      <td>-0.012196</td>\n",
       "      <td>2.219999</td>\n",
       "      <td>0.146149</td>\n",
       "      <td>38.072277</td>\n",
       "      <td>0.197649</td>\n",
       "      <td>-0.537942</td>\n",
       "      <td>1.608442</td>\n",
       "    </tr>\n",
       "    <tr>\n",
       "      <th>4</th>\n",
       "      <td>0.034022</td>\n",
       "      <td>-0.000232</td>\n",
       "      <td>0.660000</td>\n",
       "      <td>0.031399</td>\n",
       "      <td>49.122285</td>\n",
       "      <td>0.083761</td>\n",
       "      <td>-0.564753</td>\n",
       "      <td>1.583007</td>\n",
       "    </tr>\n",
       "  </tbody>\n",
       "</table>\n",
       "</div>"
      ],
      "text/plain": [
       "      VFINX     VBMFX   VIX.chg   VIX.ret    SPX_SMA  VFINX_SKW  VBMFX_SKW  \\\n",
       "0  0.040435  0.019139  0.990000  0.054396  59.404538   0.147270  -0.361634   \n",
       "1 -0.020678  0.009810  1.180001  0.074542  42.446817   0.203045  -0.383036   \n",
       "2  0.011695  0.012619  1.360000  0.084002  42.076810   0.234685  -0.484301   \n",
       "3  0.003287 -0.012196  2.219999  0.146149  38.072277   0.197649  -0.537942   \n",
       "4  0.034022 -0.000232  0.660000  0.031399  49.122285   0.083761  -0.564753   \n",
       "\n",
       "    VIX_SKW  \n",
       "0  1.611413  \n",
       "1  1.611591  \n",
       "2  1.619356  \n",
       "3  1.608442  \n",
       "4  1.583007  "
      ]
     },
     "execution_count": 130,
     "metadata": {},
     "output_type": "execute_result"
    }
   ],
   "source": [
    "folder=\"/root/bigdataanalysis/test/\"\n",
    "data=read_csv(filename=\"FEAT_DATA\",folder=folder)\n",
    "del data['Date']\n",
    "scaler = MinMaxScaler(feature_range=(0, 1))\n",
    "scaled = scaler.fit_transform(data)\n",
    "data.head()"
   ]
  },
  {
   "cell_type": "markdown",
   "metadata": {},
   "source": [
    "## Series to Supervised"
   ]
  },
  {
   "cell_type": "code",
   "execution_count": 131,
   "metadata": {},
   "outputs": [],
   "source": [
    "def series_to_supervised(data, n_in=1, n_out=1, dropnan=True):\n",
    "\tn_vars = 1 if type(data) is list else data.shape[1]\n",
    "\tdf = pandas.DataFrame(data)\n",
    "\tcols, names = list(), list()\n",
    "\tfor i in range(n_in, 0, -1):\n",
    "\t\tcols.append(df.shift(i))\n",
    "\t\tnames += [('var%d(t-%d)' % (j+1, i)) for j in range(n_vars)]\n",
    "        \n",
    "\tfor i in range(0, n_out):\n",
    "\t\tcols.append(df.shift(-i))\n",
    "\t\tif i == 0:\n",
    "\t\t\tnames += [('var%d(t)' % (j+1)) for j in range(n_vars)]\n",
    "\t\telse:\n",
    "\t\t\tnames += [('var%d(t+%d)' % (j+1, i)) for j in range(n_vars)]\n",
    "\t# put it all together\n",
    "\tagg = pandas.concat(cols, axis=1)\n",
    "\tagg.columns = names\n",
    "    \n",
    "\t# drop rows with NaN values\n",
    "\tif dropnan:\n",
    "\t\tagg.dropna(inplace=True)\n",
    "\treturn agg"
   ]
  },
  {
   "cell_type": "code",
   "execution_count": 132,
   "metadata": {},
   "outputs": [
    {
     "data": {
      "text/html": [
       "<div>\n",
       "<style scoped>\n",
       "    .dataframe tbody tr th:only-of-type {\n",
       "        vertical-align: middle;\n",
       "    }\n",
       "\n",
       "    .dataframe tbody tr th {\n",
       "        vertical-align: top;\n",
       "    }\n",
       "\n",
       "    .dataframe thead th {\n",
       "        text-align: right;\n",
       "    }\n",
       "</style>\n",
       "<table border=\"1\" class=\"dataframe\">\n",
       "  <thead>\n",
       "    <tr style=\"text-align: right;\">\n",
       "      <th></th>\n",
       "      <th>var1(t-1)</th>\n",
       "      <th>var2(t-1)</th>\n",
       "      <th>var3(t-1)</th>\n",
       "      <th>var4(t-1)</th>\n",
       "      <th>var5(t-1)</th>\n",
       "      <th>var6(t-1)</th>\n",
       "      <th>var7(t-1)</th>\n",
       "      <th>var8(t-1)</th>\n",
       "      <th>var1(t)</th>\n",
       "      <th>var2(t)</th>\n",
       "      <th>var3(t)</th>\n",
       "      <th>var4(t)</th>\n",
       "      <th>var5(t)</th>\n",
       "      <th>var6(t)</th>\n",
       "      <th>var7(t)</th>\n",
       "      <th>var8(t)</th>\n",
       "    </tr>\n",
       "  </thead>\n",
       "  <tbody>\n",
       "    <tr>\n",
       "      <th>1</th>\n",
       "      <td>0.703769</td>\n",
       "      <td>0.720346</td>\n",
       "      <td>0.019310</td>\n",
       "      <td>0.020504</td>\n",
       "      <td>0.487178</td>\n",
       "      <td>0.590719</td>\n",
       "      <td>0.410691</td>\n",
       "      <td>0.365211</td>\n",
       "      <td>0.497349</td>\n",
       "      <td>0.592389</td>\n",
       "      <td>0.027116</td>\n",
       "      <td>0.035700</td>\n",
       "      <td>0.477878</td>\n",
       "      <td>0.609666</td>\n",
       "      <td>0.399254</td>\n",
       "      <td>0.365262</td>\n",
       "    </tr>\n",
       "    <tr>\n",
       "      <th>2</th>\n",
       "      <td>0.497349</td>\n",
       "      <td>0.592389</td>\n",
       "      <td>0.027116</td>\n",
       "      <td>0.035700</td>\n",
       "      <td>0.477878</td>\n",
       "      <td>0.609666</td>\n",
       "      <td>0.399254</td>\n",
       "      <td>0.365262</td>\n",
       "      <td>0.606692</td>\n",
       "      <td>0.630925</td>\n",
       "      <td>0.034511</td>\n",
       "      <td>0.042836</td>\n",
       "      <td>0.477675</td>\n",
       "      <td>0.620414</td>\n",
       "      <td>0.345136</td>\n",
       "      <td>0.367521</td>\n",
       "    </tr>\n",
       "    <tr>\n",
       "      <th>3</th>\n",
       "      <td>0.606692</td>\n",
       "      <td>0.630925</td>\n",
       "      <td>0.034511</td>\n",
       "      <td>0.042836</td>\n",
       "      <td>0.477675</td>\n",
       "      <td>0.620414</td>\n",
       "      <td>0.345136</td>\n",
       "      <td>0.367521</td>\n",
       "      <td>0.578293</td>\n",
       "      <td>0.290552</td>\n",
       "      <td>0.069844</td>\n",
       "      <td>0.089713</td>\n",
       "      <td>0.475479</td>\n",
       "      <td>0.607833</td>\n",
       "      <td>0.316469</td>\n",
       "      <td>0.364347</td>\n",
       "    </tr>\n",
       "    <tr>\n",
       "      <th>4</th>\n",
       "      <td>0.578293</td>\n",
       "      <td>0.290552</td>\n",
       "      <td>0.069844</td>\n",
       "      <td>0.089713</td>\n",
       "      <td>0.475479</td>\n",
       "      <td>0.607833</td>\n",
       "      <td>0.316469</td>\n",
       "      <td>0.364347</td>\n",
       "      <td>0.682107</td>\n",
       "      <td>0.454656</td>\n",
       "      <td>0.005752</td>\n",
       "      <td>0.003157</td>\n",
       "      <td>0.481539</td>\n",
       "      <td>0.569145</td>\n",
       "      <td>0.302141</td>\n",
       "      <td>0.356949</td>\n",
       "    </tr>\n",
       "    <tr>\n",
       "      <th>5</th>\n",
       "      <td>0.682107</td>\n",
       "      <td>0.454656</td>\n",
       "      <td>0.005752</td>\n",
       "      <td>0.003157</td>\n",
       "      <td>0.481539</td>\n",
       "      <td>0.569145</td>\n",
       "      <td>0.302141</td>\n",
       "      <td>0.356949</td>\n",
       "      <td>0.608117</td>\n",
       "      <td>0.660285</td>\n",
       "      <td>0.013558</td>\n",
       "      <td>0.016470</td>\n",
       "      <td>0.482352</td>\n",
       "      <td>0.554840</td>\n",
       "      <td>0.303656</td>\n",
       "      <td>0.406741</td>\n",
       "    </tr>\n",
       "  </tbody>\n",
       "</table>\n",
       "</div>"
      ],
      "text/plain": [
       "   var1(t-1)  var2(t-1)  var3(t-1)  var4(t-1)  var5(t-1)  var6(t-1)  \\\n",
       "1   0.703769   0.720346   0.019310   0.020504   0.487178   0.590719   \n",
       "2   0.497349   0.592389   0.027116   0.035700   0.477878   0.609666   \n",
       "3   0.606692   0.630925   0.034511   0.042836   0.477675   0.620414   \n",
       "4   0.578293   0.290552   0.069844   0.089713   0.475479   0.607833   \n",
       "5   0.682107   0.454656   0.005752   0.003157   0.481539   0.569145   \n",
       "\n",
       "   var7(t-1)  var8(t-1)   var1(t)   var2(t)   var3(t)   var4(t)   var5(t)  \\\n",
       "1   0.410691   0.365211  0.497349  0.592389  0.027116  0.035700  0.477878   \n",
       "2   0.399254   0.365262  0.606692  0.630925  0.034511  0.042836  0.477675   \n",
       "3   0.345136   0.367521  0.578293  0.290552  0.069844  0.089713  0.475479   \n",
       "4   0.316469   0.364347  0.682107  0.454656  0.005752  0.003157  0.481539   \n",
       "5   0.302141   0.356949  0.608117  0.660285  0.013558  0.016470  0.482352   \n",
       "\n",
       "    var6(t)   var7(t)   var8(t)  \n",
       "1  0.609666  0.399254  0.365262  \n",
       "2  0.620414  0.345136  0.367521  \n",
       "3  0.607833  0.316469  0.364347  \n",
       "4  0.569145  0.302141  0.356949  \n",
       "5  0.554840  0.303656  0.406741  "
      ]
     },
     "execution_count": 132,
     "metadata": {},
     "output_type": "execute_result"
    }
   ],
   "source": [
    "reframed = series_to_supervised(scaled, 1, 1)\n",
    "reframed.head()"
   ]
  },
  {
   "cell_type": "code",
   "execution_count": 133,
   "metadata": {},
   "outputs": [
    {
     "data": {
      "text/html": [
       "<div>\n",
       "<style scoped>\n",
       "    .dataframe tbody tr th:only-of-type {\n",
       "        vertical-align: middle;\n",
       "    }\n",
       "\n",
       "    .dataframe tbody tr th {\n",
       "        vertical-align: top;\n",
       "    }\n",
       "\n",
       "    .dataframe thead th {\n",
       "        text-align: right;\n",
       "    }\n",
       "</style>\n",
       "<table border=\"1\" class=\"dataframe\">\n",
       "  <thead>\n",
       "    <tr style=\"text-align: right;\">\n",
       "      <th></th>\n",
       "      <th>var1(t-1)</th>\n",
       "      <th>var2(t-1)</th>\n",
       "      <th>var3(t-1)</th>\n",
       "      <th>var4(t-1)</th>\n",
       "      <th>var5(t-1)</th>\n",
       "      <th>var6(t-1)</th>\n",
       "      <th>var7(t-1)</th>\n",
       "      <th>var8(t-1)</th>\n",
       "      <th>var1(t)</th>\n",
       "    </tr>\n",
       "  </thead>\n",
       "  <tbody>\n",
       "    <tr>\n",
       "      <th>1</th>\n",
       "      <td>0.703769</td>\n",
       "      <td>0.720346</td>\n",
       "      <td>0.019310</td>\n",
       "      <td>0.020504</td>\n",
       "      <td>0.487178</td>\n",
       "      <td>0.590719</td>\n",
       "      <td>0.410691</td>\n",
       "      <td>0.365211</td>\n",
       "      <td>0.497349</td>\n",
       "    </tr>\n",
       "    <tr>\n",
       "      <th>2</th>\n",
       "      <td>0.497349</td>\n",
       "      <td>0.592389</td>\n",
       "      <td>0.027116</td>\n",
       "      <td>0.035700</td>\n",
       "      <td>0.477878</td>\n",
       "      <td>0.609666</td>\n",
       "      <td>0.399254</td>\n",
       "      <td>0.365262</td>\n",
       "      <td>0.606692</td>\n",
       "    </tr>\n",
       "    <tr>\n",
       "      <th>3</th>\n",
       "      <td>0.606692</td>\n",
       "      <td>0.630925</td>\n",
       "      <td>0.034511</td>\n",
       "      <td>0.042836</td>\n",
       "      <td>0.477675</td>\n",
       "      <td>0.620414</td>\n",
       "      <td>0.345136</td>\n",
       "      <td>0.367521</td>\n",
       "      <td>0.578293</td>\n",
       "    </tr>\n",
       "    <tr>\n",
       "      <th>4</th>\n",
       "      <td>0.578293</td>\n",
       "      <td>0.290552</td>\n",
       "      <td>0.069844</td>\n",
       "      <td>0.089713</td>\n",
       "      <td>0.475479</td>\n",
       "      <td>0.607833</td>\n",
       "      <td>0.316469</td>\n",
       "      <td>0.364347</td>\n",
       "      <td>0.682107</td>\n",
       "    </tr>\n",
       "    <tr>\n",
       "      <th>5</th>\n",
       "      <td>0.682107</td>\n",
       "      <td>0.454656</td>\n",
       "      <td>0.005752</td>\n",
       "      <td>0.003157</td>\n",
       "      <td>0.481539</td>\n",
       "      <td>0.569145</td>\n",
       "      <td>0.302141</td>\n",
       "      <td>0.356949</td>\n",
       "      <td>0.608117</td>\n",
       "    </tr>\n",
       "  </tbody>\n",
       "</table>\n",
       "</div>"
      ],
      "text/plain": [
       "   var1(t-1)  var2(t-1)  var3(t-1)  var4(t-1)  var5(t-1)  var6(t-1)  \\\n",
       "1   0.703769   0.720346   0.019310   0.020504   0.487178   0.590719   \n",
       "2   0.497349   0.592389   0.027116   0.035700   0.477878   0.609666   \n",
       "3   0.606692   0.630925   0.034511   0.042836   0.477675   0.620414   \n",
       "4   0.578293   0.290552   0.069844   0.089713   0.475479   0.607833   \n",
       "5   0.682107   0.454656   0.005752   0.003157   0.481539   0.569145   \n",
       "\n",
       "   var7(t-1)  var8(t-1)   var1(t)  \n",
       "1   0.410691   0.365211  0.497349  \n",
       "2   0.399254   0.365262  0.606692  \n",
       "3   0.345136   0.367521  0.578293  \n",
       "4   0.316469   0.364347  0.682107  \n",
       "5   0.302141   0.356949  0.608117  "
      ]
     },
     "execution_count": 133,
     "metadata": {},
     "output_type": "execute_result"
    }
   ],
   "source": [
    "pred = {'VFINX': 8}\n",
    "reframed = pandas.concat([reframed.iloc[:,0:8],reframed.iloc[:,pred['VFINX']]],axis=1)\n",
    "reframed.head()"
   ]
  },
  {
   "cell_type": "markdown",
   "metadata": {},
   "source": [
    "## Data Split"
   ]
  },
  {
   "cell_type": "code",
   "execution_count": 134,
   "metadata": {},
   "outputs": [
    {
     "data": {
      "text/plain": [
       "((300, 8), (300,), (34, 8), (34,))"
      ]
     },
     "execution_count": 134,
     "metadata": {},
     "output_type": "execute_result"
    }
   ],
   "source": [
    "train = reframed.values[:300,:]\n",
    "test = reframed.values[300:334,:]\n",
    "train_X, train_y = train[:, :-1], train[:, -1]\n",
    "test_X , test_y  = test[:, :-1], test[:, -1]\n",
    "train_X.shape, train_y.shape, test_X.shape, test_y.shape"
   ]
  },
  {
   "cell_type": "markdown",
   "metadata": {},
   "source": [
    "## LSTM"
   ]
  },
  {
   "cell_type": "code",
   "execution_count": 135,
   "metadata": {},
   "outputs": [
    {
     "name": "stdout",
     "output_type": "stream",
     "text": [
      "Model: \"sequential_5\"\n",
      "_________________________________________________________________\n",
      "Layer (type)                 Output Shape              Param #   \n",
      "=================================================================\n",
      "lstm_2 (LSTM)                (None, 50)                11800     \n",
      "_________________________________________________________________\n",
      "dense_11 (Dense)             (None, 1)                 51        \n",
      "=================================================================\n",
      "Total params: 11,851\n",
      "Trainable params: 11,851\n",
      "Non-trainable params: 0\n",
      "_________________________________________________________________\n"
     ]
    }
   ],
   "source": [
    "train_X = train_X.reshape((train_X.shape[0], 1, train_X.shape[1]))\n",
    "test_X  = test_X.reshape((test_X.shape[0], 1, test_X.shape[1]))\n",
    "train_X.shape, train_y.shape, test_X.shape, test_y.shape\n",
    "\n",
    "import keras\n",
    "from keras import layers\n",
    "\n",
    "model = keras.models.Sequential()\n",
    "model.add(layers.LSTM(50, input_shape=(train_X.shape[1], train_X.shape[2])))\n",
    "model.add(layers.Dense(1))\n",
    "model.compile(loss='mse', optimizer='adam')\n",
    "model.summary()"
   ]
  },
  {
   "cell_type": "markdown",
   "metadata": {},
   "source": [
    "## Training"
   ]
  },
  {
   "cell_type": "code",
   "execution_count": 136,
   "metadata": {},
   "outputs": [
    {
     "name": "stdout",
     "output_type": "stream",
     "text": [
      "Epoch 1/100\n",
      "5/5 [==============================] - 0s 73ms/step - loss: 0.3831 - val_loss: 0.3266\n",
      "Epoch 2/100\n",
      "5/5 [==============================] - 0s 4ms/step - loss: 0.3114 - val_loss: 0.2559\n",
      "Epoch 3/100\n",
      "5/5 [==============================] - 0s 4ms/step - loss: 0.2478 - val_loss: 0.1946\n",
      "Epoch 4/100\n",
      "5/5 [==============================] - 0s 18ms/step - loss: 0.1919 - val_loss: 0.1429\n",
      "Epoch 5/100\n",
      "5/5 [==============================] - 0s 4ms/step - loss: 0.1439 - val_loss: 0.1012\n",
      "Epoch 6/100\n",
      "5/5 [==============================] - 0s 16ms/step - loss: 0.1039 - val_loss: 0.0699\n",
      "Epoch 7/100\n",
      "5/5 [==============================] - 0s 18ms/step - loss: 0.0723 - val_loss: 0.0492\n",
      "Epoch 8/100\n",
      "5/5 [==============================] - 0s 4ms/step - loss: 0.0494 - val_loss: 0.0387\n",
      "Epoch 9/100\n",
      "5/5 [==============================] - 0s 16ms/step - loss: 0.0345 - val_loss: 0.0367\n",
      "Epoch 10/100\n",
      "5/5 [==============================] - 0s 16ms/step - loss: 0.0266 - val_loss: 0.0401\n",
      "Epoch 11/100\n",
      "5/5 [==============================] - 0s 4ms/step - loss: 0.0236 - val_loss: 0.0453\n",
      "Epoch 12/100\n",
      "5/5 [==============================] - 0s 17ms/step - loss: 0.0231 - val_loss: 0.0494\n",
      "Epoch 13/100\n",
      "5/5 [==============================] - 0s 16ms/step - loss: 0.0234 - val_loss: 0.0509\n",
      "Epoch 14/100\n",
      "5/5 [==============================] - 0s 4ms/step - loss: 0.0234 - val_loss: 0.0500\n",
      "Epoch 15/100\n",
      "5/5 [==============================] - 0s 18ms/step - loss: 0.0231 - val_loss: 0.0479\n",
      "Epoch 16/100\n",
      "5/5 [==============================] - 0s 4ms/step - loss: 0.0228 - val_loss: 0.0456\n",
      "Epoch 17/100\n",
      "5/5 [==============================] - 0s 15ms/step - loss: 0.0226 - val_loss: 0.0437\n",
      "Epoch 18/100\n",
      "5/5 [==============================] - 0s 17ms/step - loss: 0.0225 - val_loss: 0.0424\n",
      "Epoch 19/100\n",
      "5/5 [==============================] - 0s 4ms/step - loss: 0.0226 - val_loss: 0.0416\n",
      "Epoch 20/100\n",
      "5/5 [==============================] - 0s 16ms/step - loss: 0.0226 - val_loss: 0.0413\n",
      "Epoch 21/100\n",
      "5/5 [==============================] - 0s 4ms/step - loss: 0.0226 - val_loss: 0.0412\n",
      "Epoch 22/100\n",
      "5/5 [==============================] - 0s 4ms/step - loss: 0.0225 - val_loss: 0.0412\n",
      "Epoch 23/100\n",
      "5/5 [==============================] - 0s 18ms/step - loss: 0.0224 - val_loss: 0.0414\n",
      "Epoch 24/100\n",
      "5/5 [==============================] - 0s 4ms/step - loss: 0.0224 - val_loss: 0.0415\n",
      "Epoch 25/100\n",
      "5/5 [==============================] - 0s 16ms/step - loss: 0.0223 - val_loss: 0.0415\n",
      "Epoch 26/100\n",
      "5/5 [==============================] - 0s 4ms/step - loss: 0.0222 - val_loss: 0.0415\n",
      "Epoch 27/100\n",
      "5/5 [==============================] - 0s 4ms/step - loss: 0.0222 - val_loss: 0.0413\n",
      "Epoch 28/100\n",
      "5/5 [==============================] - 0s 16ms/step - loss: 0.0221 - val_loss: 0.0412\n",
      "Epoch 29/100\n",
      "5/5 [==============================] - 0s 4ms/step - loss: 0.0221 - val_loss: 0.0410\n",
      "Epoch 30/100\n",
      "5/5 [==============================] - 0s 17ms/step - loss: 0.0220 - val_loss: 0.0408\n",
      "Epoch 31/100\n",
      "5/5 [==============================] - 0s 4ms/step - loss: 0.0220 - val_loss: 0.0407\n",
      "Epoch 32/100\n",
      "5/5 [==============================] - 0s 15ms/step - loss: 0.0220 - val_loss: 0.0405\n",
      "Epoch 33/100\n",
      "5/5 [==============================] - 0s 4ms/step - loss: 0.0219 - val_loss: 0.0404\n",
      "Epoch 34/100\n",
      "5/5 [==============================] - 0s 15ms/step - loss: 0.0219 - val_loss: 0.0403\n",
      "Epoch 35/100\n",
      "5/5 [==============================] - 0s 15ms/step - loss: 0.0218 - val_loss: 0.0402\n",
      "Epoch 36/100\n",
      "5/5 [==============================] - 0s 4ms/step - loss: 0.0218 - val_loss: 0.0401\n",
      "Epoch 37/100\n",
      "5/5 [==============================] - 0s 16ms/step - loss: 0.0217 - val_loss: 0.0400\n",
      "Epoch 38/100\n",
      "5/5 [==============================] - 0s 4ms/step - loss: 0.0217 - val_loss: 0.0399\n",
      "Epoch 39/100\n",
      "5/5 [==============================] - 0s 16ms/step - loss: 0.0217 - val_loss: 0.0398\n",
      "Epoch 40/100\n",
      "5/5 [==============================] - 0s 4ms/step - loss: 0.0216 - val_loss: 0.0397\n",
      "Epoch 41/100\n",
      "5/5 [==============================] - 0s 15ms/step - loss: 0.0216 - val_loss: 0.0396\n",
      "Epoch 42/100\n",
      "5/5 [==============================] - 0s 4ms/step - loss: 0.0215 - val_loss: 0.0395\n",
      "Epoch 43/100\n",
      "5/5 [==============================] - 0s 15ms/step - loss: 0.0215 - val_loss: 0.0394\n",
      "Epoch 44/100\n",
      "5/5 [==============================] - 0s 4ms/step - loss: 0.0215 - val_loss: 0.0394\n",
      "Epoch 45/100\n",
      "5/5 [==============================] - 0s 15ms/step - loss: 0.0214 - val_loss: 0.0393\n",
      "Epoch 46/100\n",
      "5/5 [==============================] - 0s 16ms/step - loss: 0.0214 - val_loss: 0.0392\n",
      "Epoch 47/100\n",
      "5/5 [==============================] - 0s 4ms/step - loss: 0.0213 - val_loss: 0.0391\n",
      "Epoch 48/100\n",
      "5/5 [==============================] - 0s 16ms/step - loss: 0.0213 - val_loss: 0.0391\n",
      "Epoch 49/100\n",
      "5/5 [==============================] - 0s 4ms/step - loss: 0.0213 - val_loss: 0.0390\n",
      "Epoch 50/100\n",
      "5/5 [==============================] - 0s 15ms/step - loss: 0.0212 - val_loss: 0.0389\n",
      "Epoch 51/100\n",
      "5/5 [==============================] - 0s 4ms/step - loss: 0.0212 - val_loss: 0.0388\n",
      "Epoch 52/100\n",
      "5/5 [==============================] - 0s 16ms/step - loss: 0.0212 - val_loss: 0.0388\n",
      "Epoch 53/100\n",
      "5/5 [==============================] - 0s 4ms/step - loss: 0.0211 - val_loss: 0.0387\n",
      "Epoch 54/100\n",
      "5/5 [==============================] - 0s 15ms/step - loss: 0.0211 - val_loss: 0.0387\n",
      "Epoch 55/100\n",
      "5/5 [==============================] - 0s 17ms/step - loss: 0.0211 - val_loss: 0.0386\n",
      "Epoch 56/100\n",
      "5/5 [==============================] - 0s 4ms/step - loss: 0.0210 - val_loss: 0.0385\n",
      "Epoch 57/100\n",
      "5/5 [==============================] - 0s 17ms/step - loss: 0.0210 - val_loss: 0.0385\n",
      "Epoch 58/100\n",
      "5/5 [==============================] - 0s 17ms/step - loss: 0.0210 - val_loss: 0.0384\n",
      "Epoch 59/100\n",
      "5/5 [==============================] - 0s 4ms/step - loss: 0.0209 - val_loss: 0.0384\n",
      "Epoch 60/100\n",
      "5/5 [==============================] - 0s 16ms/step - loss: 0.0209 - val_loss: 0.0383\n",
      "Epoch 61/100\n",
      "5/5 [==============================] - 0s 4ms/step - loss: 0.0209 - val_loss: 0.0383\n",
      "Epoch 62/100\n",
      "5/5 [==============================] - 0s 16ms/step - loss: 0.0209 - val_loss: 0.0382\n",
      "Epoch 63/100\n",
      "5/5 [==============================] - 0s 4ms/step - loss: 0.0208 - val_loss: 0.0382\n",
      "Epoch 64/100\n",
      "5/5 [==============================] - 0s 15ms/step - loss: 0.0208 - val_loss: 0.0381\n",
      "Epoch 65/100\n",
      "5/5 [==============================] - 0s 4ms/step - loss: 0.0208 - val_loss: 0.0381\n",
      "Epoch 66/100\n",
      "5/5 [==============================] - 0s 15ms/step - loss: 0.0207 - val_loss: 0.0380\n",
      "Epoch 67/100\n",
      "5/5 [==============================] - 0s 16ms/step - loss: 0.0207 - val_loss: 0.0380\n",
      "Epoch 68/100\n",
      "5/5 [==============================] - 0s 5ms/step - loss: 0.0207 - val_loss: 0.0380\n",
      "Epoch 69/100\n",
      "5/5 [==============================] - 0s 17ms/step - loss: 0.0207 - val_loss: 0.0379\n",
      "Epoch 70/100\n",
      "5/5 [==============================] - 0s 4ms/step - loss: 0.0206 - val_loss: 0.0379\n",
      "Epoch 71/100\n",
      "5/5 [==============================] - 0s 15ms/step - loss: 0.0206 - val_loss: 0.0378\n",
      "Epoch 72/100\n",
      "5/5 [==============================] - 0s 4ms/step - loss: 0.0206 - val_loss: 0.0378\n",
      "Epoch 73/100\n",
      "5/5 [==============================] - 0s 4ms/step - loss: 0.0206 - val_loss: 0.0378\n",
      "Epoch 74/100\n",
      "5/5 [==============================] - 0s 16ms/step - loss: 0.0205 - val_loss: 0.0377\n",
      "Epoch 75/100\n",
      "5/5 [==============================] - 0s 4ms/step - loss: 0.0205 - val_loss: 0.0377\n",
      "Epoch 76/100\n",
      "5/5 [==============================] - 0s 17ms/step - loss: 0.0205 - val_loss: 0.0376\n",
      "Epoch 77/100\n",
      "5/5 [==============================] - 0s 4ms/step - loss: 0.0205 - val_loss: 0.0376\n",
      "Epoch 78/100\n",
      "5/5 [==============================] - 0s 15ms/step - loss: 0.0204 - val_loss: 0.0376\n",
      "Epoch 79/100\n",
      "5/5 [==============================] - 0s 4ms/step - loss: 0.0204 - val_loss: 0.0375\n",
      "Epoch 80/100\n",
      "5/5 [==============================] - 0s 16ms/step - loss: 0.0204 - val_loss: 0.0375\n",
      "Epoch 81/100\n",
      "5/5 [==============================] - 0s 4ms/step - loss: 0.0204 - val_loss: 0.0375\n",
      "Epoch 82/100\n",
      "5/5 [==============================] - 0s 17ms/step - loss: 0.0203 - val_loss: 0.0374\n",
      "Epoch 83/100\n",
      "5/5 [==============================] - 0s 15ms/step - loss: 0.0203 - val_loss: 0.0374\n",
      "Epoch 84/100\n",
      "5/5 [==============================] - 0s 4ms/step - loss: 0.0203 - val_loss: 0.0374\n",
      "Epoch 85/100\n",
      "5/5 [==============================] - 0s 16ms/step - loss: 0.0203 - val_loss: 0.0373\n",
      "Epoch 86/100\n",
      "5/5 [==============================] - 0s 4ms/step - loss: 0.0203 - val_loss: 0.0373\n",
      "Epoch 87/100\n",
      "5/5 [==============================] - 0s 16ms/step - loss: 0.0202 - val_loss: 0.0373\n",
      "Epoch 88/100\n",
      "5/5 [==============================] - 0s 4ms/step - loss: 0.0202 - val_loss: 0.0372\n",
      "Epoch 89/100\n",
      "5/5 [==============================] - 0s 15ms/step - loss: 0.0202 - val_loss: 0.0372\n",
      "Epoch 90/100\n",
      "5/5 [==============================] - 0s 4ms/step - loss: 0.0202 - val_loss: 0.0372\n",
      "Epoch 91/100\n",
      "5/5 [==============================] - 0s 4ms/step - loss: 0.0202 - val_loss: 0.0372\n",
      "Epoch 92/100\n",
      "5/5 [==============================] - 0s 16ms/step - loss: 0.0201 - val_loss: 0.0371\n",
      "Epoch 93/100\n",
      "5/5 [==============================] - 0s 4ms/step - loss: 0.0201 - val_loss: 0.0371\n",
      "Epoch 94/100\n",
      "5/5 [==============================] - 0s 16ms/step - loss: 0.0201 - val_loss: 0.0371\n",
      "Epoch 95/100\n",
      "5/5 [==============================] - 0s 4ms/step - loss: 0.0201 - val_loss: 0.0370\n",
      "Epoch 96/100\n",
      "5/5 [==============================] - 0s 15ms/step - loss: 0.0201 - val_loss: 0.0370\n",
      "Epoch 97/100\n",
      "5/5 [==============================] - 0s 4ms/step - loss: 0.0201 - val_loss: 0.0370\n",
      "Epoch 98/100\n",
      "5/5 [==============================] - 0s 16ms/step - loss: 0.0200 - val_loss: 0.0369\n",
      "Epoch 99/100\n",
      "5/5 [==============================] - 0s 4ms/step - loss: 0.0200 - val_loss: 0.0369\n",
      "Epoch 100/100\n",
      "5/5 [==============================] - 0s 15ms/step - loss: 0.0200 - val_loss: 0.0369\n"
     ]
    }
   ],
   "source": [
    "history = model.fit(train_X, train_y, epochs=100, \n",
    "                    batch_size=72, validation_data=(test_X, test_y), \n",
    "                    verbose=1, shuffle=False)"
   ]
  },
  {
   "cell_type": "markdown",
   "metadata": {},
   "source": [
    "## Plot Loss Curve"
   ]
  },
  {
   "cell_type": "code",
   "execution_count": 137,
   "metadata": {
    "scrolled": true
   },
   "outputs": [
    {
     "name": "stdout",
     "output_type": "stream",
     "text": [
      "Populating the interactive namespace from numpy and matplotlib\n"
     ]
    },
    {
     "name": "stderr",
     "output_type": "stream",
     "text": [
      "/opt/conda/lib/python3.6/site-packages/IPython/core/magics/pylab.py:160: UserWarning: pylab import has clobbered these variables: ['test', 'real']\n",
      "`%matplotlib` prevents importing * from pylab and numpy\n",
      "  \"\\n`%matplotlib` prevents importing * from pylab and numpy\"\n"
     ]
    },
    {
     "data": {
      "image/png": "[encoded data removed]",
      "text/plain": [
       "<Figure size 432x288 with 1 Axes>"
      ]
     },
     "metadata": {
      "needs_background": "light"
     },
     "output_type": "display_data"
    }
   ],
   "source": [
    "%pylab inline\n",
    "from matplotlib import pyplot\n",
    "pyplot.plot(history.history['loss'], label='train')\n",
    "pyplot.plot(history.history['val_loss'], label='test')\n",
    "pyplot.legend()\n",
    "pyplot.show()"
   ]
  },
  {
   "cell_type": "markdown",
   "metadata": {},
   "source": [
    "## Model Predict"
   ]
  },
  {
   "cell_type": "code",
   "execution_count": 138,
   "metadata": {},
   "outputs": [
    {
     "data": {
      "text/plain": [
       "((34, 1), (34, 8))"
      ]
     },
     "execution_count": 138,
     "metadata": {},
     "output_type": "execute_result"
    }
   ],
   "source": [
    "yhat = model.predict(test_X)\n",
    "test_X = test_X.reshape((test_X.shape[0], test_X.shape[2]))\n",
    "yhat.shape, test_X.shape"
   ]
  },
  {
   "cell_type": "markdown",
   "metadata": {},
   "source": [
    "## Invert scaling for forecast"
   ]
  },
  {
   "cell_type": "code",
   "execution_count": 139,
   "metadata": {},
   "outputs": [
    {
     "data": {
      "text/plain": [
       "(34,)"
      ]
     },
     "execution_count": 139,
     "metadata": {},
     "output_type": "execute_result"
    }
   ],
   "source": [
    "pred = {'VFINX': 0}\n",
    "inv_yhat = concatenate((yhat, numpy.delete(test_X, pred['VFINX'], axis=1)), axis=1)\n",
    "inv_yhat = scaler.inverse_transform(inv_yhat)\n",
    "inv_yhat = inv_yhat[:,0]\n",
    "inv_yhat.shape"
   ]
  },
  {
   "cell_type": "markdown",
   "metadata": {},
   "source": [
    "## Invert scaling for actual"
   ]
  },
  {
   "cell_type": "code",
   "execution_count": 140,
   "metadata": {},
   "outputs": [
    {
     "data": {
      "text/plain": [
       "(34,)"
      ]
     },
     "execution_count": 140,
     "metadata": {},
     "output_type": "execute_result"
    }
   ],
   "source": [
    "real = test_y.reshape((len(test_y), 1))\n",
    "inv_y = concatenate((real, numpy.delete(test_X, pred['VFINX'], axis=1)), axis=1)\n",
    "inv_y = scaler.inverse_transform(inv_y)\n",
    "inv_y = inv_y[:,0]\n",
    "inv_y.shape"
   ]
  },
  {
   "cell_type": "markdown",
   "metadata": {},
   "source": [
    "## RMSE"
   ]
  },
  {
   "cell_type": "code",
   "execution_count": 141,
   "metadata": {},
   "outputs": [
    {
     "name": "stdout",
     "output_type": "stream",
     "text": [
      "Test RMSE: 0.057\n"
     ]
    }
   ],
   "source": [
    "from sklearn.metrics import mean_squared_error\n",
    "rmse = sqrt(mean_squared_error(inv_y, inv_yhat))\n",
    "print('Test RMSE: %.3f' % rmse)"
   ]
  },
  {
   "cell_type": "code",
   "execution_count": 142,
   "metadata": {},
   "outputs": [],
   "source": [
    "inv_y = np.cumprod(inv_y+1)\n",
    "inv_yhat = np.cumprod(inv_yhat+1)"
   ]
  },
  {
   "cell_type": "markdown",
   "metadata": {},
   "source": [
    "## Predict vs Real"
   ]
  },
  {
   "cell_type": "code",
   "execution_count": 143,
   "metadata": {},
   "outputs": [
    {
     "data": {
      "image/png": "[encoded data removed]",
      "text/plain": [
       "<Figure size 1440x720 with 1 Axes>"
      ]
     },
     "metadata": {
      "needs_background": "light"
     },
     "output_type": "display_data"
    }
   ],
   "source": [
    "import matplotlib.pyplot as plt\n",
    "plt.figure(figsize=(20,10))\n",
    "plt.plot(inv_y, color = 'red', label = 'Real')\n",
    "plt.plot(inv_yhat, color = 'blue', label = 'Predict')\n",
    "plt.title('Real vs Predict')\n",
    "plt.xlabel('Time')\n",
    "plt.ylabel('Price')\n",
    "plt.legend()\n",
    "plt.show()"
   ]
  },
  {
   "cell_type": "markdown",
   "metadata": {},
   "source": [
    "## CNN Data Split (same with LSTM)"
   ]
  },
  {
   "cell_type": "code",
   "execution_count": 104,
   "metadata": {},
   "outputs": [
    {
     "data": {
      "text/plain": [
       "((300, 8), (300,), (34, 8), (34,))"
      ]
     },
     "execution_count": 104,
     "metadata": {},
     "output_type": "execute_result"
    }
   ],
   "source": [
    "train = reframed.values[:300,:]\n",
    "test = reframed.values[300:334,:]\n",
    "train_X, train_y = train[:, :-1], train[:, -1]\n",
    "test_X , test_y  = test[:, :-1], test[:, -1]\n",
    "train_X.shape, train_y.shape, test_X.shape, test_y.shape"
   ]
  },
  {
   "cell_type": "markdown",
   "metadata": {},
   "source": [
    "## CNN Data Split"
   ]
  },
  {
   "cell_type": "code",
   "execution_count": 105,
   "metadata": {},
   "outputs": [
    {
     "name": "stdout",
     "output_type": "stream",
     "text": [
      "Model: \"sequential_4\"\n",
      "_________________________________________________________________\n",
      "Layer (type)                 Output Shape              Param #   \n",
      "=================================================================\n",
      "dense_8 (Dense)              (None, 5)                 45        \n",
      "_________________________________________________________________\n",
      "dense_9 (Dense)              (None, 5)                 30        \n",
      "_________________________________________________________________\n",
      "dense_10 (Dense)             (None, 1)                 6         \n",
      "=================================================================\n",
      "Total params: 81\n",
      "Trainable params: 81\n",
      "Non-trainable params: 0\n",
      "_________________________________________________________________\n"
     ]
    }
   ],
   "source": [
    "from keras.layers import Activation, Dense\n",
    "model = keras.Sequential()\n",
    "model.add(Dense(5, activation='relu', input_shape=(8,)))\n",
    "model.add(Dense(5, activation='relu'))\n",
    "model.add(Dense(1,  activation='sigmoid'))\n",
    "model.compile(loss='mse',\n",
    "              optimizer='adam',\n",
    "              metrics=['mae','mse'])\n",
    "model.summary()"
   ]
  },
  {
   "cell_type": "markdown",
   "metadata": {},
   "source": [
    "## Training"
   ]
  },
  {
   "cell_type": "code",
   "execution_count": 106,
   "metadata": {},
   "outputs": [
    {
     "name": "stdout",
     "output_type": "stream",
     "text": [
      "Epoch 1/100\n",
      "5/5 [==============================] - 0s 23ms/step - loss: 0.0271 - mae: 0.1356 - mse: 0.0271 - val_loss: 0.0359 - val_mae: 0.1617 - val_mse: 0.0359\n",
      "Epoch 2/100\n",
      "5/5 [==============================] - 0s 6ms/step - loss: 0.0264 - mae: 0.1334 - mse: 0.0264 - val_loss: 0.0353 - val_mae: 0.1593 - val_mse: 0.0353\n",
      "Epoch 3/100\n",
      "5/5 [==============================] - 0s 3ms/step - loss: 0.0257 - mae: 0.1312 - mse: 0.0257 - val_loss: 0.0346 - val_mae: 0.1567 - val_mse: 0.0346\n",
      "Epoch 4/100\n",
      "5/5 [==============================] - 0s 3ms/step - loss: 0.0250 - mae: 0.1290 - mse: 0.0250 - val_loss: 0.0339 - val_mae: 0.1541 - val_mse: 0.0339\n",
      "Epoch 5/100\n",
      "5/5 [==============================] - 0s 10ms/step - loss: 0.0243 - mae: 0.1268 - mse: 0.0243 - val_loss: 0.0333 - val_mae: 0.1515 - val_mse: 0.0333\n",
      "Epoch 6/100\n",
      "5/5 [==============================] - 0s 3ms/step - loss: 0.0236 - mae: 0.1247 - mse: 0.0236 - val_loss: 0.0327 - val_mae: 0.1489 - val_mse: 0.0327\n",
      "Epoch 7/100\n",
      "5/5 [==============================] - 0s 3ms/step - loss: 0.0230 - mae: 0.1227 - mse: 0.0230 - val_loss: 0.0322 - val_mae: 0.1464 - val_mse: 0.0322\n",
      "Epoch 8/100\n",
      "5/5 [==============================] - 0s 3ms/step - loss: 0.0224 - mae: 0.1208 - mse: 0.0224 - val_loss: 0.0317 - val_mae: 0.1440 - val_mse: 0.0317\n",
      "Epoch 9/100\n",
      "5/5 [==============================] - 0s 11ms/step - loss: 0.0219 - mae: 0.1190 - mse: 0.0219 - val_loss: 0.0313 - val_mae: 0.1416 - val_mse: 0.0313\n",
      "Epoch 10/100\n",
      "5/5 [==============================] - 0s 3ms/step - loss: 0.0214 - mae: 0.1173 - mse: 0.0214 - val_loss: 0.0309 - val_mae: 0.1393 - val_mse: 0.0309\n",
      "Epoch 11/100\n",
      "5/5 [==============================] - 0s 3ms/step - loss: 0.0210 - mae: 0.1156 - mse: 0.0210 - val_loss: 0.0306 - val_mae: 0.1369 - val_mse: 0.0306\n",
      "Epoch 12/100\n",
      "5/5 [==============================] - 0s 11ms/step - loss: 0.0206 - mae: 0.1140 - mse: 0.0206 - val_loss: 0.0303 - val_mae: 0.1346 - val_mse: 0.0303\n",
      "Epoch 13/100\n",
      "5/5 [==============================] - 0s 3ms/step - loss: 0.0203 - mae: 0.1126 - mse: 0.0203 - val_loss: 0.0300 - val_mae: 0.1323 - val_mse: 0.0300\n",
      "Epoch 14/100\n",
      "5/5 [==============================] - 0s 3ms/step - loss: 0.0200 - mae: 0.1112 - mse: 0.0200 - val_loss: 0.0298 - val_mae: 0.1300 - val_mse: 0.0298\n",
      "Epoch 15/100\n",
      "5/5 [==============================] - 0s 11ms/step - loss: 0.0197 - mae: 0.1099 - mse: 0.0197 - val_loss: 0.0296 - val_mae: 0.1279 - val_mse: 0.0296\n",
      "Epoch 16/100\n",
      "5/5 [==============================] - 0s 3ms/step - loss: 0.0195 - mae: 0.1088 - mse: 0.0195 - val_loss: 0.0295 - val_mae: 0.1264 - val_mse: 0.0295\n",
      "Epoch 17/100\n",
      "5/5 [==============================] - 0s 3ms/step - loss: 0.0193 - mae: 0.1078 - mse: 0.0193 - val_loss: 0.0294 - val_mae: 0.1252 - val_mse: 0.0294\n",
      "Epoch 18/100\n",
      "5/5 [==============================] - 0s 10ms/step - loss: 0.0192 - mae: 0.1069 - mse: 0.0192 - val_loss: 0.0294 - val_mae: 0.1243 - val_mse: 0.0294\n",
      "Epoch 19/100\n",
      "5/5 [==============================] - 0s 3ms/step - loss: 0.0191 - mae: 0.1062 - mse: 0.0191 - val_loss: 0.0293 - val_mae: 0.1236 - val_mse: 0.0293\n",
      "Epoch 20/100\n",
      "5/5 [==============================] - 0s 3ms/step - loss: 0.0190 - mae: 0.1056 - mse: 0.0190 - val_loss: 0.0293 - val_mae: 0.1230 - val_mse: 0.0293\n",
      "Epoch 21/100\n",
      "5/5 [==============================] - 0s 3ms/step - loss: 0.0189 - mae: 0.1051 - mse: 0.0189 - val_loss: 0.0293 - val_mae: 0.1225 - val_mse: 0.0293\n",
      "Epoch 22/100\n",
      "5/5 [==============================] - 0s 11ms/step - loss: 0.0189 - mae: 0.1047 - mse: 0.0189 - val_loss: 0.0293 - val_mae: 0.1220 - val_mse: 0.0293\n",
      "Epoch 23/100\n",
      "5/5 [==============================] - 0s 3ms/step - loss: 0.0188 - mae: 0.1043 - mse: 0.0188 - val_loss: 0.0293 - val_mae: 0.1216 - val_mse: 0.0293\n",
      "Epoch 24/100\n",
      "5/5 [==============================] - 0s 3ms/step - loss: 0.0188 - mae: 0.1041 - mse: 0.0188 - val_loss: 0.0293 - val_mae: 0.1212 - val_mse: 0.0293\n",
      "Epoch 25/100\n",
      "5/5 [==============================] - 0s 3ms/step - loss: 0.0188 - mae: 0.1038 - mse: 0.0188 - val_loss: 0.0293 - val_mae: 0.1209 - val_mse: 0.0293\n",
      "Epoch 26/100\n",
      "5/5 [==============================] - 0s 3ms/step - loss: 0.0188 - mae: 0.1037 - mse: 0.0188 - val_loss: 0.0293 - val_mae: 0.1206 - val_mse: 0.0293\n",
      "Epoch 27/100\n",
      "5/5 [==============================] - 0s 3ms/step - loss: 0.0188 - mae: 0.1035 - mse: 0.0188 - val_loss: 0.0293 - val_mae: 0.1204 - val_mse: 0.0293\n",
      "Epoch 28/100\n",
      "5/5 [==============================] - 0s 3ms/step - loss: 0.0188 - mae: 0.1034 - mse: 0.0188 - val_loss: 0.0293 - val_mae: 0.1202 - val_mse: 0.0293\n",
      "Epoch 29/100\n",
      "5/5 [==============================] - 0s 12ms/step - loss: 0.0187 - mae: 0.1033 - mse: 0.0187 - val_loss: 0.0293 - val_mae: 0.1201 - val_mse: 0.0293\n",
      "Epoch 30/100\n",
      "5/5 [==============================] - 0s 3ms/step - loss: 0.0187 - mae: 0.1033 - mse: 0.0187 - val_loss: 0.0293 - val_mae: 0.1199 - val_mse: 0.0293\n",
      "Epoch 31/100\n",
      "5/5 [==============================] - 0s 4ms/step - loss: 0.0187 - mae: 0.1032 - mse: 0.0187 - val_loss: 0.0293 - val_mae: 0.1198 - val_mse: 0.0293\n",
      "Epoch 32/100\n",
      "5/5 [==============================] - 0s 10ms/step - loss: 0.0187 - mae: 0.1032 - mse: 0.0187 - val_loss: 0.0293 - val_mae: 0.1198 - val_mse: 0.0293\n",
      "Epoch 33/100\n",
      "5/5 [==============================] - 0s 3ms/step - loss: 0.0187 - mae: 0.1032 - mse: 0.0187 - val_loss: 0.0293 - val_mae: 0.1197 - val_mse: 0.0293\n",
      "Epoch 34/100\n",
      "5/5 [==============================] - 0s 3ms/step - loss: 0.0187 - mae: 0.1032 - mse: 0.0187 - val_loss: 0.0293 - val_mae: 0.1196 - val_mse: 0.0293\n",
      "Epoch 35/100\n",
      "5/5 [==============================] - 0s 4ms/step - loss: 0.0187 - mae: 0.1031 - mse: 0.0187 - val_loss: 0.0293 - val_mae: 0.1195 - val_mse: 0.0293\n",
      "Epoch 36/100\n",
      "5/5 [==============================] - 0s 3ms/step - loss: 0.0187 - mae: 0.1031 - mse: 0.0187 - val_loss: 0.0293 - val_mae: 0.1195 - val_mse: 0.0293\n",
      "Epoch 37/100\n",
      "5/5 [==============================] - 0s 3ms/step - loss: 0.0187 - mae: 0.1031 - mse: 0.0187 - val_loss: 0.0293 - val_mae: 0.1195 - val_mse: 0.0293\n",
      "Epoch 38/100\n",
      "5/5 [==============================] - 0s 3ms/step - loss: 0.0187 - mae: 0.1031 - mse: 0.0187 - val_loss: 0.0293 - val_mae: 0.1194 - val_mse: 0.0293\n",
      "Epoch 39/100\n",
      "5/5 [==============================] - 0s 10ms/step - loss: 0.0187 - mae: 0.1031 - mse: 0.0187 - val_loss: 0.0293 - val_mae: 0.1194 - val_mse: 0.0293\n",
      "Epoch 40/100\n",
      "5/5 [==============================] - 0s 3ms/step - loss: 0.0187 - mae: 0.1031 - mse: 0.0187 - val_loss: 0.0293 - val_mae: 0.1194 - val_mse: 0.0293\n",
      "Epoch 41/100\n",
      "5/5 [==============================] - 0s 3ms/step - loss: 0.0187 - mae: 0.1031 - mse: 0.0187 - val_loss: 0.0293 - val_mae: 0.1194 - val_mse: 0.0293\n",
      "Epoch 42/100\n",
      "5/5 [==============================] - 0s 11ms/step - loss: 0.0187 - mae: 0.1031 - mse: 0.0187 - val_loss: 0.0293 - val_mae: 0.1194 - val_mse: 0.0293\n",
      "Epoch 43/100\n",
      "5/5 [==============================] - 0s 3ms/step - loss: 0.0187 - mae: 0.1031 - mse: 0.0187 - val_loss: 0.0293 - val_mae: 0.1193 - val_mse: 0.0293\n",
      "Epoch 44/100\n",
      "5/5 [==============================] - 0s 3ms/step - loss: 0.0187 - mae: 0.1030 - mse: 0.0187 - val_loss: 0.0293 - val_mae: 0.1193 - val_mse: 0.0293\n",
      "Epoch 45/100\n",
      "5/5 [==============================] - 0s 3ms/step - loss: 0.0187 - mae: 0.1030 - mse: 0.0187 - val_loss: 0.0293 - val_mae: 0.1193 - val_mse: 0.0293\n",
      "Epoch 46/100\n",
      "5/5 [==============================] - 0s 10ms/step - loss: 0.0186 - mae: 0.1030 - mse: 0.0186 - val_loss: 0.0293 - val_mae: 0.1193 - val_mse: 0.0293\n",
      "Epoch 47/100\n",
      "5/5 [==============================] - 0s 3ms/step - loss: 0.0186 - mae: 0.1030 - mse: 0.0186 - val_loss: 0.0293 - val_mae: 0.1193 - val_mse: 0.0293\n",
      "Epoch 48/100\n",
      "5/5 [==============================] - 0s 3ms/step - loss: 0.0186 - mae: 0.1030 - mse: 0.0186 - val_loss: 0.0294 - val_mae: 0.1193 - val_mse: 0.0294\n",
      "Epoch 49/100\n",
      "5/5 [==============================] - 0s 9ms/step - loss: 0.0186 - mae: 0.1030 - mse: 0.0186 - val_loss: 0.0294 - val_mae: 0.1193 - val_mse: 0.0294\n",
      "Epoch 50/100\n",
      "5/5 [==============================] - 0s 3ms/step - loss: 0.0186 - mae: 0.1030 - mse: 0.0186 - val_loss: 0.0294 - val_mae: 0.1193 - val_mse: 0.0294\n",
      "Epoch 51/100\n",
      "5/5 [==============================] - 0s 3ms/step - loss: 0.0186 - mae: 0.1030 - mse: 0.0186 - val_loss: 0.0294 - val_mae: 0.1193 - val_mse: 0.0294\n",
      "Epoch 52/100\n",
      "5/5 [==============================] - 0s 3ms/step - loss: 0.0186 - mae: 0.1030 - mse: 0.0186 - val_loss: 0.0294 - val_mae: 0.1193 - val_mse: 0.0294\n",
      "Epoch 53/100\n",
      "5/5 [==============================] - 0s 11ms/step - loss: 0.0186 - mae: 0.1030 - mse: 0.0186 - val_loss: 0.0294 - val_mae: 0.1193 - val_mse: 0.0294\n",
      "Epoch 54/100\n",
      "5/5 [==============================] - 0s 3ms/step - loss: 0.0186 - mae: 0.1029 - mse: 0.0186 - val_loss: 0.0294 - val_mae: 0.1194 - val_mse: 0.0294\n",
      "Epoch 55/100\n",
      "5/5 [==============================] - 0s 3ms/step - loss: 0.0186 - mae: 0.1029 - mse: 0.0186 - val_loss: 0.0294 - val_mae: 0.1194 - val_mse: 0.0294\n",
      "Epoch 56/100\n",
      "5/5 [==============================] - 0s 10ms/step - loss: 0.0186 - mae: 0.1029 - mse: 0.0186 - val_loss: 0.0294 - val_mae: 0.1194 - val_mse: 0.0294\n",
      "Epoch 57/100\n",
      "5/5 [==============================] - 0s 3ms/step - loss: 0.0186 - mae: 0.1029 - mse: 0.0186 - val_loss: 0.0294 - val_mae: 0.1194 - val_mse: 0.0294\n",
      "Epoch 58/100\n",
      "5/5 [==============================] - 0s 3ms/step - loss: 0.0186 - mae: 0.1029 - mse: 0.0186 - val_loss: 0.0294 - val_mae: 0.1195 - val_mse: 0.0294\n",
      "Epoch 59/100\n",
      "5/5 [==============================] - 0s 3ms/step - loss: 0.0185 - mae: 0.1029 - mse: 0.0185 - val_loss: 0.0294 - val_mae: 0.1195 - val_mse: 0.0294\n",
      "Epoch 60/100\n",
      "5/5 [==============================] - 0s 10ms/step - loss: 0.0185 - mae: 0.1029 - mse: 0.0185 - val_loss: 0.0293 - val_mae: 0.1195 - val_mse: 0.0293\n",
      "Epoch 61/100\n",
      "5/5 [==============================] - 0s 3ms/step - loss: 0.0185 - mae: 0.1028 - mse: 0.0185 - val_loss: 0.0293 - val_mae: 0.1194 - val_mse: 0.0293\n",
      "Epoch 62/100\n",
      "5/5 [==============================] - 0s 3ms/step - loss: 0.0185 - mae: 0.1028 - mse: 0.0185 - val_loss: 0.0293 - val_mae: 0.1193 - val_mse: 0.0293\n",
      "Epoch 63/100\n",
      "5/5 [==============================] - 0s 10ms/step - loss: 0.0185 - mae: 0.1028 - mse: 0.0185 - val_loss: 0.0293 - val_mae: 0.1193 - val_mse: 0.0293\n",
      "Epoch 64/100\n",
      "5/5 [==============================] - 0s 3ms/step - loss: 0.0185 - mae: 0.1027 - mse: 0.0185 - val_loss: 0.0293 - val_mae: 0.1193 - val_mse: 0.0293\n",
      "Epoch 65/100\n",
      "5/5 [==============================] - 0s 3ms/step - loss: 0.0185 - mae: 0.1027 - mse: 0.0185 - val_loss: 0.0293 - val_mae: 0.1193 - val_mse: 0.0293\n",
      "Epoch 66/100\n",
      "5/5 [==============================] - 0s 3ms/step - loss: 0.0185 - mae: 0.1027 - mse: 0.0185 - val_loss: 0.0293 - val_mae: 0.1194 - val_mse: 0.0293\n",
      "Epoch 67/100\n",
      "5/5 [==============================] - 0s 10ms/step - loss: 0.0185 - mae: 0.1027 - mse: 0.0185 - val_loss: 0.0294 - val_mae: 0.1194 - val_mse: 0.0294\n",
      "Epoch 68/100\n",
      "5/5 [==============================] - 0s 3ms/step - loss: 0.0185 - mae: 0.1027 - mse: 0.0185 - val_loss: 0.0294 - val_mae: 0.1195 - val_mse: 0.0294\n",
      "Epoch 69/100\n",
      "5/5 [==============================] - 0s 3ms/step - loss: 0.0185 - mae: 0.1026 - mse: 0.0185 - val_loss: 0.0294 - val_mae: 0.1195 - val_mse: 0.0294\n",
      "Epoch 70/100\n",
      "5/5 [==============================] - 0s 3ms/step - loss: 0.0185 - mae: 0.1026 - mse: 0.0185 - val_loss: 0.0294 - val_mae: 0.1195 - val_mse: 0.0294\n",
      "Epoch 71/100\n",
      "5/5 [==============================] - 0s 3ms/step - loss: 0.0185 - mae: 0.1026 - mse: 0.0185 - val_loss: 0.0294 - val_mae: 0.1194 - val_mse: 0.0294\n",
      "Epoch 72/100\n",
      "5/5 [==============================] - 0s 3ms/step - loss: 0.0184 - mae: 0.1026 - mse: 0.0184 - val_loss: 0.0295 - val_mae: 0.1193 - val_mse: 0.0295\n",
      "Epoch 73/100\n",
      "5/5 [==============================] - 0s 3ms/step - loss: 0.0184 - mae: 0.1025 - mse: 0.0184 - val_loss: 0.0295 - val_mae: 0.1193 - val_mse: 0.0295\n",
      "Epoch 74/100\n",
      "5/5 [==============================] - 0s 10ms/step - loss: 0.0184 - mae: 0.1025 - mse: 0.0184 - val_loss: 0.0295 - val_mae: 0.1193 - val_mse: 0.0295\n",
      "Epoch 75/100\n",
      "5/5 [==============================] - 0s 3ms/step - loss: 0.0184 - mae: 0.1025 - mse: 0.0184 - val_loss: 0.0295 - val_mae: 0.1192 - val_mse: 0.0295\n",
      "Epoch 76/100\n",
      "5/5 [==============================] - 0s 3ms/step - loss: 0.0184 - mae: 0.1025 - mse: 0.0184 - val_loss: 0.0295 - val_mae: 0.1192 - val_mse: 0.0295\n",
      "Epoch 77/100\n",
      "5/5 [==============================] - 0s 3ms/step - loss: 0.0184 - mae: 0.1025 - mse: 0.0184 - val_loss: 0.0296 - val_mae: 0.1192 - val_mse: 0.0296\n",
      "Epoch 78/100\n",
      "5/5 [==============================] - 0s 10ms/step - loss: 0.0184 - mae: 0.1025 - mse: 0.0184 - val_loss: 0.0296 - val_mae: 0.1192 - val_mse: 0.0296\n",
      "Epoch 79/100\n",
      "5/5 [==============================] - 0s 3ms/step - loss: 0.0184 - mae: 0.1024 - mse: 0.0184 - val_loss: 0.0296 - val_mae: 0.1192 - val_mse: 0.0296\n",
      "Epoch 80/100\n",
      "5/5 [==============================] - 0s 3ms/step - loss: 0.0184 - mae: 0.1024 - mse: 0.0184 - val_loss: 0.0296 - val_mae: 0.1192 - val_mse: 0.0296\n",
      "Epoch 81/100\n",
      "5/5 [==============================] - 0s 10ms/step - loss: 0.0184 - mae: 0.1024 - mse: 0.0184 - val_loss: 0.0297 - val_mae: 0.1192 - val_mse: 0.0297\n",
      "Epoch 82/100\n",
      "5/5 [==============================] - 0s 3ms/step - loss: 0.0184 - mae: 0.1024 - mse: 0.0184 - val_loss: 0.0297 - val_mae: 0.1192 - val_mse: 0.0297\n",
      "Epoch 83/100\n",
      "5/5 [==============================] - 0s 3ms/step - loss: 0.0184 - mae: 0.1024 - mse: 0.0184 - val_loss: 0.0297 - val_mae: 0.1193 - val_mse: 0.0297\n",
      "Epoch 84/100\n",
      "5/5 [==============================] - 0s 3ms/step - loss: 0.0184 - mae: 0.1024 - mse: 0.0184 - val_loss: 0.0297 - val_mae: 0.1193 - val_mse: 0.0297\n",
      "Epoch 85/100\n",
      "5/5 [==============================] - 0s 10ms/step - loss: 0.0184 - mae: 0.1024 - mse: 0.0184 - val_loss: 0.0297 - val_mae: 0.1194 - val_mse: 0.0297\n",
      "Epoch 86/100\n",
      "5/5 [==============================] - 0s 3ms/step - loss: 0.0184 - mae: 0.1024 - mse: 0.0184 - val_loss: 0.0298 - val_mae: 0.1194 - val_mse: 0.0298\n",
      "Epoch 87/100\n",
      "5/5 [==============================] - 0s 4ms/step - loss: 0.0184 - mae: 0.1024 - mse: 0.0184 - val_loss: 0.0298 - val_mae: 0.1195 - val_mse: 0.0298\n",
      "Epoch 88/100\n",
      "5/5 [==============================] - 0s 12ms/step - loss: 0.0184 - mae: 0.1023 - mse: 0.0184 - val_loss: 0.0298 - val_mae: 0.1195 - val_mse: 0.0298\n",
      "Epoch 89/100\n",
      "5/5 [==============================] - 0s 3ms/step - loss: 0.0184 - mae: 0.1023 - mse: 0.0184 - val_loss: 0.0298 - val_mae: 0.1195 - val_mse: 0.0298\n",
      "Epoch 90/100\n",
      "5/5 [==============================] - 0s 3ms/step - loss: 0.0184 - mae: 0.1023 - mse: 0.0184 - val_loss: 0.0299 - val_mae: 0.1196 - val_mse: 0.0299\n",
      "Epoch 91/100\n",
      "5/5 [==============================] - 0s 9ms/step - loss: 0.0184 - mae: 0.1023 - mse: 0.0184 - val_loss: 0.0299 - val_mae: 0.1196 - val_mse: 0.0299\n",
      "Epoch 92/100\n",
      "5/5 [==============================] - 0s 3ms/step - loss: 0.0184 - mae: 0.1023 - mse: 0.0184 - val_loss: 0.0299 - val_mae: 0.1197 - val_mse: 0.0299\n",
      "Epoch 93/100\n",
      "5/5 [==============================] - 0s 3ms/step - loss: 0.0184 - mae: 0.1023 - mse: 0.0184 - val_loss: 0.0299 - val_mae: 0.1197 - val_mse: 0.0299\n",
      "Epoch 94/100\n",
      "5/5 [==============================] - 0s 3ms/step - loss: 0.0184 - mae: 0.1023 - mse: 0.0184 - val_loss: 0.0300 - val_mae: 0.1198 - val_mse: 0.0300\n",
      "Epoch 95/100\n",
      "5/5 [==============================] - 0s 10ms/step - loss: 0.0184 - mae: 0.1023 - mse: 0.0184 - val_loss: 0.0300 - val_mae: 0.1198 - val_mse: 0.0300\n",
      "Epoch 96/100\n",
      "5/5 [==============================] - 0s 3ms/step - loss: 0.0183 - mae: 0.1023 - mse: 0.0183 - val_loss: 0.0300 - val_mae: 0.1199 - val_mse: 0.0300\n",
      "Epoch 97/100\n",
      "5/5 [==============================] - 0s 3ms/step - loss: 0.0183 - mae: 0.1022 - mse: 0.0183 - val_loss: 0.0300 - val_mae: 0.1199 - val_mse: 0.0300\n",
      "Epoch 98/100\n",
      "5/5 [==============================] - 0s 3ms/step - loss: 0.0183 - mae: 0.1022 - mse: 0.0183 - val_loss: 0.0301 - val_mae: 0.1200 - val_mse: 0.0301\n",
      "Epoch 99/100\n",
      "5/5 [==============================] - 0s 9ms/step - loss: 0.0183 - mae: 0.1022 - mse: 0.0183 - val_loss: 0.0301 - val_mae: 0.1201 - val_mse: 0.0301\n",
      "Epoch 100/100\n",
      "5/5 [==============================] - 0s 3ms/step - loss: 0.0183 - mae: 0.1022 - mse: 0.0183 - val_loss: 0.0301 - val_mae: 0.1201 - val_mse: 0.0301\n"
     ]
    }
   ],
   "source": [
    "history = model.fit(train_X, train_y, epochs=100, \n",
    "                    batch_size=72, validation_data=(test_X, test_y), \n",
    "                    verbose=1, shuffle=False)"
   ]
  },
  {
   "cell_type": "markdown",
   "metadata": {},
   "source": [
    "## Plot Loss Curve"
   ]
  },
  {
   "cell_type": "code",
   "execution_count": 39,
   "metadata": {},
   "outputs": [
    {
     "name": "stdout",
     "output_type": "stream",
     "text": [
      "Populating the interactive namespace from numpy and matplotlib\n"
     ]
    },
    {
     "data": {
      "image/png": "[encoded data removed]",
      "text/plain": [
       "<Figure size 432x288 with 1 Axes>"
      ]
     },
     "metadata": {
      "needs_background": "light"
     },
     "output_type": "display_data"
    }
   ],
   "source": [
    "%pylab inline\n",
    "from matplotlib import pyplot\n",
    "pyplot.plot(history.history['loss'], label='train')\n",
    "pyplot.plot(history.history['val_loss'], label='test')\n",
    "pyplot.legend()\n",
    "pyplot.show()"
   ]
  },
  {
   "cell_type": "markdown",
   "metadata": {},
   "source": [
    "## Model Predict"
   ]
  },
  {
   "cell_type": "code",
   "execution_count": 40,
   "metadata": {},
   "outputs": [
    {
     "data": {
      "text/plain": [
       "((34, 1), (34, 8))"
      ]
     },
     "execution_count": 40,
     "metadata": {},
     "output_type": "execute_result"
    }
   ],
   "source": [
    "yhat = model.predict(test_X)\n",
    "yhat.shape, test_X.shape"
   ]
  },
  {
   "cell_type": "code",
   "execution_count": 41,
   "metadata": {},
   "outputs": [
    {
     "data": {
      "text/plain": [
       "(34,)"
      ]
     },
     "execution_count": 41,
     "metadata": {},
     "output_type": "execute_result"
    }
   ],
   "source": [
    "pred = {'VFINX': 0}\n",
    "inv_yhat = concatenate((yhat, numpy.delete(test_X, pred['VFINX'], axis=1)), axis=1)\n",
    "inv_yhat = scaler.inverse_transform(inv_yhat)\n",
    "inv_yhat = inv_yhat[:,0]\n",
    "inv_yhat.shape"
   ]
  },
  {
   "cell_type": "code",
   "execution_count": 42,
   "metadata": {},
   "outputs": [
    {
     "data": {
      "text/plain": [
       "(34,)"
      ]
     },
     "execution_count": 42,
     "metadata": {},
     "output_type": "execute_result"
    }
   ],
   "source": [
    "real = test_y.reshape((len(test_y), 1))\n",
    "inv_y = concatenate((real, numpy.delete(test_X, pred['VFINX'], axis=1)), axis=1)\n",
    "inv_y = scaler.inverse_transform(inv_y)\n",
    "inv_y = inv_y[:,0]\n",
    "inv_y.shape"
   ]
  },
  {
   "cell_type": "code",
   "execution_count": 43,
   "metadata": {},
   "outputs": [
    {
     "name": "stdout",
     "output_type": "stream",
     "text": [
      "Test RMSE: 0.053\n"
     ]
    }
   ],
   "source": [
    "from sklearn.metrics import mean_squared_error\n",
    "rmse = sqrt(mean_squared_error(inv_y, inv_yhat))\n",
    "print('Test RMSE: %.3f' % rmse)"
   ]
  },
  {
   "cell_type": "code",
   "execution_count": 44,
   "metadata": {},
   "outputs": [],
   "source": [
    "inv_y = np.cumprod(inv_y+1)\n",
    "inv_yhat = np.cumprod(inv_yhat+1)"
   ]
  },
  {
   "cell_type": "code",
   "execution_count": 45,
   "metadata": {},
   "outputs": [
    {
     "data": {
      "image/png": "[encoded data removed]",
      "text/plain": [
       "<Figure size 1440x720 with 1 Axes>"
      ]
     },
     "metadata": {
      "needs_background": "light"
     },
     "output_type": "display_data"
    }
   ],
   "source": [
    "import matplotlib.pyplot as plt\n",
    "plt.figure(figsize=(20,10))\n",
    "plt.plot(inv_y, color = 'red', label = 'Real')\n",
    "plt.plot(inv_yhat, color = 'blue', label = 'Predict')\n",
    "plt.title('Real vs Predict')\n",
    "plt.xlabel('Time')\n",
    "plt.ylabel('Price')\n",
    "plt.legend()\n",
    "plt.show()"
   ]
  },
  {
   "cell_type": "code",
   "execution_count": null,
   "metadata": {},
   "outputs": [],
   "source": []
  },
  {
   "cell_type": "markdown",
   "metadata": {},
   "source": [
    "## *** SVM Classification ***"
   ]
  },
  {
   "cell_type": "code",
   "execution_count": 48,
   "metadata": {},
   "outputs": [
    {
     "data": {
      "text/html": [
       "<div>\n",
       "<style scoped>\n",
       "    .dataframe tbody tr th:only-of-type {\n",
       "        vertical-align: middle;\n",
       "    }\n",
       "\n",
       "    .dataframe tbody tr th {\n",
       "        vertical-align: top;\n",
       "    }\n",
       "\n",
       "    .dataframe thead th {\n",
       "        text-align: right;\n",
       "    }\n",
       "</style>\n",
       "<table border=\"1\" class=\"dataframe\">\n",
       "  <thead>\n",
       "    <tr style=\"text-align: right;\">\n",
       "      <th></th>\n",
       "      <th>Date</th>\n",
       "      <th>VBMFX</th>\n",
       "      <th>VFINX</th>\n",
       "      <th>VIX.chg</th>\n",
       "      <th>VIX.ret</th>\n",
       "      <th>SPX_SMA</th>\n",
       "      <th>VFINX_SKW</th>\n",
       "      <th>VBMFX_SKW</th>\n",
       "      <th>VIX_SKW</th>\n",
       "    </tr>\n",
       "  </thead>\n",
       "  <tbody>\n",
       "    <tr>\n",
       "      <th>0</th>\n",
       "      <td>2020/5/29</td>\n",
       "      <td>0.003475</td>\n",
       "      <td>0.047559</td>\n",
       "      <td>5.470001</td>\n",
       "      <td>0.095864</td>\n",
       "      <td>400.036400</td>\n",
       "      <td>-0.478190</td>\n",
       "      <td>0.439268</td>\n",
       "      <td>2.747991</td>\n",
       "    </tr>\n",
       "    <tr>\n",
       "      <th>1</th>\n",
       "      <td>2020/4/30</td>\n",
       "      <td>0.016932</td>\n",
       "      <td>0.128139</td>\n",
       "      <td>5.680000</td>\n",
       "      <td>0.068690</td>\n",
       "      <td>147.717885</td>\n",
       "      <td>-0.468298</td>\n",
       "      <td>0.471941</td>\n",
       "      <td>2.754459</td>\n",
       "    </tr>\n",
       "    <tr>\n",
       "      <th>2</th>\n",
       "      <td>2020/3/31</td>\n",
       "      <td>-0.005856</td>\n",
       "      <td>-0.124013</td>\n",
       "      <td>24.860000</td>\n",
       "      <td>0.619796</td>\n",
       "      <td>-500.768910</td>\n",
       "      <td>-0.952582</td>\n",
       "      <td>0.596769</td>\n",
       "      <td>2.762359</td>\n",
       "    </tr>\n",
       "    <tr>\n",
       "      <th>3</th>\n",
       "      <td>2020/2/28</td>\n",
       "      <td>0.017066</td>\n",
       "      <td>-0.082413</td>\n",
       "      <td>11.600001</td>\n",
       "      <td>0.615711</td>\n",
       "      <td>239.538152</td>\n",
       "      <td>-0.840620</td>\n",
       "      <td>0.599255</td>\n",
       "      <td>3.167991</td>\n",
       "    </tr>\n",
       "    <tr>\n",
       "      <th>4</th>\n",
       "      <td>2020/1/31</td>\n",
       "      <td>0.021187</td>\n",
       "      <td>-0.000503</td>\n",
       "      <td>3.670000</td>\n",
       "      <td>0.229950</td>\n",
       "      <td>816.021351</td>\n",
       "      <td>-0.870556</td>\n",
       "      <td>0.657260</td>\n",
       "      <td>3.488195</td>\n",
       "    </tr>\n",
       "  </tbody>\n",
       "</table>\n",
       "</div>"
      ],
      "text/plain": [
       "        Date     VBMFX     VFINX    VIX.chg   VIX.ret     SPX_SMA  VFINX_SKW  \\\n",
       "0  2020/5/29  0.003475  0.047559   5.470001  0.095864  400.036400  -0.478190   \n",
       "1  2020/4/30  0.016932  0.128139   5.680000  0.068690  147.717885  -0.468298   \n",
       "2  2020/3/31 -0.005856 -0.124013  24.860000  0.619796 -500.768910  -0.952582   \n",
       "3  2020/2/28  0.017066 -0.082413  11.600001  0.615711  239.538152  -0.840620   \n",
       "4  2020/1/31  0.021187 -0.000503   3.670000  0.229950  816.021351  -0.870556   \n",
       "\n",
       "   VBMFX_SKW   VIX_SKW  \n",
       "0   0.439268  2.747991  \n",
       "1   0.471941  2.754459  \n",
       "2   0.596769  2.762359  \n",
       "3   0.599255  3.167991  \n",
       "4   0.657260  3.488195  "
      ]
     },
     "execution_count": 48,
     "metadata": {},
     "output_type": "execute_result"
    }
   ],
   "source": [
    "folder=\"C:/Users/user/Desktop/NCCU_DB/DataBase\"\n",
    "data=read_csv(filename=\"FEAT_DATA\",folder=folder)\n",
    "data.head()"
   ]
  },
  {
   "cell_type": "markdown",
   "metadata": {},
   "source": [
    "## Data convert to Relative Change"
   ]
  },
  {
   "cell_type": "code",
   "execution_count": 49,
   "metadata": {},
   "outputs": [
    {
     "data": {
      "text/html": [
       "<div>\n",
       "<style scoped>\n",
       "    .dataframe tbody tr th:only-of-type {\n",
       "        vertical-align: middle;\n",
       "    }\n",
       "\n",
       "    .dataframe tbody tr th {\n",
       "        vertical-align: top;\n",
       "    }\n",
       "\n",
       "    .dataframe thead th {\n",
       "        text-align: right;\n",
       "    }\n",
       "</style>\n",
       "<table border=\"1\" class=\"dataframe\">\n",
       "  <thead>\n",
       "    <tr style=\"text-align: right;\">\n",
       "      <th></th>\n",
       "      <th>VIX.ret</th>\n",
       "      <th>SPX_SMA</th>\n",
       "    </tr>\n",
       "  </thead>\n",
       "  <tbody>\n",
       "    <tr>\n",
       "      <th>0</th>\n",
       "      <td>0.095864</td>\n",
       "      <td>400.036400</td>\n",
       "    </tr>\n",
       "    <tr>\n",
       "      <th>1</th>\n",
       "      <td>0.068690</td>\n",
       "      <td>147.717885</td>\n",
       "    </tr>\n",
       "    <tr>\n",
       "      <th>2</th>\n",
       "      <td>0.619796</td>\n",
       "      <td>-500.768910</td>\n",
       "    </tr>\n",
       "    <tr>\n",
       "      <th>3</th>\n",
       "      <td>0.615711</td>\n",
       "      <td>239.538152</td>\n",
       "    </tr>\n",
       "    <tr>\n",
       "      <th>4</th>\n",
       "      <td>0.229950</td>\n",
       "      <td>816.021351</td>\n",
       "    </tr>\n",
       "  </tbody>\n",
       "</table>\n",
       "</div>"
      ],
      "text/plain": [
       "    VIX.ret     SPX_SMA\n",
       "0  0.095864  400.036400\n",
       "1  0.068690  147.717885\n",
       "2  0.619796 -500.768910\n",
       "3  0.615711  239.538152\n",
       "4  0.229950  816.021351"
      ]
     },
     "execution_count": 49,
     "metadata": {},
     "output_type": "execute_result"
    }
   ],
   "source": [
    "import numpy\n",
    "y = data['VFINX']\n",
    "#x = data[['VBMFX','VIX.chg','VIX.ret','SPX_SMA','VFINX_SKW','VBMFX_SKW','VIX_SKW']]\n",
    "x = data[['VIX.ret','SPX_SMA']]\n",
    "x.head()"
   ]
  },
  {
   "cell_type": "markdown",
   "metadata": {},
   "source": [
    "## Y convert to Category"
   ]
  },
  {
   "cell_type": "code",
   "execution_count": 50,
   "metadata": {},
   "outputs": [],
   "source": [
    "#y = (y-y.mean())/y.std()\n",
    "y = numpy.where(y>0, 1, 0)\n",
    "#y = numpy.where(y>1, 1, numpy.where(y<-1, -1, 0))"
   ]
  },
  {
   "cell_type": "code",
   "execution_count": 51,
   "metadata": {},
   "outputs": [],
   "source": [
    "from sklearn.model_selection     import train_test_split\n",
    "x_train, x_test, y_train, y_test =  train_test_split(x,y, test_size = 0.33, random_state = 42 )"
   ]
  },
  {
   "cell_type": "markdown",
   "metadata": {},
   "source": [
    "## Standardize Function"
   ]
  },
  {
   "cell_type": "code",
   "execution_count": 52,
   "metadata": {},
   "outputs": [],
   "source": [
    "from sklearn.preprocessing       import StandardScaler\n",
    "def Standard(data):\n",
    "    sc = StandardScaler()\n",
    "    # fit_transform will fixed mean & vol by data\n",
    "    # transform reuse above mean & vol\n",
    "    return sc.fit_transform(data)"
   ]
  },
  {
   "cell_type": "code",
   "execution_count": 53,
   "metadata": {},
   "outputs": [
    {
     "data": {
      "text/plain": [
       "(335, 2)"
      ]
     },
     "execution_count": 53,
     "metadata": {},
     "output_type": "execute_result"
    }
   ],
   "source": [
    "x = Standard(x)\n",
    "x.shape"
   ]
  },
  {
   "cell_type": "markdown",
   "metadata": {},
   "source": [
    "## SVM Classifier"
   ]
  },
  {
   "cell_type": "code",
   "execution_count": 54,
   "metadata": {},
   "outputs": [],
   "source": [
    "def plot_classifier(data,target,type,C=100,svc_kernel=\"rbf\"):\n",
    "    if type == 'SVC':\n",
    "        from sklearn.svm import SVC\n",
    "        clf = SVC(C=C,kernel=svc_kernel)\n",
    "        clf.fit(data, target)\n",
    "    if type == 'Logistic':\n",
    "        from sklearn.linear_model import LogisticRegression\n",
    "        clf = LogisticRegression()\n",
    "        clf.fit(data, target)\n",
    "    plot_estimator(estimator=clf, data=data ,target=target)\n",
    "    \n",
    "def plot_estimator(estimator, data, target):\n",
    "    # *** estimator model must trained by two variables ***\n",
    "    x_min, x_max = data[:, 0].min() - 0.02, data[:, 0].max() + 0.02\n",
    "    y_min, y_max = data[:, 1].min() - 0.02, data[:, 1].max() + 0.02\n",
    "    xx, yy = numpy.meshgrid(numpy.arange(x_min, x_max, 0.005), numpy.arange(y_min, y_max, 0.005))\n",
    "    Z = estimator.predict(numpy.c_[xx.ravel(), yy.ravel()])\n",
    "    Z = Z.reshape(xx.shape)\n",
    "    plt.plot()\n",
    "    plt.contourf(xx, yy, Z, alpha=0.4, cmap = plt.cm.RdYlBu)\n",
    "    plt.scatter(data[:, 0], data[:, 1], c=target, cmap = plt.cm.brg)\n",
    "    plt.xlabel('Index Return')\n",
    "    plt.ylabel('Dividend Growth')\n",
    "    plt.show()"
   ]
  },
  {
   "cell_type": "markdown",
   "metadata": {},
   "source": [
    "## Plot Decision Boundary"
   ]
  },
  {
   "cell_type": "code",
   "execution_count": 55,
   "metadata": {},
   "outputs": [
    {
     "data": {
      "image/png": "[encoded data removed]",
      "text/plain": [
       "<Figure size 432x288 with 1 Axes>"
      ]
     },
     "metadata": {
      "needs_background": "light"
     },
     "output_type": "display_data"
    }
   ],
   "source": [
    "import matplotlib.pyplot as plt\n",
    "plot_classifier(data=x,target=y,type=\"SVC\",svc_kernel=\"linear\",C=100)"
   ]
  },
  {
   "cell_type": "code",
   "execution_count": 72,
   "metadata": {},
   "outputs": [
    {
     "data": {
      "image/png": "[encoded data removed]",
      "text/plain": [
       "<Figure size 432x288 with 1 Axes>"
      ]
     },
     "metadata": {
      "needs_background": "light"
     },
     "output_type": "display_data"
    }
   ],
   "source": [
    "plot_classifier(data=x[:1000,:],target=y[:1000],type=\"SVC\",svc_kernel=\"linear\",C=100)"
   ]
  },
  {
   "cell_type": "code",
   "execution_count": 73,
   "metadata": {},
   "outputs": [
    {
     "name": "stderr",
     "output_type": "stream",
     "text": [
      "/usr/local/lib/python3.6/dist-packages/sklearn/svm/base.py:193: FutureWarning: The default value of gamma will change from 'auto' to 'scale' in version 0.22 to account better for unscaled features. Set gamma explicitly to 'auto' or 'scale' to avoid this warning.\n",
      "  \"avoid this warning.\", FutureWarning)\n"
     ]
    },
    {
     "data": {
      "image/png": "[encoded data removed]",
      "text/plain": [
       "<Figure size 432x288 with 1 Axes>"
      ]
     },
     "metadata": {
      "needs_background": "light"
     },
     "output_type": "display_data"
    }
   ],
   "source": [
    "plot_classifier(data=x[:50,:],target=y[:50],type=\"SVC\",svc_kernel=\"rbf\",C=1000)"
   ]
  },
  {
   "cell_type": "code",
   "execution_count": 74,
   "metadata": {},
   "outputs": [
    {
     "name": "stderr",
     "output_type": "stream",
     "text": [
      "/usr/local/lib/python3.6/dist-packages/sklearn/svm/base.py:193: FutureWarning: The default value of gamma will change from 'auto' to 'scale' in version 0.22 to account better for unscaled features. Set gamma explicitly to 'auto' or 'scale' to avoid this warning.\n",
      "  \"avoid this warning.\", FutureWarning)\n"
     ]
    },
    {
     "data": {
      "image/png": "[encoded data removed]",
      "text/plain": [
       "<Figure size 432x288 with 1 Axes>"
      ]
     },
     "metadata": {
      "needs_background": "light"
     },
     "output_type": "display_data"
    }
   ],
   "source": [
    "plot_classifier(data=x[:1500,:],target=y[:1500],type=\"SVC\",svc_kernel=\"rbf\",C=1000)"
   ]
  }
 ],
 "metadata": {
  "kernelspec": {
   "display_name": "Python 3",
   "language": "python",
   "name": "python3"
  },
  "language_info": {
   "codemirror_mode": {
    "name": "ipython",
    "version": 3
   },
   "file_extension": ".py",
   "mimetype": "text/x-python",
   "name": "python",
   "nbconvert_exporter": "python",
   "pygments_lexer": "ipython3",
   "version": "3.6.10"
  }
 },
 "nbformat": 4,
 "nbformat_minor": 4
}
