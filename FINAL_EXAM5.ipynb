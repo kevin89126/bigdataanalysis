{
 "cells": [
  {
   "cell_type": "code",
   "execution_count": 1,
   "metadata": {},
   "outputs": [],
   "source": [
    "from mnist import MNIST\n",
    "import numpy as np\n",
    "from keras.layers import Conv2D,MaxPooling2D,Flatten,Dense\n",
    "from keras import models, layers, Sequential\n",
    "from keras import optimizers\n",
    "import keras\n",
    "import matplotlib.pyplot as plt\n",
    "\n",
    "# Wget to save mnist train and test data under /nfs/Workspace/mndata/\n",
    "\n",
    "mndata = MNIST('/nfs/Workspace/mndata/')\n",
    "raw_train_images, raw_train_labels = mndata.load_training()\n"
   ]
  },
  {
   "cell_type": "code",
   "execution_count": 2,
   "metadata": {},
   "outputs": [
    {
     "name": "stdout",
     "output_type": "stream",
     "text": [
      "10000 (50000,) (50000, 784)\n",
      "10000 (10000,) (10000, 784)\n"
     ]
    }
   ],
   "source": [
    "train_labels = np.array(raw_train_labels)\n",
    "train_images = np.array(raw_train_images)\n",
    "\n",
    "# Random select 50000 from taining set\n",
    "\n",
    "rng = np.random.default_rng()\n",
    "test_index = rng.choice(len(train_images), 10000, replace=False)\n",
    "test_labels = []\n",
    "test_images = []\n",
    "# Get 10000 from training set for testing set\n",
    "for index in test_index:\n",
    "    test_labels.append(train_labels[index])\n",
    "    test_images.append(train_images[index])\n",
    "\n",
    "train_labels = np.delete(train_labels, test_index)\n",
    "train_images = np.delete(train_images, test_index,axis=0)\n",
    "test_labels = np.array(test_labels)\n",
    "test_images = np.array(test_images)\n",
    "\n",
    "\n",
    "print(len(test_index), train_labels.shape, train_images.shape)\n",
    "print(len(test_index), test_labels.shape, test_images.shape)"
   ]
  },
  {
   "cell_type": "code",
   "execution_count": 3,
   "metadata": {},
   "outputs": [
    {
     "name": "stdout",
     "output_type": "stream",
     "text": [
      "(50000, 28, 28, 1) (50000,)\n",
      "(10000, 28, 28, 1) (10000,)\n"
     ]
    }
   ],
   "source": [
    "# Reshape images data for training\n",
    "\n",
    "train_images = train_images.reshape(-1, 28, 28,1)\n",
    "print(train_images.shape, train_labels.shape)\n",
    "\n",
    "test_images = test_images.reshape(-1, 28, 28, 1)\n",
    "print(test_images.shape,test_labels.shape)\n"
   ]
  },
  {
   "cell_type": "code",
   "execution_count": 4,
   "metadata": {},
   "outputs": [],
   "source": [
    "# Categorical labels\n",
    "train_labels = keras.utils.to_categorical(train_labels, num_classes=10)\n",
    "test_labels = keras.utils.to_categorical(test_labels, num_classes=10)"
   ]
  },
  {
   "cell_type": "code",
   "execution_count": 5,
   "metadata": {},
   "outputs": [
    {
     "name": "stdout",
     "output_type": "stream",
     "text": [
      "Model: \"sequential\"\n",
      "_________________________________________________________________\n",
      "Layer (type)                 Output Shape              Param #   \n",
      "=================================================================\n",
      "batch_normalization (BatchNo (None, 28, 28, 1)         4         \n",
      "_________________________________________________________________\n",
      "dense (Dense)                (None, 28, 28, 10)        20        \n",
      "_________________________________________________________________\n",
      "dense_1 (Dense)              (None, 28, 28, 10)        110       \n",
      "_________________________________________________________________\n",
      "flatten (Flatten)            (None, 7840)              0         \n",
      "_________________________________________________________________\n",
      "dense_2 (Dense)              (None, 10)                78410     \n",
      "_________________________________________________________________\n",
      "dense_3 (Dense)              (None, 10)                110       \n",
      "_________________________________________________________________\n",
      "dense_4 (Dense)              (None, 10)                110       \n",
      "=================================================================\n",
      "Total params: 78,764\n",
      "Trainable params: 78,762\n",
      "Non-trainable params: 2\n",
      "_________________________________________________________________\n"
     ]
    }
   ],
   "source": [
    "# Build batch-normalized model with 4 hidden layers and 10 neual \n",
    "bn_model = keras.models.Sequential()\n",
    "bn_model.add(keras.layers.normalization.BatchNormalization(input_shape=(28, 28, 1),axis=-1, momentum=0.99, epsilon=0.001, center=True, scale=True, beta_initializer='zeros', gamma_initializer='ones', moving_mean_initializer='zeros', moving_variance_initializer='ones', beta_regularizer=None, gamma_regularizer=None, beta_constraint=None, gamma_constraint=None))\n",
    "bn_model.add(keras.layers.Dense(10, activation=\"relu\"))\n",
    "bn_model.add(keras.layers.Dense(10, activation=\"relu\"))\n",
    "bn_model.add(Flatten())\n",
    "bn_model.add(keras.layers.Dense(10, activation=\"relu\"))\n",
    "bn_model.add(keras.layers.Dense(10, activation=\"relu\"))\n",
    "bn_model.add(keras.layers.Dense(10, activation=\"softmax\"))\n",
    "# optimizer use sgd (strogatic gradient descent)\n",
    "bn_model.compile(loss=\"categorical_crossentropy\",optimizer=\"sgd\",metrics=[\"accuracy\"])\n",
    "bn_model.summary()\n"
   ]
  },
  {
   "cell_type": "code",
   "execution_count": 6,
   "metadata": {},
   "outputs": [
    {
     "name": "stdout",
     "output_type": "stream",
     "text": [
      "Epoch 1/10\n",
      "100/100 [==============================] - 9s 29ms/step - loss: 2.1499 - accuracy: 0.2358 - val_loss: 1.7193 - val_accuracy: 0.3122\n",
      "Epoch 2/10\n",
      "100/100 [==============================] - 3s 25ms/step - loss: 1.6536 - accuracy: 0.3717 - val_loss: 1.3799 - val_accuracy: 0.5307\n",
      "Epoch 3/10\n",
      "100/100 [==============================] - 2s 20ms/step - loss: 1.2734 - accuracy: 0.5754 - val_loss: 0.9918 - val_accuracy: 0.6991\n",
      "Epoch 4/10\n",
      "100/100 [==============================] - 3s 30ms/step - loss: 0.9153 - accuracy: 0.7291 - val_loss: 0.7992 - val_accuracy: 0.7841\n",
      "Epoch 5/10\n",
      "100/100 [==============================] - 7s 70ms/step - loss: 0.7456 - accuracy: 0.8095 - val_loss: 0.6900 - val_accuracy: 0.8372\n",
      "Epoch 6/10\n",
      "100/100 [==============================] - 3s 30ms/step - loss: 0.6585 - accuracy: 0.8445 - val_loss: 0.6315 - val_accuracy: 0.8577\n",
      "Epoch 7/10\n",
      "100/100 [==============================] - 4s 36ms/step - loss: 0.6122 - accuracy: 0.8565 - val_loss: 0.5938 - val_accuracy: 0.8652\n",
      "Epoch 8/10\n",
      "100/100 [==============================] - 3s 25ms/step - loss: 0.5740 - accuracy: 0.8661 - val_loss: 0.5758 - val_accuracy: 0.8725\n",
      "Epoch 9/10\n",
      "100/100 [==============================] - 2s 19ms/step - loss: 0.5399 - accuracy: 0.8779 - val_loss: 0.5667 - val_accuracy: 0.8688\n",
      "Epoch 10/10\n",
      "100/100 [==============================] - 2s 15ms/step - loss: 0.5301 - accuracy: 0.8828 - val_loss: 0.5327 - val_accuracy: 0.8805\n"
     ]
    }
   ],
   "source": [
    "# Train batch-normalized \n",
    "# Use epochs 10\n",
    "bn_history = bn_model.fit(train_images, train_labels, epochs=10, \n",
    "    batch_size=500, validation_data=(test_images, test_labels), \n",
    "    verbose=1, shuffle=True)"
   ]
  },
  {
   "cell_type": "code",
   "execution_count": 7,
   "metadata": {},
   "outputs": [
    {
     "name": "stdout",
     "output_type": "stream",
     "text": [
      "Model: \"sequential_1\"\n",
      "_________________________________________________________________\n",
      "Layer (type)                 Output Shape              Param #   \n",
      "=================================================================\n",
      "dense_5 (Dense)              (None, 28, 28, 10)        20        \n",
      "_________________________________________________________________\n",
      "dense_6 (Dense)              (None, 28, 28, 10)        110       \n",
      "_________________________________________________________________\n",
      "dense_7 (Dense)              (None, 28, 28, 10)        110       \n",
      "_________________________________________________________________\n",
      "flatten_1 (Flatten)          (None, 7840)              0         \n",
      "_________________________________________________________________\n",
      "dense_8 (Dense)              (None, 10)                78410     \n",
      "_________________________________________________________________\n",
      "dense_9 (Dense)              (None, 10)                110       \n",
      "=================================================================\n",
      "Total params: 78,760\n",
      "Trainable params: 78,760\n",
      "Non-trainable params: 0\n",
      "_________________________________________________________________\n"
     ]
    }
   ],
   "source": [
    "# Build regular model\n",
    "rg_model = keras.models.Sequential()\n",
    "rg_model.add(keras.layers.Dense(10, input_shape=(28, 28, 1), activation=\"relu\"))\n",
    "rg_model.add(keras.layers.Dense(10, activation=\"relu\"))\n",
    "rg_model.add(keras.layers.Dense(10, activation=\"relu\"))\n",
    "rg_model.add(Flatten())\n",
    "rg_model.add(keras.layers.Dense(10, activation=\"relu\"))\n",
    "rg_model.add(keras.layers.Dense(10, activation=\"softmax\"))\n",
    "# optimizer use sgd (strogatic gradient descent) with learning rate 0.1\n",
    "rg_model.compile(loss=\"categorical_crossentropy\",optimizer=\"sgd\",metrics=[\"accuracy\"])\n",
    "rg_model.summary()\n"
   ]
  },
  {
   "cell_type": "code",
   "execution_count": 8,
   "metadata": {},
   "outputs": [
    {
     "name": "stdout",
     "output_type": "stream",
     "text": [
      "Epoch 1/10\n",
      "1/1 [==============================] - 21s 21s/step - loss: 5.6134 - accuracy: 0.1104 - val_loss: 3.9521 - val_accuracy: 0.1034\n",
      "Epoch 2/10\n",
      "1/1 [==============================] - 1s 990ms/step - loss: 3.9376 - accuracy: 0.1041 - val_loss: 33.0030 - val_accuracy: 0.1002\n",
      "Epoch 3/10\n",
      "1/1 [==============================] - 1s 1s/step - loss: 32.7590 - accuracy: 0.1011 - val_loss: 2.2810 - val_accuracy: 0.1422\n",
      "Epoch 4/10\n",
      "1/1 [==============================] - 1s 1s/step - loss: 2.2816 - accuracy: 0.1366 - val_loss: 2.2513 - val_accuracy: 0.1545\n",
      "Epoch 5/10\n",
      "1/1 [==============================] - 1s 1s/step - loss: 2.2520 - accuracy: 0.1536 - val_loss: 2.1724 - val_accuracy: 0.2079\n",
      "Epoch 6/10\n",
      "1/1 [==============================] - 1s 1s/step - loss: 2.1810 - accuracy: 0.2021 - val_loss: 2.1355 - val_accuracy: 0.2311\n",
      "Epoch 7/10\n",
      "1/1 [==============================] - 1s 1s/step - loss: 2.1459 - accuracy: 0.2267 - val_loss: 2.1178 - val_accuracy: 0.2504\n",
      "Epoch 8/10\n",
      "1/1 [==============================] - 1s 998ms/step - loss: 2.1240 - accuracy: 0.2476 - val_loss: 2.1005 - val_accuracy: 0.2675\n",
      "Epoch 9/10\n",
      "1/1 [==============================] - 1s 992ms/step - loss: 2.1099 - accuracy: 0.2668 - val_loss: 2.1403 - val_accuracy: 0.2409\n",
      "Epoch 10/10\n",
      "1/1 [==============================] - 1s 903ms/step - loss: 2.1420 - accuracy: 0.2435 - val_loss: 2.0591 - val_accuracy: 0.3006\n"
     ]
    }
   ],
   "source": [
    "# Train regular model\n",
    "rg_history = rg_model.fit(train_images, train_labels, epochs=10, \n",
    "    batch_size=len(train_images), validation_data=(test_images, test_labels), \n",
    "    verbose=1, shuffle=True)"
   ]
  },
  {
   "cell_type": "code",
   "execution_count": 10,
   "metadata": {},
   "outputs": [
    {
     "data": {
      "text/plain": [
       "<matplotlib.legend.Legend at 0x7f295407e8d0>"
      ]
     },
     "execution_count": 10,
     "metadata": {},
     "output_type": "execute_result"
    },
    {
     "data": {
      "image/png": "[encoded data removed]",
      "text/plain": [
       "<Figure size 432x288 with 1 Axes>"
      ]
     },
     "metadata": {
      "needs_background": "light"
     },
     "output_type": "display_data"
    }
   ],
   "source": [
    "# Show traing accuracy only\n",
    "plt.plot(bn_history.history['accuracy'], label='batch-normalized')\n",
    "plt.plot(rg_history.history['accuracy'], label = 'regular')\n",
    "plt.xlabel('Epoch')\n",
    "plt.ylabel('Accuracy')\n",
    "plt.ylim([0.0, 1])\n",
    "plt.legend(loc='lower right')"
   ]
  },
  {
   "cell_type": "code",
   "execution_count": 11,
   "metadata": {},
   "outputs": [
    {
     "data": {
      "text/plain": [
       "<matplotlib.legend.Legend at 0x7f2954069f28>"
      ]
     },
     "execution_count": 11,
     "metadata": {},
     "output_type": "execute_result"
    },
    {
     "data": {
      "image/png": "[encoded data removed]",
      "text/plain": [
       "<Figure size 432x288 with 1 Axes>"
      ]
     },
     "metadata": {
      "needs_background": "light"
     },
     "output_type": "display_data"
    }
   ],
   "source": [
    "# Show traing cost only\n",
    "plt.plot(bn_history.history['loss'], label='batch-normalized')\n",
    "plt.plot(rg_history.history['loss'], label = 'regular')\n",
    "plt.xlabel('Epoch')\n",
    "plt.ylabel('Cost')\n",
    "plt.ylim([0.0, 3])\n",
    "plt.legend(loc='lower right')"
   ]
  },
  {
   "cell_type": "code",
   "execution_count": null,
   "metadata": {},
   "outputs": [],
   "source": []
  }
 ],
 "metadata": {
  "kernelspec": {
   "display_name": "Python 3",
   "language": "python",
   "name": "python3"
  },
  "language_info": {
   "codemirror_mode": {
    "name": "ipython",
    "version": 3
   },
   "file_extension": ".py",
   "mimetype": "text/x-python",
   "name": "python",
   "nbconvert_exporter": "python",
   "pygments_lexer": "ipython3",
   "version": "3.6.10"
  }
 },
 "nbformat": 4,
 "nbformat_minor": 4
}
